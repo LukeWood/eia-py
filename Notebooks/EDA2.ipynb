{
 "cells": [
  {
   "cell_type": "markdown",
   "id": "ad6de6ae-4023-4b3e-a5ef-91e4a76bca28",
   "metadata": {},
   "source": [
    "### Importing the EIA module"
   ]
  },
  {
   "cell_type": "code",
   "execution_count": 1,
   "id": "7aa44919-6a5b-4ee3-9fcc-edc40ddff9e0",
   "metadata": {},
   "outputs": [],
   "source": [
    "import eia"
   ]
  },
  {
   "cell_type": "markdown",
   "id": "b0afe6a8-ea8d-46ee-be80-f4bd8469c6ef",
   "metadata": {},
   "source": [
    "### Importing libraries for Data Visualization"
   ]
  },
  {
   "cell_type": "code",
   "execution_count": 2,
   "id": "9575f050-a512-4988-bfb0-21077f585417",
   "metadata": {},
   "outputs": [],
   "source": [
    "import chart_studio.plotly as py\n",
    "import plotly.offline as po\n",
    "import plotly.graph_objs as pg\n",
    "import numpy as np\n",
    "import pandas as pd"
   ]
  },
  {
   "cell_type": "code",
   "execution_count": 3,
   "id": "5f37fff9-03a7-45c6-967f-fccf7f7a58e6",
   "metadata": {},
   "outputs": [],
   "source": [
    "import warnings\n",
    "warnings.filterwarnings(\"ignore\")"
   ]
  },
  {
   "cell_type": "markdown",
   "id": "3ac7b4a0-1e6a-48eb-8d1c-699440f5c119",
   "metadata": {},
   "source": [
    "### Loading Data using the eia.loaders.load_dataframe method\n",
    "We will analyze the 'state-electricity-profiles-emissions-by-state-by-fuel' file and try to find some interesting insights from the data."
   ]
  },
  {
   "cell_type": "code",
   "execution_count": 5,
   "id": "743a584b-578d-4843-8e08-8ac9a6db6596",
   "metadata": {},
   "outputs": [
    {
     "name": "stdout",
     "output_type": "stream",
     "text": [
      "/Users/priyanshbhatnagar/data/eia-py/data/state-electricity-profiles/csv/emissions-by-state-by-fuel_data.csv\n"
     ]
    }
   ],
   "source": [
    "df = eia.loaders.load_dataframe(data='state-electricity-profiles-emissions-by-state-by-fuel')"
   ]
  },
  {
   "cell_type": "code",
   "execution_count": 6,
   "id": "e04951ef-525f-4114-a99c-11ceb2406c6c",
   "metadata": {},
   "outputs": [
    {
     "data": {
      "text/html": [
       "<div>\n",
       "<style scoped>\n",
       "    .dataframe tbody tr th:only-of-type {\n",
       "        vertical-align: middle;\n",
       "    }\n",
       "\n",
       "    .dataframe tbody tr th {\n",
       "        vertical-align: top;\n",
       "    }\n",
       "\n",
       "    .dataframe thead th {\n",
       "        text-align: right;\n",
       "    }\n",
       "</style>\n",
       "<table border=\"1\" class=\"dataframe\">\n",
       "  <thead>\n",
       "    <tr style=\"text-align: right;\">\n",
       "      <th></th>\n",
       "      <th>Unnamed: 0</th>\n",
       "      <th>period</th>\n",
       "      <th>stateid</th>\n",
       "      <th>stateDescription</th>\n",
       "      <th>fuelid</th>\n",
       "      <th>fuelDescription</th>\n",
       "      <th>so2-rate-lbs-mwh</th>\n",
       "      <th>so2-short-tons</th>\n",
       "      <th>nox-rate-lbs-mwh</th>\n",
       "      <th>nox-short-tons</th>\n",
       "      <th>co2-rate-lbs-mwh</th>\n",
       "      <th>co2-thousand-metric-tons</th>\n",
       "      <th>so2-rate-lbs-mwh-units</th>\n",
       "      <th>so2-short-tons-units</th>\n",
       "      <th>nox-rate-lbs-mwh-units</th>\n",
       "      <th>nox-short-tons-units</th>\n",
       "      <th>co2-rate-lbs-mwh-units</th>\n",
       "      <th>co2-thousand-metric-tons-units</th>\n",
       "    </tr>\n",
       "  </thead>\n",
       "  <tbody>\n",
       "    <tr>\n",
       "      <th>0</th>\n",
       "      <td>0</td>\n",
       "      <td>2010</td>\n",
       "      <td>AL</td>\n",
       "      <td>Alabama</td>\n",
       "      <td>ALL</td>\n",
       "      <td>Total</td>\n",
       "      <td>3.2</td>\n",
       "      <td>240198</td>\n",
       "      <td>1.0</td>\n",
       "      <td>72961</td>\n",
       "      <td>1148.0</td>\n",
       "      <td>79375</td>\n",
       "      <td>pounds per megawatthour</td>\n",
       "      <td>short tons</td>\n",
       "      <td>pounds per megawatthour</td>\n",
       "      <td>short tons</td>\n",
       "      <td>pounds per megawatthour</td>\n",
       "      <td>thousand metric tons</td>\n",
       "    </tr>\n",
       "    <tr>\n",
       "      <th>1</th>\n",
       "      <td>1</td>\n",
       "      <td>2006</td>\n",
       "      <td>AL</td>\n",
       "      <td>Alabama</td>\n",
       "      <td>COL</td>\n",
       "      <td>Coal</td>\n",
       "      <td>NaN</td>\n",
       "      <td>474527</td>\n",
       "      <td>NaN</td>\n",
       "      <td>120703</td>\n",
       "      <td>NaN</td>\n",
       "      <td>76742</td>\n",
       "      <td>pounds per megawatthour</td>\n",
       "      <td>short tons</td>\n",
       "      <td>pounds per megawatthour</td>\n",
       "      <td>short tons</td>\n",
       "      <td>pounds per megawatthour</td>\n",
       "      <td>thousand metric tons</td>\n",
       "    </tr>\n",
       "    <tr>\n",
       "      <th>2</th>\n",
       "      <td>2</td>\n",
       "      <td>2006</td>\n",
       "      <td>AL</td>\n",
       "      <td>Alabama</td>\n",
       "      <td>NG</td>\n",
       "      <td>Natural Gas</td>\n",
       "      <td>NaN</td>\n",
       "      <td>47</td>\n",
       "      <td>NaN</td>\n",
       "      <td>5945</td>\n",
       "      <td>NaN</td>\n",
       "      <td>8990</td>\n",
       "      <td>pounds per megawatthour</td>\n",
       "      <td>short tons</td>\n",
       "      <td>pounds per megawatthour</td>\n",
       "      <td>short tons</td>\n",
       "      <td>pounds per megawatthour</td>\n",
       "      <td>thousand metric tons</td>\n",
       "    </tr>\n",
       "    <tr>\n",
       "      <th>3</th>\n",
       "      <td>3</td>\n",
       "      <td>2006</td>\n",
       "      <td>AL</td>\n",
       "      <td>Alabama</td>\n",
       "      <td>OTH</td>\n",
       "      <td>Other</td>\n",
       "      <td>NaN</td>\n",
       "      <td>28399</td>\n",
       "      <td>NaN</td>\n",
       "      <td>7635</td>\n",
       "      <td>NaN</td>\n",
       "      <td>24</td>\n",
       "      <td>pounds per megawatthour</td>\n",
       "      <td>short tons</td>\n",
       "      <td>pounds per megawatthour</td>\n",
       "      <td>short tons</td>\n",
       "      <td>pounds per megawatthour</td>\n",
       "      <td>thousand metric tons</td>\n",
       "    </tr>\n",
       "    <tr>\n",
       "      <th>4</th>\n",
       "      <td>4</td>\n",
       "      <td>2006</td>\n",
       "      <td>AL</td>\n",
       "      <td>Alabama</td>\n",
       "      <td>PET</td>\n",
       "      <td>Petroleum</td>\n",
       "      <td>NaN</td>\n",
       "      <td>1340</td>\n",
       "      <td>NaN</td>\n",
       "      <td>507</td>\n",
       "      <td>NaN</td>\n",
       "      <td>398</td>\n",
       "      <td>pounds per megawatthour</td>\n",
       "      <td>short tons</td>\n",
       "      <td>pounds per megawatthour</td>\n",
       "      <td>short tons</td>\n",
       "      <td>pounds per megawatthour</td>\n",
       "      <td>thousand metric tons</td>\n",
       "    </tr>\n",
       "  </tbody>\n",
       "</table>\n",
       "</div>"
      ],
      "text/plain": [
       "   Unnamed: 0  period stateid stateDescription fuelid fuelDescription  \\\n",
       "0           0    2010      AL          Alabama    ALL           Total   \n",
       "1           1    2006      AL          Alabama    COL            Coal   \n",
       "2           2    2006      AL          Alabama     NG     Natural Gas   \n",
       "3           3    2006      AL          Alabama    OTH           Other   \n",
       "4           4    2006      AL          Alabama    PET       Petroleum   \n",
       "\n",
       "   so2-rate-lbs-mwh  so2-short-tons  nox-rate-lbs-mwh  nox-short-tons  \\\n",
       "0               3.2          240198               1.0           72961   \n",
       "1               NaN          474527               NaN          120703   \n",
       "2               NaN              47               NaN            5945   \n",
       "3               NaN           28399               NaN            7635   \n",
       "4               NaN            1340               NaN             507   \n",
       "\n",
       "   co2-rate-lbs-mwh  co2-thousand-metric-tons   so2-rate-lbs-mwh-units  \\\n",
       "0            1148.0                     79375  pounds per megawatthour   \n",
       "1               NaN                     76742  pounds per megawatthour   \n",
       "2               NaN                      8990  pounds per megawatthour   \n",
       "3               NaN                        24  pounds per megawatthour   \n",
       "4               NaN                       398  pounds per megawatthour   \n",
       "\n",
       "  so2-short-tons-units   nox-rate-lbs-mwh-units nox-short-tons-units  \\\n",
       "0           short tons  pounds per megawatthour           short tons   \n",
       "1           short tons  pounds per megawatthour           short tons   \n",
       "2           short tons  pounds per megawatthour           short tons   \n",
       "3           short tons  pounds per megawatthour           short tons   \n",
       "4           short tons  pounds per megawatthour           short tons   \n",
       "\n",
       "    co2-rate-lbs-mwh-units co2-thousand-metric-tons-units  \n",
       "0  pounds per megawatthour           thousand metric tons  \n",
       "1  pounds per megawatthour           thousand metric tons  \n",
       "2  pounds per megawatthour           thousand metric tons  \n",
       "3  pounds per megawatthour           thousand metric tons  \n",
       "4  pounds per megawatthour           thousand metric tons  "
      ]
     },
     "execution_count": 6,
     "metadata": {},
     "output_type": "execute_result"
    }
   ],
   "source": [
    "df.head()"
   ]
  },
  {
   "cell_type": "code",
   "execution_count": 79,
   "id": "788b8065-4834-4b2f-b9f4-310e615d6d06",
   "metadata": {},
   "outputs": [
    {
     "data": {
      "text/plain": [
       "Unnamed: 0                                              0\n",
       "period                                               2010\n",
       "stateid                                                AL\n",
       "stateDescription                                  Alabama\n",
       "fuelid                                                ALL\n",
       "fuelDescription                                     Total\n",
       "so2-rate-lbs-mwh                                      3.2\n",
       "so2-short-tons                                     240198\n",
       "nox-rate-lbs-mwh                                      1.0\n",
       "nox-short-tons                                      72961\n",
       "co2-rate-lbs-mwh                                   1148.0\n",
       "co2-thousand-metric-tons                            79375\n",
       "so2-rate-lbs-mwh-units            pounds per megawatthour\n",
       "so2-short-tons-units                           short tons\n",
       "nox-rate-lbs-mwh-units            pounds per megawatthour\n",
       "nox-short-tons-units                           short tons\n",
       "co2-rate-lbs-mwh-units            pounds per megawatthour\n",
       "co2-thousand-metric-tons-units       thousand metric tons\n",
       "Name: 0, dtype: object"
      ]
     },
     "execution_count": 79,
     "metadata": {},
     "output_type": "execute_result"
    }
   ],
   "source": [
    "df.loc[0]"
   ]
  },
  {
   "cell_type": "code",
   "execution_count": 7,
   "id": "02008f8b-9794-4b80-9c35-e09437114f4d",
   "metadata": {},
   "outputs": [
    {
     "data": {
      "text/plain": [
       "array([2010, 2006, 1997, 1992, 2015, 1995, 1996, 1994, 2017, 2018, 1999,\n",
       "       1991, 2002, 1998, 2020, 2001, 2014, 2005, 2009, 2004, 1993, 2000,\n",
       "       1990, 2007, 2011, 2016, 2013, 2003, 2008, 2012])"
      ]
     },
     "execution_count": 7,
     "metadata": {},
     "output_type": "execute_result"
    }
   ],
   "source": [
    "df['period'].unique()"
   ]
  },
  {
   "cell_type": "code",
   "execution_count": 18,
   "id": "bcab6051-c892-4cd3-9a84-98d74bbb3995",
   "metadata": {},
   "outputs": [
    {
     "data": {
      "text/plain": [
       "True"
      ]
     },
     "execution_count": 18,
     "metadata": {},
     "output_type": "execute_result"
    }
   ],
   "source": [
    "df['period'][0] == 2010"
   ]
  },
  {
   "cell_type": "code",
   "execution_count": 8,
   "id": "9206ff06-ca50-4bbe-8bd5-0445502910db",
   "metadata": {},
   "outputs": [
    {
     "data": {
      "text/plain": [
       "array(['AL', 'AR', 'CT', 'DC', 'DE', 'FL', 'AZ', 'CA', 'CO', 'AK', 'GA',\n",
       "       'IA', 'ID', 'IL', 'LA', 'MA', 'MD', 'IN', 'KS', 'KY', 'HI', 'ME',\n",
       "       'MN', 'MO', 'MS', 'ND', 'NE', 'NH', 'NJ', 'MT', 'NC', 'MI', 'NV',\n",
       "       'NY', 'OH', 'RI'], dtype=object)"
      ]
     },
     "execution_count": 8,
     "metadata": {},
     "output_type": "execute_result"
    }
   ],
   "source": [
    "df['stateid'].unique()"
   ]
  },
  {
   "cell_type": "code",
   "execution_count": 9,
   "id": "948a6e78-d3a5-4bb6-a89c-20b191eac661",
   "metadata": {},
   "outputs": [
    {
     "data": {
      "text/plain": [
       "36"
      ]
     },
     "execution_count": 9,
     "metadata": {},
     "output_type": "execute_result"
    }
   ],
   "source": [
    "len(df['stateid'].unique())"
   ]
  },
  {
   "cell_type": "code",
   "execution_count": 10,
   "id": "c4a3cb9e-b5b2-416b-9e28-3997faa79823",
   "metadata": {},
   "outputs": [
    {
     "data": {
      "text/plain": [
       "array(['Alabama', 'Arkansas', 'Connecticut', 'District of Columbia',\n",
       "       'Delaware', 'Florida', 'Arizona', 'California', 'Colorado',\n",
       "       'Alaska', 'Georgia', 'Iowa', 'Idaho', 'Illinois', 'Louisiana',\n",
       "       'Massachusetts', 'Maryland', 'Indiana', 'Kansas', 'Kentucky',\n",
       "       'Hawaii', 'Maine', 'Minnesota', 'Missouri', 'Mississippi',\n",
       "       'North Dakota', 'Nebraska', 'New Hampshire', 'New Jersey',\n",
       "       'Montana', 'North Carolina', 'Michigan', 'Nevada', 'New York',\n",
       "       'Ohio', 'Rhode Island'], dtype=object)"
      ]
     },
     "execution_count": 10,
     "metadata": {},
     "output_type": "execute_result"
    }
   ],
   "source": [
    "df['stateDescription'].unique()"
   ]
  },
  {
   "cell_type": "code",
   "execution_count": 12,
   "id": "1bee54c3-d61c-473a-9165-632610498c33",
   "metadata": {},
   "outputs": [
    {
     "data": {
      "text/plain": [
       "array(['Total', 'Coal', 'Natural Gas', 'Other', 'Petroleum'], dtype=object)"
      ]
     },
     "execution_count": 12,
     "metadata": {},
     "output_type": "execute_result"
    }
   ],
   "source": [
    "df['fuelDescription'].unique()"
   ]
  },
  {
   "cell_type": "markdown",
   "id": "0e3b4ff3-603a-4ae0-81f3-888212040455",
   "metadata": {},
   "source": [
    "### Let's study the SO2, NOX and CO2 emissions for the fuel : Total.\n",
    "### We will analyze the data for each state from the year 1990 to 2020."
   ]
  },
  {
   "cell_type": "code",
   "execution_count": 35,
   "id": "a813b38e-16af-4523-8d0b-03790a429a24",
   "metadata": {},
   "outputs": [],
   "source": [
    "emissions_per_state = {}\n",
    "for entry in df.values:\n",
    "    if entry[1] == 2020 and entry[5] == 'Total':\n",
    "        emissions_per_state[entry[2]] = (entry[7], entry[9], entry[11])"
   ]
  },
  {
   "cell_type": "code",
   "execution_count": 80,
   "id": "82995fbb-b3c6-4ec2-9192-d58c4c91b791",
   "metadata": {},
   "outputs": [
    {
     "data": {
      "text/plain": [
       "{'AR': (32170, 17459, 23504),\n",
       " 'DC': (1, 578, 108),\n",
       " 'DE': (294, 1473, 2675),\n",
       " 'FL': (38651, 53264, 96975),\n",
       " 'AZ': (8271, 28101, 35791),\n",
       " 'CA': (1534, 72902, 43440),\n",
       " 'CO': (9095, 18934, 29113),\n",
       " 'CT': (491, 6271, 10215),\n",
       " 'AK': (2441, 21774, 3527),\n",
       " 'AL': (28757, 22882, 44895),\n",
       " 'IA': (19110, 19203, 21164),\n",
       " 'ID': (3931, 4766, 2230),\n",
       " 'LA': (27489, 59819, 44525),\n",
       " 'MA': (1950, 8187, 7978),\n",
       " 'IL': (62029, 27738, 47595),\n",
       " 'IN': (38145, 60861, 64884),\n",
       " 'KS': (4010, 14877, 20363),\n",
       " 'KY': (40591, 31024, 49825),\n",
       " 'GA': (46548, 35621, 39957),\n",
       " 'HI': (17215, 16437, 6650),\n",
       " 'MD': (3507, 5995, 10241),\n",
       " 'MN': (14089, 19905, 20986),\n",
       " 'MO': (92293, 53141, 54206),\n",
       " 'MS': (12437, 17422, 26815),\n",
       " 'NE': (40513, 19988, 20967),\n",
       " 'NH': (338, 1555, 1734),\n",
       " 'NJ': (2759, 9509, 14942),\n",
       " 'MT': (7457, 10361, 10421),\n",
       " 'NC': (33254, 41914, 38542),\n",
       " 'ND': (34986, 31359, 27437),\n",
       " 'ME': (6598, 5639, 1831),\n",
       " 'MI': (44831, 64440, 53285),\n",
       " 'NV': (2099, 10661, 13584),\n",
       " 'NY': (7590, 28459, 26849),\n",
       " 'OH': (92723, 54714, 67350)}"
      ]
     },
     "execution_count": 80,
     "metadata": {},
     "output_type": "execute_result"
    }
   ],
   "source": [
    "emissions_per_state"
   ]
  },
  {
   "cell_type": "code",
   "execution_count": 113,
   "id": "a5ddaa52-6a78-4616-a5d8-0a0716219d72",
   "metadata": {},
   "outputs": [
    {
     "data": {
      "text/plain": [
       "array([0, 2010, 'AL', 'Alabama', 'ALL', 'Total', 3.2, 240198, 1.0, 72961,\n",
       "       1148.0, 79375, 'pounds per megawatthour', 'short tons',\n",
       "       'pounds per megawatthour', 'short tons', 'pounds per megawatthour',\n",
       "       'thousand metric tons'], dtype=object)"
      ]
     },
     "execution_count": 113,
     "metadata": {},
     "output_type": "execute_result"
    }
   ],
   "source": [
    "df.values[0]"
   ]
  },
  {
   "cell_type": "code",
   "execution_count": 116,
   "id": "772f2ad2-4e1a-4b32-8ed9-e735e6e446aa",
   "metadata": {},
   "outputs": [
    {
     "data": {
      "text/plain": [
       "<bound method NDFrame.keys of       Unnamed: 0  period stateid stateDescription fuelid fuelDescription  \\\n",
       "0              0    2010      AL          Alabama    ALL           Total   \n",
       "1              1    2006      AL          Alabama    COL            Coal   \n",
       "2              2    2006      AL          Alabama     NG     Natural Gas   \n",
       "3              3    2006      AL          Alabama    OTH           Other   \n",
       "4              4    2006      AL          Alabama    PET       Petroleum   \n",
       "...          ...     ...     ...              ...    ...             ...   \n",
       "4995        4995    1995      RI     Rhode Island    OTH           Other   \n",
       "4996        4996    1995      RI     Rhode Island    PET       Petroleum   \n",
       "4997        4997    1995      RI     Rhode Island    ALL           Total   \n",
       "4998        4998    2010      RI     Rhode Island     NG     Natural Gas   \n",
       "4999        4999    2010      RI     Rhode Island    OTH           Other   \n",
       "\n",
       "      so2-rate-lbs-mwh  so2-short-tons  nox-rate-lbs-mwh  nox-short-tons  \\\n",
       "0                  3.2          240198               1.0           72961   \n",
       "1                  NaN          474527               NaN          120703   \n",
       "2                  NaN              47               NaN            5945   \n",
       "3                  NaN           28399               NaN            7635   \n",
       "4                  NaN            1340               NaN             507   \n",
       "...                ...             ...               ...             ...   \n",
       "4995               NaN               1               NaN            1161   \n",
       "4996               NaN             739               NaN             417   \n",
       "4997               0.3             748               2.9            6559   \n",
       "4998               NaN              18               NaN             888   \n",
       "4999               NaN               1               NaN            2118   \n",
       "\n",
       "      co2-rate-lbs-mwh  co2-thousand-metric-tons   so2-rate-lbs-mwh-units  \\\n",
       "0               1148.0                     79375  pounds per megawatthour   \n",
       "1                  NaN                     76742  pounds per megawatthour   \n",
       "2                  NaN                      8990  pounds per megawatthour   \n",
       "3                  NaN                        24  pounds per megawatthour   \n",
       "4                  NaN                       398  pounds per megawatthour   \n",
       "...                ...                       ...                      ...   \n",
       "4995               NaN                         0  pounds per megawatthour   \n",
       "4996               NaN                       147  pounds per megawatthour   \n",
       "4997            1068.0                      2178  pounds per megawatthour   \n",
       "4998               NaN                      3202  pounds per megawatthour   \n",
       "4999               NaN                         0  pounds per megawatthour   \n",
       "\n",
       "     so2-short-tons-units   nox-rate-lbs-mwh-units nox-short-tons-units  \\\n",
       "0              short tons  pounds per megawatthour           short tons   \n",
       "1              short tons  pounds per megawatthour           short tons   \n",
       "2              short tons  pounds per megawatthour           short tons   \n",
       "3              short tons  pounds per megawatthour           short tons   \n",
       "4              short tons  pounds per megawatthour           short tons   \n",
       "...                   ...                      ...                  ...   \n",
       "4995           short tons  pounds per megawatthour           short tons   \n",
       "4996           short tons  pounds per megawatthour           short tons   \n",
       "4997           short tons  pounds per megawatthour           short tons   \n",
       "4998           short tons  pounds per megawatthour           short tons   \n",
       "4999           short tons  pounds per megawatthour           short tons   \n",
       "\n",
       "       co2-rate-lbs-mwh-units co2-thousand-metric-tons-units  \n",
       "0     pounds per megawatthour           thousand metric tons  \n",
       "1     pounds per megawatthour           thousand metric tons  \n",
       "2     pounds per megawatthour           thousand metric tons  \n",
       "3     pounds per megawatthour           thousand metric tons  \n",
       "4     pounds per megawatthour           thousand metric tons  \n",
       "...                       ...                            ...  \n",
       "4995  pounds per megawatthour           thousand metric tons  \n",
       "4996  pounds per megawatthour           thousand metric tons  \n",
       "4997  pounds per megawatthour           thousand metric tons  \n",
       "4998  pounds per megawatthour           thousand metric tons  \n",
       "4999  pounds per megawatthour           thousand metric tons  \n",
       "\n",
       "[5000 rows x 18 columns]>"
      ]
     },
     "execution_count": 116,
     "metadata": {},
     "output_type": "execute_result"
    }
   ],
   "source": [
    "df.keys"
   ]
  },
  {
   "cell_type": "markdown",
   "id": "2ba07101-caae-4102-b693-d4e15a9a59ec",
   "metadata": {},
   "source": [
    "### SO2 Emissions"
   ]
  },
  {
   "cell_type": "code",
   "execution_count": 125,
   "id": "e1fb8f20-dab6-46f2-9d08-9c23ba06ba3f",
   "metadata": {},
   "outputs": [],
   "source": [
    "so2 = {}\n",
    "for year in df['period'].unique():\n",
    "    d = {}\n",
    "    for i in df.values:\n",
    "        if i[1] == year and i[5] == 'Total':\n",
    "            d[i[2]] = i[7]\n",
    "    so2[year] = d"
   ]
  },
  {
   "cell_type": "code",
   "execution_count": 127,
   "id": "5962ffe3-9f1b-481e-8075-149a747e742d",
   "metadata": {},
   "outputs": [
    {
     "data": {
      "text/plain": [
       "{'AL': 240198,\n",
       " 'AR': 81635,\n",
       " 'CT': 2241,\n",
       " 'DC': 878,\n",
       " 'DE': 14497,\n",
       " 'AZ': 36785,\n",
       " 'CA': 2787,\n",
       " 'CO': 49468,\n",
       " 'AK': 3323,\n",
       " 'FL': 176148,\n",
       " 'IA': 118977,\n",
       " 'ID': 7322,\n",
       " 'LA': 138677,\n",
       " 'MA': 38512,\n",
       " 'MD': 49703,\n",
       " 'IL': 255225,\n",
       " 'IN': 424340,\n",
       " 'KS': 45250,\n",
       " 'KY': 274218,\n",
       " 'GA': 291864,\n",
       " 'HI': 18459,\n",
       " 'ME': 13694,\n",
       " 'MO': 256617,\n",
       " 'ND': 127472,\n",
       " 'NE': 71512,\n",
       " 'NH': 37267,\n",
       " 'MS': 65086,\n",
       " 'MT': 24285,\n",
       " 'NC': 144051,\n",
       " 'MI': 279790,\n",
       " 'MN': 62382,\n",
       " 'NJ': 15382,\n",
       " 'NV': 7894,\n",
       " 'NY': 68040,\n",
       " 'OH': 672677}"
      ]
     },
     "execution_count": 127,
     "metadata": {},
     "output_type": "execute_result"
    }
   ],
   "source": [
    "so2[2010]"
   ]
  },
  {
   "cell_type": "code",
   "execution_count": 44,
   "id": "b1b75470-2d68-4117-8276-5b7d7392e3cd",
   "metadata": {},
   "outputs": [],
   "source": [
    "layout = dict(geo = {'scope':'usa'})"
   ]
  },
  {
   "cell_type": "code",
   "execution_count": 133,
   "id": "4a6f0245-159a-4d0f-ab82-f203a33cb250",
   "metadata": {},
   "outputs": [
    {
     "data": {
      "application/vnd.plotly.v1+json": {
       "config": {
        "linkText": "Export to plot.ly",
        "plotlyServerURL": "https://plot.ly",
        "showLink": false
       },
       "data": [
        {
         "colorbar": {
          "title": {
           "text": "# Sightings"
          }
         },
         "locationmode": "USA-states",
         "locations": [
          "AR",
          "CT",
          "DC",
          "DE",
          "FL",
          "AZ",
          "CA",
          "CO",
          "AK",
          "AL",
          "GA",
          "IA",
          "ID",
          "IL",
          "LA",
          "MA",
          "MD",
          "IN",
          "KS",
          "KY",
          "HI",
          "MN",
          "MO",
          "ND",
          "NE",
          "NH",
          "NJ",
          "MS",
          "MT",
          "NC",
          "ME",
          "MI",
          "NV",
          "NY"
         ],
         "type": "choropleth",
         "visible": true,
         "z": [
          85390,
          57579,
          2539,
          88240,
          697499,
          126421,
          90154,
          102697,
          20658,
          557251,
          935317,
          201465,
          9540,
          936052,
          123261,
          233573,
          297233,
          1407412,
          86529,
          902275,
          38817,
          112163,
          798081,
          147068,
          51801,
          66619,
          78727,
          131807,
          19104,
          401051,
          57853,
          421898,
          54649,
          459768
         ]
        },
        {
         "colorbar": {
          "title": {
           "text": "# Sightings"
          }
         },
         "locationmode": "USA-states",
         "locations": [
          "AL",
          "AR",
          "DC",
          "DE",
          "FL",
          "AZ",
          "CA",
          "CO",
          "CT",
          "AK",
          "GA",
          "IA",
          "ID",
          "IL",
          "LA",
          "MA",
          "MD",
          "IN",
          "KS",
          "KY",
          "HI",
          "MN",
          "MO",
          "ND",
          "NE",
          "NH",
          "MS",
          "MT",
          "NC",
          "ME",
          "MI",
          "NJ",
          "NV",
          "NY",
          "RI"
         ],
         "type": "choropleth",
         "visible": false,
         "z": [
          554739,
          83808,
          1326,
          55085,
          775435,
          130647,
          57726,
          98541,
          54224,
          13370,
          851849,
          224332,
          6626,
          889365,
          129536,
          240881,
          275124,
          1470102,
          76413,
          871606,
          29246,
          99369,
          750978,
          190426,
          53579,
          47695,
          119161,
          22828,
          390723,
          52838,
          425983,
          65822,
          55034,
          440535,
          703
         ]
        },
        {
         "colorbar": {
          "title": {
           "text": "# Sightings"
          }
         },
         "locationmode": "USA-states",
         "locations": [
          "AL",
          "AR",
          "DC",
          "DE",
          "FL",
          "AZ",
          "CA",
          "CO",
          "CT",
          "AK",
          "GA",
          "IA",
          "ID",
          "IL",
          "MA",
          "MD",
          "IN",
          "KS",
          "KY",
          "LA",
          "HI",
          "MN",
          "MO",
          "ND",
          "NE",
          "NH",
          "MS",
          "MT",
          "NC",
          "ME",
          "MI",
          "NJ",
          "NY",
          "OH"
         ],
         "type": "choropleth",
         "visible": false,
         "z": [
          561671,
          83176,
          577,
          81055,
          776795,
          132721,
          71211,
          102107,
          38613,
          11736,
          830723,
          209961,
          9625,
          894322,
          210579,
          271230,
          1254033,
          66023,
          893575,
          175375,
          31108,
          114924,
          687582,
          146967,
          53660,
          56534,
          116859,
          23150,
          442655,
          23826,
          390546,
          60087,
          392554,
          2210524
         ]
        },
        {
         "colorbar": {
          "title": {
           "text": "# Sightings"
          }
         },
         "locationmode": "USA-states",
         "locations": [
          "AR",
          "CT",
          "DC",
          "DE",
          "AZ",
          "CA",
          "CO",
          "AK",
          "AL",
          "FL",
          "IA",
          "ID",
          "LA",
          "MA",
          "MD",
          "IL",
          "IN",
          "KS",
          "KY",
          "GA",
          "HI",
          "ME",
          "MN",
          "MO",
          "ND",
          "NE",
          "NH",
          "MS",
          "MT",
          "NC",
          "MI",
          "NJ",
          "NV",
          "NY"
         ],
         "type": "choropleth",
         "visible": false,
         "z": [
          81007,
          32433,
          1334,
          89822,
          135654,
          68564,
          99842,
          11339,
          603582,
          763824,
          224297,
          9647,
          259611,
          151533,
          287362,
          860869,
          1273599,
          70743,
          983643,
          754549,
          24084,
          24652,
          134495,
          486833,
          148070,
          60800,
          51891,
          160083,
          21396,
          489817,
          412086,
          60840,
          53274,
          336470
         ]
        },
        {
         "colorbar": {
          "title": {
           "text": "# Sightings"
          }
         },
         "locationmode": "USA-states",
         "locations": [
          "AL",
          "AR",
          "DC",
          "DE",
          "FL",
          "AZ",
          "CA",
          "CO",
          "CT",
          "AK",
          "IA",
          "ID",
          "IL",
          "MA",
          "MD",
          "IN",
          "KS",
          "KY",
          "LA",
          "GA",
          "HI",
          "MN",
          "MO",
          "ND",
          "NE",
          "NH",
          "MS",
          "MT",
          "NC",
          "ME",
          "MI",
          "NJ",
          "NV",
          "NY",
          "RI"
         ],
         "type": "choropleth",
         "visible": false,
         "z": [
          565584,
          86462,
          1689,
          86035,
          745072,
          143396,
          80991,
          107977,
          27230,
          12296,
          210812,
          8807,
          850776,
          127948,
          267974,
          1254736,
          71564,
          895781,
          273797,
          621996,
          22889,
          138769,
          543932,
          153217,
          56669,
          50350,
          110143,
          22088,
          433892,
          22809,
          446989,
          56272,
          53260,
          296882,
          877
         ]
        },
        {
         "colorbar": {
          "title": {
           "text": "# Sightings"
          }
         },
         "locationmode": "USA-states",
         "locations": [
          "AL",
          "AR",
          "DC",
          "DE",
          "FL",
          "AZ",
          "CA",
          "CO",
          "CT",
          "AK",
          "GA",
          "IA",
          "ID",
          "IL",
          "MA",
          "MD",
          "IN",
          "KS",
          "KY",
          "LA",
          "HI",
          "MN",
          "MO",
          "ND",
          "NE",
          "NH",
          "MS",
          "MT",
          "NC",
          "ME",
          "MI",
          "NJ",
          "NV",
          "NY",
          "RI"
         ],
         "type": "choropleth",
         "visible": false,
         "z": [
          592892,
          99076,
          1172,
          75384,
          671037,
          126397,
          131412,
          96891,
          29334,
          18413,
          584665,
          194382,
          6579,
          728962,
          134941,
          243208,
          933091,
          99727,
          676351,
          188162,
          43385,
          106469,
          354441,
          210793,
          61313,
          52698,
          101619,
          41527,
          462604,
          46333,
          418478,
          67316,
          50275,
          284942,
          748
         ]
        },
        {
         "colorbar": {
          "title": {
           "text": "# Sightings"
          }
         },
         "locationmode": "USA-states",
         "locations": [
          "AL",
          "AR",
          "DC",
          "DE",
          "FL",
          "AZ",
          "CA",
          "CO",
          "CT",
          "AK",
          "GA",
          "IA",
          "ID",
          "IL",
          "MA",
          "MD",
          "IN",
          "KS",
          "KY",
          "LA",
          "HI",
          "ME",
          "MO",
          "ND",
          "NE",
          "NH",
          "MS",
          "MT",
          "NC",
          "MI",
          "MN",
          "NJ",
          "NV",
          "NY",
          "OH",
          "RI"
         ],
         "type": "choropleth",
         "visible": false,
         "z": [
          648256,
          112681,
          771,
          74796,
          732837,
          124873,
          139622,
          94908,
          45392,
          18546,
          581331,
          176201,
          6261,
          836051,
          112267,
          266541,
          992976,
          117130,
          642327,
          182046,
          48329,
          47624,
          370840,
          178651,
          65884,
          51486,
          126963,
          43359,
          546542,
          438252,
          109885,
          74581,
          53254,
          229960,
          1517964,
          1219
         ]
        },
        {
         "colorbar": {
          "title": {
           "text": "# Sightings"
          }
         },
         "locationmode": "USA-states",
         "locations": [
          "AL",
          "AR",
          "DC",
          "DE",
          "FL",
          "AZ",
          "CA",
          "CO",
          "CT",
          "AK",
          "GA",
          "IA",
          "ID",
          "LA",
          "MA",
          "MD",
          "IL",
          "IN",
          "KS",
          "KY",
          "HI",
          "ME",
          "MN",
          "MO",
          "NE",
          "NH",
          "NJ",
          "MS",
          "MT",
          "NC",
          "ND",
          "MI",
          "NV",
          "NY",
          "OH"
         ],
         "type": "choropleth",
         "visible": false,
         "z": [
          626568,
          102074,
          483,
          72470,
          773468,
          130976,
          141465,
          101523,
          58508,
          18293,
          612338,
          179325,
          6726,
          210937,
          150013,
          270282,
          935833,
          1036318,
          109222,
          669135,
          47987,
          51336,
          119178,
          319583,
          62857,
          59724,
          79400,
          128888,
          27301,
          581446,
          179348,
          466848,
          50166,
          312714,
          1491963
         ]
        },
        {
         "colorbar": {
          "title": {
           "text": "# Sightings"
          }
         },
         "locationmode": "USA-states",
         "locations": [
          "AL",
          "AR",
          "DC",
          "DE",
          "FL",
          "AZ",
          "CA",
          "CO",
          "CT",
          "AK",
          "IA",
          "ID",
          "IL",
          "LA",
          "MA",
          "MD",
          "IN",
          "KS",
          "KY",
          "GA",
          "HI",
          "ME",
          "MN",
          "MO",
          "MS",
          "NE",
          "NH",
          "MT",
          "NC",
          "ND",
          "MI",
          "NJ",
          "NV",
          "NY",
          "OH"
         ],
         "type": "choropleth",
         "visible": false,
         "z": [
          641442,
          92493,
          1317,
          44806,
          889319,
          105800,
          139987,
          100742,
          55842,
          19276,
          198055,
          7193,
          935214,
          208597,
          164240,
          302299,
          1011531,
          117727,
          625078,
          628831,
          51066,
          59798,
          109149,
          304631,
          164147,
          58224,
          58000,
          29259,
          560925,
          196696,
          486196,
          68296,
          49827,
          366805,
          1456510
         ]
        },
        {
         "colorbar": {
          "title": {
           "text": "# Sightings"
          }
         },
         "locationmode": "USA-states",
         "locations": [
          "AL",
          "AR",
          "CT",
          "DC",
          "DE",
          "FL",
          "AZ",
          "CA",
          "CO",
          "AK",
          "IA",
          "ID",
          "LA",
          "MA",
          "MD",
          "IL",
          "IN",
          "KS",
          "KY",
          "GA",
          "HI",
          "ME",
          "MN",
          "MO",
          "MS",
          "NE",
          "NH",
          "NJ",
          "MT",
          "NC",
          "ND",
          "MI",
          "NY",
          "OH"
         ],
         "type": "choropleth",
         "visible": false,
         "z": [
          608508,
          94551,
          48838,
          1517,
          30921,
          808434,
          79000,
          154493,
          93304,
          12380,
          176400,
          6757,
          205796,
          135650,
          297499,
          833995,
          974768,
          118021,
          659004,
          618831,
          48961,
          60799,
          112788,
          271427,
          134377,
          61513,
          57749,
          70474,
          30415,
          525078,
          192229,
          441905,
          333592,
          1347272
         ]
        },
        {
         "colorbar": {
          "title": {
           "text": "# Sightings"
          }
         },
         "locationmode": "USA-states",
         "locations": [
          "AR",
          "CT",
          "DC",
          "DE",
          "AZ",
          "CA",
          "CO",
          "AK",
          "AL",
          "FL",
          "IA",
          "ID",
          "LA",
          "MA",
          "MD",
          "IL",
          "IN",
          "KS",
          "KY",
          "GA",
          "HI",
          "ME",
          "MN",
          "MO",
          "ND",
          "NE",
          "NH",
          "MS",
          "MT",
          "NC",
          "MI",
          "NJ",
          "NV",
          "NY"
         ],
         "type": "choropleth",
         "visible": false,
         "z": [
          92959,
          57013,
          1002,
          41922,
          75261,
          139440,
          90849,
          15497,
          570478,
          686260,
          173315,
          6576,
          192276,
          121193,
          281962,
          550035,
          905053,
          116346,
          584929,
          616018,
          56088,
          49346,
          123481,
          234190,
          154037,
          60802,
          52560,
          144948,
          52083,
          521136,
          428323,
          89950,
          53220,
          326620
         ]
        },
        {
         "colorbar": {
          "title": {
           "text": "# Sightings"
          }
         },
         "locationmode": "USA-states",
         "locations": [
          "AR",
          "DC",
          "DE",
          "FL",
          "AZ",
          "CA",
          "CO",
          "CT",
          "AK",
          "AL",
          "IA",
          "ID",
          "IL",
          "LA",
          "MA",
          "MD",
          "IN",
          "KS",
          "KY",
          "GA",
          "HI",
          "MN",
          "MO",
          "ND",
          "NE",
          "NH",
          "MS",
          "MT",
          "NC",
          "ME",
          "MI",
          "NV",
          "NY"
         ],
         "type": "choropleth",
         "visible": false,
         "z": [
          92379,
          786,
          39888,
          603676,
          73542,
          45265,
          94162,
          36381,
          8328,
          509773,
          154695,
          4140,
          451313,
          204109,
          105403,
          275613,
          810028,
          120325,
          535457,
          614249,
          28215,
          99926,
          259514,
          156311,
          70741,
          51093,
          152337,
          61002,
          490948,
          32217,
          406006,
          54700,
          287678
         ]
        },
        {
         "colorbar": {
          "title": {
           "text": "# Sightings"
          }
         },
         "locationmode": "USA-states",
         "locations": [
          "AL",
          "AR",
          "DC",
          "DE",
          "FL",
          "AZ",
          "CA",
          "CO",
          "CT",
          "AK",
          "IA",
          "ID",
          "IL",
          "LA",
          "MA",
          "MD",
          "IN",
          "KS",
          "KY",
          "GA",
          "HI",
          "ME",
          "MO",
          "ND",
          "NE",
          "NH",
          "MS",
          "MT",
          "NC",
          "MI",
          "MN",
          "NJ",
          "NV",
          "NY",
          "OH"
         ],
         "type": "choropleth",
         "visible": false,
         "z": [
          492741,
          84488,
          1151,
          34315,
          506068,
          70827,
          77136,
          91449,
          13143,
          8122,
          148906,
          6256,
          407225,
          188739,
          93511,
          276470,
          792052,
          129778,
          492521,
          620781,
          24841,
          24120,
          259977,
          141714,
          68630,
          44657,
          79625,
          24625,
          495875,
          393513,
          111049,
          51179,
          49243,
          263197,
          1207822
         ]
        },
        {
         "colorbar": {
          "title": {
           "text": "# Sightings"
          }
         },
         "locationmode": "USA-states",
         "locations": [
          "AR",
          "CT",
          "DC",
          "DE",
          "FL",
          "AZ",
          "CA",
          "CO",
          "AK",
          "AL",
          "ID",
          "IL",
          "LA",
          "MA",
          "IN",
          "KS",
          "KY",
          "GA",
          "HI",
          "IA",
          "MD",
          "MN",
          "MO",
          "ND",
          "NE",
          "NH",
          "NJ",
          "MS",
          "MT",
          "NC",
          "ME",
          "MI",
          "NV",
          "NY"
         ],
         "type": "choropleth",
         "visible": false,
         "z": [
          87160,
          9061,
          314,
          39714,
          516573,
          69538,
          19286,
          77643,
          4819,
          499611,
          7108,
          412012,
          214678,
          90116,
          819311,
          141046,
          532923,
          646234,
          24904,
          153692,
          290939,
          124643,
          284710,
          141587,
          69415,
          57784,
          53519,
          94584,
          24878,
          496485,
          22066,
          401785,
          51482,
          285434
         ]
        },
        {
         "colorbar": {
          "title": {
           "text": "# Sightings"
          }
         },
         "locationmode": "USA-states",
         "locations": [
          "AR",
          "CT",
          "DC",
          "DE",
          "AZ",
          "CA",
          "CO",
          "AK",
          "AL",
          "FL",
          "IA",
          "ID",
          "LA",
          "MA",
          "MD",
          "IL",
          "IN",
          "KS",
          "KY",
          "GA",
          "HI",
          "ME",
          "MN",
          "MO",
          "NE",
          "NH",
          "MS",
          "MT",
          "NC",
          "ND",
          "MI",
          "NJ",
          "NY",
          "OH"
         ],
         "type": "choropleth",
         "visible": false,
         "z": [
          96059,
          7188,
          173,
          38204,
          60544,
          24594,
          65040,
          4791,
          450622,
          488443,
          149868,
          7778,
          145980,
          83738,
          304838,
          426196,
          877929,
          123910,
          516531,
          644248,
          26313,
          21901,
          119027,
          297197,
          74690,
          57297,
          99399,
          25381,
          502307,
          150582,
          386930,
          53840,
          260227,
          1156982
         ]
        },
        {
         "colorbar": {
          "title": {
           "text": "# Sightings"
          }
         },
         "locationmode": "USA-states",
         "locations": [
          "AR",
          "CT",
          "DC",
          "DE",
          "FL",
          "AZ",
          "CA",
          "CO",
          "AK",
          "AL",
          "GA",
          "IA",
          "ID",
          "MA",
          "MD",
          "IL",
          "IN",
          "KS",
          "KY",
          "LA",
          "HI",
          "ME",
          "MN",
          "MO",
          "MS",
          "NE",
          "NH",
          "NJ",
          "MT",
          "NC",
          "ND",
          "MI",
          "NY",
          "OH"
         ],
         "type": "choropleth",
         "visible": false,
         "z": [
          106763,
          8553,
          914,
          34470,
          454614,
          52908,
          28250,
          63936,
          4448,
          502215,
          712024,
          149517,
          5451,
          84153,
          304427,
          387447,
          884023,
          136474,
          503502,
          140779,
          23634,
          24288,
          111146,
          301265,
          87377,
          73837,
          51751,
          71365,
          24035,
          531538,
          138375,
          397265,
          206530,
          1164746
         ]
        },
        {
         "colorbar": {
          "title": {
           "text": "# Sightings"
          }
         },
         "locationmode": "USA-states",
         "locations": [
          "AL",
          "AR",
          "CT",
          "DC",
          "DE",
          "AZ",
          "CA",
          "CO",
          "AK",
          "FL",
          "ID",
          "LA",
          "MA",
          "MD",
          "IL",
          "IN",
          "KS",
          "KY",
          "GA",
          "HI",
          "IA",
          "ME",
          "MN",
          "MO",
          "NE",
          "NH",
          "MS",
          "MT",
          "NC",
          "ND",
          "MI",
          "NJ",
          "NY",
          "OH"
         ],
         "type": "choropleth",
         "visible": false,
         "z": [
          504311,
          90355,
          5957,
          360,
          33123,
          49323,
          29252,
          64561,
          4629,
          362820,
          5004,
          138129,
          53913,
          298586,
          340579,
          835731,
          111235,
          430753,
          755490,
          24126,
          145918,
          18855,
          104080,
          286198,
          71761,
          40886,
          90448,
          24004,
          493092,
          130805,
          359912,
          62154,
          134341,
          1069175
         ]
        },
        {
         "colorbar": {
          "title": {
           "text": "# Sightings"
          }
         },
         "locationmode": "USA-states",
         "locations": [
          "AR",
          "CT",
          "DC",
          "DE",
          "AZ",
          "CA",
          "CO",
          "AK",
          "AL",
          "FL",
          "IA",
          "ID",
          "LA",
          "MA",
          "MD",
          "IL",
          "IN",
          "KS",
          "KY",
          "GA",
          "HI",
          "ME",
          "MN",
          "MO",
          "NE",
          "NH",
          "MS",
          "MT",
          "NC",
          "ND",
          "MI",
          "NJ",
          "NY",
          "OH"
         ],
         "type": "choropleth",
         "visible": false,
         "z": [
          90286,
          5797,
          191,
          37111,
          56651,
          25155,
          64857,
          4729,
          494787,
          355476,
          149521,
          7409,
          115837,
          56358,
          293981,
          333046,
          729612,
          115790,
          383640,
          751691,
          24231,
          23415,
          98047,
          284138,
          69317,
          43094,
          82365,
          26824,
          402610,
          138094,
          389508,
          51139,
          136102,
          1055950
         ]
        },
        {
         "colorbar": {
          "title": {
           "text": "# Sightings"
          }
         },
         "locationmode": "USA-states",
         "locations": [
          "CT",
          "DC",
          "DE",
          "AR",
          "AZ",
          "CA",
          "CO",
          "AK",
          "AL",
          "FL",
          "IA",
          "ID",
          "LA",
          "MA",
          "MD",
          "IL",
          "IN",
          "KS",
          "KY",
          "GA",
          "HI",
          "ME",
          "MN",
          "MO",
          "MS",
          "NE",
          "NH",
          "NJ",
          "MT",
          "NC",
          "ND",
          "MI",
          "NY",
          "OH"
         ],
         "type": "choropleth",
         "visible": false,
         "z": [
          4267,
          284,
          35250,
          86471,
          48460,
          4233,
          60495,
          3884,
          401154,
          298641,
          169213,
          6941,
          102119,
          48532,
          248602,
          379890,
          611574,
          95906,
          349107,
          590459,
          23462,
          28916,
          94755,
          279122,
          76298,
          76625,
          37234,
          38569,
          24465,
          259892,
          136464,
          383064,
          91980,
          799003
         ]
        },
        {
         "colorbar": {
          "title": {
           "text": "# Sightings"
          }
         },
         "locationmode": "USA-states",
         "locations": [
          "AR",
          "CT",
          "DC",
          "DE",
          "FL",
          "AZ",
          "CA",
          "CO",
          "AK",
          "AL",
          "GA",
          "IA",
          "ID",
          "IL",
          "LA",
          "MA",
          "IN",
          "KS",
          "KY",
          "HI",
          "MD",
          "ME",
          "MN",
          "MO",
          "NE",
          "NH",
          "MS",
          "MT",
          "NC",
          "ND",
          "MI",
          "NJ",
          "NY",
          "OH"
         ],
         "type": "choropleth",
         "visible": false,
         "z": [
          83036,
          2054,
          313,
          17304,
          241783,
          36246,
          3252,
          47602,
          4089,
          314057,
          324733,
          101611,
          5098,
          261787,
          107715,
          36857,
          422824,
          51558,
          256169,
          24558,
          217295,
          36293,
          71399,
          259678,
          77142,
          33841,
          50051,
          25125,
          139080,
          132928,
          317928,
          13001,
          64904,
          687936
         ]
        },
        {
         "colorbar": {
          "title": {
           "text": "# Sightings"
          }
         },
         "locationmode": "USA-states",
         "locations": [
          "AL",
          "AR",
          "CT",
          "DC",
          "DE",
          "AZ",
          "CA",
          "CO",
          "AK",
          "FL",
          "IA",
          "ID",
          "LA",
          "MA",
          "MD",
          "IL",
          "IN",
          "KS",
          "KY",
          "GA",
          "HI",
          "ME",
          "MO",
          "ND",
          "NE",
          "NH",
          "MS",
          "MT",
          "NC",
          "MI",
          "MN",
          "NJ",
          "NV",
          "NY",
          "OH"
         ],
         "type": "choropleth",
         "visible": false,
         "z": [
          240198,
          81635,
          2241,
          878,
          14497,
          36785,
          2787,
          49468,
          3323,
          176148,
          118977,
          7322,
          138677,
          38512,
          49703,
          255225,
          424340,
          45250,
          274218,
          291864,
          18459,
          13694,
          256617,
          127472,
          71512,
          37267,
          65086,
          24285,
          144051,
          279790,
          62382,
          15382,
          7894,
          68040,
          672677
         ]
        },
        {
         "colorbar": {
          "title": {
           "text": "# Sightings"
          }
         },
         "locationmode": "USA-states",
         "locations": [
          "AR",
          "CT",
          "DC",
          "DE",
          "AZ",
          "CA",
          "CO",
          "AK",
          "AL",
          "FL",
          "IA",
          "ID",
          "LA",
          "MA",
          "MD",
          "IL",
          "IN",
          "KS",
          "KY",
          "GA",
          "HI",
          "ME",
          "MN",
          "MO",
          "NE",
          "NH",
          "MS",
          "MT",
          "NC",
          "ND",
          "MI",
          "NJ",
          "NY",
          "RI"
         ],
         "type": "choropleth",
         "visible": false,
         "z": [
          88579,
          970,
          723,
          9305,
          32752,
          3020,
          46880,
          3008,
          215483,
          124618,
          111595,
          5207,
          129967,
          24165,
          53747,
          228401,
          382275,
          39382,
          249036,
          261128,
          18597,
          13537,
          57829,
          208903,
          74973,
          24851,
          53294,
          19821,
          100643,
          94527,
          259415,
          5433,
          57212,
          78
         ]
        },
        {
         "colorbar": {
          "title": {
           "text": "# Sightings"
          }
         },
         "locationmode": "USA-states",
         "locations": [
          "CT",
          "DC",
          "DE",
          "FL",
          "AR",
          "AZ",
          "CA",
          "CO",
          "AK",
          "AL",
          "GA",
          "IA",
          "ID",
          "MA",
          "MD",
          "IL",
          "IN",
          "KS",
          "KY",
          "LA",
          "HI",
          "ME",
          "MN",
          "MO",
          "MS",
          "NE",
          "NH",
          "MT",
          "NC",
          "ND",
          "MI",
          "NJ",
          "NV",
          "NY",
          "OH"
         ],
         "type": "choropleth",
         "visible": false,
         "z": [
          7998,
          0,
          2676,
          111566,
          92438,
          21408,
          6078,
          42846,
          2979,
          162995,
          164132,
          105699,
          5829,
          16417,
          44601,
          190121,
          286156,
          32947,
          188502,
          118909,
          16073,
          9071,
          36629,
          149797,
          47337,
          63695,
          2263,
          16510,
          81095,
          87193,
          236974,
          4301,
          4698,
          33966,
          391088
         ]
        },
        {
         "colorbar": {
          "title": {
           "text": "# Sightings"
          }
         },
         "locationmode": "USA-states",
         "locations": [
          "AR",
          "CT",
          "DC",
          "DE",
          "AZ",
          "CA",
          "CO",
          "AK",
          "AL",
          "FL",
          "IA",
          "ID",
          "LA",
          "MA",
          "MD",
          "IL",
          "IN",
          "KS",
          "KY",
          "GA",
          "HI",
          "ME",
          "MN",
          "MO",
          "MS",
          "NE",
          "NH",
          "NJ",
          "MT",
          "NC",
          "ND",
          "MI",
          "NY",
          "OH"
         ],
         "type": "choropleth",
         "visible": false,
         "z": [
          88811,
          3508,
          0,
          2241,
          23712,
          2089,
          40011,
          4201,
          144567,
          117798,
          106879,
          6564,
          122578,
          12279,
          41539,
          203951,
          273716,
          30027,
          190782,
          123733,
          20062,
          13365,
          35624,
          157488,
          87718,
          66884,
          3733,
          3196,
          16865,
          71293,
          56854,
          237088,
          30946,
          346872
         ]
        },
        {
         "colorbar": {
          "title": {
           "text": "# Sightings"
          }
         },
         "locationmode": "USA-states",
         "locations": [
          "AR",
          "DC",
          "DE",
          "FL",
          "AZ",
          "CA",
          "CO",
          "CT",
          "AK",
          "AL",
          "GA",
          "IA",
          "ID",
          "IL",
          "MA",
          "MD",
          "IN",
          "KS",
          "KY",
          "LA",
          "HI",
          "ME",
          "MN",
          "MO",
          "MS",
          "NE",
          "NH",
          "MT",
          "NC",
          "ND",
          "MI",
          "NV",
          "NY"
         ],
         "type": "choropleth",
         "visible": false,
         "z": [
          89528,
          0,
          824,
          126601,
          22592,
          3088,
          28454,
          1877,
          3895,
          153448,
          107367,
          75570,
          5782,
          187534,
          6701,
          41369,
          297304,
          31550,
          204873,
          96227,
          18656,
          11070,
          39271,
          149843,
          101095,
          63994,
          3107,
          14426,
          64147,
          52716,
          173519,
          10225,
          31872
         ]
        },
        {
         "colorbar": {
          "title": {
           "text": "# Sightings"
          }
         },
         "locationmode": "USA-states",
         "locations": [
          "AL",
          "AR",
          "DC",
          "DE",
          "FL",
          "AZ",
          "CA",
          "CO",
          "CT",
          "AK",
          "GA",
          "IA",
          "ID",
          "MA",
          "MD",
          "IL",
          "IN",
          "KS",
          "KY",
          "LA",
          "HI",
          "ME",
          "MN",
          "MO",
          "NE",
          "NH",
          "MS",
          "MT",
          "NC",
          "ND",
          "MI",
          "NJ",
          "NV",
          "NY"
         ],
         "type": "choropleth",
         "visible": false,
         "z": [
          128791,
          59518,
          0,
          820,
          84580,
          17665,
          1382,
          23933,
          1441,
          4165,
          73843,
          47955,
          4652,
          5185,
          34366,
          152825,
          172754,
          13941,
          134798,
          76462,
          21637,
          11815,
          30033,
          126127,
          64970,
          2270,
          36499,
          14599,
          57514,
          47272,
          150606,
          3666,
          5347,
          23946
         ]
        },
        {
         "colorbar": {
          "title": {
           "text": "# Sightings"
          }
         },
         "locationmode": "USA-states",
         "locations": [
          "AR",
          "CT",
          "DC",
          "DE",
          "AZ",
          "CA",
          "CO",
          "AK",
          "AL",
          "FL",
          "IA",
          "ID",
          "LA",
          "MA",
          "MD",
          "IL",
          "IN",
          "KS",
          "KY",
          "GA",
          "HI",
          "ME",
          "MN",
          "MO",
          "MS",
          "NE",
          "NH",
          "NJ",
          "MT",
          "NC",
          "ND",
          "MI",
          "NY",
          "OH"
         ],
         "type": "choropleth",
         "visible": false,
         "z": [
          59829,
          627,
          5,
          512,
          12942,
          2697,
          19631,
          3489,
          54246,
          64917,
          34601,
          4147,
          63572,
          3704,
          27208,
          107569,
          91624,
          7139,
          79687,
          58068,
          19602,
          7716,
          26693,
          102679,
          13403,
          52073,
          974,
          3104,
          12460,
          52101,
          47559,
          101950,
          20254,
          144210
         ]
        },
        {
         "colorbar": {
          "title": {
           "text": "# Sightings"
          }
         },
         "locationmode": "USA-states",
         "locations": [
          "AL",
          "AR",
          "DC",
          "DE",
          "FL",
          "AZ",
          "CA",
          "CO",
          "CT",
          "AK",
          "IA",
          "ID",
          "IL",
          "MA",
          "MD",
          "IN",
          "KS",
          "KY",
          "LA",
          "GA",
          "HI",
          "ME",
          "MO",
          "ND",
          "NE",
          "NH",
          "MS",
          "MT",
          "NC",
          "MI",
          "MN",
          "NJ",
          "NV",
          "NY",
          "OH",
          "RI"
         ],
         "type": "choropleth",
         "visible": false,
         "z": [
          39321,
          61515,
          0,
          543,
          59864,
          13358,
          1471,
          15542,
          735,
          2815,
          34022,
          4090,
          85753,
          3151,
          17128,
          64764,
          5558,
          60239,
          122838,
          52471,
          18755,
          6601,
          107624,
          41320,
          51358,
          857,
          12326,
          12893,
          43365,
          83666,
          23768,
          3148,
          1963,
          16701,
          120101,
          85
         ]
        },
        {
         "colorbar": {
          "title": {
           "text": "# Sightings"
          }
         },
         "locationmode": "USA-states",
         "locations": [
          "AL",
          "AR",
          "DC",
          "DE",
          "FL",
          "AZ",
          "CA",
          "CO",
          "CT",
          "AK",
          "GA",
          "IA",
          "ID",
          "IL",
          "LA",
          "MA",
          "MD",
          "IN",
          "KS",
          "KY",
          "HI",
          "MN",
          "MO",
          "ND",
          "NE",
          "NH",
          "MS",
          "MT",
          "NC",
          "ME",
          "MI",
          "NJ",
          "NV",
          "NY"
         ],
         "type": "choropleth",
         "visible": false,
         "z": [
          41236,
          65237,
          0,
          648,
          58965,
          16523,
          1458,
          11737,
          972,
          2887,
          52917,
          37226,
          4266,
          88237,
          116886,
          2770,
          20347,
          69234,
          5451,
          58260,
          16544,
          26453,
          103337,
          41151,
          59967,
          1484,
          13138,
          11914,
          40739,
          8053,
          81921,
          3383,
          3352,
          11853
         ]
        },
        {
         "colorbar": {
          "title": {
           "text": "# Sightings"
          }
         },
         "locationmode": "USA-states",
         "locations": [
          "AR",
          "DC",
          "DE",
          "FL",
          "AZ",
          "CA",
          "CO",
          "CT",
          "AK",
          "AL",
          "IA",
          "ID",
          "LA",
          "MA",
          "IL",
          "IN",
          "KS",
          "KY",
          "GA",
          "HI",
          "MD",
          "MN",
          "MO",
          "MS",
          "NE",
          "NH",
          "NJ",
          "MT",
          "NC",
          "ND",
          "ME",
          "MI",
          "NV",
          "NY",
          "OH"
         ],
         "type": "choropleth",
         "visible": false,
         "z": [
          32170,
          1,
          294,
          38651,
          8271,
          1534,
          9095,
          491,
          2441,
          28757,
          19110,
          3931,
          27489,
          1950,
          62029,
          38145,
          4010,
          40591,
          46548,
          17215,
          3507,
          14089,
          92293,
          12437,
          40513,
          338,
          2759,
          7457,
          33254,
          34986,
          6598,
          44831,
          2099,
          7590,
          92723
         ]
        }
       ],
       "layout": {
        "autosize": true,
        "geo": {
         "center": {
          "lat": 39.142052424578964,
          "lon": -94.88242442431317
         },
         "projection": {
          "scale": 0.9807790039885532,
          "type": "albers usa"
         },
         "scope": "usa"
        },
        "sliders": [
         {
          "active": 0,
          "pad": {
           "t": 1
          },
          "steps": [
           {
            "args": [
             "visible",
             [
              true,
              false,
              false,
              false,
              false,
              false,
              false,
              false,
              false,
              false,
              false,
              false,
              false,
              false,
              false,
              false,
              false,
              false,
              false,
              false,
              false,
              false,
              false,
              false,
              false,
              false,
              false,
              false,
              false,
              false
             ]
            ],
            "label": "Year 1990",
            "method": "restyle"
           },
           {
            "args": [
             "visible",
             [
              false,
              true,
              false,
              false,
              false,
              false,
              false,
              false,
              false,
              false,
              false,
              false,
              false,
              false,
              false,
              false,
              false,
              false,
              false,
              false,
              false,
              false,
              false,
              false,
              false,
              false,
              false,
              false,
              false,
              false
             ]
            ],
            "label": "Year 1991",
            "method": "restyle"
           },
           {
            "args": [
             "visible",
             [
              false,
              false,
              true,
              false,
              false,
              false,
              false,
              false,
              false,
              false,
              false,
              false,
              false,
              false,
              false,
              false,
              false,
              false,
              false,
              false,
              false,
              false,
              false,
              false,
              false,
              false,
              false,
              false,
              false,
              false
             ]
            ],
            "label": "Year 1992",
            "method": "restyle"
           },
           {
            "args": [
             "visible",
             [
              false,
              false,
              false,
              true,
              false,
              false,
              false,
              false,
              false,
              false,
              false,
              false,
              false,
              false,
              false,
              false,
              false,
              false,
              false,
              false,
              false,
              false,
              false,
              false,
              false,
              false,
              false,
              false,
              false,
              false
             ]
            ],
            "label": "Year 1993",
            "method": "restyle"
           },
           {
            "args": [
             "visible",
             [
              false,
              false,
              false,
              false,
              true,
              false,
              false,
              false,
              false,
              false,
              false,
              false,
              false,
              false,
              false,
              false,
              false,
              false,
              false,
              false,
              false,
              false,
              false,
              false,
              false,
              false,
              false,
              false,
              false,
              false
             ]
            ],
            "label": "Year 1994",
            "method": "restyle"
           },
           {
            "args": [
             "visible",
             [
              false,
              false,
              false,
              false,
              false,
              true,
              false,
              false,
              false,
              false,
              false,
              false,
              false,
              false,
              false,
              false,
              false,
              false,
              false,
              false,
              false,
              false,
              false,
              false,
              false,
              false,
              false,
              false,
              false,
              false
             ]
            ],
            "label": "Year 1995",
            "method": "restyle"
           },
           {
            "args": [
             "visible",
             [
              false,
              false,
              false,
              false,
              false,
              false,
              true,
              false,
              false,
              false,
              false,
              false,
              false,
              false,
              false,
              false,
              false,
              false,
              false,
              false,
              false,
              false,
              false,
              false,
              false,
              false,
              false,
              false,
              false,
              false
             ]
            ],
            "label": "Year 1996",
            "method": "restyle"
           },
           {
            "args": [
             "visible",
             [
              false,
              false,
              false,
              false,
              false,
              false,
              false,
              true,
              false,
              false,
              false,
              false,
              false,
              false,
              false,
              false,
              false,
              false,
              false,
              false,
              false,
              false,
              false,
              false,
              false,
              false,
              false,
              false,
              false,
              false
             ]
            ],
            "label": "Year 1997",
            "method": "restyle"
           },
           {
            "args": [
             "visible",
             [
              false,
              false,
              false,
              false,
              false,
              false,
              false,
              false,
              true,
              false,
              false,
              false,
              false,
              false,
              false,
              false,
              false,
              false,
              false,
              false,
              false,
              false,
              false,
              false,
              false,
              false,
              false,
              false,
              false,
              false
             ]
            ],
            "label": "Year 1998",
            "method": "restyle"
           },
           {
            "args": [
             "visible",
             [
              false,
              false,
              false,
              false,
              false,
              false,
              false,
              false,
              false,
              true,
              false,
              false,
              false,
              false,
              false,
              false,
              false,
              false,
              false,
              false,
              false,
              false,
              false,
              false,
              false,
              false,
              false,
              false,
              false,
              false
             ]
            ],
            "label": "Year 1999",
            "method": "restyle"
           },
           {
            "args": [
             "visible",
             [
              false,
              false,
              false,
              false,
              false,
              false,
              false,
              false,
              false,
              false,
              true,
              false,
              false,
              false,
              false,
              false,
              false,
              false,
              false,
              false,
              false,
              false,
              false,
              false,
              false,
              false,
              false,
              false,
              false,
              false
             ]
            ],
            "label": "Year 2000",
            "method": "restyle"
           },
           {
            "args": [
             "visible",
             [
              false,
              false,
              false,
              false,
              false,
              false,
              false,
              false,
              false,
              false,
              false,
              true,
              false,
              false,
              false,
              false,
              false,
              false,
              false,
              false,
              false,
              false,
              false,
              false,
              false,
              false,
              false,
              false,
              false,
              false
             ]
            ],
            "label": "Year 2001",
            "method": "restyle"
           },
           {
            "args": [
             "visible",
             [
              false,
              false,
              false,
              false,
              false,
              false,
              false,
              false,
              false,
              false,
              false,
              false,
              true,
              false,
              false,
              false,
              false,
              false,
              false,
              false,
              false,
              false,
              false,
              false,
              false,
              false,
              false,
              false,
              false,
              false
             ]
            ],
            "label": "Year 2002",
            "method": "restyle"
           },
           {
            "args": [
             "visible",
             [
              false,
              false,
              false,
              false,
              false,
              false,
              false,
              false,
              false,
              false,
              false,
              false,
              false,
              true,
              false,
              false,
              false,
              false,
              false,
              false,
              false,
              false,
              false,
              false,
              false,
              false,
              false,
              false,
              false,
              false
             ]
            ],
            "label": "Year 2003",
            "method": "restyle"
           },
           {
            "args": [
             "visible",
             [
              false,
              false,
              false,
              false,
              false,
              false,
              false,
              false,
              false,
              false,
              false,
              false,
              false,
              false,
              true,
              false,
              false,
              false,
              false,
              false,
              false,
              false,
              false,
              false,
              false,
              false,
              false,
              false,
              false,
              false
             ]
            ],
            "label": "Year 2004",
            "method": "restyle"
           },
           {
            "args": [
             "visible",
             [
              false,
              false,
              false,
              false,
              false,
              false,
              false,
              false,
              false,
              false,
              false,
              false,
              false,
              false,
              false,
              true,
              false,
              false,
              false,
              false,
              false,
              false,
              false,
              false,
              false,
              false,
              false,
              false,
              false,
              false
             ]
            ],
            "label": "Year 2005",
            "method": "restyle"
           },
           {
            "args": [
             "visible",
             [
              false,
              false,
              false,
              false,
              false,
              false,
              false,
              false,
              false,
              false,
              false,
              false,
              false,
              false,
              false,
              false,
              true,
              false,
              false,
              false,
              false,
              false,
              false,
              false,
              false,
              false,
              false,
              false,
              false,
              false
             ]
            ],
            "label": "Year 2006",
            "method": "restyle"
           },
           {
            "args": [
             "visible",
             [
              false,
              false,
              false,
              false,
              false,
              false,
              false,
              false,
              false,
              false,
              false,
              false,
              false,
              false,
              false,
              false,
              false,
              true,
              false,
              false,
              false,
              false,
              false,
              false,
              false,
              false,
              false,
              false,
              false,
              false
             ]
            ],
            "label": "Year 2007",
            "method": "restyle"
           },
           {
            "args": [
             "visible",
             [
              false,
              false,
              false,
              false,
              false,
              false,
              false,
              false,
              false,
              false,
              false,
              false,
              false,
              false,
              false,
              false,
              false,
              false,
              true,
              false,
              false,
              false,
              false,
              false,
              false,
              false,
              false,
              false,
              false,
              false
             ]
            ],
            "label": "Year 2008",
            "method": "restyle"
           },
           {
            "args": [
             "visible",
             [
              false,
              false,
              false,
              false,
              false,
              false,
              false,
              false,
              false,
              false,
              false,
              false,
              false,
              false,
              false,
              false,
              false,
              false,
              false,
              true,
              false,
              false,
              false,
              false,
              false,
              false,
              false,
              false,
              false,
              false
             ]
            ],
            "label": "Year 2009",
            "method": "restyle"
           },
           {
            "args": [
             "visible",
             [
              false,
              false,
              false,
              false,
              false,
              false,
              false,
              false,
              false,
              false,
              false,
              false,
              false,
              false,
              false,
              false,
              false,
              false,
              false,
              false,
              true,
              false,
              false,
              false,
              false,
              false,
              false,
              false,
              false,
              false
             ]
            ],
            "label": "Year 2010",
            "method": "restyle"
           },
           {
            "args": [
             "visible",
             [
              false,
              false,
              false,
              false,
              false,
              false,
              false,
              false,
              false,
              false,
              false,
              false,
              false,
              false,
              false,
              false,
              false,
              false,
              false,
              false,
              false,
              true,
              false,
              false,
              false,
              false,
              false,
              false,
              false,
              false
             ]
            ],
            "label": "Year 2011",
            "method": "restyle"
           },
           {
            "args": [
             "visible",
             [
              false,
              false,
              false,
              false,
              false,
              false,
              false,
              false,
              false,
              false,
              false,
              false,
              false,
              false,
              false,
              false,
              false,
              false,
              false,
              false,
              false,
              false,
              true,
              false,
              false,
              false,
              false,
              false,
              false,
              false
             ]
            ],
            "label": "Year 2012",
            "method": "restyle"
           },
           {
            "args": [
             "visible",
             [
              false,
              false,
              false,
              false,
              false,
              false,
              false,
              false,
              false,
              false,
              false,
              false,
              false,
              false,
              false,
              false,
              false,
              false,
              false,
              false,
              false,
              false,
              false,
              true,
              false,
              false,
              false,
              false,
              false,
              false
             ]
            ],
            "label": "Year 2013",
            "method": "restyle"
           },
           {
            "args": [
             "visible",
             [
              false,
              false,
              false,
              false,
              false,
              false,
              false,
              false,
              false,
              false,
              false,
              false,
              false,
              false,
              false,
              false,
              false,
              false,
              false,
              false,
              false,
              false,
              false,
              false,
              true,
              false,
              false,
              false,
              false,
              false
             ]
            ],
            "label": "Year 2014",
            "method": "restyle"
           },
           {
            "args": [
             "visible",
             [
              false,
              false,
              false,
              false,
              false,
              false,
              false,
              false,
              false,
              false,
              false,
              false,
              false,
              false,
              false,
              false,
              false,
              false,
              false,
              false,
              false,
              false,
              false,
              false,
              false,
              true,
              false,
              false,
              false,
              false
             ]
            ],
            "label": "Year 2015",
            "method": "restyle"
           },
           {
            "args": [
             "visible",
             [
              false,
              false,
              false,
              false,
              false,
              false,
              false,
              false,
              false,
              false,
              false,
              false,
              false,
              false,
              false,
              false,
              false,
              false,
              false,
              false,
              false,
              false,
              false,
              false,
              false,
              false,
              true,
              false,
              false,
              false
             ]
            ],
            "label": "Year 2016",
            "method": "restyle"
           },
           {
            "args": [
             "visible",
             [
              false,
              false,
              false,
              false,
              false,
              false,
              false,
              false,
              false,
              false,
              false,
              false,
              false,
              false,
              false,
              false,
              false,
              false,
              false,
              false,
              false,
              false,
              false,
              false,
              false,
              false,
              false,
              true,
              false,
              false
             ]
            ],
            "label": "Year 2017",
            "method": "restyle"
           },
           {
            "args": [
             "visible",
             [
              false,
              false,
              false,
              false,
              false,
              false,
              false,
              false,
              false,
              false,
              false,
              false,
              false,
              false,
              false,
              false,
              false,
              false,
              false,
              false,
              false,
              false,
              false,
              false,
              false,
              false,
              false,
              false,
              true,
              false
             ]
            ],
            "label": "Year 2018",
            "method": "restyle"
           },
           {
            "args": [
             "visible",
             [
              false,
              false,
              false,
              false,
              false,
              false,
              false,
              false,
              false,
              false,
              false,
              false,
              false,
              false,
              false,
              false,
              false,
              false,
              false,
              false,
              false,
              false,
              false,
              false,
              false,
              false,
              false,
              false,
              false,
              true
             ]
            ],
            "label": "Year 2019",
            "method": "restyle"
           }
          ]
         }
        ],
        "template": {
         "data": {
          "bar": [
           {
            "error_x": {
             "color": "#2a3f5f"
            },
            "error_y": {
             "color": "#2a3f5f"
            },
            "marker": {
             "line": {
              "color": "#E5ECF6",
              "width": 0.5
             },
             "pattern": {
              "fillmode": "overlay",
              "size": 10,
              "solidity": 0.2
             }
            },
            "type": "bar"
           }
          ],
          "barpolar": [
           {
            "marker": {
             "line": {
              "color": "#E5ECF6",
              "width": 0.5
             },
             "pattern": {
              "fillmode": "overlay",
              "size": 10,
              "solidity": 0.2
             }
            },
            "type": "barpolar"
           }
          ],
          "carpet": [
           {
            "aaxis": {
             "endlinecolor": "#2a3f5f",
             "gridcolor": "white",
             "linecolor": "white",
             "minorgridcolor": "white",
             "startlinecolor": "#2a3f5f"
            },
            "baxis": {
             "endlinecolor": "#2a3f5f",
             "gridcolor": "white",
             "linecolor": "white",
             "minorgridcolor": "white",
             "startlinecolor": "#2a3f5f"
            },
            "type": "carpet"
           }
          ],
          "choropleth": [
           {
            "colorbar": {
             "outlinewidth": 0,
             "ticks": ""
            },
            "type": "choropleth"
           }
          ],
          "contour": [
           {
            "colorbar": {
             "outlinewidth": 0,
             "ticks": ""
            },
            "colorscale": [
             [
              0,
              "#0d0887"
             ],
             [
              0.1111111111111111,
              "#46039f"
             ],
             [
              0.2222222222222222,
              "#7201a8"
             ],
             [
              0.3333333333333333,
              "#9c179e"
             ],
             [
              0.4444444444444444,
              "#bd3786"
             ],
             [
              0.5555555555555556,
              "#d8576b"
             ],
             [
              0.6666666666666666,
              "#ed7953"
             ],
             [
              0.7777777777777778,
              "#fb9f3a"
             ],
             [
              0.8888888888888888,
              "#fdca26"
             ],
             [
              1,
              "#f0f921"
             ]
            ],
            "type": "contour"
           }
          ],
          "contourcarpet": [
           {
            "colorbar": {
             "outlinewidth": 0,
             "ticks": ""
            },
            "type": "contourcarpet"
           }
          ],
          "heatmap": [
           {
            "colorbar": {
             "outlinewidth": 0,
             "ticks": ""
            },
            "colorscale": [
             [
              0,
              "#0d0887"
             ],
             [
              0.1111111111111111,
              "#46039f"
             ],
             [
              0.2222222222222222,
              "#7201a8"
             ],
             [
              0.3333333333333333,
              "#9c179e"
             ],
             [
              0.4444444444444444,
              "#bd3786"
             ],
             [
              0.5555555555555556,
              "#d8576b"
             ],
             [
              0.6666666666666666,
              "#ed7953"
             ],
             [
              0.7777777777777778,
              "#fb9f3a"
             ],
             [
              0.8888888888888888,
              "#fdca26"
             ],
             [
              1,
              "#f0f921"
             ]
            ],
            "type": "heatmap"
           }
          ],
          "heatmapgl": [
           {
            "colorbar": {
             "outlinewidth": 0,
             "ticks": ""
            },
            "colorscale": [
             [
              0,
              "#0d0887"
             ],
             [
              0.1111111111111111,
              "#46039f"
             ],
             [
              0.2222222222222222,
              "#7201a8"
             ],
             [
              0.3333333333333333,
              "#9c179e"
             ],
             [
              0.4444444444444444,
              "#bd3786"
             ],
             [
              0.5555555555555556,
              "#d8576b"
             ],
             [
              0.6666666666666666,
              "#ed7953"
             ],
             [
              0.7777777777777778,
              "#fb9f3a"
             ],
             [
              0.8888888888888888,
              "#fdca26"
             ],
             [
              1,
              "#f0f921"
             ]
            ],
            "type": "heatmapgl"
           }
          ],
          "histogram": [
           {
            "marker": {
             "pattern": {
              "fillmode": "overlay",
              "size": 10,
              "solidity": 0.2
             }
            },
            "type": "histogram"
           }
          ],
          "histogram2d": [
           {
            "colorbar": {
             "outlinewidth": 0,
             "ticks": ""
            },
            "colorscale": [
             [
              0,
              "#0d0887"
             ],
             [
              0.1111111111111111,
              "#46039f"
             ],
             [
              0.2222222222222222,
              "#7201a8"
             ],
             [
              0.3333333333333333,
              "#9c179e"
             ],
             [
              0.4444444444444444,
              "#bd3786"
             ],
             [
              0.5555555555555556,
              "#d8576b"
             ],
             [
              0.6666666666666666,
              "#ed7953"
             ],
             [
              0.7777777777777778,
              "#fb9f3a"
             ],
             [
              0.8888888888888888,
              "#fdca26"
             ],
             [
              1,
              "#f0f921"
             ]
            ],
            "type": "histogram2d"
           }
          ],
          "histogram2dcontour": [
           {
            "colorbar": {
             "outlinewidth": 0,
             "ticks": ""
            },
            "colorscale": [
             [
              0,
              "#0d0887"
             ],
             [
              0.1111111111111111,
              "#46039f"
             ],
             [
              0.2222222222222222,
              "#7201a8"
             ],
             [
              0.3333333333333333,
              "#9c179e"
             ],
             [
              0.4444444444444444,
              "#bd3786"
             ],
             [
              0.5555555555555556,
              "#d8576b"
             ],
             [
              0.6666666666666666,
              "#ed7953"
             ],
             [
              0.7777777777777778,
              "#fb9f3a"
             ],
             [
              0.8888888888888888,
              "#fdca26"
             ],
             [
              1,
              "#f0f921"
             ]
            ],
            "type": "histogram2dcontour"
           }
          ],
          "mesh3d": [
           {
            "colorbar": {
             "outlinewidth": 0,
             "ticks": ""
            },
            "type": "mesh3d"
           }
          ],
          "parcoords": [
           {
            "line": {
             "colorbar": {
              "outlinewidth": 0,
              "ticks": ""
             }
            },
            "type": "parcoords"
           }
          ],
          "pie": [
           {
            "automargin": true,
            "type": "pie"
           }
          ],
          "scatter": [
           {
            "marker": {
             "colorbar": {
              "outlinewidth": 0,
              "ticks": ""
             }
            },
            "type": "scatter"
           }
          ],
          "scatter3d": [
           {
            "line": {
             "colorbar": {
              "outlinewidth": 0,
              "ticks": ""
             }
            },
            "marker": {
             "colorbar": {
              "outlinewidth": 0,
              "ticks": ""
             }
            },
            "type": "scatter3d"
           }
          ],
          "scattercarpet": [
           {
            "marker": {
             "colorbar": {
              "outlinewidth": 0,
              "ticks": ""
             }
            },
            "type": "scattercarpet"
           }
          ],
          "scattergeo": [
           {
            "marker": {
             "colorbar": {
              "outlinewidth": 0,
              "ticks": ""
             }
            },
            "type": "scattergeo"
           }
          ],
          "scattergl": [
           {
            "marker": {
             "colorbar": {
              "outlinewidth": 0,
              "ticks": ""
             }
            },
            "type": "scattergl"
           }
          ],
          "scattermapbox": [
           {
            "marker": {
             "colorbar": {
              "outlinewidth": 0,
              "ticks": ""
             }
            },
            "type": "scattermapbox"
           }
          ],
          "scatterpolar": [
           {
            "marker": {
             "colorbar": {
              "outlinewidth": 0,
              "ticks": ""
             }
            },
            "type": "scatterpolar"
           }
          ],
          "scatterpolargl": [
           {
            "marker": {
             "colorbar": {
              "outlinewidth": 0,
              "ticks": ""
             }
            },
            "type": "scatterpolargl"
           }
          ],
          "scatterternary": [
           {
            "marker": {
             "colorbar": {
              "outlinewidth": 0,
              "ticks": ""
             }
            },
            "type": "scatterternary"
           }
          ],
          "surface": [
           {
            "colorbar": {
             "outlinewidth": 0,
             "ticks": ""
            },
            "colorscale": [
             [
              0,
              "#0d0887"
             ],
             [
              0.1111111111111111,
              "#46039f"
             ],
             [
              0.2222222222222222,
              "#7201a8"
             ],
             [
              0.3333333333333333,
              "#9c179e"
             ],
             [
              0.4444444444444444,
              "#bd3786"
             ],
             [
              0.5555555555555556,
              "#d8576b"
             ],
             [
              0.6666666666666666,
              "#ed7953"
             ],
             [
              0.7777777777777778,
              "#fb9f3a"
             ],
             [
              0.8888888888888888,
              "#fdca26"
             ],
             [
              1,
              "#f0f921"
             ]
            ],
            "type": "surface"
           }
          ],
          "table": [
           {
            "cells": {
             "fill": {
              "color": "#EBF0F8"
             },
             "line": {
              "color": "white"
             }
            },
            "header": {
             "fill": {
              "color": "#C8D4E3"
             },
             "line": {
              "color": "white"
             }
            },
            "type": "table"
           }
          ]
         },
         "layout": {
          "annotationdefaults": {
           "arrowcolor": "#2a3f5f",
           "arrowhead": 0,
           "arrowwidth": 1
          },
          "autotypenumbers": "strict",
          "coloraxis": {
           "colorbar": {
            "outlinewidth": 0,
            "ticks": ""
           }
          },
          "colorscale": {
           "diverging": [
            [
             0,
             "#8e0152"
            ],
            [
             0.1,
             "#c51b7d"
            ],
            [
             0.2,
             "#de77ae"
            ],
            [
             0.3,
             "#f1b6da"
            ],
            [
             0.4,
             "#fde0ef"
            ],
            [
             0.5,
             "#f7f7f7"
            ],
            [
             0.6,
             "#e6f5d0"
            ],
            [
             0.7,
             "#b8e186"
            ],
            [
             0.8,
             "#7fbc41"
            ],
            [
             0.9,
             "#4d9221"
            ],
            [
             1,
             "#276419"
            ]
           ],
           "sequential": [
            [
             0,
             "#0d0887"
            ],
            [
             0.1111111111111111,
             "#46039f"
            ],
            [
             0.2222222222222222,
             "#7201a8"
            ],
            [
             0.3333333333333333,
             "#9c179e"
            ],
            [
             0.4444444444444444,
             "#bd3786"
            ],
            [
             0.5555555555555556,
             "#d8576b"
            ],
            [
             0.6666666666666666,
             "#ed7953"
            ],
            [
             0.7777777777777778,
             "#fb9f3a"
            ],
            [
             0.8888888888888888,
             "#fdca26"
            ],
            [
             1,
             "#f0f921"
            ]
           ],
           "sequentialminus": [
            [
             0,
             "#0d0887"
            ],
            [
             0.1111111111111111,
             "#46039f"
            ],
            [
             0.2222222222222222,
             "#7201a8"
            ],
            [
             0.3333333333333333,
             "#9c179e"
            ],
            [
             0.4444444444444444,
             "#bd3786"
            ],
            [
             0.5555555555555556,
             "#d8576b"
            ],
            [
             0.6666666666666666,
             "#ed7953"
            ],
            [
             0.7777777777777778,
             "#fb9f3a"
            ],
            [
             0.8888888888888888,
             "#fdca26"
            ],
            [
             1,
             "#f0f921"
            ]
           ]
          },
          "colorway": [
           "#636efa",
           "#EF553B",
           "#00cc96",
           "#ab63fa",
           "#FFA15A",
           "#19d3f3",
           "#FF6692",
           "#B6E880",
           "#FF97FF",
           "#FECB52"
          ],
          "font": {
           "color": "#2a3f5f"
          },
          "geo": {
           "bgcolor": "white",
           "lakecolor": "white",
           "landcolor": "#E5ECF6",
           "showlakes": true,
           "showland": true,
           "subunitcolor": "white"
          },
          "hoverlabel": {
           "align": "left"
          },
          "hovermode": "closest",
          "mapbox": {
           "style": "light"
          },
          "paper_bgcolor": "white",
          "plot_bgcolor": "#E5ECF6",
          "polar": {
           "angularaxis": {
            "gridcolor": "white",
            "linecolor": "white",
            "ticks": ""
           },
           "bgcolor": "#E5ECF6",
           "radialaxis": {
            "gridcolor": "white",
            "linecolor": "white",
            "ticks": ""
           }
          },
          "scene": {
           "xaxis": {
            "backgroundcolor": "#E5ECF6",
            "gridcolor": "white",
            "gridwidth": 2,
            "linecolor": "white",
            "showbackground": true,
            "ticks": "",
            "zerolinecolor": "white"
           },
           "yaxis": {
            "backgroundcolor": "#E5ECF6",
            "gridcolor": "white",
            "gridwidth": 2,
            "linecolor": "white",
            "showbackground": true,
            "ticks": "",
            "zerolinecolor": "white"
           },
           "zaxis": {
            "backgroundcolor": "#E5ECF6",
            "gridcolor": "white",
            "gridwidth": 2,
            "linecolor": "white",
            "showbackground": true,
            "ticks": "",
            "zerolinecolor": "white"
           }
          },
          "shapedefaults": {
           "line": {
            "color": "#2a3f5f"
           }
          },
          "ternary": {
           "aaxis": {
            "gridcolor": "white",
            "linecolor": "white",
            "ticks": ""
           },
           "baxis": {
            "gridcolor": "white",
            "linecolor": "white",
            "ticks": ""
           },
           "bgcolor": "#E5ECF6",
           "caxis": {
            "gridcolor": "white",
            "linecolor": "white",
            "ticks": ""
           }
          },
          "title": {
           "x": 0.05
          },
          "xaxis": {
           "automargin": true,
           "gridcolor": "white",
           "linecolor": "white",
           "ticks": "",
           "title": {
            "standoff": 15
           },
           "zerolinecolor": "white",
           "zerolinewidth": 2
          },
          "yaxis": {
           "automargin": true,
           "gridcolor": "white",
           "linecolor": "white",
           "ticks": "",
           "title": {
            "standoff": 15
           },
           "zerolinecolor": "white",
           "zerolinewidth": 2
          }
         }
        },
        "title": {
         "text": "SO2 Emissions Statewise since 1990 to 2020"
        }
       }
      },
      "image/png": "[encoded data removed]",
      "text/html": [
       "<div>                            <div id=\"ba880991-abfe-4191-b9be-72857ceb3840\" class=\"plotly-graph-div\" style=\"height:525px; width:100%;\"></div>            <script type=\"text/javascript\">                require([\"plotly\"], function(Plotly) {                    window.PLOTLYENV=window.PLOTLYENV || {};                                    if (document.getElementById(\"ba880991-abfe-4191-b9be-72857ceb3840\")) {                    Plotly.newPlot(                        \"ba880991-abfe-4191-b9be-72857ceb3840\",                        [{\"colorbar\":{\"title\":{\"text\":\"# Sightings\"}},\"locationmode\":\"USA-states\",\"locations\":[\"AR\",\"CT\",\"DC\",\"DE\",\"FL\",\"AZ\",\"CA\",\"CO\",\"AK\",\"AL\",\"GA\",\"IA\",\"ID\",\"IL\",\"LA\",\"MA\",\"MD\",\"IN\",\"KS\",\"KY\",\"HI\",\"MN\",\"MO\",\"ND\",\"NE\",\"NH\",\"NJ\",\"MS\",\"MT\",\"NC\",\"ME\",\"MI\",\"NV\",\"NY\"],\"z\":[85390,57579,2539,88240,697499,126421,90154,102697,20658,557251,935317,201465,9540,936052,123261,233573,297233,1407412,86529,902275,38817,112163,798081,147068,51801,66619,78727,131807,19104,401051,57853,421898,54649,459768],\"type\":\"choropleth\"},{\"colorbar\":{\"title\":{\"text\":\"# Sightings\"}},\"locationmode\":\"USA-states\",\"locations\":[\"AL\",\"AR\",\"DC\",\"DE\",\"FL\",\"AZ\",\"CA\",\"CO\",\"CT\",\"AK\",\"GA\",\"IA\",\"ID\",\"IL\",\"LA\",\"MA\",\"MD\",\"IN\",\"KS\",\"KY\",\"HI\",\"MN\",\"MO\",\"ND\",\"NE\",\"NH\",\"MS\",\"MT\",\"NC\",\"ME\",\"MI\",\"NJ\",\"NV\",\"NY\",\"RI\"],\"z\":[554739,83808,1326,55085,775435,130647,57726,98541,54224,13370,851849,224332,6626,889365,129536,240881,275124,1470102,76413,871606,29246,99369,750978,190426,53579,47695,119161,22828,390723,52838,425983,65822,55034,440535,703],\"type\":\"choropleth\"},{\"colorbar\":{\"title\":{\"text\":\"# Sightings\"}},\"locationmode\":\"USA-states\",\"locations\":[\"AL\",\"AR\",\"DC\",\"DE\",\"FL\",\"AZ\",\"CA\",\"CO\",\"CT\",\"AK\",\"GA\",\"IA\",\"ID\",\"IL\",\"MA\",\"MD\",\"IN\",\"KS\",\"KY\",\"LA\",\"HI\",\"MN\",\"MO\",\"ND\",\"NE\",\"NH\",\"MS\",\"MT\",\"NC\",\"ME\",\"MI\",\"NJ\",\"NY\",\"OH\"],\"z\":[561671,83176,577,81055,776795,132721,71211,102107,38613,11736,830723,209961,9625,894322,210579,271230,1254033,66023,893575,175375,31108,114924,687582,146967,53660,56534,116859,23150,442655,23826,390546,60087,392554,2210524],\"type\":\"choropleth\"},{\"colorbar\":{\"title\":{\"text\":\"# Sightings\"}},\"locationmode\":\"USA-states\",\"locations\":[\"AR\",\"CT\",\"DC\",\"DE\",\"AZ\",\"CA\",\"CO\",\"AK\",\"AL\",\"FL\",\"IA\",\"ID\",\"LA\",\"MA\",\"MD\",\"IL\",\"IN\",\"KS\",\"KY\",\"GA\",\"HI\",\"ME\",\"MN\",\"MO\",\"ND\",\"NE\",\"NH\",\"MS\",\"MT\",\"NC\",\"MI\",\"NJ\",\"NV\",\"NY\"],\"z\":[81007,32433,1334,89822,135654,68564,99842,11339,603582,763824,224297,9647,259611,151533,287362,860869,1273599,70743,983643,754549,24084,24652,134495,486833,148070,60800,51891,160083,21396,489817,412086,60840,53274,336470],\"type\":\"choropleth\"},{\"colorbar\":{\"title\":{\"text\":\"# Sightings\"}},\"locationmode\":\"USA-states\",\"locations\":[\"AL\",\"AR\",\"DC\",\"DE\",\"FL\",\"AZ\",\"CA\",\"CO\",\"CT\",\"AK\",\"IA\",\"ID\",\"IL\",\"MA\",\"MD\",\"IN\",\"KS\",\"KY\",\"LA\",\"GA\",\"HI\",\"MN\",\"MO\",\"ND\",\"NE\",\"NH\",\"MS\",\"MT\",\"NC\",\"ME\",\"MI\",\"NJ\",\"NV\",\"NY\",\"RI\"],\"z\":[565584,86462,1689,86035,745072,143396,80991,107977,27230,12296,210812,8807,850776,127948,267974,1254736,71564,895781,273797,621996,22889,138769,543932,153217,56669,50350,110143,22088,433892,22809,446989,56272,53260,296882,877],\"type\":\"choropleth\"},{\"colorbar\":{\"title\":{\"text\":\"# Sightings\"}},\"locationmode\":\"USA-states\",\"locations\":[\"AL\",\"AR\",\"DC\",\"DE\",\"FL\",\"AZ\",\"CA\",\"CO\",\"CT\",\"AK\",\"GA\",\"IA\",\"ID\",\"IL\",\"MA\",\"MD\",\"IN\",\"KS\",\"KY\",\"LA\",\"HI\",\"MN\",\"MO\",\"ND\",\"NE\",\"NH\",\"MS\",\"MT\",\"NC\",\"ME\",\"MI\",\"NJ\",\"NV\",\"NY\",\"RI\"],\"z\":[592892,99076,1172,75384,671037,126397,131412,96891,29334,18413,584665,194382,6579,728962,134941,243208,933091,99727,676351,188162,43385,106469,354441,210793,61313,52698,101619,41527,462604,46333,418478,67316,50275,284942,748],\"type\":\"choropleth\"},{\"colorbar\":{\"title\":{\"text\":\"# Sightings\"}},\"locationmode\":\"USA-states\",\"locations\":[\"AL\",\"AR\",\"DC\",\"DE\",\"FL\",\"AZ\",\"CA\",\"CO\",\"CT\",\"AK\",\"GA\",\"IA\",\"ID\",\"IL\",\"MA\",\"MD\",\"IN\",\"KS\",\"KY\",\"LA\",\"HI\",\"ME\",\"MO\",\"ND\",\"NE\",\"NH\",\"MS\",\"MT\",\"NC\",\"MI\",\"MN\",\"NJ\",\"NV\",\"NY\",\"OH\",\"RI\"],\"z\":[648256,112681,771,74796,732837,124873,139622,94908,45392,18546,581331,176201,6261,836051,112267,266541,992976,117130,642327,182046,48329,47624,370840,178651,65884,51486,126963,43359,546542,438252,109885,74581,53254,229960,1517964,1219],\"type\":\"choropleth\"},{\"colorbar\":{\"title\":{\"text\":\"# Sightings\"}},\"locationmode\":\"USA-states\",\"locations\":[\"AL\",\"AR\",\"DC\",\"DE\",\"FL\",\"AZ\",\"CA\",\"CO\",\"CT\",\"AK\",\"GA\",\"IA\",\"ID\",\"LA\",\"MA\",\"MD\",\"IL\",\"IN\",\"KS\",\"KY\",\"HI\",\"ME\",\"MN\",\"MO\",\"NE\",\"NH\",\"NJ\",\"MS\",\"MT\",\"NC\",\"ND\",\"MI\",\"NV\",\"NY\",\"OH\"],\"z\":[626568,102074,483,72470,773468,130976,141465,101523,58508,18293,612338,179325,6726,210937,150013,270282,935833,1036318,109222,669135,47987,51336,119178,319583,62857,59724,79400,128888,27301,581446,179348,466848,50166,312714,1491963],\"type\":\"choropleth\"},{\"colorbar\":{\"title\":{\"text\":\"# Sightings\"}},\"locationmode\":\"USA-states\",\"locations\":[\"AL\",\"AR\",\"DC\",\"DE\",\"FL\",\"AZ\",\"CA\",\"CO\",\"CT\",\"AK\",\"IA\",\"ID\",\"IL\",\"LA\",\"MA\",\"MD\",\"IN\",\"KS\",\"KY\",\"GA\",\"HI\",\"ME\",\"MN\",\"MO\",\"MS\",\"NE\",\"NH\",\"MT\",\"NC\",\"ND\",\"MI\",\"NJ\",\"NV\",\"NY\",\"OH\"],\"z\":[641442,92493,1317,44806,889319,105800,139987,100742,55842,19276,198055,7193,935214,208597,164240,302299,1011531,117727,625078,628831,51066,59798,109149,304631,164147,58224,58000,29259,560925,196696,486196,68296,49827,366805,1456510],\"type\":\"choropleth\"},{\"colorbar\":{\"title\":{\"text\":\"# Sightings\"}},\"locationmode\":\"USA-states\",\"locations\":[\"AL\",\"AR\",\"CT\",\"DC\",\"DE\",\"FL\",\"AZ\",\"CA\",\"CO\",\"AK\",\"IA\",\"ID\",\"LA\",\"MA\",\"MD\",\"IL\",\"IN\",\"KS\",\"KY\",\"GA\",\"HI\",\"ME\",\"MN\",\"MO\",\"MS\",\"NE\",\"NH\",\"NJ\",\"MT\",\"NC\",\"ND\",\"MI\",\"NY\",\"OH\"],\"z\":[608508,94551,48838,1517,30921,808434,79000,154493,93304,12380,176400,6757,205796,135650,297499,833995,974768,118021,659004,618831,48961,60799,112788,271427,134377,61513,57749,70474,30415,525078,192229,441905,333592,1347272],\"type\":\"choropleth\"},{\"colorbar\":{\"title\":{\"text\":\"# Sightings\"}},\"locationmode\":\"USA-states\",\"locations\":[\"AR\",\"CT\",\"DC\",\"DE\",\"AZ\",\"CA\",\"CO\",\"AK\",\"AL\",\"FL\",\"IA\",\"ID\",\"LA\",\"MA\",\"MD\",\"IL\",\"IN\",\"KS\",\"KY\",\"GA\",\"HI\",\"ME\",\"MN\",\"MO\",\"ND\",\"NE\",\"NH\",\"MS\",\"MT\",\"NC\",\"MI\",\"NJ\",\"NV\",\"NY\"],\"z\":[92959,57013,1002,41922,75261,139440,90849,15497,570478,686260,173315,6576,192276,121193,281962,550035,905053,116346,584929,616018,56088,49346,123481,234190,154037,60802,52560,144948,52083,521136,428323,89950,53220,326620],\"type\":\"choropleth\"},{\"colorbar\":{\"title\":{\"text\":\"# Sightings\"}},\"locationmode\":\"USA-states\",\"locations\":[\"AR\",\"DC\",\"DE\",\"FL\",\"AZ\",\"CA\",\"CO\",\"CT\",\"AK\",\"AL\",\"IA\",\"ID\",\"IL\",\"LA\",\"MA\",\"MD\",\"IN\",\"KS\",\"KY\",\"GA\",\"HI\",\"MN\",\"MO\",\"ND\",\"NE\",\"NH\",\"MS\",\"MT\",\"NC\",\"ME\",\"MI\",\"NV\",\"NY\"],\"z\":[92379,786,39888,603676,73542,45265,94162,36381,8328,509773,154695,4140,451313,204109,105403,275613,810028,120325,535457,614249,28215,99926,259514,156311,70741,51093,152337,61002,490948,32217,406006,54700,287678],\"type\":\"choropleth\"},{\"colorbar\":{\"title\":{\"text\":\"# Sightings\"}},\"locationmode\":\"USA-states\",\"locations\":[\"AL\",\"AR\",\"DC\",\"DE\",\"FL\",\"AZ\",\"CA\",\"CO\",\"CT\",\"AK\",\"IA\",\"ID\",\"IL\",\"LA\",\"MA\",\"MD\",\"IN\",\"KS\",\"KY\",\"GA\",\"HI\",\"ME\",\"MO\",\"ND\",\"NE\",\"NH\",\"MS\",\"MT\",\"NC\",\"MI\",\"MN\",\"NJ\",\"NV\",\"NY\",\"OH\"],\"z\":[492741,84488,1151,34315,506068,70827,77136,91449,13143,8122,148906,6256,407225,188739,93511,276470,792052,129778,492521,620781,24841,24120,259977,141714,68630,44657,79625,24625,495875,393513,111049,51179,49243,263197,1207822],\"type\":\"choropleth\"},{\"colorbar\":{\"title\":{\"text\":\"# Sightings\"}},\"locationmode\":\"USA-states\",\"locations\":[\"AR\",\"CT\",\"DC\",\"DE\",\"FL\",\"AZ\",\"CA\",\"CO\",\"AK\",\"AL\",\"ID\",\"IL\",\"LA\",\"MA\",\"IN\",\"KS\",\"KY\",\"GA\",\"HI\",\"IA\",\"MD\",\"MN\",\"MO\",\"ND\",\"NE\",\"NH\",\"NJ\",\"MS\",\"MT\",\"NC\",\"ME\",\"MI\",\"NV\",\"NY\"],\"z\":[87160,9061,314,39714,516573,69538,19286,77643,4819,499611,7108,412012,214678,90116,819311,141046,532923,646234,24904,153692,290939,124643,284710,141587,69415,57784,53519,94584,24878,496485,22066,401785,51482,285434],\"type\":\"choropleth\"},{\"colorbar\":{\"title\":{\"text\":\"# Sightings\"}},\"locationmode\":\"USA-states\",\"locations\":[\"AR\",\"CT\",\"DC\",\"DE\",\"AZ\",\"CA\",\"CO\",\"AK\",\"AL\",\"FL\",\"IA\",\"ID\",\"LA\",\"MA\",\"MD\",\"IL\",\"IN\",\"KS\",\"KY\",\"GA\",\"HI\",\"ME\",\"MN\",\"MO\",\"NE\",\"NH\",\"MS\",\"MT\",\"NC\",\"ND\",\"MI\",\"NJ\",\"NY\",\"OH\"],\"z\":[96059,7188,173,38204,60544,24594,65040,4791,450622,488443,149868,7778,145980,83738,304838,426196,877929,123910,516531,644248,26313,21901,119027,297197,74690,57297,99399,25381,502307,150582,386930,53840,260227,1156982],\"type\":\"choropleth\"},{\"colorbar\":{\"title\":{\"text\":\"# Sightings\"}},\"locationmode\":\"USA-states\",\"locations\":[\"AR\",\"CT\",\"DC\",\"DE\",\"FL\",\"AZ\",\"CA\",\"CO\",\"AK\",\"AL\",\"GA\",\"IA\",\"ID\",\"MA\",\"MD\",\"IL\",\"IN\",\"KS\",\"KY\",\"LA\",\"HI\",\"ME\",\"MN\",\"MO\",\"MS\",\"NE\",\"NH\",\"NJ\",\"MT\",\"NC\",\"ND\",\"MI\",\"NY\",\"OH\"],\"z\":[106763,8553,914,34470,454614,52908,28250,63936,4448,502215,712024,149517,5451,84153,304427,387447,884023,136474,503502,140779,23634,24288,111146,301265,87377,73837,51751,71365,24035,531538,138375,397265,206530,1164746],\"type\":\"choropleth\"},{\"colorbar\":{\"title\":{\"text\":\"# Sightings\"}},\"locationmode\":\"USA-states\",\"locations\":[\"AL\",\"AR\",\"CT\",\"DC\",\"DE\",\"AZ\",\"CA\",\"CO\",\"AK\",\"FL\",\"ID\",\"LA\",\"MA\",\"MD\",\"IL\",\"IN\",\"KS\",\"KY\",\"GA\",\"HI\",\"IA\",\"ME\",\"MN\",\"MO\",\"NE\",\"NH\",\"MS\",\"MT\",\"NC\",\"ND\",\"MI\",\"NJ\",\"NY\",\"OH\"],\"z\":[504311,90355,5957,360,33123,49323,29252,64561,4629,362820,5004,138129,53913,298586,340579,835731,111235,430753,755490,24126,145918,18855,104080,286198,71761,40886,90448,24004,493092,130805,359912,62154,134341,1069175],\"type\":\"choropleth\"},{\"colorbar\":{\"title\":{\"text\":\"# Sightings\"}},\"locationmode\":\"USA-states\",\"locations\":[\"AR\",\"CT\",\"DC\",\"DE\",\"AZ\",\"CA\",\"CO\",\"AK\",\"AL\",\"FL\",\"IA\",\"ID\",\"LA\",\"MA\",\"MD\",\"IL\",\"IN\",\"KS\",\"KY\",\"GA\",\"HI\",\"ME\",\"MN\",\"MO\",\"NE\",\"NH\",\"MS\",\"MT\",\"NC\",\"ND\",\"MI\",\"NJ\",\"NY\",\"OH\"],\"z\":[90286,5797,191,37111,56651,25155,64857,4729,494787,355476,149521,7409,115837,56358,293981,333046,729612,115790,383640,751691,24231,23415,98047,284138,69317,43094,82365,26824,402610,138094,389508,51139,136102,1055950],\"type\":\"choropleth\"},{\"colorbar\":{\"title\":{\"text\":\"# Sightings\"}},\"locationmode\":\"USA-states\",\"locations\":[\"CT\",\"DC\",\"DE\",\"AR\",\"AZ\",\"CA\",\"CO\",\"AK\",\"AL\",\"FL\",\"IA\",\"ID\",\"LA\",\"MA\",\"MD\",\"IL\",\"IN\",\"KS\",\"KY\",\"GA\",\"HI\",\"ME\",\"MN\",\"MO\",\"MS\",\"NE\",\"NH\",\"NJ\",\"MT\",\"NC\",\"ND\",\"MI\",\"NY\",\"OH\"],\"z\":[4267,284,35250,86471,48460,4233,60495,3884,401154,298641,169213,6941,102119,48532,248602,379890,611574,95906,349107,590459,23462,28916,94755,279122,76298,76625,37234,38569,24465,259892,136464,383064,91980,799003],\"type\":\"choropleth\"},{\"colorbar\":{\"title\":{\"text\":\"# Sightings\"}},\"locationmode\":\"USA-states\",\"locations\":[\"AR\",\"CT\",\"DC\",\"DE\",\"FL\",\"AZ\",\"CA\",\"CO\",\"AK\",\"AL\",\"GA\",\"IA\",\"ID\",\"IL\",\"LA\",\"MA\",\"IN\",\"KS\",\"KY\",\"HI\",\"MD\",\"ME\",\"MN\",\"MO\",\"NE\",\"NH\",\"MS\",\"MT\",\"NC\",\"ND\",\"MI\",\"NJ\",\"NY\",\"OH\"],\"z\":[83036,2054,313,17304,241783,36246,3252,47602,4089,314057,324733,101611,5098,261787,107715,36857,422824,51558,256169,24558,217295,36293,71399,259678,77142,33841,50051,25125,139080,132928,317928,13001,64904,687936],\"type\":\"choropleth\"},{\"colorbar\":{\"title\":{\"text\":\"# Sightings\"}},\"locationmode\":\"USA-states\",\"locations\":[\"AL\",\"AR\",\"CT\",\"DC\",\"DE\",\"AZ\",\"CA\",\"CO\",\"AK\",\"FL\",\"IA\",\"ID\",\"LA\",\"MA\",\"MD\",\"IL\",\"IN\",\"KS\",\"KY\",\"GA\",\"HI\",\"ME\",\"MO\",\"ND\",\"NE\",\"NH\",\"MS\",\"MT\",\"NC\",\"MI\",\"MN\",\"NJ\",\"NV\",\"NY\",\"OH\"],\"z\":[240198,81635,2241,878,14497,36785,2787,49468,3323,176148,118977,7322,138677,38512,49703,255225,424340,45250,274218,291864,18459,13694,256617,127472,71512,37267,65086,24285,144051,279790,62382,15382,7894,68040,672677],\"type\":\"choropleth\"},{\"colorbar\":{\"title\":{\"text\":\"# Sightings\"}},\"locationmode\":\"USA-states\",\"locations\":[\"AR\",\"CT\",\"DC\",\"DE\",\"AZ\",\"CA\",\"CO\",\"AK\",\"AL\",\"FL\",\"IA\",\"ID\",\"LA\",\"MA\",\"MD\",\"IL\",\"IN\",\"KS\",\"KY\",\"GA\",\"HI\",\"ME\",\"MN\",\"MO\",\"NE\",\"NH\",\"MS\",\"MT\",\"NC\",\"ND\",\"MI\",\"NJ\",\"NY\",\"RI\"],\"z\":[88579,970,723,9305,32752,3020,46880,3008,215483,124618,111595,5207,129967,24165,53747,228401,382275,39382,249036,261128,18597,13537,57829,208903,74973,24851,53294,19821,100643,94527,259415,5433,57212,78],\"type\":\"choropleth\"},{\"colorbar\":{\"title\":{\"text\":\"# Sightings\"}},\"locationmode\":\"USA-states\",\"locations\":[\"CT\",\"DC\",\"DE\",\"FL\",\"AR\",\"AZ\",\"CA\",\"CO\",\"AK\",\"AL\",\"GA\",\"IA\",\"ID\",\"MA\",\"MD\",\"IL\",\"IN\",\"KS\",\"KY\",\"LA\",\"HI\",\"ME\",\"MN\",\"MO\",\"MS\",\"NE\",\"NH\",\"MT\",\"NC\",\"ND\",\"MI\",\"NJ\",\"NV\",\"NY\",\"OH\"],\"z\":[7998,0,2676,111566,92438,21408,6078,42846,2979,162995,164132,105699,5829,16417,44601,190121,286156,32947,188502,118909,16073,9071,36629,149797,47337,63695,2263,16510,81095,87193,236974,4301,4698,33966,391088],\"type\":\"choropleth\"},{\"colorbar\":{\"title\":{\"text\":\"# Sightings\"}},\"locationmode\":\"USA-states\",\"locations\":[\"AR\",\"CT\",\"DC\",\"DE\",\"AZ\",\"CA\",\"CO\",\"AK\",\"AL\",\"FL\",\"IA\",\"ID\",\"LA\",\"MA\",\"MD\",\"IL\",\"IN\",\"KS\",\"KY\",\"GA\",\"HI\",\"ME\",\"MN\",\"MO\",\"MS\",\"NE\",\"NH\",\"NJ\",\"MT\",\"NC\",\"ND\",\"MI\",\"NY\",\"OH\"],\"z\":[88811,3508,0,2241,23712,2089,40011,4201,144567,117798,106879,6564,122578,12279,41539,203951,273716,30027,190782,123733,20062,13365,35624,157488,87718,66884,3733,3196,16865,71293,56854,237088,30946,346872],\"type\":\"choropleth\"},{\"colorbar\":{\"title\":{\"text\":\"# Sightings\"}},\"locationmode\":\"USA-states\",\"locations\":[\"AR\",\"DC\",\"DE\",\"FL\",\"AZ\",\"CA\",\"CO\",\"CT\",\"AK\",\"AL\",\"GA\",\"IA\",\"ID\",\"IL\",\"MA\",\"MD\",\"IN\",\"KS\",\"KY\",\"LA\",\"HI\",\"ME\",\"MN\",\"MO\",\"MS\",\"NE\",\"NH\",\"MT\",\"NC\",\"ND\",\"MI\",\"NV\",\"NY\"],\"z\":[89528,0,824,126601,22592,3088,28454,1877,3895,153448,107367,75570,5782,187534,6701,41369,297304,31550,204873,96227,18656,11070,39271,149843,101095,63994,3107,14426,64147,52716,173519,10225,31872],\"type\":\"choropleth\"},{\"colorbar\":{\"title\":{\"text\":\"# Sightings\"}},\"locationmode\":\"USA-states\",\"locations\":[\"AL\",\"AR\",\"DC\",\"DE\",\"FL\",\"AZ\",\"CA\",\"CO\",\"CT\",\"AK\",\"GA\",\"IA\",\"ID\",\"MA\",\"MD\",\"IL\",\"IN\",\"KS\",\"KY\",\"LA\",\"HI\",\"ME\",\"MN\",\"MO\",\"NE\",\"NH\",\"MS\",\"MT\",\"NC\",\"ND\",\"MI\",\"NJ\",\"NV\",\"NY\"],\"z\":[128791,59518,0,820,84580,17665,1382,23933,1441,4165,73843,47955,4652,5185,34366,152825,172754,13941,134798,76462,21637,11815,30033,126127,64970,2270,36499,14599,57514,47272,150606,3666,5347,23946],\"type\":\"choropleth\"},{\"colorbar\":{\"title\":{\"text\":\"# Sightings\"}},\"locationmode\":\"USA-states\",\"locations\":[\"AR\",\"CT\",\"DC\",\"DE\",\"AZ\",\"CA\",\"CO\",\"AK\",\"AL\",\"FL\",\"IA\",\"ID\",\"LA\",\"MA\",\"MD\",\"IL\",\"IN\",\"KS\",\"KY\",\"GA\",\"HI\",\"ME\",\"MN\",\"MO\",\"MS\",\"NE\",\"NH\",\"NJ\",\"MT\",\"NC\",\"ND\",\"MI\",\"NY\",\"OH\"],\"z\":[59829,627,5,512,12942,2697,19631,3489,54246,64917,34601,4147,63572,3704,27208,107569,91624,7139,79687,58068,19602,7716,26693,102679,13403,52073,974,3104,12460,52101,47559,101950,20254,144210],\"type\":\"choropleth\"},{\"colorbar\":{\"title\":{\"text\":\"# Sightings\"}},\"locationmode\":\"USA-states\",\"locations\":[\"AL\",\"AR\",\"DC\",\"DE\",\"FL\",\"AZ\",\"CA\",\"CO\",\"CT\",\"AK\",\"IA\",\"ID\",\"IL\",\"MA\",\"MD\",\"IN\",\"KS\",\"KY\",\"LA\",\"GA\",\"HI\",\"ME\",\"MO\",\"ND\",\"NE\",\"NH\",\"MS\",\"MT\",\"NC\",\"MI\",\"MN\",\"NJ\",\"NV\",\"NY\",\"OH\",\"RI\"],\"z\":[39321,61515,0,543,59864,13358,1471,15542,735,2815,34022,4090,85753,3151,17128,64764,5558,60239,122838,52471,18755,6601,107624,41320,51358,857,12326,12893,43365,83666,23768,3148,1963,16701,120101,85],\"type\":\"choropleth\"},{\"colorbar\":{\"title\":{\"text\":\"# Sightings\"}},\"locationmode\":\"USA-states\",\"locations\":[\"AL\",\"AR\",\"DC\",\"DE\",\"FL\",\"AZ\",\"CA\",\"CO\",\"CT\",\"AK\",\"GA\",\"IA\",\"ID\",\"IL\",\"LA\",\"MA\",\"MD\",\"IN\",\"KS\",\"KY\",\"HI\",\"MN\",\"MO\",\"ND\",\"NE\",\"NH\",\"MS\",\"MT\",\"NC\",\"ME\",\"MI\",\"NJ\",\"NV\",\"NY\"],\"z\":[41236,65237,0,648,58965,16523,1458,11737,972,2887,52917,37226,4266,88237,116886,2770,20347,69234,5451,58260,16544,26453,103337,41151,59967,1484,13138,11914,40739,8053,81921,3383,3352,11853],\"type\":\"choropleth\"},{\"colorbar\":{\"title\":{\"text\":\"# Sightings\"}},\"locationmode\":\"USA-states\",\"locations\":[\"AR\",\"DC\",\"DE\",\"FL\",\"AZ\",\"CA\",\"CO\",\"CT\",\"AK\",\"AL\",\"IA\",\"ID\",\"LA\",\"MA\",\"IL\",\"IN\",\"KS\",\"KY\",\"GA\",\"HI\",\"MD\",\"MN\",\"MO\",\"MS\",\"NE\",\"NH\",\"NJ\",\"MT\",\"NC\",\"ND\",\"ME\",\"MI\",\"NV\",\"NY\",\"OH\"],\"z\":[32170,1,294,38651,8271,1534,9095,491,2441,28757,19110,3931,27489,1950,62029,38145,4010,40591,46548,17215,3507,14089,92293,12437,40513,338,2759,7457,33254,34986,6598,44831,2099,7590,92723],\"type\":\"choropleth\"}],                        {\"geo\":{\"projection\":{\"type\":\"albers usa\"},\"scope\":\"usa\"},\"sliders\":[{\"active\":0,\"pad\":{\"t\":1},\"steps\":[{\"args\":[\"visible\",[true,false,false,false,false,false,false,false,false,false,false,false,false,false,false,false,false,false,false,false,false,false,false,false,false,false,false,false,false,false]],\"label\":\"Year 1990\",\"method\":\"restyle\"},{\"args\":[\"visible\",[false,true,false,false,false,false,false,false,false,false,false,false,false,false,false,false,false,false,false,false,false,false,false,false,false,false,false,false,false,false]],\"label\":\"Year 1991\",\"method\":\"restyle\"},{\"args\":[\"visible\",[false,false,true,false,false,false,false,false,false,false,false,false,false,false,false,false,false,false,false,false,false,false,false,false,false,false,false,false,false,false]],\"label\":\"Year 1992\",\"method\":\"restyle\"},{\"args\":[\"visible\",[false,false,false,true,false,false,false,false,false,false,false,false,false,false,false,false,false,false,false,false,false,false,false,false,false,false,false,false,false,false]],\"label\":\"Year 1993\",\"method\":\"restyle\"},{\"args\":[\"visible\",[false,false,false,false,true,false,false,false,false,false,false,false,false,false,false,false,false,false,false,false,false,false,false,false,false,false,false,false,false,false]],\"label\":\"Year 1994\",\"method\":\"restyle\"},{\"args\":[\"visible\",[false,false,false,false,false,true,false,false,false,false,false,false,false,false,false,false,false,false,false,false,false,false,false,false,false,false,false,false,false,false]],\"label\":\"Year 1995\",\"method\":\"restyle\"},{\"args\":[\"visible\",[false,false,false,false,false,false,true,false,false,false,false,false,false,false,false,false,false,false,false,false,false,false,false,false,false,false,false,false,false,false]],\"label\":\"Year 1996\",\"method\":\"restyle\"},{\"args\":[\"visible\",[false,false,false,false,false,false,false,true,false,false,false,false,false,false,false,false,false,false,false,false,false,false,false,false,false,false,false,false,false,false]],\"label\":\"Year 1997\",\"method\":\"restyle\"},{\"args\":[\"visible\",[false,false,false,false,false,false,false,false,true,false,false,false,false,false,false,false,false,false,false,false,false,false,false,false,false,false,false,false,false,false]],\"label\":\"Year 1998\",\"method\":\"restyle\"},{\"args\":[\"visible\",[false,false,false,false,false,false,false,false,false,true,false,false,false,false,false,false,false,false,false,false,false,false,false,false,false,false,false,false,false,false]],\"label\":\"Year 1999\",\"method\":\"restyle\"},{\"args\":[\"visible\",[false,false,false,false,false,false,false,false,false,false,true,false,false,false,false,false,false,false,false,false,false,false,false,false,false,false,false,false,false,false]],\"label\":\"Year 2000\",\"method\":\"restyle\"},{\"args\":[\"visible\",[false,false,false,false,false,false,false,false,false,false,false,true,false,false,false,false,false,false,false,false,false,false,false,false,false,false,false,false,false,false]],\"label\":\"Year 2001\",\"method\":\"restyle\"},{\"args\":[\"visible\",[false,false,false,false,false,false,false,false,false,false,false,false,true,false,false,false,false,false,false,false,false,false,false,false,false,false,false,false,false,false]],\"label\":\"Year 2002\",\"method\":\"restyle\"},{\"args\":[\"visible\",[false,false,false,false,false,false,false,false,false,false,false,false,false,true,false,false,false,false,false,false,false,false,false,false,false,false,false,false,false,false]],\"label\":\"Year 2003\",\"method\":\"restyle\"},{\"args\":[\"visible\",[false,false,false,false,false,false,false,false,false,false,false,false,false,false,true,false,false,false,false,false,false,false,false,false,false,false,false,false,false,false]],\"label\":\"Year 2004\",\"method\":\"restyle\"},{\"args\":[\"visible\",[false,false,false,false,false,false,false,false,false,false,false,false,false,false,false,true,false,false,false,false,false,false,false,false,false,false,false,false,false,false]],\"label\":\"Year 2005\",\"method\":\"restyle\"},{\"args\":[\"visible\",[false,false,false,false,false,false,false,false,false,false,false,false,false,false,false,false,true,false,false,false,false,false,false,false,false,false,false,false,false,false]],\"label\":\"Year 2006\",\"method\":\"restyle\"},{\"args\":[\"visible\",[false,false,false,false,false,false,false,false,false,false,false,false,false,false,false,false,false,true,false,false,false,false,false,false,false,false,false,false,false,false]],\"label\":\"Year 2007\",\"method\":\"restyle\"},{\"args\":[\"visible\",[false,false,false,false,false,false,false,false,false,false,false,false,false,false,false,false,false,false,true,false,false,false,false,false,false,false,false,false,false,false]],\"label\":\"Year 2008\",\"method\":\"restyle\"},{\"args\":[\"visible\",[false,false,false,false,false,false,false,false,false,false,false,false,false,false,false,false,false,false,false,true,false,false,false,false,false,false,false,false,false,false]],\"label\":\"Year 2009\",\"method\":\"restyle\"},{\"args\":[\"visible\",[false,false,false,false,false,false,false,false,false,false,false,false,false,false,false,false,false,false,false,false,true,false,false,false,false,false,false,false,false,false]],\"label\":\"Year 2010\",\"method\":\"restyle\"},{\"args\":[\"visible\",[false,false,false,false,false,false,false,false,false,false,false,false,false,false,false,false,false,false,false,false,false,true,false,false,false,false,false,false,false,false]],\"label\":\"Year 2011\",\"method\":\"restyle\"},{\"args\":[\"visible\",[false,false,false,false,false,false,false,false,false,false,false,false,false,false,false,false,false,false,false,false,false,false,true,false,false,false,false,false,false,false]],\"label\":\"Year 2012\",\"method\":\"restyle\"},{\"args\":[\"visible\",[false,false,false,false,false,false,false,false,false,false,false,false,false,false,false,false,false,false,false,false,false,false,false,true,false,false,false,false,false,false]],\"label\":\"Year 2013\",\"method\":\"restyle\"},{\"args\":[\"visible\",[false,false,false,false,false,false,false,false,false,false,false,false,false,false,false,false,false,false,false,false,false,false,false,false,true,false,false,false,false,false]],\"label\":\"Year 2014\",\"method\":\"restyle\"},{\"args\":[\"visible\",[false,false,false,false,false,false,false,false,false,false,false,false,false,false,false,false,false,false,false,false,false,false,false,false,false,true,false,false,false,false]],\"label\":\"Year 2015\",\"method\":\"restyle\"},{\"args\":[\"visible\",[false,false,false,false,false,false,false,false,false,false,false,false,false,false,false,false,false,false,false,false,false,false,false,false,false,false,true,false,false,false]],\"label\":\"Year 2016\",\"method\":\"restyle\"},{\"args\":[\"visible\",[false,false,false,false,false,false,false,false,false,false,false,false,false,false,false,false,false,false,false,false,false,false,false,false,false,false,false,true,false,false]],\"label\":\"Year 2017\",\"method\":\"restyle\"},{\"args\":[\"visible\",[false,false,false,false,false,false,false,false,false,false,false,false,false,false,false,false,false,false,false,false,false,false,false,false,false,false,false,false,true,false]],\"label\":\"Year 2018\",\"method\":\"restyle\"},{\"args\":[\"visible\",[false,false,false,false,false,false,false,false,false,false,false,false,false,false,false,false,false,false,false,false,false,false,false,false,false,false,false,false,false,true]],\"label\":\"Year 2019\",\"method\":\"restyle\"}]}],\"template\":{\"data\":{\"barpolar\":[{\"marker\":{\"line\":{\"color\":\"#E5ECF6\",\"width\":0.5},\"pattern\":{\"fillmode\":\"overlay\",\"size\":10,\"solidity\":0.2}},\"type\":\"barpolar\"}],\"bar\":[{\"error_x\":{\"color\":\"#2a3f5f\"},\"error_y\":{\"color\":\"#2a3f5f\"},\"marker\":{\"line\":{\"color\":\"#E5ECF6\",\"width\":0.5},\"pattern\":{\"fillmode\":\"overlay\",\"size\":10,\"solidity\":0.2}},\"type\":\"bar\"}],\"carpet\":[{\"aaxis\":{\"endlinecolor\":\"#2a3f5f\",\"gridcolor\":\"white\",\"linecolor\":\"white\",\"minorgridcolor\":\"white\",\"startlinecolor\":\"#2a3f5f\"},\"baxis\":{\"endlinecolor\":\"#2a3f5f\",\"gridcolor\":\"white\",\"linecolor\":\"white\",\"minorgridcolor\":\"white\",\"startlinecolor\":\"#2a3f5f\"},\"type\":\"carpet\"}],\"choropleth\":[{\"colorbar\":{\"outlinewidth\":0,\"ticks\":\"\"},\"type\":\"choropleth\"}],\"contourcarpet\":[{\"colorbar\":{\"outlinewidth\":0,\"ticks\":\"\"},\"type\":\"contourcarpet\"}],\"contour\":[{\"colorbar\":{\"outlinewidth\":0,\"ticks\":\"\"},\"colorscale\":[[0.0,\"#0d0887\"],[0.1111111111111111,\"#46039f\"],[0.2222222222222222,\"#7201a8\"],[0.3333333333333333,\"#9c179e\"],[0.4444444444444444,\"#bd3786\"],[0.5555555555555556,\"#d8576b\"],[0.6666666666666666,\"#ed7953\"],[0.7777777777777778,\"#fb9f3a\"],[0.8888888888888888,\"#fdca26\"],[1.0,\"#f0f921\"]],\"type\":\"contour\"}],\"heatmapgl\":[{\"colorbar\":{\"outlinewidth\":0,\"ticks\":\"\"},\"colorscale\":[[0.0,\"#0d0887\"],[0.1111111111111111,\"#46039f\"],[0.2222222222222222,\"#7201a8\"],[0.3333333333333333,\"#9c179e\"],[0.4444444444444444,\"#bd3786\"],[0.5555555555555556,\"#d8576b\"],[0.6666666666666666,\"#ed7953\"],[0.7777777777777778,\"#fb9f3a\"],[0.8888888888888888,\"#fdca26\"],[1.0,\"#f0f921\"]],\"type\":\"heatmapgl\"}],\"heatmap\":[{\"colorbar\":{\"outlinewidth\":0,\"ticks\":\"\"},\"colorscale\":[[0.0,\"#0d0887\"],[0.1111111111111111,\"#46039f\"],[0.2222222222222222,\"#7201a8\"],[0.3333333333333333,\"#9c179e\"],[0.4444444444444444,\"#bd3786\"],[0.5555555555555556,\"#d8576b\"],[0.6666666666666666,\"#ed7953\"],[0.7777777777777778,\"#fb9f3a\"],[0.8888888888888888,\"#fdca26\"],[1.0,\"#f0f921\"]],\"type\":\"heatmap\"}],\"histogram2dcontour\":[{\"colorbar\":{\"outlinewidth\":0,\"ticks\":\"\"},\"colorscale\":[[0.0,\"#0d0887\"],[0.1111111111111111,\"#46039f\"],[0.2222222222222222,\"#7201a8\"],[0.3333333333333333,\"#9c179e\"],[0.4444444444444444,\"#bd3786\"],[0.5555555555555556,\"#d8576b\"],[0.6666666666666666,\"#ed7953\"],[0.7777777777777778,\"#fb9f3a\"],[0.8888888888888888,\"#fdca26\"],[1.0,\"#f0f921\"]],\"type\":\"histogram2dcontour\"}],\"histogram2d\":[{\"colorbar\":{\"outlinewidth\":0,\"ticks\":\"\"},\"colorscale\":[[0.0,\"#0d0887\"],[0.1111111111111111,\"#46039f\"],[0.2222222222222222,\"#7201a8\"],[0.3333333333333333,\"#9c179e\"],[0.4444444444444444,\"#bd3786\"],[0.5555555555555556,\"#d8576b\"],[0.6666666666666666,\"#ed7953\"],[0.7777777777777778,\"#fb9f3a\"],[0.8888888888888888,\"#fdca26\"],[1.0,\"#f0f921\"]],\"type\":\"histogram2d\"}],\"histogram\":[{\"marker\":{\"pattern\":{\"fillmode\":\"overlay\",\"size\":10,\"solidity\":0.2}},\"type\":\"histogram\"}],\"mesh3d\":[{\"colorbar\":{\"outlinewidth\":0,\"ticks\":\"\"},\"type\":\"mesh3d\"}],\"parcoords\":[{\"line\":{\"colorbar\":{\"outlinewidth\":0,\"ticks\":\"\"}},\"type\":\"parcoords\"}],\"pie\":[{\"automargin\":true,\"type\":\"pie\"}],\"scatter3d\":[{\"line\":{\"colorbar\":{\"outlinewidth\":0,\"ticks\":\"\"}},\"marker\":{\"colorbar\":{\"outlinewidth\":0,\"ticks\":\"\"}},\"type\":\"scatter3d\"}],\"scattercarpet\":[{\"marker\":{\"colorbar\":{\"outlinewidth\":0,\"ticks\":\"\"}},\"type\":\"scattercarpet\"}],\"scattergeo\":[{\"marker\":{\"colorbar\":{\"outlinewidth\":0,\"ticks\":\"\"}},\"type\":\"scattergeo\"}],\"scattergl\":[{\"marker\":{\"colorbar\":{\"outlinewidth\":0,\"ticks\":\"\"}},\"type\":\"scattergl\"}],\"scattermapbox\":[{\"marker\":{\"colorbar\":{\"outlinewidth\":0,\"ticks\":\"\"}},\"type\":\"scattermapbox\"}],\"scatterpolargl\":[{\"marker\":{\"colorbar\":{\"outlinewidth\":0,\"ticks\":\"\"}},\"type\":\"scatterpolargl\"}],\"scatterpolar\":[{\"marker\":{\"colorbar\":{\"outlinewidth\":0,\"ticks\":\"\"}},\"type\":\"scatterpolar\"}],\"scatter\":[{\"marker\":{\"colorbar\":{\"outlinewidth\":0,\"ticks\":\"\"}},\"type\":\"scatter\"}],\"scatterternary\":[{\"marker\":{\"colorbar\":{\"outlinewidth\":0,\"ticks\":\"\"}},\"type\":\"scatterternary\"}],\"surface\":[{\"colorbar\":{\"outlinewidth\":0,\"ticks\":\"\"},\"colorscale\":[[0.0,\"#0d0887\"],[0.1111111111111111,\"#46039f\"],[0.2222222222222222,\"#7201a8\"],[0.3333333333333333,\"#9c179e\"],[0.4444444444444444,\"#bd3786\"],[0.5555555555555556,\"#d8576b\"],[0.6666666666666666,\"#ed7953\"],[0.7777777777777778,\"#fb9f3a\"],[0.8888888888888888,\"#fdca26\"],[1.0,\"#f0f921\"]],\"type\":\"surface\"}],\"table\":[{\"cells\":{\"fill\":{\"color\":\"#EBF0F8\"},\"line\":{\"color\":\"white\"}},\"header\":{\"fill\":{\"color\":\"#C8D4E3\"},\"line\":{\"color\":\"white\"}},\"type\":\"table\"}]},\"layout\":{\"annotationdefaults\":{\"arrowcolor\":\"#2a3f5f\",\"arrowhead\":0,\"arrowwidth\":1},\"autotypenumbers\":\"strict\",\"coloraxis\":{\"colorbar\":{\"outlinewidth\":0,\"ticks\":\"\"}},\"colorscale\":{\"diverging\":[[0,\"#8e0152\"],[0.1,\"#c51b7d\"],[0.2,\"#de77ae\"],[0.3,\"#f1b6da\"],[0.4,\"#fde0ef\"],[0.5,\"#f7f7f7\"],[0.6,\"#e6f5d0\"],[0.7,\"#b8e186\"],[0.8,\"#7fbc41\"],[0.9,\"#4d9221\"],[1,\"#276419\"]],\"sequential\":[[0.0,\"#0d0887\"],[0.1111111111111111,\"#46039f\"],[0.2222222222222222,\"#7201a8\"],[0.3333333333333333,\"#9c179e\"],[0.4444444444444444,\"#bd3786\"],[0.5555555555555556,\"#d8576b\"],[0.6666666666666666,\"#ed7953\"],[0.7777777777777778,\"#fb9f3a\"],[0.8888888888888888,\"#fdca26\"],[1.0,\"#f0f921\"]],\"sequentialminus\":[[0.0,\"#0d0887\"],[0.1111111111111111,\"#46039f\"],[0.2222222222222222,\"#7201a8\"],[0.3333333333333333,\"#9c179e\"],[0.4444444444444444,\"#bd3786\"],[0.5555555555555556,\"#d8576b\"],[0.6666666666666666,\"#ed7953\"],[0.7777777777777778,\"#fb9f3a\"],[0.8888888888888888,\"#fdca26\"],[1.0,\"#f0f921\"]]},\"colorway\":[\"#636efa\",\"#EF553B\",\"#00cc96\",\"#ab63fa\",\"#FFA15A\",\"#19d3f3\",\"#FF6692\",\"#B6E880\",\"#FF97FF\",\"#FECB52\"],\"font\":{\"color\":\"#2a3f5f\"},\"geo\":{\"bgcolor\":\"white\",\"lakecolor\":\"white\",\"landcolor\":\"#E5ECF6\",\"showlakes\":true,\"showland\":true,\"subunitcolor\":\"white\"},\"hoverlabel\":{\"align\":\"left\"},\"hovermode\":\"closest\",\"mapbox\":{\"style\":\"light\"},\"paper_bgcolor\":\"white\",\"plot_bgcolor\":\"#E5ECF6\",\"polar\":{\"angularaxis\":{\"gridcolor\":\"white\",\"linecolor\":\"white\",\"ticks\":\"\"},\"bgcolor\":\"#E5ECF6\",\"radialaxis\":{\"gridcolor\":\"white\",\"linecolor\":\"white\",\"ticks\":\"\"}},\"scene\":{\"xaxis\":{\"backgroundcolor\":\"#E5ECF6\",\"gridcolor\":\"white\",\"gridwidth\":2,\"linecolor\":\"white\",\"showbackground\":true,\"ticks\":\"\",\"zerolinecolor\":\"white\"},\"yaxis\":{\"backgroundcolor\":\"#E5ECF6\",\"gridcolor\":\"white\",\"gridwidth\":2,\"linecolor\":\"white\",\"showbackground\":true,\"ticks\":\"\",\"zerolinecolor\":\"white\"},\"zaxis\":{\"backgroundcolor\":\"#E5ECF6\",\"gridcolor\":\"white\",\"gridwidth\":2,\"linecolor\":\"white\",\"showbackground\":true,\"ticks\":\"\",\"zerolinecolor\":\"white\"}},\"shapedefaults\":{\"line\":{\"color\":\"#2a3f5f\"}},\"ternary\":{\"aaxis\":{\"gridcolor\":\"white\",\"linecolor\":\"white\",\"ticks\":\"\"},\"baxis\":{\"gridcolor\":\"white\",\"linecolor\":\"white\",\"ticks\":\"\"},\"bgcolor\":\"#E5ECF6\",\"caxis\":{\"gridcolor\":\"white\",\"linecolor\":\"white\",\"ticks\":\"\"}},\"title\":{\"x\":0.05},\"xaxis\":{\"automargin\":true,\"gridcolor\":\"white\",\"linecolor\":\"white\",\"ticks\":\"\",\"title\":{\"standoff\":15},\"zerolinecolor\":\"white\",\"zerolinewidth\":2},\"yaxis\":{\"automargin\":true,\"gridcolor\":\"white\",\"linecolor\":\"white\",\"ticks\":\"\",\"title\":{\"standoff\":15},\"zerolinecolor\":\"white\",\"zerolinewidth\":2}}},\"title\":{\"text\":\"SO2 Emissions Statewise since 1990 to 2020\"}},                        {\"responsive\": true}                    ).then(function(){\n",
       "                            \n",
       "var gd = document.getElementById('ba880991-abfe-4191-b9be-72857ceb3840');\n",
       "var x = new MutationObserver(function (mutations, observer) {{\n",
       "        var display = window.getComputedStyle(gd).display;\n",
       "        if (!display || display === 'none') {{\n",
       "            console.log([gd, 'removed!']);\n",
       "            Plotly.purge(gd);\n",
       "            observer.disconnect();\n",
       "        }}\n",
       "}});\n",
       "\n",
       "// Listen for the removal of the full notebook cells\n",
       "var notebookContainer = gd.closest('#notebook-container');\n",
       "if (notebookContainer) {{\n",
       "    x.observe(notebookContainer, {childList: true});\n",
       "}}\n",
       "\n",
       "// Listen for the clearing of the current output cell\n",
       "var outputEl = gd.closest('.output');\n",
       "if (outputEl) {{\n",
       "    x.observe(outputEl, {childList: true});\n",
       "}}\n",
       "\n",
       "                        })                };                });            </script>        </div>"
      ]
     },
     "metadata": {},
     "output_type": "display_data"
    }
   ],
   "source": [
    "year = 1990\n",
    "\n",
    "\n",
    "# scl = [[0.0, '#ffffff'],[0.2, '#b4a8ce'],[0.4, '#8573a9'],\n",
    "#        [0.6, '#7159a3'],[0.8, '#5732a1'],[1.0, '#2c0579']] # purples\n",
    "\n",
    "data_slider = []\n",
    "for year in sorted(df['period'].unique()):\n",
    "\n",
    "    data_each_yr = dict(\n",
    "                        type='choropleth',\n",
    "                        locations = list(so2[year].keys()),\n",
    "                        z=list(so2[year].values()),\n",
    "                        locationmode='USA-states',\n",
    "                        # colorscale = scl,\n",
    "                        colorbar= {'title':'# Sightings'})\n",
    "\n",
    "    data_slider.append(data_each_yr)\n",
    "\n",
    "steps = []\n",
    "for i in range(len(data_slider)):\n",
    "    step = dict(method='restyle',\n",
    "                args=['visible', [False] * len(data_slider)],\n",
    "                label='Year {}'.format(i + 1990))\n",
    "    step['args'][1][i] = True\n",
    "    steps.append(step)\n",
    "\n",
    "sliders = [dict(active=0, pad={\"t\": 1}, steps=steps)]\n",
    "\n",
    "layout = dict(title ='SO2 Emissions Statewise since 1990 to 2020', geo=dict(scope='usa',\n",
    "                       projection={'type': 'albers usa'}),\n",
    "              sliders=sliders)\n",
    "\n",
    "fig = dict(data=data_slider, layout=layout)\n",
    "po.iplot(fig)\n"
   ]
  },
  {
   "cell_type": "markdown",
   "id": "94c4ef2c-eef9-4930-a4cb-4069bfd0f6a0",
   "metadata": {},
   "source": [
    "### NOX Emissions"
   ]
  },
  {
   "cell_type": "code",
   "execution_count": 134,
   "id": "2372aab9-fd14-4946-b06f-5684c0f39652",
   "metadata": {},
   "outputs": [],
   "source": [
    "nox = {}\n",
    "for year in df['period'].unique():\n",
    "    d = {}\n",
    "    for i in df.values:\n",
    "        if i[1] == year and i[5] == 'Total':\n",
    "            d[i[2]] = i[9]\n",
    "    nox[year] = d"
   ]
  },
  {
   "cell_type": "code",
   "execution_count": 136,
   "id": "ee413ecc-511e-40a0-8688-62e5ee488012",
   "metadata": {},
   "outputs": [
    {
     "data": {
      "text/plain": [
       "{'AR': 17459,\n",
       " 'DC': 578,\n",
       " 'DE': 1473,\n",
       " 'FL': 53264,\n",
       " 'AZ': 28101,\n",
       " 'CA': 72902,\n",
       " 'CO': 18934,\n",
       " 'CT': 6271,\n",
       " 'AK': 21774,\n",
       " 'AL': 22882,\n",
       " 'IA': 19203,\n",
       " 'ID': 4766,\n",
       " 'LA': 59819,\n",
       " 'MA': 8187,\n",
       " 'IL': 27738,\n",
       " 'IN': 60861,\n",
       " 'KS': 14877,\n",
       " 'KY': 31024,\n",
       " 'GA': 35621,\n",
       " 'HI': 16437,\n",
       " 'MD': 5995,\n",
       " 'MN': 19905,\n",
       " 'MO': 53141,\n",
       " 'MS': 17422,\n",
       " 'NE': 19988,\n",
       " 'NH': 1555,\n",
       " 'NJ': 9509,\n",
       " 'MT': 10361,\n",
       " 'NC': 41914,\n",
       " 'ND': 31359,\n",
       " 'ME': 5639,\n",
       " 'MI': 64440,\n",
       " 'NV': 10661,\n",
       " 'NY': 28459,\n",
       " 'OH': 54714}"
      ]
     },
     "execution_count": 136,
     "metadata": {},
     "output_type": "execute_result"
    }
   ],
   "source": [
    "nox[2020]"
   ]
  },
  {
   "cell_type": "code",
   "execution_count": 137,
   "id": "d6170592-e986-4701-bb9b-773abbc47d7e",
   "metadata": {},
   "outputs": [
    {
     "data": {
      "application/vnd.plotly.v1+json": {
       "config": {
        "linkText": "Export to plot.ly",
        "plotlyServerURL": "https://plot.ly",
        "showLink": false
       },
       "data": [
        {
         "colorbar": {
          "title": {
           "text": "# Sightings"
          }
         },
         "locationmode": "USA-states",
         "locations": [
          "AR",
          "CT",
          "DC",
          "DE",
          "FL",
          "AZ",
          "CA",
          "CO",
          "AK",
          "AL",
          "GA",
          "IA",
          "ID",
          "IL",
          "LA",
          "MA",
          "MD",
          "IN",
          "KS",
          "KY",
          "HI",
          "MN",
          "MO",
          "ND",
          "NE",
          "NH",
          "NJ",
          "MS",
          "MT",
          "NC",
          "ME",
          "MI",
          "NV",
          "NY"
         ],
         "type": "choropleth",
         "visible": true,
         "z": [
          120589,
          34736,
          468,
          29989,
          319261,
          164332,
          141043,
          160986,
          13847,
          240765,
          337598,
          167661,
          2951,
          370166,
          167141,
          84304,
          112841,
          539787,
          137435,
          331770,
          16411,
          177581,
          289255,
          75971,
          86093,
          21218,
          54777,
          58572,
          95035,
          223460,
          15765,
          342342,
          76103,
          212777
         ]
        },
        {
         "colorbar": {
          "title": {
           "text": "# Sightings"
          }
         },
         "locationmode": "USA-states",
         "locations": [
          "AL",
          "AR",
          "DC",
          "DE",
          "FL",
          "AZ",
          "CA",
          "CO",
          "CT",
          "AK",
          "GA",
          "IA",
          "ID",
          "IL",
          "LA",
          "MA",
          "MD",
          "IN",
          "KS",
          "KY",
          "HI",
          "MN",
          "MO",
          "ND",
          "NE",
          "NH",
          "MS",
          "MT",
          "NC",
          "ME",
          "MI",
          "NJ",
          "NV",
          "NY",
          "RI"
         ],
         "type": "choropleth",
         "visible": false,
         "z": [
          257333,
          122663,
          234,
          30840,
          343356,
          167463,
          116134,
          148268,
          34277,
          14088,
          300686,
          177648,
          2254,
          370629,
          163481,
          84444,
          105799,
          538556,
          136731,
          337695,
          12206,
          191179,
          292754,
          77187,
          83448,
          21387,
          54524,
          104229,
          225086,
          15960,
          343210,
          51590,
          82397,
          207132,
          1835
         ]
        },
        {
         "colorbar": {
          "title": {
           "text": "# Sightings"
          }
         },
         "locationmode": "USA-states",
         "locations": [
          "AL",
          "AR",
          "DC",
          "DE",
          "FL",
          "AZ",
          "CA",
          "CO",
          "CT",
          "AK",
          "GA",
          "IA",
          "ID",
          "IL",
          "MA",
          "MD",
          "IN",
          "KS",
          "KY",
          "LA",
          "HI",
          "MN",
          "MO",
          "ND",
          "NE",
          "NH",
          "MS",
          "MT",
          "NC",
          "ME",
          "MI",
          "NJ",
          "NY",
          "OH"
         ],
         "type": "choropleth",
         "visible": false,
         "z": [
          270193,
          122981,
          103,
          24490,
          343082,
          169805,
          117023,
          144459,
          26007,
          13742,
          271673,
          162940,
          3319,
          335982,
          77148,
          104734,
          526978,
          123622,
          339514,
          166014,
          14904,
          175387,
          282774,
          80237,
          75234,
          21239,
          47134,
          93054,
          256077,
          16489,
          325067,
          51165,
          196823,
          562037
         ]
        },
        {
         "colorbar": {
          "title": {
           "text": "# Sightings"
          }
         },
         "locationmode": "USA-states",
         "locations": [
          "AR",
          "CT",
          "DC",
          "DE",
          "AZ",
          "CA",
          "CO",
          "AK",
          "AL",
          "FL",
          "IA",
          "ID",
          "LA",
          "MA",
          "MD",
          "IL",
          "IN",
          "KS",
          "KY",
          "GA",
          "HI",
          "ME",
          "MN",
          "MO",
          "ND",
          "NE",
          "NH",
          "MS",
          "MT",
          "NC",
          "MI",
          "NJ",
          "NV",
          "NY"
         ],
         "type": "choropleth",
         "visible": false,
         "z": [
          103379,
          23963,
          231,
          29558,
          177137,
          107973,
          147919,
          12884,
          295180,
          349244,
          175974,
          3434,
          172944,
          62002,
          113024,
          416196,
          523404,
          161997,
          379329,
          275391,
          16241,
          17222,
          193765,
          256034,
          76109,
          87788,
          21838,
          56209,
          75399,
          277740,
          343496,
          51141,
          81610,
          173148
         ]
        },
        {
         "colorbar": {
          "title": {
           "text": "# Sightings"
          }
         },
         "locationmode": "USA-states",
         "locations": [
          "AL",
          "AR",
          "DC",
          "DE",
          "FL",
          "AZ",
          "CA",
          "CO",
          "CT",
          "AK",
          "IA",
          "ID",
          "IL",
          "MA",
          "MD",
          "IN",
          "KS",
          "KY",
          "LA",
          "GA",
          "HI",
          "MN",
          "MO",
          "ND",
          "NE",
          "NH",
          "MS",
          "MT",
          "NC",
          "ME",
          "MI",
          "NJ",
          "NV",
          "NY",
          "RI"
         ],
         "type": "choropleth",
         "visible": false,
         "z": [
          263007,
          113096,
          304,
          27187,
          348620,
          182763,
          119437,
          153256,
          22447,
          13187,
          170761,
          3200,
          418727,
          53664,
          108600,
          523002,
          161876,
          350082,
          167169,
          268404,
          16718,
          190274,
          283974,
          73180,
          85512,
          21783,
          59758,
          90844,
          249201,
          15522,
          353048,
          49067,
          84925,
          160048,
          2593
         ]
        },
        {
         "colorbar": {
          "title": {
           "text": "# Sightings"
          }
         },
         "locationmode": "USA-states",
         "locations": [
          "AL",
          "AR",
          "DC",
          "DE",
          "FL",
          "AZ",
          "CA",
          "CO",
          "CT",
          "AK",
          "GA",
          "IA",
          "ID",
          "IL",
          "MA",
          "MD",
          "IN",
          "KS",
          "KY",
          "LA",
          "HI",
          "MN",
          "MO",
          "ND",
          "NE",
          "NH",
          "MS",
          "MT",
          "NC",
          "ME",
          "MI",
          "NJ",
          "NV",
          "NY",
          "RI"
         ],
         "type": "choropleth",
         "visible": false,
         "z": [
          231733,
          56393,
          491,
          22199,
          351971,
          77798,
          155927,
          95789,
          19281,
          20865,
          204324,
          98726,
          3478,
          284852,
          58490,
          104889,
          371239,
          88743,
          365619,
          146041,
          29741,
          103290,
          185134,
          115287,
          49476,
          29120,
          57243,
          35382,
          289772,
          20167,
          199795,
          71283,
          46924,
          187359,
          6559
         ]
        },
        {
         "colorbar": {
          "title": {
           "text": "# Sightings"
          }
         },
         "locationmode": "USA-states",
         "locations": [
          "AL",
          "AR",
          "DC",
          "DE",
          "FL",
          "AZ",
          "CA",
          "CO",
          "CT",
          "AK",
          "GA",
          "IA",
          "ID",
          "IL",
          "MA",
          "MD",
          "IN",
          "KS",
          "KY",
          "LA",
          "HI",
          "ME",
          "MO",
          "ND",
          "NE",
          "NH",
          "MS",
          "MT",
          "NC",
          "MI",
          "MN",
          "NJ",
          "NV",
          "NY",
          "OH",
          "RI"
         ],
         "type": "choropleth",
         "visible": false,
         "z": [
          250568,
          64212,
          206,
          21365,
          358537,
          76203,
          136044,
          95850,
          24197,
          21603,
          198401,
          93706,
          3364,
          308892,
          56488,
          117844,
          392139,
          98791,
          372464,
          148058,
          30375,
          19332,
          193008,
          109293,
          49667,
          20887,
          57754,
          30106,
          308598,
          222119,
          103754,
          63951,
          50419,
          122107,
          590418,
          8322
         ]
        },
        {
         "colorbar": {
          "title": {
           "text": "# Sightings"
          }
         },
         "locationmode": "USA-states",
         "locations": [
          "AL",
          "AR",
          "DC",
          "DE",
          "FL",
          "AZ",
          "CA",
          "CO",
          "CT",
          "AK",
          "GA",
          "IA",
          "ID",
          "LA",
          "MA",
          "MD",
          "IL",
          "IN",
          "KS",
          "KY",
          "HI",
          "ME",
          "MN",
          "MO",
          "NE",
          "NH",
          "NJ",
          "MS",
          "MT",
          "NC",
          "ND",
          "MI",
          "NV",
          "NY",
          "OH"
         ],
         "type": "choropleth",
         "visible": false,
         "z": [
          238916,
          56063,
          259,
          20214,
          352217,
          83571,
          146917,
          91515,
          30649,
          22108,
          210102,
          90407,
          3831,
          149152,
          68642,
          116831,
          344180,
          402149,
          85969,
          361167,
          30032,
          19271,
          108643,
          203054,
          49273,
          23970,
          70012,
          61003,
          39462,
          309166,
          95154,
          227081,
          49966,
          140794,
          554671
         ]
        },
        {
         "colorbar": {
          "title": {
           "text": "# Sightings"
          }
         },
         "locationmode": "USA-states",
         "locations": [
          "AL",
          "AR",
          "DC",
          "DE",
          "FL",
          "AZ",
          "CA",
          "CO",
          "CT",
          "AK",
          "IA",
          "ID",
          "IL",
          "LA",
          "MA",
          "MD",
          "IN",
          "KS",
          "KY",
          "GA",
          "HI",
          "ME",
          "MN",
          "MO",
          "MS",
          "NE",
          "NH",
          "MT",
          "NC",
          "ND",
          "MI",
          "NJ",
          "NV",
          "NY",
          "OH"
         ],
         "type": "choropleth",
         "visible": false,
         "z": [
          230181,
          59041,
          660,
          16209,
          389718,
          90537,
          148200,
          86820,
          29511,
          20143,
          97622,
          4196,
          327871,
          168673,
          67189,
          128371,
          385608,
          85250,
          319867,
          209507,
          30521,
          20375,
          105308,
          217802,
          69349,
          51175,
          19659,
          44371,
          275493,
          99713,
          253678,
          66904,
          52863,
          148055,
          532562
         ]
        },
        {
         "colorbar": {
          "title": {
           "text": "# Sightings"
          }
         },
         "locationmode": "USA-states",
         "locations": [
          "AL",
          "AR",
          "CT",
          "DC",
          "DE",
          "FL",
          "AZ",
          "CA",
          "CO",
          "AK",
          "IA",
          "ID",
          "LA",
          "MA",
          "MD",
          "IL",
          "IN",
          "KS",
          "KY",
          "GA",
          "HI",
          "ME",
          "MN",
          "MO",
          "MS",
          "NE",
          "NH",
          "NJ",
          "MT",
          "NC",
          "ND",
          "MI",
          "NY",
          "OH"
         ],
         "type": "choropleth",
         "visible": false,
         "z": [
          217281,
          62095,
          19762,
          666,
          14910,
          365983,
          92121,
          151128,
          79030,
          21336,
          95156,
          4247,
          168658,
          51175,
          115787,
          310287,
          368709,
          92447,
          307483,
          208186,
          30829,
          22434,
          99415,
          192116,
          69920,
          45887,
          17599,
          43671,
          45536,
          226990,
          85568,
          220927,
          117802,
          443258
         ]
        },
        {
         "colorbar": {
          "title": {
           "text": "# Sightings"
          }
         },
         "locationmode": "USA-states",
         "locations": [
          "AR",
          "CT",
          "DC",
          "DE",
          "AZ",
          "CA",
          "CO",
          "AK",
          "AL",
          "FL",
          "IA",
          "ID",
          "LA",
          "MA",
          "MD",
          "IL",
          "IN",
          "KS",
          "KY",
          "GA",
          "HI",
          "ME",
          "MN",
          "MO",
          "ND",
          "NE",
          "NH",
          "MS",
          "MT",
          "NC",
          "MI",
          "NJ",
          "NV",
          "NY"
         ],
         "type": "choropleth",
         "visible": false,
         "z": [
          63154,
          20747,
          395,
          13675,
          103548,
          160314,
          81087,
          20006,
          213466,
          343677,
          93877,
          3889,
          165807,
          48411,
          89029,
          261073,
          353397,
          94988,
          247173,
          217292,
          28788,
          21158,
          103959,
          164448,
          80318,
          44636,
          14302,
          70866,
          39666,
          187748,
          200376,
          48050,
          51703,
          123655
         ]
        },
        {
         "colorbar": {
          "title": {
           "text": "# Sightings"
          }
         },
         "locationmode": "USA-states",
         "locations": [
          "AR",
          "DC",
          "DE",
          "FL",
          "AZ",
          "CA",
          "CO",
          "CT",
          "AK",
          "AL",
          "IA",
          "ID",
          "IL",
          "LA",
          "MA",
          "MD",
          "IN",
          "KS",
          "KY",
          "GA",
          "HI",
          "MN",
          "MO",
          "ND",
          "NE",
          "NH",
          "MS",
          "MT",
          "NC",
          "ME",
          "MI",
          "NV",
          "NY"
         ],
         "type": "choropleth",
         "visible": false,
         "z": [
          55409,
          346,
          14224,
          329949,
          97961,
          117977,
          80608,
          17110,
          19362,
          189002,
          87525,
          2129,
          225929,
          138789,
          44291,
          85475,
          328453,
          87100,
          232657,
          190110,
          29438,
          93901,
          148940,
          80649,
          49748,
          10343,
          65014,
          43667,
          168096,
          17162,
          182584,
          48172,
          106420
         ]
        },
        {
         "colorbar": {
          "title": {
           "text": "# Sightings"
          }
         },
         "locationmode": "USA-states",
         "locations": [
          "AL",
          "AR",
          "DC",
          "DE",
          "FL",
          "AZ",
          "CA",
          "CO",
          "CT",
          "AK",
          "IA",
          "ID",
          "IL",
          "LA",
          "MA",
          "MD",
          "IN",
          "KS",
          "KY",
          "GA",
          "HI",
          "ME",
          "MO",
          "ND",
          "NE",
          "NH",
          "MS",
          "MT",
          "NC",
          "MI",
          "MN",
          "NJ",
          "NV",
          "NY",
          "OH"
         ],
         "type": "choropleth",
         "visible": false,
         "z": [
          181397,
          50043,
          651,
          12645,
          295912,
          91160,
          98947,
          79898,
          11175,
          20827,
          88539,
          3806,
          197312,
          121558,
          42674,
          80402,
          296654,
          97592,
          201703,
          175390,
          35447,
          12803,
          143212,
          77608,
          49043,
          10320,
          51276,
          37088,
          167272,
          167605,
          97939,
          43363,
          47500,
          100423,
          383048
         ]
        },
        {
         "colorbar": {
          "title": {
           "text": "# Sightings"
          }
         },
         "locationmode": "USA-states",
         "locations": [
          "AR",
          "CT",
          "DC",
          "DE",
          "FL",
          "AZ",
          "CA",
          "CO",
          "AK",
          "AL",
          "ID",
          "IL",
          "LA",
          "MA",
          "IN",
          "KS",
          "KY",
          "GA",
          "HI",
          "IA",
          "MD",
          "MN",
          "MO",
          "ND",
          "NE",
          "NH",
          "NJ",
          "MS",
          "MT",
          "NC",
          "ME",
          "MI",
          "NV",
          "NY"
         ],
         "type": "choropleth",
         "visible": false,
         "z": [
          53986,
          11075,
          213,
          14528,
          288730,
          91255,
          116947,
          79824,
          17291,
          167893,
          3638,
          166065,
          127084,
          41280,
          283401,
          97276,
          186066,
          132537,
          30898,
          87336,
          77567,
          106786,
          148432,
          77776,
          52763,
          14323,
          38293,
          52760,
          38562,
          150437,
          14406,
          147710,
          46176,
          95144
         ]
        },
        {
         "colorbar": {
          "title": {
           "text": "# Sightings"
          }
         },
         "locationmode": "USA-states",
         "locations": [
          "AR",
          "CT",
          "DC",
          "DE",
          "AZ",
          "CA",
          "CO",
          "AK",
          "AL",
          "FL",
          "IA",
          "ID",
          "LA",
          "MA",
          "MD",
          "IL",
          "IN",
          "KS",
          "KY",
          "GA",
          "HI",
          "ME",
          "MN",
          "MO",
          "NE",
          "NH",
          "MS",
          "MT",
          "NC",
          "ND",
          "MI",
          "NJ",
          "NY",
          "OH"
         ],
         "type": "choropleth",
         "visible": false,
         "z": [
          48796,
          10243,
          187,
          14322,
          86019,
          108282,
          73750,
          27424,
          150283,
          276049,
          87399,
          4146,
          117386,
          36473,
          72145,
          164202,
          238395,
          94189,
          166686,
          126596,
          32459,
          13676,
          101489,
          128778,
          50366,
          12862,
          55071,
          39059,
          127812,
          80182,
          136977,
          37876,
          93379,
          276820
         ]
        },
        {
         "colorbar": {
          "title": {
           "text": "# Sightings"
          }
         },
         "locationmode": "USA-states",
         "locations": [
          "AR",
          "CT",
          "DC",
          "DE",
          "FL",
          "AZ",
          "CA",
          "CO",
          "AK",
          "AL",
          "GA",
          "IA",
          "ID",
          "MA",
          "MD",
          "IL",
          "IN",
          "KS",
          "KY",
          "LA",
          "HI",
          "ME",
          "MN",
          "MO",
          "MS",
          "NE",
          "NH",
          "NJ",
          "MT",
          "NC",
          "ND",
          "MI",
          "NY",
          "OH"
         ],
         "type": "choropleth",
         "visible": false,
         "z": [
          48686,
          11596,
          751,
          14950,
          250478,
          82709,
          95062,
          73874,
          18514,
          144620,
          138390,
          82375,
          2413,
          33980,
          70306,
          144657,
          225371,
          90507,
          167445,
          105692,
          32680,
          12823,
          94529,
          127203,
          47993,
          64358,
          12322,
          38418,
          41663,
          117608,
          77543,
          136048,
          90812,
          262672
         ]
        },
        {
         "colorbar": {
          "title": {
           "text": "# Sightings"
          }
         },
         "locationmode": "USA-states",
         "locations": [
          "AL",
          "AR",
          "CT",
          "DC",
          "DE",
          "AZ",
          "CA",
          "CO",
          "AK",
          "FL",
          "ID",
          "LA",
          "MA",
          "MD",
          "IL",
          "IN",
          "KS",
          "KY",
          "GA",
          "HI",
          "IA",
          "ME",
          "MN",
          "MO",
          "NE",
          "NH",
          "MS",
          "MT",
          "NC",
          "ND",
          "MI",
          "NJ",
          "NY",
          "OH"
         ],
         "type": "choropleth",
         "visible": false,
         "z": [
          134785,
          42139,
          9869,
          396,
          12398,
          82675,
          99866,
          72312,
          19867,
          233266,
          2194,
          98728,
          24616,
          68413,
          134848,
          222141,
          81584,
          173937,
          143426,
          31726,
          70644,
          11389,
          93915,
          118593,
          67577,
          10088,
          49989,
          41780,
          110281,
          75022,
          124658,
          31060,
          70596,
          247267
         ]
        },
        {
         "colorbar": {
          "title": {
           "text": "# Sightings"
          }
         },
         "locationmode": "USA-states",
         "locations": [
          "AR",
          "CT",
          "DC",
          "DE",
          "AZ",
          "CA",
          "CO",
          "AK",
          "AL",
          "FL",
          "IA",
          "ID",
          "LA",
          "MA",
          "MD",
          "IL",
          "IN",
          "KS",
          "KY",
          "GA",
          "HI",
          "ME",
          "MN",
          "MO",
          "NE",
          "NH",
          "MS",
          "MT",
          "NC",
          "ND",
          "MI",
          "NJ",
          "NY",
          "OH"
         ],
         "type": "choropleth",
         "visible": false,
         "z": [
          45199,
          9342,
          202,
          14169,
          86773,
          97629,
          73445,
          18965,
          133253,
          223602,
          64189,
          4073,
          96471,
          21992,
          60098,
          132169,
          214809,
          70939,
          177272,
          137819,
          25423,
          11227,
          92979,
          109853,
          43190,
          7311,
          53846,
          44118,
          66840,
          72930,
          129473,
          23445,
          66600,
          250263
         ]
        },
        {
         "colorbar": {
          "title": {
           "text": "# Sightings"
          }
         },
         "locationmode": "USA-states",
         "locations": [
          "CT",
          "DC",
          "DE",
          "AR",
          "AZ",
          "CA",
          "CO",
          "AK",
          "AL",
          "FL",
          "IA",
          "ID",
          "LA",
          "MA",
          "MD",
          "IL",
          "IN",
          "KS",
          "KY",
          "GA",
          "HI",
          "ME",
          "MN",
          "MO",
          "MS",
          "NE",
          "NH",
          "NJ",
          "MT",
          "NC",
          "ND",
          "MI",
          "NY",
          "OH"
         ],
         "type": "choropleth",
         "visible": false,
         "z": [
          8223,
          198,
          12621,
          44642,
          80908,
          90940,
          69098,
          16236,
          122060,
          187626,
          78792,
          3526,
          81610,
          20868,
          45545,
          133942,
          210105,
          54377,
          160732,
          131011,
          23831,
          11833,
          76532,
          91361,
          46392,
          45362,
          6868,
          22271,
          30555,
          65683,
          69972,
          126909,
          56636,
          244809
         ]
        },
        {
         "colorbar": {
          "title": {
           "text": "# Sightings"
          }
         },
         "locationmode": "USA-states",
         "locations": [
          "AR",
          "CT",
          "DC",
          "DE",
          "FL",
          "AZ",
          "CA",
          "CO",
          "AK",
          "AL",
          "GA",
          "IA",
          "ID",
          "IL",
          "LA",
          "MA",
          "IN",
          "KS",
          "KY",
          "HI",
          "MD",
          "ME",
          "MN",
          "MO",
          "NE",
          "NH",
          "MS",
          "MT",
          "NC",
          "ND",
          "MI",
          "NJ",
          "NY",
          "OH"
         ],
         "type": "choropleth",
         "visible": false,
         "z": [
          40867,
          7144,
          144,
          6411,
          127680,
          67919,
          91707,
          59851,
          18581,
          57962,
          81433,
          49714,
          2218,
          85857,
          76245,
          18372,
          122261,
          50486,
          81458,
          24734,
          25792,
          13661,
          54249,
          56837,
          48613,
          6051,
          30270,
          22637,
          48773,
          65027,
          100608,
          15345,
          48605,
          121485
         ]
        },
        {
         "colorbar": {
          "title": {
           "text": "# Sightings"
          }
         },
         "locationmode": "USA-states",
         "locations": [
          "AL",
          "AR",
          "CT",
          "DC",
          "DE",
          "AZ",
          "CA",
          "CO",
          "AK",
          "FL",
          "IA",
          "ID",
          "LA",
          "MA",
          "MD",
          "IL",
          "IN",
          "KS",
          "KY",
          "GA",
          "HI",
          "ME",
          "MO",
          "ND",
          "NE",
          "NH",
          "MS",
          "MT",
          "NC",
          "MI",
          "MN",
          "NJ",
          "NV",
          "NY",
          "OH"
         ],
         "type": "choropleth",
         "visible": false,
         "z": [
          72961,
          44633,
          7820,
          403,
          5308,
          63106,
          87728,
          60700,
          17663,
          111097,
          55072,
          4556,
          83110,
          19079,
          27441,
          91011,
          132757,
          50647,
          93539,
          87387,
          23030,
          9269,
          61858,
          57329,
          44127,
          6906,
          33736,
          23367,
          63278,
          97958,
          48792,
          16528,
          16830,
          48559,
          134960
         ]
        },
        {
         "colorbar": {
          "title": {
           "text": "# Sightings"
          }
         },
         "locationmode": "USA-states",
         "locations": [
          "AR",
          "CT",
          "DC",
          "DE",
          "AZ",
          "CA",
          "CO",
          "AK",
          "AL",
          "FL",
          "IA",
          "ID",
          "LA",
          "MA",
          "MD",
          "IL",
          "IN",
          "KS",
          "KY",
          "GA",
          "HI",
          "ME",
          "MN",
          "MO",
          "NE",
          "NH",
          "MS",
          "MT",
          "NC",
          "ND",
          "MI",
          "NJ",
          "NY",
          "RI"
         ],
         "type": "choropleth",
         "visible": false,
         "z": [
          45571,
          6767,
          409,
          4617,
          58185,
          89685,
          56284,
          19036,
          71339,
          91425,
          48719,
          3195,
          85629,
          15498,
          27904,
          80513,
          132055,
          45185,
          93814,
          82833,
          22087,
          8781,
          45645,
          66962,
          45573,
          5690,
          28984,
          19144,
          55135,
          53125,
          90365,
          14477,
          46995,
          2931
         ]
        },
        {
         "colorbar": {
          "title": {
           "text": "# Sightings"
          }
         },
         "locationmode": "USA-states",
         "locations": [
          "CT",
          "DC",
          "DE",
          "FL",
          "AR",
          "AZ",
          "CA",
          "CO",
          "AK",
          "AL",
          "GA",
          "IA",
          "ID",
          "MA",
          "MD",
          "IL",
          "IN",
          "KS",
          "KY",
          "LA",
          "HI",
          "ME",
          "MN",
          "MO",
          "MS",
          "NE",
          "NH",
          "MT",
          "NC",
          "ND",
          "MI",
          "NJ",
          "NV",
          "NY",
          "OH"
         ],
         "type": "choropleth",
         "visible": false,
         "z": [
          12954,
          225,
          3131,
          92511,
          42160,
          50391,
          92566,
          49591,
          18746,
          56459,
          55229,
          45892,
          4795,
          15294,
          23976,
          67178,
          118315,
          35887,
          82593,
          82627,
          20861,
          7296,
          39509,
          73227,
          25853,
          31696,
          4387,
          17669,
          58633,
          50648,
          89094,
          14989,
          13229,
          44395,
          100300
         ]
        },
        {
         "colorbar": {
          "title": {
           "text": "# Sightings"
          }
         },
         "locationmode": "USA-states",
         "locations": [
          "AR",
          "CT",
          "DC",
          "DE",
          "AZ",
          "CA",
          "CO",
          "AK",
          "AL",
          "FL",
          "IA",
          "ID",
          "LA",
          "MA",
          "MD",
          "IL",
          "IN",
          "KS",
          "KY",
          "GA",
          "HI",
          "ME",
          "MN",
          "MO",
          "MS",
          "NE",
          "NH",
          "NJ",
          "MT",
          "NC",
          "ND",
          "MI",
          "NY",
          "OH"
         ],
         "type": "choropleth",
         "visible": false,
         "z": [
          45896,
          9035,
          148,
          2585,
          56303,
          85885,
          49413,
          17602,
          56753,
          87705,
          44605,
          7498,
          82286,
          15150,
          21995,
          63162,
          121309,
          30860,
          87201,
          55462,
          23767,
          9607,
          36780,
          77995,
          24489,
          31505,
          5057,
          15022,
          21789,
          62397,
          48454,
          85255,
          44580,
          101994
         ]
        },
        {
         "colorbar": {
          "title": {
           "text": "# Sightings"
          }
         },
         "locationmode": "USA-states",
         "locations": [
          "AR",
          "DC",
          "DE",
          "FL",
          "AZ",
          "CA",
          "CO",
          "CT",
          "AK",
          "AL",
          "GA",
          "IA",
          "ID",
          "IL",
          "MA",
          "MD",
          "IN",
          "KS",
          "KY",
          "LA",
          "HI",
          "ME",
          "MN",
          "MO",
          "MS",
          "NE",
          "NH",
          "MT",
          "NC",
          "ND",
          "MI",
          "NV",
          "NY"
         ],
         "type": "choropleth",
         "visible": false,
         "z": [
          47048,
          147,
          2836,
          90695,
          53230,
          81445,
          44326,
          8388,
          15858,
          62283,
          58339,
          41932,
          20225,
          57906,
          13829,
          20626,
          127230,
          29014,
          89253,
          76797,
          19960,
          8679,
          38185,
          77721,
          23995,
          27045,
          3886,
          20538,
          60688,
          48711,
          77156,
          15985,
          44185
         ]
        },
        {
         "colorbar": {
          "title": {
           "text": "# Sightings"
          }
         },
         "locationmode": "USA-states",
         "locations": [
          "AL",
          "AR",
          "DC",
          "DE",
          "FL",
          "AZ",
          "CA",
          "CO",
          "CT",
          "AK",
          "GA",
          "IA",
          "ID",
          "MA",
          "MD",
          "IL",
          "IN",
          "KS",
          "KY",
          "LA",
          "HI",
          "ME",
          "MN",
          "MO",
          "NE",
          "NH",
          "MS",
          "MT",
          "NC",
          "ND",
          "MI",
          "NJ",
          "NV",
          "NY"
         ],
         "type": "choropleth",
         "visible": false,
         "z": [
          56497,
          31628,
          250,
          2418,
          83967,
          47491,
          80195,
          38449,
          7610,
          21205,
          53081,
          33754,
          13731,
          12581,
          16016,
          46260,
          107207,
          20648,
          67982,
          77745,
          19178,
          8963,
          30601,
          48660,
          25759,
          3180,
          16116,
          20726,
          56493,
          46092,
          67695,
          12965,
          10895,
          38918
         ]
        },
        {
         "colorbar": {
          "title": {
           "text": "# Sightings"
          }
         },
         "locationmode": "USA-states",
         "locations": [
          "AR",
          "CT",
          "DC",
          "DE",
          "AZ",
          "CA",
          "CO",
          "AK",
          "AL",
          "FL",
          "IA",
          "ID",
          "LA",
          "MA",
          "MD",
          "IL",
          "IN",
          "KS",
          "KY",
          "GA",
          "HI",
          "ME",
          "MN",
          "MO",
          "MS",
          "NE",
          "NH",
          "NJ",
          "MT",
          "NC",
          "ND",
          "MI",
          "NY",
          "OH"
         ],
         "type": "choropleth",
         "visible": false,
         "z": [
          33752,
          6627,
          375,
          2153,
          40090,
          76219,
          31869,
          23212,
          38824,
          77678,
          29083,
          5190,
          73198,
          11366,
          14453,
          39401,
          98449,
          19016,
          60201,
          47239,
          17955,
          6696,
          27953,
          59153,
          16412,
          22116,
          2408,
          12887,
          17754,
          52715,
          39237,
          57819,
          35468,
          71575
         ]
        },
        {
         "colorbar": {
          "title": {
           "text": "# Sightings"
          }
         },
         "locationmode": "USA-states",
         "locations": [
          "AL",
          "AR",
          "DC",
          "DE",
          "FL",
          "AZ",
          "CA",
          "CO",
          "CT",
          "AK",
          "IA",
          "ID",
          "IL",
          "MA",
          "MD",
          "IN",
          "KS",
          "KY",
          "LA",
          "GA",
          "HI",
          "ME",
          "MO",
          "ND",
          "NE",
          "NH",
          "MS",
          "MT",
          "NC",
          "MI",
          "MN",
          "NJ",
          "NV",
          "NY",
          "OH",
          "RI"
         ],
         "type": "choropleth",
         "visible": false,
         "z": [
          32137,
          34166,
          326,
          1745,
          76754,
          38631,
          75546,
          27432,
          6591,
          23003,
          29864,
          5316,
          39762,
          9876,
          11767,
          77467,
          17199,
          48625,
          78228,
          45753,
          17761,
          6686,
          52184,
          34754,
          22209,
          2174,
          15835,
          16705,
          54236,
          55504,
          27855,
          10748,
          9634,
          31408,
          72083,
          1991
         ]
        },
        {
         "colorbar": {
          "title": {
           "text": "# Sightings"
          }
         },
         "locationmode": "USA-states",
         "locations": [
          "AL",
          "AR",
          "DC",
          "DE",
          "FL",
          "AZ",
          "CA",
          "CO",
          "CT",
          "AK",
          "GA",
          "IA",
          "ID",
          "IL",
          "LA",
          "MA",
          "MD",
          "IN",
          "KS",
          "KY",
          "HI",
          "MN",
          "MO",
          "ND",
          "NE",
          "NH",
          "MS",
          "MT",
          "NC",
          "ME",
          "MI",
          "NJ",
          "NV",
          "NY"
         ],
         "type": "choropleth",
         "visible": false,
         "z": [
          34801,
          28885,
          373,
          1733,
          64598,
          41891,
          74011,
          21409,
          6668,
          20893,
          47390,
          31738,
          4673,
          40696,
          83398,
          9317,
          13006,
          82569,
          19170,
          49908,
          17569,
          29498,
          52841,
          35305,
          24227,
          2758,
          16828,
          18152,
          54288,
          6573,
          57402,
          11107,
          11241,
          31898
         ]
        },
        {
         "colorbar": {
          "title": {
           "text": "# Sightings"
          }
         },
         "locationmode": "USA-states",
         "locations": [
          "AR",
          "DC",
          "DE",
          "FL",
          "AZ",
          "CA",
          "CO",
          "CT",
          "AK",
          "AL",
          "IA",
          "ID",
          "LA",
          "MA",
          "IL",
          "IN",
          "KS",
          "KY",
          "GA",
          "HI",
          "MD",
          "MN",
          "MO",
          "MS",
          "NE",
          "NH",
          "NJ",
          "MT",
          "NC",
          "ND",
          "ME",
          "MI",
          "NV",
          "NY",
          "OH"
         ],
         "type": "choropleth",
         "visible": false,
         "z": [
          17459,
          578,
          1473,
          53264,
          28101,
          72902,
          18934,
          6271,
          21774,
          22882,
          19203,
          4766,
          59819,
          8187,
          27738,
          60861,
          14877,
          31024,
          35621,
          16437,
          5995,
          19905,
          53141,
          17422,
          19988,
          1555,
          9509,
          10361,
          41914,
          31359,
          5639,
          64440,
          10661,
          28459,
          54714
         ]
        }
       ],
       "layout": {
        "autosize": true,
        "geo": {
         "projection": {
          "type": "albers usa"
         },
         "scope": "usa"
        },
        "sliders": [
         {
          "active": 0,
          "pad": {
           "t": 1
          },
          "steps": [
           {
            "args": [
             "visible",
             [
              true,
              false,
              false,
              false,
              false,
              false,
              false,
              false,
              false,
              false,
              false,
              false,
              false,
              false,
              false,
              false,
              false,
              false,
              false,
              false,
              false,
              false,
              false,
              false,
              false,
              false,
              false,
              false,
              false,
              false
             ]
            ],
            "label": "Year 1990",
            "method": "restyle"
           },
           {
            "args": [
             "visible",
             [
              false,
              true,
              false,
              false,
              false,
              false,
              false,
              false,
              false,
              false,
              false,
              false,
              false,
              false,
              false,
              false,
              false,
              false,
              false,
              false,
              false,
              false,
              false,
              false,
              false,
              false,
              false,
              false,
              false,
              false
             ]
            ],
            "label": "Year 1991",
            "method": "restyle"
           },
           {
            "args": [
             "visible",
             [
              false,
              false,
              true,
              false,
              false,
              false,
              false,
              false,
              false,
              false,
              false,
              false,
              false,
              false,
              false,
              false,
              false,
              false,
              false,
              false,
              false,
              false,
              false,
              false,
              false,
              false,
              false,
              false,
              false,
              false
             ]
            ],
            "label": "Year 1992",
            "method": "restyle"
           },
           {
            "args": [
             "visible",
             [
              false,
              false,
              false,
              true,
              false,
              false,
              false,
              false,
              false,
              false,
              false,
              false,
              false,
              false,
              false,
              false,
              false,
              false,
              false,
              false,
              false,
              false,
              false,
              false,
              false,
              false,
              false,
              false,
              false,
              false
             ]
            ],
            "label": "Year 1993",
            "method": "restyle"
           },
           {
            "args": [
             "visible",
             [
              false,
              false,
              false,
              false,
              true,
              false,
              false,
              false,
              false,
              false,
              false,
              false,
              false,
              false,
              false,
              false,
              false,
              false,
              false,
              false,
              false,
              false,
              false,
              false,
              false,
              false,
              false,
              false,
              false,
              false
             ]
            ],
            "label": "Year 1994",
            "method": "restyle"
           },
           {
            "args": [
             "visible",
             [
              false,
              false,
              false,
              false,
              false,
              true,
              false,
              false,
              false,
              false,
              false,
              false,
              false,
              false,
              false,
              false,
              false,
              false,
              false,
              false,
              false,
              false,
              false,
              false,
              false,
              false,
              false,
              false,
              false,
              false
             ]
            ],
            "label": "Year 1995",
            "method": "restyle"
           },
           {
            "args": [
             "visible",
             [
              false,
              false,
              false,
              false,
              false,
              false,
              true,
              false,
              false,
              false,
              false,
              false,
              false,
              false,
              false,
              false,
              false,
              false,
              false,
              false,
              false,
              false,
              false,
              false,
              false,
              false,
              false,
              false,
              false,
              false
             ]
            ],
            "label": "Year 1996",
            "method": "restyle"
           },
           {
            "args": [
             "visible",
             [
              false,
              false,
              false,
              false,
              false,
              false,
              false,
              true,
              false,
              false,
              false,
              false,
              false,
              false,
              false,
              false,
              false,
              false,
              false,
              false,
              false,
              false,
              false,
              false,
              false,
              false,
              false,
              false,
              false,
              false
             ]
            ],
            "label": "Year 1997",
            "method": "restyle"
           },
           {
            "args": [
             "visible",
             [
              false,
              false,
              false,
              false,
              false,
              false,
              false,
              false,
              true,
              false,
              false,
              false,
              false,
              false,
              false,
              false,
              false,
              false,
              false,
              false,
              false,
              false,
              false,
              false,
              false,
              false,
              false,
              false,
              false,
              false
             ]
            ],
            "label": "Year 1998",
            "method": "restyle"
           },
           {
            "args": [
             "visible",
             [
              false,
              false,
              false,
              false,
              false,
              false,
              false,
              false,
              false,
              true,
              false,
              false,
              false,
              false,
              false,
              false,
              false,
              false,
              false,
              false,
              false,
              false,
              false,
              false,
              false,
              false,
              false,
              false,
              false,
              false
             ]
            ],
            "label": "Year 1999",
            "method": "restyle"
           },
           {
            "args": [
             "visible",
             [
              false,
              false,
              false,
              false,
              false,
              false,
              false,
              false,
              false,
              false,
              true,
              false,
              false,
              false,
              false,
              false,
              false,
              false,
              false,
              false,
              false,
              false,
              false,
              false,
              false,
              false,
              false,
              false,
              false,
              false
             ]
            ],
            "label": "Year 2000",
            "method": "restyle"
           },
           {
            "args": [
             "visible",
             [
              false,
              false,
              false,
              false,
              false,
              false,
              false,
              false,
              false,
              false,
              false,
              true,
              false,
              false,
              false,
              false,
              false,
              false,
              false,
              false,
              false,
              false,
              false,
              false,
              false,
              false,
              false,
              false,
              false,
              false
             ]
            ],
            "label": "Year 2001",
            "method": "restyle"
           },
           {
            "args": [
             "visible",
             [
              false,
              false,
              false,
              false,
              false,
              false,
              false,
              false,
              false,
              false,
              false,
              false,
              true,
              false,
              false,
              false,
              false,
              false,
              false,
              false,
              false,
              false,
              false,
              false,
              false,
              false,
              false,
              false,
              false,
              false
             ]
            ],
            "label": "Year 2002",
            "method": "restyle"
           },
           {
            "args": [
             "visible",
             [
              false,
              false,
              false,
              false,
              false,
              false,
              false,
              false,
              false,
              false,
              false,
              false,
              false,
              true,
              false,
              false,
              false,
              false,
              false,
              false,
              false,
              false,
              false,
              false,
              false,
              false,
              false,
              false,
              false,
              false
             ]
            ],
            "label": "Year 2003",
            "method": "restyle"
           },
           {
            "args": [
             "visible",
             [
              false,
              false,
              false,
              false,
              false,
              false,
              false,
              false,
              false,
              false,
              false,
              false,
              false,
              false,
              true,
              false,
              false,
              false,
              false,
              false,
              false,
              false,
              false,
              false,
              false,
              false,
              false,
              false,
              false,
              false
             ]
            ],
            "label": "Year 2004",
            "method": "restyle"
           },
           {
            "args": [
             "visible",
             [
              false,
              false,
              false,
              false,
              false,
              false,
              false,
              false,
              false,
              false,
              false,
              false,
              false,
              false,
              false,
              true,
              false,
              false,
              false,
              false,
              false,
              false,
              false,
              false,
              false,
              false,
              false,
              false,
              false,
              false
             ]
            ],
            "label": "Year 2005",
            "method": "restyle"
           },
           {
            "args": [
             "visible",
             [
              false,
              false,
              false,
              false,
              false,
              false,
              false,
              false,
              false,
              false,
              false,
              false,
              false,
              false,
              false,
              false,
              true,
              false,
              false,
              false,
              false,
              false,
              false,
              false,
              false,
              false,
              false,
              false,
              false,
              false
             ]
            ],
            "label": "Year 2006",
            "method": "restyle"
           },
           {
            "args": [
             "visible",
             [
              false,
              false,
              false,
              false,
              false,
              false,
              false,
              false,
              false,
              false,
              false,
              false,
              false,
              false,
              false,
              false,
              false,
              true,
              false,
              false,
              false,
              false,
              false,
              false,
              false,
              false,
              false,
              false,
              false,
              false
             ]
            ],
            "label": "Year 2007",
            "method": "restyle"
           },
           {
            "args": [
             "visible",
             [
              false,
              false,
              false,
              false,
              false,
              false,
              false,
              false,
              false,
              false,
              false,
              false,
              false,
              false,
              false,
              false,
              false,
              false,
              true,
              false,
              false,
              false,
              false,
              false,
              false,
              false,
              false,
              false,
              false,
              false
             ]
            ],
            "label": "Year 2008",
            "method": "restyle"
           },
           {
            "args": [
             "visible",
             [
              false,
              false,
              false,
              false,
              false,
              false,
              false,
              false,
              false,
              false,
              false,
              false,
              false,
              false,
              false,
              false,
              false,
              false,
              false,
              true,
              false,
              false,
              false,
              false,
              false,
              false,
              false,
              false,
              false,
              false
             ]
            ],
            "label": "Year 2009",
            "method": "restyle"
           },
           {
            "args": [
             "visible",
             [
              false,
              false,
              false,
              false,
              false,
              false,
              false,
              false,
              false,
              false,
              false,
              false,
              false,
              false,
              false,
              false,
              false,
              false,
              false,
              false,
              true,
              false,
              false,
              false,
              false,
              false,
              false,
              false,
              false,
              false
             ]
            ],
            "label": "Year 2010",
            "method": "restyle"
           },
           {
            "args": [
             "visible",
             [
              false,
              false,
              false,
              false,
              false,
              false,
              false,
              false,
              false,
              false,
              false,
              false,
              false,
              false,
              false,
              false,
              false,
              false,
              false,
              false,
              false,
              true,
              false,
              false,
              false,
              false,
              false,
              false,
              false,
              false
             ]
            ],
            "label": "Year 2011",
            "method": "restyle"
           },
           {
            "args": [
             "visible",
             [
              false,
              false,
              false,
              false,
              false,
              false,
              false,
              false,
              false,
              false,
              false,
              false,
              false,
              false,
              false,
              false,
              false,
              false,
              false,
              false,
              false,
              false,
              true,
              false,
              false,
              false,
              false,
              false,
              false,
              false
             ]
            ],
            "label": "Year 2012",
            "method": "restyle"
           },
           {
            "args": [
             "visible",
             [
              false,
              false,
              false,
              false,
              false,
              false,
              false,
              false,
              false,
              false,
              false,
              false,
              false,
              false,
              false,
              false,
              false,
              false,
              false,
              false,
              false,
              false,
              false,
              true,
              false,
              false,
              false,
              false,
              false,
              false
             ]
            ],
            "label": "Year 2013",
            "method": "restyle"
           },
           {
            "args": [
             "visible",
             [
              false,
              false,
              false,
              false,
              false,
              false,
              false,
              false,
              false,
              false,
              false,
              false,
              false,
              false,
              false,
              false,
              false,
              false,
              false,
              false,
              false,
              false,
              false,
              false,
              true,
              false,
              false,
              false,
              false,
              false
             ]
            ],
            "label": "Year 2014",
            "method": "restyle"
           },
           {
            "args": [
             "visible",
             [
              false,
              false,
              false,
              false,
              false,
              false,
              false,
              false,
              false,
              false,
              false,
              false,
              false,
              false,
              false,
              false,
              false,
              false,
              false,
              false,
              false,
              false,
              false,
              false,
              false,
              true,
              false,
              false,
              false,
              false
             ]
            ],
            "label": "Year 2015",
            "method": "restyle"
           },
           {
            "args": [
             "visible",
             [
              false,
              false,
              false,
              false,
              false,
              false,
              false,
              false,
              false,
              false,
              false,
              false,
              false,
              false,
              false,
              false,
              false,
              false,
              false,
              false,
              false,
              false,
              false,
              false,
              false,
              false,
              true,
              false,
              false,
              false
             ]
            ],
            "label": "Year 2016",
            "method": "restyle"
           },
           {
            "args": [
             "visible",
             [
              false,
              false,
              false,
              false,
              false,
              false,
              false,
              false,
              false,
              false,
              false,
              false,
              false,
              false,
              false,
              false,
              false,
              false,
              false,
              false,
              false,
              false,
              false,
              false,
              false,
              false,
              false,
              true,
              false,
              false
             ]
            ],
            "label": "Year 2017",
            "method": "restyle"
           },
           {
            "args": [
             "visible",
             [
              false,
              false,
              false,
              false,
              false,
              false,
              false,
              false,
              false,
              false,
              false,
              false,
              false,
              false,
              false,
              false,
              false,
              false,
              false,
              false,
              false,
              false,
              false,
              false,
              false,
              false,
              false,
              false,
              true,
              false
             ]
            ],
            "label": "Year 2018",
            "method": "restyle"
           },
           {
            "args": [
             "visible",
             [
              false,
              false,
              false,
              false,
              false,
              false,
              false,
              false,
              false,
              false,
              false,
              false,
              false,
              false,
              false,
              false,
              false,
              false,
              false,
              false,
              false,
              false,
              false,
              false,
              false,
              false,
              false,
              false,
              false,
              true
             ]
            ],
            "label": "Year 2019",
            "method": "restyle"
           }
          ]
         }
        ],
        "template": {
         "data": {
          "bar": [
           {
            "error_x": {
             "color": "#2a3f5f"
            },
            "error_y": {
             "color": "#2a3f5f"
            },
            "marker": {
             "line": {
              "color": "#E5ECF6",
              "width": 0.5
             },
             "pattern": {
              "fillmode": "overlay",
              "size": 10,
              "solidity": 0.2
             }
            },
            "type": "bar"
           }
          ],
          "barpolar": [
           {
            "marker": {
             "line": {
              "color": "#E5ECF6",
              "width": 0.5
             },
             "pattern": {
              "fillmode": "overlay",
              "size": 10,
              "solidity": 0.2
             }
            },
            "type": "barpolar"
           }
          ],
          "carpet": [
           {
            "aaxis": {
             "endlinecolor": "#2a3f5f",
             "gridcolor": "white",
             "linecolor": "white",
             "minorgridcolor": "white",
             "startlinecolor": "#2a3f5f"
            },
            "baxis": {
             "endlinecolor": "#2a3f5f",
             "gridcolor": "white",
             "linecolor": "white",
             "minorgridcolor": "white",
             "startlinecolor": "#2a3f5f"
            },
            "type": "carpet"
           }
          ],
          "choropleth": [
           {
            "colorbar": {
             "outlinewidth": 0,
             "ticks": ""
            },
            "type": "choropleth"
           }
          ],
          "contour": [
           {
            "colorbar": {
             "outlinewidth": 0,
             "ticks": ""
            },
            "colorscale": [
             [
              0,
              "#0d0887"
             ],
             [
              0.1111111111111111,
              "#46039f"
             ],
             [
              0.2222222222222222,
              "#7201a8"
             ],
             [
              0.3333333333333333,
              "#9c179e"
             ],
             [
              0.4444444444444444,
              "#bd3786"
             ],
             [
              0.5555555555555556,
              "#d8576b"
             ],
             [
              0.6666666666666666,
              "#ed7953"
             ],
             [
              0.7777777777777778,
              "#fb9f3a"
             ],
             [
              0.8888888888888888,
              "#fdca26"
             ],
             [
              1,
              "#f0f921"
             ]
            ],
            "type": "contour"
           }
          ],
          "contourcarpet": [
           {
            "colorbar": {
             "outlinewidth": 0,
             "ticks": ""
            },
            "type": "contourcarpet"
           }
          ],
          "heatmap": [
           {
            "colorbar": {
             "outlinewidth": 0,
             "ticks": ""
            },
            "colorscale": [
             [
              0,
              "#0d0887"
             ],
             [
              0.1111111111111111,
              "#46039f"
             ],
             [
              0.2222222222222222,
              "#7201a8"
             ],
             [
              0.3333333333333333,
              "#9c179e"
             ],
             [
              0.4444444444444444,
              "#bd3786"
             ],
             [
              0.5555555555555556,
              "#d8576b"
             ],
             [
              0.6666666666666666,
              "#ed7953"
             ],
             [
              0.7777777777777778,
              "#fb9f3a"
             ],
             [
              0.8888888888888888,
              "#fdca26"
             ],
             [
              1,
              "#f0f921"
             ]
            ],
            "type": "heatmap"
           }
          ],
          "heatmapgl": [
           {
            "colorbar": {
             "outlinewidth": 0,
             "ticks": ""
            },
            "colorscale": [
             [
              0,
              "#0d0887"
             ],
             [
              0.1111111111111111,
              "#46039f"
             ],
             [
              0.2222222222222222,
              "#7201a8"
             ],
             [
              0.3333333333333333,
              "#9c179e"
             ],
             [
              0.4444444444444444,
              "#bd3786"
             ],
             [
              0.5555555555555556,
              "#d8576b"
             ],
             [
              0.6666666666666666,
              "#ed7953"
             ],
             [
              0.7777777777777778,
              "#fb9f3a"
             ],
             [
              0.8888888888888888,
              "#fdca26"
             ],
             [
              1,
              "#f0f921"
             ]
            ],
            "type": "heatmapgl"
           }
          ],
          "histogram": [
           {
            "marker": {
             "pattern": {
              "fillmode": "overlay",
              "size": 10,
              "solidity": 0.2
             }
            },
            "type": "histogram"
           }
          ],
          "histogram2d": [
           {
            "colorbar": {
             "outlinewidth": 0,
             "ticks": ""
            },
            "colorscale": [
             [
              0,
              "#0d0887"
             ],
             [
              0.1111111111111111,
              "#46039f"
             ],
             [
              0.2222222222222222,
              "#7201a8"
             ],
             [
              0.3333333333333333,
              "#9c179e"
             ],
             [
              0.4444444444444444,
              "#bd3786"
             ],
             [
              0.5555555555555556,
              "#d8576b"
             ],
             [
              0.6666666666666666,
              "#ed7953"
             ],
             [
              0.7777777777777778,
              "#fb9f3a"
             ],
             [
              0.8888888888888888,
              "#fdca26"
             ],
             [
              1,
              "#f0f921"
             ]
            ],
            "type": "histogram2d"
           }
          ],
          "histogram2dcontour": [
           {
            "colorbar": {
             "outlinewidth": 0,
             "ticks": ""
            },
            "colorscale": [
             [
              0,
              "#0d0887"
             ],
             [
              0.1111111111111111,
              "#46039f"
             ],
             [
              0.2222222222222222,
              "#7201a8"
             ],
             [
              0.3333333333333333,
              "#9c179e"
             ],
             [
              0.4444444444444444,
              "#bd3786"
             ],
             [
              0.5555555555555556,
              "#d8576b"
             ],
             [
              0.6666666666666666,
              "#ed7953"
             ],
             [
              0.7777777777777778,
              "#fb9f3a"
             ],
             [
              0.8888888888888888,
              "#fdca26"
             ],
             [
              1,
              "#f0f921"
             ]
            ],
            "type": "histogram2dcontour"
           }
          ],
          "mesh3d": [
           {
            "colorbar": {
             "outlinewidth": 0,
             "ticks": ""
            },
            "type": "mesh3d"
           }
          ],
          "parcoords": [
           {
            "line": {
             "colorbar": {
              "outlinewidth": 0,
              "ticks": ""
             }
            },
            "type": "parcoords"
           }
          ],
          "pie": [
           {
            "automargin": true,
            "type": "pie"
           }
          ],
          "scatter": [
           {
            "marker": {
             "colorbar": {
              "outlinewidth": 0,
              "ticks": ""
             }
            },
            "type": "scatter"
           }
          ],
          "scatter3d": [
           {
            "line": {
             "colorbar": {
              "outlinewidth": 0,
              "ticks": ""
             }
            },
            "marker": {
             "colorbar": {
              "outlinewidth": 0,
              "ticks": ""
             }
            },
            "type": "scatter3d"
           }
          ],
          "scattercarpet": [
           {
            "marker": {
             "colorbar": {
              "outlinewidth": 0,
              "ticks": ""
             }
            },
            "type": "scattercarpet"
           }
          ],
          "scattergeo": [
           {
            "marker": {
             "colorbar": {
              "outlinewidth": 0,
              "ticks": ""
             }
            },
            "type": "scattergeo"
           }
          ],
          "scattergl": [
           {
            "marker": {
             "colorbar": {
              "outlinewidth": 0,
              "ticks": ""
             }
            },
            "type": "scattergl"
           }
          ],
          "scattermapbox": [
           {
            "marker": {
             "colorbar": {
              "outlinewidth": 0,
              "ticks": ""
             }
            },
            "type": "scattermapbox"
           }
          ],
          "scatterpolar": [
           {
            "marker": {
             "colorbar": {
              "outlinewidth": 0,
              "ticks": ""
             }
            },
            "type": "scatterpolar"
           }
          ],
          "scatterpolargl": [
           {
            "marker": {
             "colorbar": {
              "outlinewidth": 0,
              "ticks": ""
             }
            },
            "type": "scatterpolargl"
           }
          ],
          "scatterternary": [
           {
            "marker": {
             "colorbar": {
              "outlinewidth": 0,
              "ticks": ""
             }
            },
            "type": "scatterternary"
           }
          ],
          "surface": [
           {
            "colorbar": {
             "outlinewidth": 0,
             "ticks": ""
            },
            "colorscale": [
             [
              0,
              "#0d0887"
             ],
             [
              0.1111111111111111,
              "#46039f"
             ],
             [
              0.2222222222222222,
              "#7201a8"
             ],
             [
              0.3333333333333333,
              "#9c179e"
             ],
             [
              0.4444444444444444,
              "#bd3786"
             ],
             [
              0.5555555555555556,
              "#d8576b"
             ],
             [
              0.6666666666666666,
              "#ed7953"
             ],
             [
              0.7777777777777778,
              "#fb9f3a"
             ],
             [
              0.8888888888888888,
              "#fdca26"
             ],
             [
              1,
              "#f0f921"
             ]
            ],
            "type": "surface"
           }
          ],
          "table": [
           {
            "cells": {
             "fill": {
              "color": "#EBF0F8"
             },
             "line": {
              "color": "white"
             }
            },
            "header": {
             "fill": {
              "color": "#C8D4E3"
             },
             "line": {
              "color": "white"
             }
            },
            "type": "table"
           }
          ]
         },
         "layout": {
          "annotationdefaults": {
           "arrowcolor": "#2a3f5f",
           "arrowhead": 0,
           "arrowwidth": 1
          },
          "autotypenumbers": "strict",
          "coloraxis": {
           "colorbar": {
            "outlinewidth": 0,
            "ticks": ""
           }
          },
          "colorscale": {
           "diverging": [
            [
             0,
             "#8e0152"
            ],
            [
             0.1,
             "#c51b7d"
            ],
            [
             0.2,
             "#de77ae"
            ],
            [
             0.3,
             "#f1b6da"
            ],
            [
             0.4,
             "#fde0ef"
            ],
            [
             0.5,
             "#f7f7f7"
            ],
            [
             0.6,
             "#e6f5d0"
            ],
            [
             0.7,
             "#b8e186"
            ],
            [
             0.8,
             "#7fbc41"
            ],
            [
             0.9,
             "#4d9221"
            ],
            [
             1,
             "#276419"
            ]
           ],
           "sequential": [
            [
             0,
             "#0d0887"
            ],
            [
             0.1111111111111111,
             "#46039f"
            ],
            [
             0.2222222222222222,
             "#7201a8"
            ],
            [
             0.3333333333333333,
             "#9c179e"
            ],
            [
             0.4444444444444444,
             "#bd3786"
            ],
            [
             0.5555555555555556,
             "#d8576b"
            ],
            [
             0.6666666666666666,
             "#ed7953"
            ],
            [
             0.7777777777777778,
             "#fb9f3a"
            ],
            [
             0.8888888888888888,
             "#fdca26"
            ],
            [
             1,
             "#f0f921"
            ]
           ],
           "sequentialminus": [
            [
             0,
             "#0d0887"
            ],
            [
             0.1111111111111111,
             "#46039f"
            ],
            [
             0.2222222222222222,
             "#7201a8"
            ],
            [
             0.3333333333333333,
             "#9c179e"
            ],
            [
             0.4444444444444444,
             "#bd3786"
            ],
            [
             0.5555555555555556,
             "#d8576b"
            ],
            [
             0.6666666666666666,
             "#ed7953"
            ],
            [
             0.7777777777777778,
             "#fb9f3a"
            ],
            [
             0.8888888888888888,
             "#fdca26"
            ],
            [
             1,
             "#f0f921"
            ]
           ]
          },
          "colorway": [
           "#636efa",
           "#EF553B",
           "#00cc96",
           "#ab63fa",
           "#FFA15A",
           "#19d3f3",
           "#FF6692",
           "#B6E880",
           "#FF97FF",
           "#FECB52"
          ],
          "font": {
           "color": "#2a3f5f"
          },
          "geo": {
           "bgcolor": "white",
           "lakecolor": "white",
           "landcolor": "#E5ECF6",
           "showlakes": true,
           "showland": true,
           "subunitcolor": "white"
          },
          "hoverlabel": {
           "align": "left"
          },
          "hovermode": "closest",
          "mapbox": {
           "style": "light"
          },
          "paper_bgcolor": "white",
          "plot_bgcolor": "#E5ECF6",
          "polar": {
           "angularaxis": {
            "gridcolor": "white",
            "linecolor": "white",
            "ticks": ""
           },
           "bgcolor": "#E5ECF6",
           "radialaxis": {
            "gridcolor": "white",
            "linecolor": "white",
            "ticks": ""
           }
          },
          "scene": {
           "xaxis": {
            "backgroundcolor": "#E5ECF6",
            "gridcolor": "white",
            "gridwidth": 2,
            "linecolor": "white",
            "showbackground": true,
            "ticks": "",
            "zerolinecolor": "white"
           },
           "yaxis": {
            "backgroundcolor": "#E5ECF6",
            "gridcolor": "white",
            "gridwidth": 2,
            "linecolor": "white",
            "showbackground": true,
            "ticks": "",
            "zerolinecolor": "white"
           },
           "zaxis": {
            "backgroundcolor": "#E5ECF6",
            "gridcolor": "white",
            "gridwidth": 2,
            "linecolor": "white",
            "showbackground": true,
            "ticks": "",
            "zerolinecolor": "white"
           }
          },
          "shapedefaults": {
           "line": {
            "color": "#2a3f5f"
           }
          },
          "ternary": {
           "aaxis": {
            "gridcolor": "white",
            "linecolor": "white",
            "ticks": ""
           },
           "baxis": {
            "gridcolor": "white",
            "linecolor": "white",
            "ticks": ""
           },
           "bgcolor": "#E5ECF6",
           "caxis": {
            "gridcolor": "white",
            "linecolor": "white",
            "ticks": ""
           }
          },
          "title": {
           "x": 0.05
          },
          "xaxis": {
           "automargin": true,
           "gridcolor": "white",
           "linecolor": "white",
           "ticks": "",
           "title": {
            "standoff": 15
           },
           "zerolinecolor": "white",
           "zerolinewidth": 2
          },
          "yaxis": {
           "automargin": true,
           "gridcolor": "white",
           "linecolor": "white",
           "ticks": "",
           "title": {
            "standoff": 15
           },
           "zerolinecolor": "white",
           "zerolinewidth": 2
          }
         }
        },
        "title": {
         "text": "NOX Emissions Statewise since 1990 to 2020"
        }
       }
      },
      "image/png": "[encoded data removed]",
      "text/html": [
       "<div>                            <div id=\"4d2a592e-b87b-444a-af4a-480f550b31ca\" class=\"plotly-graph-div\" style=\"height:525px; width:100%;\"></div>            <script type=\"text/javascript\">                require([\"plotly\"], function(Plotly) {                    window.PLOTLYENV=window.PLOTLYENV || {};                                    if (document.getElementById(\"4d2a592e-b87b-444a-af4a-480f550b31ca\")) {                    Plotly.newPlot(                        \"4d2a592e-b87b-444a-af4a-480f550b31ca\",                        [{\"colorbar\":{\"title\":{\"text\":\"# Sightings\"}},\"locationmode\":\"USA-states\",\"locations\":[\"AR\",\"CT\",\"DC\",\"DE\",\"FL\",\"AZ\",\"CA\",\"CO\",\"AK\",\"AL\",\"GA\",\"IA\",\"ID\",\"IL\",\"LA\",\"MA\",\"MD\",\"IN\",\"KS\",\"KY\",\"HI\",\"MN\",\"MO\",\"ND\",\"NE\",\"NH\",\"NJ\",\"MS\",\"MT\",\"NC\",\"ME\",\"MI\",\"NV\",\"NY\"],\"z\":[120589,34736,468,29989,319261,164332,141043,160986,13847,240765,337598,167661,2951,370166,167141,84304,112841,539787,137435,331770,16411,177581,289255,75971,86093,21218,54777,58572,95035,223460,15765,342342,76103,212777],\"type\":\"choropleth\"},{\"colorbar\":{\"title\":{\"text\":\"# Sightings\"}},\"locationmode\":\"USA-states\",\"locations\":[\"AL\",\"AR\",\"DC\",\"DE\",\"FL\",\"AZ\",\"CA\",\"CO\",\"CT\",\"AK\",\"GA\",\"IA\",\"ID\",\"IL\",\"LA\",\"MA\",\"MD\",\"IN\",\"KS\",\"KY\",\"HI\",\"MN\",\"MO\",\"ND\",\"NE\",\"NH\",\"MS\",\"MT\",\"NC\",\"ME\",\"MI\",\"NJ\",\"NV\",\"NY\",\"RI\"],\"z\":[257333,122663,234,30840,343356,167463,116134,148268,34277,14088,300686,177648,2254,370629,163481,84444,105799,538556,136731,337695,12206,191179,292754,77187,83448,21387,54524,104229,225086,15960,343210,51590,82397,207132,1835],\"type\":\"choropleth\"},{\"colorbar\":{\"title\":{\"text\":\"# Sightings\"}},\"locationmode\":\"USA-states\",\"locations\":[\"AL\",\"AR\",\"DC\",\"DE\",\"FL\",\"AZ\",\"CA\",\"CO\",\"CT\",\"AK\",\"GA\",\"IA\",\"ID\",\"IL\",\"MA\",\"MD\",\"IN\",\"KS\",\"KY\",\"LA\",\"HI\",\"MN\",\"MO\",\"ND\",\"NE\",\"NH\",\"MS\",\"MT\",\"NC\",\"ME\",\"MI\",\"NJ\",\"NY\",\"OH\"],\"z\":[270193,122981,103,24490,343082,169805,117023,144459,26007,13742,271673,162940,3319,335982,77148,104734,526978,123622,339514,166014,14904,175387,282774,80237,75234,21239,47134,93054,256077,16489,325067,51165,196823,562037],\"type\":\"choropleth\"},{\"colorbar\":{\"title\":{\"text\":\"# Sightings\"}},\"locationmode\":\"USA-states\",\"locations\":[\"AR\",\"CT\",\"DC\",\"DE\",\"AZ\",\"CA\",\"CO\",\"AK\",\"AL\",\"FL\",\"IA\",\"ID\",\"LA\",\"MA\",\"MD\",\"IL\",\"IN\",\"KS\",\"KY\",\"GA\",\"HI\",\"ME\",\"MN\",\"MO\",\"ND\",\"NE\",\"NH\",\"MS\",\"MT\",\"NC\",\"MI\",\"NJ\",\"NV\",\"NY\"],\"z\":[103379,23963,231,29558,177137,107973,147919,12884,295180,349244,175974,3434,172944,62002,113024,416196,523404,161997,379329,275391,16241,17222,193765,256034,76109,87788,21838,56209,75399,277740,343496,51141,81610,173148],\"type\":\"choropleth\"},{\"colorbar\":{\"title\":{\"text\":\"# Sightings\"}},\"locationmode\":\"USA-states\",\"locations\":[\"AL\",\"AR\",\"DC\",\"DE\",\"FL\",\"AZ\",\"CA\",\"CO\",\"CT\",\"AK\",\"IA\",\"ID\",\"IL\",\"MA\",\"MD\",\"IN\",\"KS\",\"KY\",\"LA\",\"GA\",\"HI\",\"MN\",\"MO\",\"ND\",\"NE\",\"NH\",\"MS\",\"MT\",\"NC\",\"ME\",\"MI\",\"NJ\",\"NV\",\"NY\",\"RI\"],\"z\":[263007,113096,304,27187,348620,182763,119437,153256,22447,13187,170761,3200,418727,53664,108600,523002,161876,350082,167169,268404,16718,190274,283974,73180,85512,21783,59758,90844,249201,15522,353048,49067,84925,160048,2593],\"type\":\"choropleth\"},{\"colorbar\":{\"title\":{\"text\":\"# Sightings\"}},\"locationmode\":\"USA-states\",\"locations\":[\"AL\",\"AR\",\"DC\",\"DE\",\"FL\",\"AZ\",\"CA\",\"CO\",\"CT\",\"AK\",\"GA\",\"IA\",\"ID\",\"IL\",\"MA\",\"MD\",\"IN\",\"KS\",\"KY\",\"LA\",\"HI\",\"MN\",\"MO\",\"ND\",\"NE\",\"NH\",\"MS\",\"MT\",\"NC\",\"ME\",\"MI\",\"NJ\",\"NV\",\"NY\",\"RI\"],\"z\":[231733,56393,491,22199,351971,77798,155927,95789,19281,20865,204324,98726,3478,284852,58490,104889,371239,88743,365619,146041,29741,103290,185134,115287,49476,29120,57243,35382,289772,20167,199795,71283,46924,187359,6559],\"type\":\"choropleth\"},{\"colorbar\":{\"title\":{\"text\":\"# Sightings\"}},\"locationmode\":\"USA-states\",\"locations\":[\"AL\",\"AR\",\"DC\",\"DE\",\"FL\",\"AZ\",\"CA\",\"CO\",\"CT\",\"AK\",\"GA\",\"IA\",\"ID\",\"IL\",\"MA\",\"MD\",\"IN\",\"KS\",\"KY\",\"LA\",\"HI\",\"ME\",\"MO\",\"ND\",\"NE\",\"NH\",\"MS\",\"MT\",\"NC\",\"MI\",\"MN\",\"NJ\",\"NV\",\"NY\",\"OH\",\"RI\"],\"z\":[250568,64212,206,21365,358537,76203,136044,95850,24197,21603,198401,93706,3364,308892,56488,117844,392139,98791,372464,148058,30375,19332,193008,109293,49667,20887,57754,30106,308598,222119,103754,63951,50419,122107,590418,8322],\"type\":\"choropleth\"},{\"colorbar\":{\"title\":{\"text\":\"# Sightings\"}},\"locationmode\":\"USA-states\",\"locations\":[\"AL\",\"AR\",\"DC\",\"DE\",\"FL\",\"AZ\",\"CA\",\"CO\",\"CT\",\"AK\",\"GA\",\"IA\",\"ID\",\"LA\",\"MA\",\"MD\",\"IL\",\"IN\",\"KS\",\"KY\",\"HI\",\"ME\",\"MN\",\"MO\",\"NE\",\"NH\",\"NJ\",\"MS\",\"MT\",\"NC\",\"ND\",\"MI\",\"NV\",\"NY\",\"OH\"],\"z\":[238916,56063,259,20214,352217,83571,146917,91515,30649,22108,210102,90407,3831,149152,68642,116831,344180,402149,85969,361167,30032,19271,108643,203054,49273,23970,70012,61003,39462,309166,95154,227081,49966,140794,554671],\"type\":\"choropleth\"},{\"colorbar\":{\"title\":{\"text\":\"# Sightings\"}},\"locationmode\":\"USA-states\",\"locations\":[\"AL\",\"AR\",\"DC\",\"DE\",\"FL\",\"AZ\",\"CA\",\"CO\",\"CT\",\"AK\",\"IA\",\"ID\",\"IL\",\"LA\",\"MA\",\"MD\",\"IN\",\"KS\",\"KY\",\"GA\",\"HI\",\"ME\",\"MN\",\"MO\",\"MS\",\"NE\",\"NH\",\"MT\",\"NC\",\"ND\",\"MI\",\"NJ\",\"NV\",\"NY\",\"OH\"],\"z\":[230181,59041,660,16209,389718,90537,148200,86820,29511,20143,97622,4196,327871,168673,67189,128371,385608,85250,319867,209507,30521,20375,105308,217802,69349,51175,19659,44371,275493,99713,253678,66904,52863,148055,532562],\"type\":\"choropleth\"},{\"colorbar\":{\"title\":{\"text\":\"# Sightings\"}},\"locationmode\":\"USA-states\",\"locations\":[\"AL\",\"AR\",\"CT\",\"DC\",\"DE\",\"FL\",\"AZ\",\"CA\",\"CO\",\"AK\",\"IA\",\"ID\",\"LA\",\"MA\",\"MD\",\"IL\",\"IN\",\"KS\",\"KY\",\"GA\",\"HI\",\"ME\",\"MN\",\"MO\",\"MS\",\"NE\",\"NH\",\"NJ\",\"MT\",\"NC\",\"ND\",\"MI\",\"NY\",\"OH\"],\"z\":[217281,62095,19762,666,14910,365983,92121,151128,79030,21336,95156,4247,168658,51175,115787,310287,368709,92447,307483,208186,30829,22434,99415,192116,69920,45887,17599,43671,45536,226990,85568,220927,117802,443258],\"type\":\"choropleth\"},{\"colorbar\":{\"title\":{\"text\":\"# Sightings\"}},\"locationmode\":\"USA-states\",\"locations\":[\"AR\",\"CT\",\"DC\",\"DE\",\"AZ\",\"CA\",\"CO\",\"AK\",\"AL\",\"FL\",\"IA\",\"ID\",\"LA\",\"MA\",\"MD\",\"IL\",\"IN\",\"KS\",\"KY\",\"GA\",\"HI\",\"ME\",\"MN\",\"MO\",\"ND\",\"NE\",\"NH\",\"MS\",\"MT\",\"NC\",\"MI\",\"NJ\",\"NV\",\"NY\"],\"z\":[63154,20747,395,13675,103548,160314,81087,20006,213466,343677,93877,3889,165807,48411,89029,261073,353397,94988,247173,217292,28788,21158,103959,164448,80318,44636,14302,70866,39666,187748,200376,48050,51703,123655],\"type\":\"choropleth\"},{\"colorbar\":{\"title\":{\"text\":\"# Sightings\"}},\"locationmode\":\"USA-states\",\"locations\":[\"AR\",\"DC\",\"DE\",\"FL\",\"AZ\",\"CA\",\"CO\",\"CT\",\"AK\",\"AL\",\"IA\",\"ID\",\"IL\",\"LA\",\"MA\",\"MD\",\"IN\",\"KS\",\"KY\",\"GA\",\"HI\",\"MN\",\"MO\",\"ND\",\"NE\",\"NH\",\"MS\",\"MT\",\"NC\",\"ME\",\"MI\",\"NV\",\"NY\"],\"z\":[55409,346,14224,329949,97961,117977,80608,17110,19362,189002,87525,2129,225929,138789,44291,85475,328453,87100,232657,190110,29438,93901,148940,80649,49748,10343,65014,43667,168096,17162,182584,48172,106420],\"type\":\"choropleth\"},{\"colorbar\":{\"title\":{\"text\":\"# Sightings\"}},\"locationmode\":\"USA-states\",\"locations\":[\"AL\",\"AR\",\"DC\",\"DE\",\"FL\",\"AZ\",\"CA\",\"CO\",\"CT\",\"AK\",\"IA\",\"ID\",\"IL\",\"LA\",\"MA\",\"MD\",\"IN\",\"KS\",\"KY\",\"GA\",\"HI\",\"ME\",\"MO\",\"ND\",\"NE\",\"NH\",\"MS\",\"MT\",\"NC\",\"MI\",\"MN\",\"NJ\",\"NV\",\"NY\",\"OH\"],\"z\":[181397,50043,651,12645,295912,91160,98947,79898,11175,20827,88539,3806,197312,121558,42674,80402,296654,97592,201703,175390,35447,12803,143212,77608,49043,10320,51276,37088,167272,167605,97939,43363,47500,100423,383048],\"type\":\"choropleth\"},{\"colorbar\":{\"title\":{\"text\":\"# Sightings\"}},\"locationmode\":\"USA-states\",\"locations\":[\"AR\",\"CT\",\"DC\",\"DE\",\"FL\",\"AZ\",\"CA\",\"CO\",\"AK\",\"AL\",\"ID\",\"IL\",\"LA\",\"MA\",\"IN\",\"KS\",\"KY\",\"GA\",\"HI\",\"IA\",\"MD\",\"MN\",\"MO\",\"ND\",\"NE\",\"NH\",\"NJ\",\"MS\",\"MT\",\"NC\",\"ME\",\"MI\",\"NV\",\"NY\"],\"z\":[53986,11075,213,14528,288730,91255,116947,79824,17291,167893,3638,166065,127084,41280,283401,97276,186066,132537,30898,87336,77567,106786,148432,77776,52763,14323,38293,52760,38562,150437,14406,147710,46176,95144],\"type\":\"choropleth\"},{\"colorbar\":{\"title\":{\"text\":\"# Sightings\"}},\"locationmode\":\"USA-states\",\"locations\":[\"AR\",\"CT\",\"DC\",\"DE\",\"AZ\",\"CA\",\"CO\",\"AK\",\"AL\",\"FL\",\"IA\",\"ID\",\"LA\",\"MA\",\"MD\",\"IL\",\"IN\",\"KS\",\"KY\",\"GA\",\"HI\",\"ME\",\"MN\",\"MO\",\"NE\",\"NH\",\"MS\",\"MT\",\"NC\",\"ND\",\"MI\",\"NJ\",\"NY\",\"OH\"],\"z\":[48796,10243,187,14322,86019,108282,73750,27424,150283,276049,87399,4146,117386,36473,72145,164202,238395,94189,166686,126596,32459,13676,101489,128778,50366,12862,55071,39059,127812,80182,136977,37876,93379,276820],\"type\":\"choropleth\"},{\"colorbar\":{\"title\":{\"text\":\"# Sightings\"}},\"locationmode\":\"USA-states\",\"locations\":[\"AR\",\"CT\",\"DC\",\"DE\",\"FL\",\"AZ\",\"CA\",\"CO\",\"AK\",\"AL\",\"GA\",\"IA\",\"ID\",\"MA\",\"MD\",\"IL\",\"IN\",\"KS\",\"KY\",\"LA\",\"HI\",\"ME\",\"MN\",\"MO\",\"MS\",\"NE\",\"NH\",\"NJ\",\"MT\",\"NC\",\"ND\",\"MI\",\"NY\",\"OH\"],\"z\":[48686,11596,751,14950,250478,82709,95062,73874,18514,144620,138390,82375,2413,33980,70306,144657,225371,90507,167445,105692,32680,12823,94529,127203,47993,64358,12322,38418,41663,117608,77543,136048,90812,262672],\"type\":\"choropleth\"},{\"colorbar\":{\"title\":{\"text\":\"# Sightings\"}},\"locationmode\":\"USA-states\",\"locations\":[\"AL\",\"AR\",\"CT\",\"DC\",\"DE\",\"AZ\",\"CA\",\"CO\",\"AK\",\"FL\",\"ID\",\"LA\",\"MA\",\"MD\",\"IL\",\"IN\",\"KS\",\"KY\",\"GA\",\"HI\",\"IA\",\"ME\",\"MN\",\"MO\",\"NE\",\"NH\",\"MS\",\"MT\",\"NC\",\"ND\",\"MI\",\"NJ\",\"NY\",\"OH\"],\"z\":[134785,42139,9869,396,12398,82675,99866,72312,19867,233266,2194,98728,24616,68413,134848,222141,81584,173937,143426,31726,70644,11389,93915,118593,67577,10088,49989,41780,110281,75022,124658,31060,70596,247267],\"type\":\"choropleth\"},{\"colorbar\":{\"title\":{\"text\":\"# Sightings\"}},\"locationmode\":\"USA-states\",\"locations\":[\"AR\",\"CT\",\"DC\",\"DE\",\"AZ\",\"CA\",\"CO\",\"AK\",\"AL\",\"FL\",\"IA\",\"ID\",\"LA\",\"MA\",\"MD\",\"IL\",\"IN\",\"KS\",\"KY\",\"GA\",\"HI\",\"ME\",\"MN\",\"MO\",\"NE\",\"NH\",\"MS\",\"MT\",\"NC\",\"ND\",\"MI\",\"NJ\",\"NY\",\"OH\"],\"z\":[45199,9342,202,14169,86773,97629,73445,18965,133253,223602,64189,4073,96471,21992,60098,132169,214809,70939,177272,137819,25423,11227,92979,109853,43190,7311,53846,44118,66840,72930,129473,23445,66600,250263],\"type\":\"choropleth\"},{\"colorbar\":{\"title\":{\"text\":\"# Sightings\"}},\"locationmode\":\"USA-states\",\"locations\":[\"CT\",\"DC\",\"DE\",\"AR\",\"AZ\",\"CA\",\"CO\",\"AK\",\"AL\",\"FL\",\"IA\",\"ID\",\"LA\",\"MA\",\"MD\",\"IL\",\"IN\",\"KS\",\"KY\",\"GA\",\"HI\",\"ME\",\"MN\",\"MO\",\"MS\",\"NE\",\"NH\",\"NJ\",\"MT\",\"NC\",\"ND\",\"MI\",\"NY\",\"OH\"],\"z\":[8223,198,12621,44642,80908,90940,69098,16236,122060,187626,78792,3526,81610,20868,45545,133942,210105,54377,160732,131011,23831,11833,76532,91361,46392,45362,6868,22271,30555,65683,69972,126909,56636,244809],\"type\":\"choropleth\"},{\"colorbar\":{\"title\":{\"text\":\"# Sightings\"}},\"locationmode\":\"USA-states\",\"locations\":[\"AR\",\"CT\",\"DC\",\"DE\",\"FL\",\"AZ\",\"CA\",\"CO\",\"AK\",\"AL\",\"GA\",\"IA\",\"ID\",\"IL\",\"LA\",\"MA\",\"IN\",\"KS\",\"KY\",\"HI\",\"MD\",\"ME\",\"MN\",\"MO\",\"NE\",\"NH\",\"MS\",\"MT\",\"NC\",\"ND\",\"MI\",\"NJ\",\"NY\",\"OH\"],\"z\":[40867,7144,144,6411,127680,67919,91707,59851,18581,57962,81433,49714,2218,85857,76245,18372,122261,50486,81458,24734,25792,13661,54249,56837,48613,6051,30270,22637,48773,65027,100608,15345,48605,121485],\"type\":\"choropleth\"},{\"colorbar\":{\"title\":{\"text\":\"# Sightings\"}},\"locationmode\":\"USA-states\",\"locations\":[\"AL\",\"AR\",\"CT\",\"DC\",\"DE\",\"AZ\",\"CA\",\"CO\",\"AK\",\"FL\",\"IA\",\"ID\",\"LA\",\"MA\",\"MD\",\"IL\",\"IN\",\"KS\",\"KY\",\"GA\",\"HI\",\"ME\",\"MO\",\"ND\",\"NE\",\"NH\",\"MS\",\"MT\",\"NC\",\"MI\",\"MN\",\"NJ\",\"NV\",\"NY\",\"OH\"],\"z\":[72961,44633,7820,403,5308,63106,87728,60700,17663,111097,55072,4556,83110,19079,27441,91011,132757,50647,93539,87387,23030,9269,61858,57329,44127,6906,33736,23367,63278,97958,48792,16528,16830,48559,134960],\"type\":\"choropleth\"},{\"colorbar\":{\"title\":{\"text\":\"# Sightings\"}},\"locationmode\":\"USA-states\",\"locations\":[\"AR\",\"CT\",\"DC\",\"DE\",\"AZ\",\"CA\",\"CO\",\"AK\",\"AL\",\"FL\",\"IA\",\"ID\",\"LA\",\"MA\",\"MD\",\"IL\",\"IN\",\"KS\",\"KY\",\"GA\",\"HI\",\"ME\",\"MN\",\"MO\",\"NE\",\"NH\",\"MS\",\"MT\",\"NC\",\"ND\",\"MI\",\"NJ\",\"NY\",\"RI\"],\"z\":[45571,6767,409,4617,58185,89685,56284,19036,71339,91425,48719,3195,85629,15498,27904,80513,132055,45185,93814,82833,22087,8781,45645,66962,45573,5690,28984,19144,55135,53125,90365,14477,46995,2931],\"type\":\"choropleth\"},{\"colorbar\":{\"title\":{\"text\":\"# Sightings\"}},\"locationmode\":\"USA-states\",\"locations\":[\"CT\",\"DC\",\"DE\",\"FL\",\"AR\",\"AZ\",\"CA\",\"CO\",\"AK\",\"AL\",\"GA\",\"IA\",\"ID\",\"MA\",\"MD\",\"IL\",\"IN\",\"KS\",\"KY\",\"LA\",\"HI\",\"ME\",\"MN\",\"MO\",\"MS\",\"NE\",\"NH\",\"MT\",\"NC\",\"ND\",\"MI\",\"NJ\",\"NV\",\"NY\",\"OH\"],\"z\":[12954,225,3131,92511,42160,50391,92566,49591,18746,56459,55229,45892,4795,15294,23976,67178,118315,35887,82593,82627,20861,7296,39509,73227,25853,31696,4387,17669,58633,50648,89094,14989,13229,44395,100300],\"type\":\"choropleth\"},{\"colorbar\":{\"title\":{\"text\":\"# Sightings\"}},\"locationmode\":\"USA-states\",\"locations\":[\"AR\",\"CT\",\"DC\",\"DE\",\"AZ\",\"CA\",\"CO\",\"AK\",\"AL\",\"FL\",\"IA\",\"ID\",\"LA\",\"MA\",\"MD\",\"IL\",\"IN\",\"KS\",\"KY\",\"GA\",\"HI\",\"ME\",\"MN\",\"MO\",\"MS\",\"NE\",\"NH\",\"NJ\",\"MT\",\"NC\",\"ND\",\"MI\",\"NY\",\"OH\"],\"z\":[45896,9035,148,2585,56303,85885,49413,17602,56753,87705,44605,7498,82286,15150,21995,63162,121309,30860,87201,55462,23767,9607,36780,77995,24489,31505,5057,15022,21789,62397,48454,85255,44580,101994],\"type\":\"choropleth\"},{\"colorbar\":{\"title\":{\"text\":\"# Sightings\"}},\"locationmode\":\"USA-states\",\"locations\":[\"AR\",\"DC\",\"DE\",\"FL\",\"AZ\",\"CA\",\"CO\",\"CT\",\"AK\",\"AL\",\"GA\",\"IA\",\"ID\",\"IL\",\"MA\",\"MD\",\"IN\",\"KS\",\"KY\",\"LA\",\"HI\",\"ME\",\"MN\",\"MO\",\"MS\",\"NE\",\"NH\",\"MT\",\"NC\",\"ND\",\"MI\",\"NV\",\"NY\"],\"z\":[47048,147,2836,90695,53230,81445,44326,8388,15858,62283,58339,41932,20225,57906,13829,20626,127230,29014,89253,76797,19960,8679,38185,77721,23995,27045,3886,20538,60688,48711,77156,15985,44185],\"type\":\"choropleth\"},{\"colorbar\":{\"title\":{\"text\":\"# Sightings\"}},\"locationmode\":\"USA-states\",\"locations\":[\"AL\",\"AR\",\"DC\",\"DE\",\"FL\",\"AZ\",\"CA\",\"CO\",\"CT\",\"AK\",\"GA\",\"IA\",\"ID\",\"MA\",\"MD\",\"IL\",\"IN\",\"KS\",\"KY\",\"LA\",\"HI\",\"ME\",\"MN\",\"MO\",\"NE\",\"NH\",\"MS\",\"MT\",\"NC\",\"ND\",\"MI\",\"NJ\",\"NV\",\"NY\"],\"z\":[56497,31628,250,2418,83967,47491,80195,38449,7610,21205,53081,33754,13731,12581,16016,46260,107207,20648,67982,77745,19178,8963,30601,48660,25759,3180,16116,20726,56493,46092,67695,12965,10895,38918],\"type\":\"choropleth\"},{\"colorbar\":{\"title\":{\"text\":\"# Sightings\"}},\"locationmode\":\"USA-states\",\"locations\":[\"AR\",\"CT\",\"DC\",\"DE\",\"AZ\",\"CA\",\"CO\",\"AK\",\"AL\",\"FL\",\"IA\",\"ID\",\"LA\",\"MA\",\"MD\",\"IL\",\"IN\",\"KS\",\"KY\",\"GA\",\"HI\",\"ME\",\"MN\",\"MO\",\"MS\",\"NE\",\"NH\",\"NJ\",\"MT\",\"NC\",\"ND\",\"MI\",\"NY\",\"OH\"],\"z\":[33752,6627,375,2153,40090,76219,31869,23212,38824,77678,29083,5190,73198,11366,14453,39401,98449,19016,60201,47239,17955,6696,27953,59153,16412,22116,2408,12887,17754,52715,39237,57819,35468,71575],\"type\":\"choropleth\"},{\"colorbar\":{\"title\":{\"text\":\"# Sightings\"}},\"locationmode\":\"USA-states\",\"locations\":[\"AL\",\"AR\",\"DC\",\"DE\",\"FL\",\"AZ\",\"CA\",\"CO\",\"CT\",\"AK\",\"IA\",\"ID\",\"IL\",\"MA\",\"MD\",\"IN\",\"KS\",\"KY\",\"LA\",\"GA\",\"HI\",\"ME\",\"MO\",\"ND\",\"NE\",\"NH\",\"MS\",\"MT\",\"NC\",\"MI\",\"MN\",\"NJ\",\"NV\",\"NY\",\"OH\",\"RI\"],\"z\":[32137,34166,326,1745,76754,38631,75546,27432,6591,23003,29864,5316,39762,9876,11767,77467,17199,48625,78228,45753,17761,6686,52184,34754,22209,2174,15835,16705,54236,55504,27855,10748,9634,31408,72083,1991],\"type\":\"choropleth\"},{\"colorbar\":{\"title\":{\"text\":\"# Sightings\"}},\"locationmode\":\"USA-states\",\"locations\":[\"AL\",\"AR\",\"DC\",\"DE\",\"FL\",\"AZ\",\"CA\",\"CO\",\"CT\",\"AK\",\"GA\",\"IA\",\"ID\",\"IL\",\"LA\",\"MA\",\"MD\",\"IN\",\"KS\",\"KY\",\"HI\",\"MN\",\"MO\",\"ND\",\"NE\",\"NH\",\"MS\",\"MT\",\"NC\",\"ME\",\"MI\",\"NJ\",\"NV\",\"NY\"],\"z\":[34801,28885,373,1733,64598,41891,74011,21409,6668,20893,47390,31738,4673,40696,83398,9317,13006,82569,19170,49908,17569,29498,52841,35305,24227,2758,16828,18152,54288,6573,57402,11107,11241,31898],\"type\":\"choropleth\"},{\"colorbar\":{\"title\":{\"text\":\"# Sightings\"}},\"locationmode\":\"USA-states\",\"locations\":[\"AR\",\"DC\",\"DE\",\"FL\",\"AZ\",\"CA\",\"CO\",\"CT\",\"AK\",\"AL\",\"IA\",\"ID\",\"LA\",\"MA\",\"IL\",\"IN\",\"KS\",\"KY\",\"GA\",\"HI\",\"MD\",\"MN\",\"MO\",\"MS\",\"NE\",\"NH\",\"NJ\",\"MT\",\"NC\",\"ND\",\"ME\",\"MI\",\"NV\",\"NY\",\"OH\"],\"z\":[17459,578,1473,53264,28101,72902,18934,6271,21774,22882,19203,4766,59819,8187,27738,60861,14877,31024,35621,16437,5995,19905,53141,17422,19988,1555,9509,10361,41914,31359,5639,64440,10661,28459,54714],\"type\":\"choropleth\"}],                        {\"geo\":{\"projection\":{\"type\":\"albers usa\"},\"scope\":\"usa\"},\"sliders\":[{\"active\":0,\"pad\":{\"t\":1},\"steps\":[{\"args\":[\"visible\",[true,false,false,false,false,false,false,false,false,false,false,false,false,false,false,false,false,false,false,false,false,false,false,false,false,false,false,false,false,false]],\"label\":\"Year 1990\",\"method\":\"restyle\"},{\"args\":[\"visible\",[false,true,false,false,false,false,false,false,false,false,false,false,false,false,false,false,false,false,false,false,false,false,false,false,false,false,false,false,false,false]],\"label\":\"Year 1991\",\"method\":\"restyle\"},{\"args\":[\"visible\",[false,false,true,false,false,false,false,false,false,false,false,false,false,false,false,false,false,false,false,false,false,false,false,false,false,false,false,false,false,false]],\"label\":\"Year 1992\",\"method\":\"restyle\"},{\"args\":[\"visible\",[false,false,false,true,false,false,false,false,false,false,false,false,false,false,false,false,false,false,false,false,false,false,false,false,false,false,false,false,false,false]],\"label\":\"Year 1993\",\"method\":\"restyle\"},{\"args\":[\"visible\",[false,false,false,false,true,false,false,false,false,false,false,false,false,false,false,false,false,false,false,false,false,false,false,false,false,false,false,false,false,false]],\"label\":\"Year 1994\",\"method\":\"restyle\"},{\"args\":[\"visible\",[false,false,false,false,false,true,false,false,false,false,false,false,false,false,false,false,false,false,false,false,false,false,false,false,false,false,false,false,false,false]],\"label\":\"Year 1995\",\"method\":\"restyle\"},{\"args\":[\"visible\",[false,false,false,false,false,false,true,false,false,false,false,false,false,false,false,false,false,false,false,false,false,false,false,false,false,false,false,false,false,false]],\"label\":\"Year 1996\",\"method\":\"restyle\"},{\"args\":[\"visible\",[false,false,false,false,false,false,false,true,false,false,false,false,false,false,false,false,false,false,false,false,false,false,false,false,false,false,false,false,false,false]],\"label\":\"Year 1997\",\"method\":\"restyle\"},{\"args\":[\"visible\",[false,false,false,false,false,false,false,false,true,false,false,false,false,false,false,false,false,false,false,false,false,false,false,false,false,false,false,false,false,false]],\"label\":\"Year 1998\",\"method\":\"restyle\"},{\"args\":[\"visible\",[false,false,false,false,false,false,false,false,false,true,false,false,false,false,false,false,false,false,false,false,false,false,false,false,false,false,false,false,false,false]],\"label\":\"Year 1999\",\"method\":\"restyle\"},{\"args\":[\"visible\",[false,false,false,false,false,false,false,false,false,false,true,false,false,false,false,false,false,false,false,false,false,false,false,false,false,false,false,false,false,false]],\"label\":\"Year 2000\",\"method\":\"restyle\"},{\"args\":[\"visible\",[false,false,false,false,false,false,false,false,false,false,false,true,false,false,false,false,false,false,false,false,false,false,false,false,false,false,false,false,false,false]],\"label\":\"Year 2001\",\"method\":\"restyle\"},{\"args\":[\"visible\",[false,false,false,false,false,false,false,false,false,false,false,false,true,false,false,false,false,false,false,false,false,false,false,false,false,false,false,false,false,false]],\"label\":\"Year 2002\",\"method\":\"restyle\"},{\"args\":[\"visible\",[false,false,false,false,false,false,false,false,false,false,false,false,false,true,false,false,false,false,false,false,false,false,false,false,false,false,false,false,false,false]],\"label\":\"Year 2003\",\"method\":\"restyle\"},{\"args\":[\"visible\",[false,false,false,false,false,false,false,false,false,false,false,false,false,false,true,false,false,false,false,false,false,false,false,false,false,false,false,false,false,false]],\"label\":\"Year 2004\",\"method\":\"restyle\"},{\"args\":[\"visible\",[false,false,false,false,false,false,false,false,false,false,false,false,false,false,false,true,false,false,false,false,false,false,false,false,false,false,false,false,false,false]],\"label\":\"Year 2005\",\"method\":\"restyle\"},{\"args\":[\"visible\",[false,false,false,false,false,false,false,false,false,false,false,false,false,false,false,false,true,false,false,false,false,false,false,false,false,false,false,false,false,false]],\"label\":\"Year 2006\",\"method\":\"restyle\"},{\"args\":[\"visible\",[false,false,false,false,false,false,false,false,false,false,false,false,false,false,false,false,false,true,false,false,false,false,false,false,false,false,false,false,false,false]],\"label\":\"Year 2007\",\"method\":\"restyle\"},{\"args\":[\"visible\",[false,false,false,false,false,false,false,false,false,false,false,false,false,false,false,false,false,false,true,false,false,false,false,false,false,false,false,false,false,false]],\"label\":\"Year 2008\",\"method\":\"restyle\"},{\"args\":[\"visible\",[false,false,false,false,false,false,false,false,false,false,false,false,false,false,false,false,false,false,false,true,false,false,false,false,false,false,false,false,false,false]],\"label\":\"Year 2009\",\"method\":\"restyle\"},{\"args\":[\"visible\",[false,false,false,false,false,false,false,false,false,false,false,false,false,false,false,false,false,false,false,false,true,false,false,false,false,false,false,false,false,false]],\"label\":\"Year 2010\",\"method\":\"restyle\"},{\"args\":[\"visible\",[false,false,false,false,false,false,false,false,false,false,false,false,false,false,false,false,false,false,false,false,false,true,false,false,false,false,false,false,false,false]],\"label\":\"Year 2011\",\"method\":\"restyle\"},{\"args\":[\"visible\",[false,false,false,false,false,false,false,false,false,false,false,false,false,false,false,false,false,false,false,false,false,false,true,false,false,false,false,false,false,false]],\"label\":\"Year 2012\",\"method\":\"restyle\"},{\"args\":[\"visible\",[false,false,false,false,false,false,false,false,false,false,false,false,false,false,false,false,false,false,false,false,false,false,false,true,false,false,false,false,false,false]],\"label\":\"Year 2013\",\"method\":\"restyle\"},{\"args\":[\"visible\",[false,false,false,false,false,false,false,false,false,false,false,false,false,false,false,false,false,false,false,false,false,false,false,false,true,false,false,false,false,false]],\"label\":\"Year 2014\",\"method\":\"restyle\"},{\"args\":[\"visible\",[false,false,false,false,false,false,false,false,false,false,false,false,false,false,false,false,false,false,false,false,false,false,false,false,false,true,false,false,false,false]],\"label\":\"Year 2015\",\"method\":\"restyle\"},{\"args\":[\"visible\",[false,false,false,false,false,false,false,false,false,false,false,false,false,false,false,false,false,false,false,false,false,false,false,false,false,false,true,false,false,false]],\"label\":\"Year 2016\",\"method\":\"restyle\"},{\"args\":[\"visible\",[false,false,false,false,false,false,false,false,false,false,false,false,false,false,false,false,false,false,false,false,false,false,false,false,false,false,false,true,false,false]],\"label\":\"Year 2017\",\"method\":\"restyle\"},{\"args\":[\"visible\",[false,false,false,false,false,false,false,false,false,false,false,false,false,false,false,false,false,false,false,false,false,false,false,false,false,false,false,false,true,false]],\"label\":\"Year 2018\",\"method\":\"restyle\"},{\"args\":[\"visible\",[false,false,false,false,false,false,false,false,false,false,false,false,false,false,false,false,false,false,false,false,false,false,false,false,false,false,false,false,false,true]],\"label\":\"Year 2019\",\"method\":\"restyle\"}]}],\"template\":{\"data\":{\"barpolar\":[{\"marker\":{\"line\":{\"color\":\"#E5ECF6\",\"width\":0.5},\"pattern\":{\"fillmode\":\"overlay\",\"size\":10,\"solidity\":0.2}},\"type\":\"barpolar\"}],\"bar\":[{\"error_x\":{\"color\":\"#2a3f5f\"},\"error_y\":{\"color\":\"#2a3f5f\"},\"marker\":{\"line\":{\"color\":\"#E5ECF6\",\"width\":0.5},\"pattern\":{\"fillmode\":\"overlay\",\"size\":10,\"solidity\":0.2}},\"type\":\"bar\"}],\"carpet\":[{\"aaxis\":{\"endlinecolor\":\"#2a3f5f\",\"gridcolor\":\"white\",\"linecolor\":\"white\",\"minorgridcolor\":\"white\",\"startlinecolor\":\"#2a3f5f\"},\"baxis\":{\"endlinecolor\":\"#2a3f5f\",\"gridcolor\":\"white\",\"linecolor\":\"white\",\"minorgridcolor\":\"white\",\"startlinecolor\":\"#2a3f5f\"},\"type\":\"carpet\"}],\"choropleth\":[{\"colorbar\":{\"outlinewidth\":0,\"ticks\":\"\"},\"type\":\"choropleth\"}],\"contourcarpet\":[{\"colorbar\":{\"outlinewidth\":0,\"ticks\":\"\"},\"type\":\"contourcarpet\"}],\"contour\":[{\"colorbar\":{\"outlinewidth\":0,\"ticks\":\"\"},\"colorscale\":[[0.0,\"#0d0887\"],[0.1111111111111111,\"#46039f\"],[0.2222222222222222,\"#7201a8\"],[0.3333333333333333,\"#9c179e\"],[0.4444444444444444,\"#bd3786\"],[0.5555555555555556,\"#d8576b\"],[0.6666666666666666,\"#ed7953\"],[0.7777777777777778,\"#fb9f3a\"],[0.8888888888888888,\"#fdca26\"],[1.0,\"#f0f921\"]],\"type\":\"contour\"}],\"heatmapgl\":[{\"colorbar\":{\"outlinewidth\":0,\"ticks\":\"\"},\"colorscale\":[[0.0,\"#0d0887\"],[0.1111111111111111,\"#46039f\"],[0.2222222222222222,\"#7201a8\"],[0.3333333333333333,\"#9c179e\"],[0.4444444444444444,\"#bd3786\"],[0.5555555555555556,\"#d8576b\"],[0.6666666666666666,\"#ed7953\"],[0.7777777777777778,\"#fb9f3a\"],[0.8888888888888888,\"#fdca26\"],[1.0,\"#f0f921\"]],\"type\":\"heatmapgl\"}],\"heatmap\":[{\"colorbar\":{\"outlinewidth\":0,\"ticks\":\"\"},\"colorscale\":[[0.0,\"#0d0887\"],[0.1111111111111111,\"#46039f\"],[0.2222222222222222,\"#7201a8\"],[0.3333333333333333,\"#9c179e\"],[0.4444444444444444,\"#bd3786\"],[0.5555555555555556,\"#d8576b\"],[0.6666666666666666,\"#ed7953\"],[0.7777777777777778,\"#fb9f3a\"],[0.8888888888888888,\"#fdca26\"],[1.0,\"#f0f921\"]],\"type\":\"heatmap\"}],\"histogram2dcontour\":[{\"colorbar\":{\"outlinewidth\":0,\"ticks\":\"\"},\"colorscale\":[[0.0,\"#0d0887\"],[0.1111111111111111,\"#46039f\"],[0.2222222222222222,\"#7201a8\"],[0.3333333333333333,\"#9c179e\"],[0.4444444444444444,\"#bd3786\"],[0.5555555555555556,\"#d8576b\"],[0.6666666666666666,\"#ed7953\"],[0.7777777777777778,\"#fb9f3a\"],[0.8888888888888888,\"#fdca26\"],[1.0,\"#f0f921\"]],\"type\":\"histogram2dcontour\"}],\"histogram2d\":[{\"colorbar\":{\"outlinewidth\":0,\"ticks\":\"\"},\"colorscale\":[[0.0,\"#0d0887\"],[0.1111111111111111,\"#46039f\"],[0.2222222222222222,\"#7201a8\"],[0.3333333333333333,\"#9c179e\"],[0.4444444444444444,\"#bd3786\"],[0.5555555555555556,\"#d8576b\"],[0.6666666666666666,\"#ed7953\"],[0.7777777777777778,\"#fb9f3a\"],[0.8888888888888888,\"#fdca26\"],[1.0,\"#f0f921\"]],\"type\":\"histogram2d\"}],\"histogram\":[{\"marker\":{\"pattern\":{\"fillmode\":\"overlay\",\"size\":10,\"solidity\":0.2}},\"type\":\"histogram\"}],\"mesh3d\":[{\"colorbar\":{\"outlinewidth\":0,\"ticks\":\"\"},\"type\":\"mesh3d\"}],\"parcoords\":[{\"line\":{\"colorbar\":{\"outlinewidth\":0,\"ticks\":\"\"}},\"type\":\"parcoords\"}],\"pie\":[{\"automargin\":true,\"type\":\"pie\"}],\"scatter3d\":[{\"line\":{\"colorbar\":{\"outlinewidth\":0,\"ticks\":\"\"}},\"marker\":{\"colorbar\":{\"outlinewidth\":0,\"ticks\":\"\"}},\"type\":\"scatter3d\"}],\"scattercarpet\":[{\"marker\":{\"colorbar\":{\"outlinewidth\":0,\"ticks\":\"\"}},\"type\":\"scattercarpet\"}],\"scattergeo\":[{\"marker\":{\"colorbar\":{\"outlinewidth\":0,\"ticks\":\"\"}},\"type\":\"scattergeo\"}],\"scattergl\":[{\"marker\":{\"colorbar\":{\"outlinewidth\":0,\"ticks\":\"\"}},\"type\":\"scattergl\"}],\"scattermapbox\":[{\"marker\":{\"colorbar\":{\"outlinewidth\":0,\"ticks\":\"\"}},\"type\":\"scattermapbox\"}],\"scatterpolargl\":[{\"marker\":{\"colorbar\":{\"outlinewidth\":0,\"ticks\":\"\"}},\"type\":\"scatterpolargl\"}],\"scatterpolar\":[{\"marker\":{\"colorbar\":{\"outlinewidth\":0,\"ticks\":\"\"}},\"type\":\"scatterpolar\"}],\"scatter\":[{\"marker\":{\"colorbar\":{\"outlinewidth\":0,\"ticks\":\"\"}},\"type\":\"scatter\"}],\"scatterternary\":[{\"marker\":{\"colorbar\":{\"outlinewidth\":0,\"ticks\":\"\"}},\"type\":\"scatterternary\"}],\"surface\":[{\"colorbar\":{\"outlinewidth\":0,\"ticks\":\"\"},\"colorscale\":[[0.0,\"#0d0887\"],[0.1111111111111111,\"#46039f\"],[0.2222222222222222,\"#7201a8\"],[0.3333333333333333,\"#9c179e\"],[0.4444444444444444,\"#bd3786\"],[0.5555555555555556,\"#d8576b\"],[0.6666666666666666,\"#ed7953\"],[0.7777777777777778,\"#fb9f3a\"],[0.8888888888888888,\"#fdca26\"],[1.0,\"#f0f921\"]],\"type\":\"surface\"}],\"table\":[{\"cells\":{\"fill\":{\"color\":\"#EBF0F8\"},\"line\":{\"color\":\"white\"}},\"header\":{\"fill\":{\"color\":\"#C8D4E3\"},\"line\":{\"color\":\"white\"}},\"type\":\"table\"}]},\"layout\":{\"annotationdefaults\":{\"arrowcolor\":\"#2a3f5f\",\"arrowhead\":0,\"arrowwidth\":1},\"autotypenumbers\":\"strict\",\"coloraxis\":{\"colorbar\":{\"outlinewidth\":0,\"ticks\":\"\"}},\"colorscale\":{\"diverging\":[[0,\"#8e0152\"],[0.1,\"#c51b7d\"],[0.2,\"#de77ae\"],[0.3,\"#f1b6da\"],[0.4,\"#fde0ef\"],[0.5,\"#f7f7f7\"],[0.6,\"#e6f5d0\"],[0.7,\"#b8e186\"],[0.8,\"#7fbc41\"],[0.9,\"#4d9221\"],[1,\"#276419\"]],\"sequential\":[[0.0,\"#0d0887\"],[0.1111111111111111,\"#46039f\"],[0.2222222222222222,\"#7201a8\"],[0.3333333333333333,\"#9c179e\"],[0.4444444444444444,\"#bd3786\"],[0.5555555555555556,\"#d8576b\"],[0.6666666666666666,\"#ed7953\"],[0.7777777777777778,\"#fb9f3a\"],[0.8888888888888888,\"#fdca26\"],[1.0,\"#f0f921\"]],\"sequentialminus\":[[0.0,\"#0d0887\"],[0.1111111111111111,\"#46039f\"],[0.2222222222222222,\"#7201a8\"],[0.3333333333333333,\"#9c179e\"],[0.4444444444444444,\"#bd3786\"],[0.5555555555555556,\"#d8576b\"],[0.6666666666666666,\"#ed7953\"],[0.7777777777777778,\"#fb9f3a\"],[0.8888888888888888,\"#fdca26\"],[1.0,\"#f0f921\"]]},\"colorway\":[\"#636efa\",\"#EF553B\",\"#00cc96\",\"#ab63fa\",\"#FFA15A\",\"#19d3f3\",\"#FF6692\",\"#B6E880\",\"#FF97FF\",\"#FECB52\"],\"font\":{\"color\":\"#2a3f5f\"},\"geo\":{\"bgcolor\":\"white\",\"lakecolor\":\"white\",\"landcolor\":\"#E5ECF6\",\"showlakes\":true,\"showland\":true,\"subunitcolor\":\"white\"},\"hoverlabel\":{\"align\":\"left\"},\"hovermode\":\"closest\",\"mapbox\":{\"style\":\"light\"},\"paper_bgcolor\":\"white\",\"plot_bgcolor\":\"#E5ECF6\",\"polar\":{\"angularaxis\":{\"gridcolor\":\"white\",\"linecolor\":\"white\",\"ticks\":\"\"},\"bgcolor\":\"#E5ECF6\",\"radialaxis\":{\"gridcolor\":\"white\",\"linecolor\":\"white\",\"ticks\":\"\"}},\"scene\":{\"xaxis\":{\"backgroundcolor\":\"#E5ECF6\",\"gridcolor\":\"white\",\"gridwidth\":2,\"linecolor\":\"white\",\"showbackground\":true,\"ticks\":\"\",\"zerolinecolor\":\"white\"},\"yaxis\":{\"backgroundcolor\":\"#E5ECF6\",\"gridcolor\":\"white\",\"gridwidth\":2,\"linecolor\":\"white\",\"showbackground\":true,\"ticks\":\"\",\"zerolinecolor\":\"white\"},\"zaxis\":{\"backgroundcolor\":\"#E5ECF6\",\"gridcolor\":\"white\",\"gridwidth\":2,\"linecolor\":\"white\",\"showbackground\":true,\"ticks\":\"\",\"zerolinecolor\":\"white\"}},\"shapedefaults\":{\"line\":{\"color\":\"#2a3f5f\"}},\"ternary\":{\"aaxis\":{\"gridcolor\":\"white\",\"linecolor\":\"white\",\"ticks\":\"\"},\"baxis\":{\"gridcolor\":\"white\",\"linecolor\":\"white\",\"ticks\":\"\"},\"bgcolor\":\"#E5ECF6\",\"caxis\":{\"gridcolor\":\"white\",\"linecolor\":\"white\",\"ticks\":\"\"}},\"title\":{\"x\":0.05},\"xaxis\":{\"automargin\":true,\"gridcolor\":\"white\",\"linecolor\":\"white\",\"ticks\":\"\",\"title\":{\"standoff\":15},\"zerolinecolor\":\"white\",\"zerolinewidth\":2},\"yaxis\":{\"automargin\":true,\"gridcolor\":\"white\",\"linecolor\":\"white\",\"ticks\":\"\",\"title\":{\"standoff\":15},\"zerolinecolor\":\"white\",\"zerolinewidth\":2}}},\"title\":{\"text\":\"NOX Emissions Statewise since 1990 to 2020\"}},                        {\"responsive\": true}                    ).then(function(){\n",
       "                            \n",
       "var gd = document.getElementById('4d2a592e-b87b-444a-af4a-480f550b31ca');\n",
       "var x = new MutationObserver(function (mutations, observer) {{\n",
       "        var display = window.getComputedStyle(gd).display;\n",
       "        if (!display || display === 'none') {{\n",
       "            console.log([gd, 'removed!']);\n",
       "            Plotly.purge(gd);\n",
       "            observer.disconnect();\n",
       "        }}\n",
       "}});\n",
       "\n",
       "// Listen for the removal of the full notebook cells\n",
       "var notebookContainer = gd.closest('#notebook-container');\n",
       "if (notebookContainer) {{\n",
       "    x.observe(notebookContainer, {childList: true});\n",
       "}}\n",
       "\n",
       "// Listen for the clearing of the current output cell\n",
       "var outputEl = gd.closest('.output');\n",
       "if (outputEl) {{\n",
       "    x.observe(outputEl, {childList: true});\n",
       "}}\n",
       "\n",
       "                        })                };                });            </script>        </div>"
      ]
     },
     "metadata": {},
     "output_type": "display_data"
    }
   ],
   "source": [
    "year = 1990\n",
    "\n",
    "\n",
    "# scl = [[0.0, '#ffffff'],[0.2, '#b4a8ce'],[0.4, '#8573a9'],\n",
    "#        [0.6, '#7159a3'],[0.8, '#5732a1'],[1.0, '#2c0579']] # purples\n",
    "\n",
    "data_slider = []\n",
    "for year in sorted(df['period'].unique()):\n",
    "\n",
    "    data_each_yr = dict(\n",
    "                        type='choropleth',\n",
    "                        locations = list(nox[year].keys()),\n",
    "                        z=list(nox[year].values()),\n",
    "                        locationmode='USA-states',\n",
    "                        # colorscale = scl,\n",
    "                        colorbar= {'title':'# Sightings'})\n",
    "\n",
    "    data_slider.append(data_each_yr)\n",
    "\n",
    "steps = []\n",
    "for i in range(len(data_slider)):\n",
    "    step = dict(method='restyle',\n",
    "                args=['visible', [False] * len(data_slider)],\n",
    "                label='Year {}'.format(i + 1990))\n",
    "    step['args'][1][i] = True\n",
    "    steps.append(step)\n",
    "\n",
    "sliders = [dict(active=0, pad={\"t\": 1}, steps=steps)]\n",
    "\n",
    "layout = dict(title ='NOX Emissions Statewise since 1990 to 2020', geo=dict(scope='usa',\n",
    "                       projection={'type': 'albers usa'}),\n",
    "              sliders=sliders)\n",
    "\n",
    "fig = dict(data=data_slider, layout=layout)\n",
    "po.iplot(fig)"
   ]
  },
  {
   "cell_type": "markdown",
   "id": "aa036084-5fa6-482d-9363-11e8009309d0",
   "metadata": {},
   "source": [
    "### CO2 Emissions"
   ]
  },
  {
   "cell_type": "code",
   "execution_count": 141,
   "id": "30b6c9a1-0048-43c0-8892-fd7948d43d6e",
   "metadata": {},
   "outputs": [],
   "source": [
    "co2 = {}\n",
    "for year in df['period'].unique():\n",
    "    d = {}\n",
    "    for i in df.values:\n",
    "        if i[1] == year and i[5] == 'Total':\n",
    "            d[i[2]] = i[11]\n",
    "    co2[year] = d"
   ]
  },
  {
   "cell_type": "code",
   "execution_count": 142,
   "id": "aef10ff9-631e-4f22-8023-8ab23356b7b9",
   "metadata": {},
   "outputs": [
    {
     "data": {
      "application/vnd.plotly.v1+json": {
       "config": {
        "linkText": "Export to plot.ly",
        "plotlyServerURL": "https://plot.ly",
        "showLink": false
       },
       "data": [
        {
         "colorbar": {
          "title": {
           "text": "# Sightings"
          }
         },
         "colorscale": [
          [
           0,
           "#ffffff"
          ],
          [
           0.2,
           "#b4a8ce"
          ],
          [
           0.4,
           "#8573a9"
          ],
          [
           0.6,
           "#7159a3"
          ],
          [
           0.8,
           "#5732a1"
          ],
          [
           1,
           "#2c0579"
          ]
         ],
         "locationmode": "USA-states",
         "locations": [
          "AR",
          "CT",
          "DC",
          "DE",
          "FL",
          "AZ",
          "CA",
          "CO",
          "AK",
          "AL",
          "GA",
          "IA",
          "ID",
          "IL",
          "LA",
          "MA",
          "MD",
          "IN",
          "KS",
          "KY",
          "HI",
          "MN",
          "MO",
          "ND",
          "NE",
          "NH",
          "NJ",
          "MS",
          "MT",
          "NC",
          "ME",
          "MI",
          "NV",
          "NY"
         ],
         "type": "choropleth",
         "visible": true,
         "z": [
          23426,
          12103,
          410,
          8885,
          91555,
          33111,
          52656,
          31517,
          4209,
          52936,
          67853,
          29954,
          489,
          60762,
          44983,
          27816,
          27350,
          99079,
          27517,
          66691,
          8064,
          31917,
          48705,
          28488,
          13558,
          5087,
          13637,
          14777,
          16129,
          49000,
          5205,
          71755,
          16695,
          69088
         ]
        },
        {
         "colorbar": {
          "title": {
           "text": "# Sightings"
          }
         },
         "colorscale": [
          [
           0,
           "#ffffff"
          ],
          [
           0.2,
           "#b4a8ce"
          ],
          [
           0.4,
           "#8573a9"
          ],
          [
           0.6,
           "#7159a3"
          ],
          [
           0.8,
           "#5732a1"
          ],
          [
           1,
           "#2c0579"
          ]
         ],
         "locationmode": "USA-states",
         "locations": [
          "AL",
          "AR",
          "DC",
          "DE",
          "FL",
          "AZ",
          "CA",
          "CO",
          "CT",
          "AK",
          "GA",
          "IA",
          "ID",
          "IL",
          "LA",
          "MA",
          "MD",
          "IN",
          "KS",
          "KY",
          "HI",
          "MN",
          "MO",
          "ND",
          "NE",
          "NH",
          "MS",
          "MT",
          "NC",
          "ME",
          "MI",
          "NJ",
          "NV",
          "NY",
          "RI"
         ],
         "type": "choropleth",
         "visible": false,
         "z": [
          57041,
          23698,
          233,
          8180,
          98018,
          33395,
          50078,
          30807,
          11760,
          4071,
          61373,
          31081,
          438,
          61880,
          44986,
          28674,
          26985,
          98572,
          27654,
          67800,
          6888,
          30651,
          48945,
          28981,
          14449,
          4644,
          13516,
          17504,
          49624,
          4477,
          72024,
          14277,
          17903,
          64917,
          1441
         ]
        },
        {
         "colorbar": {
          "title": {
           "text": "# Sightings"
          }
         },
         "colorscale": [
          [
           0,
           "#ffffff"
          ],
          [
           0.2,
           "#b4a8ce"
          ],
          [
           0.4,
           "#8573a9"
          ],
          [
           0.6,
           "#7159a3"
          ],
          [
           0.8,
           "#5732a1"
          ],
          [
           1,
           "#2c0579"
          ]
         ],
         "locationmode": "USA-states",
         "locations": [
          "AL",
          "AR",
          "DC",
          "DE",
          "FL",
          "AZ",
          "CA",
          "CO",
          "CT",
          "AK",
          "GA",
          "IA",
          "ID",
          "IL",
          "MA",
          "MD",
          "IN",
          "KS",
          "KY",
          "LA",
          "HI",
          "MN",
          "MO",
          "ND",
          "NE",
          "NH",
          "MS",
          "MT",
          "NC",
          "ME",
          "MI",
          "NJ",
          "NY",
          "OH"
         ],
         "type": "choropleth",
         "visible": false,
         "z": [
          60445,
          24164,
          116,
          8007,
          97049,
          35848,
          57981,
          31794,
          9758,
          3945,
          59695,
          30170,
          652,
          58440,
          27127,
          26262,
          97274,
          25011,
          68862,
          46743,
          7835,
          31201,
          47484,
          30133,
          13314,
          4509,
          12035,
          18450,
          57165,
          4733,
          68609,
          15512,
          60067,
          115123
         ]
        },
        {
         "colorbar": {
          "title": {
           "text": "# Sightings"
          }
         },
         "colorscale": [
          [
           0,
           "#ffffff"
          ],
          [
           0.2,
           "#b4a8ce"
          ],
          [
           0.4,
           "#8573a9"
          ],
          [
           0.6,
           "#7159a3"
          ],
          [
           0.8,
           "#5732a1"
          ],
          [
           1,
           "#2c0579"
          ]
         ],
         "locationmode": "USA-states",
         "locations": [
          "AR",
          "CT",
          "DC",
          "DE",
          "AZ",
          "CA",
          "CO",
          "AK",
          "AL",
          "FL",
          "IA",
          "ID",
          "LA",
          "MA",
          "MD",
          "IL",
          "IN",
          "KS",
          "KY",
          "GA",
          "HI",
          "ME",
          "MN",
          "MO",
          "ND",
          "NE",
          "NH",
          "MS",
          "MT",
          "NC",
          "MI",
          "NJ",
          "NV",
          "NY"
         ],
         "type": "choropleth",
         "visible": false,
         "z": [
          21754,
          8633,
          225,
          8934,
          37629,
          54453,
          32497,
          4042,
          66833,
          100571,
          32348,
          706,
          48940,
          24698,
          28634,
          70044,
          100581,
          30333,
          77072,
          64342,
          7770,
          4704,
          33333,
          43193,
          30446,
          15699,
          4666,
          15074,
          15142,
          61925,
          69775,
          16170,
          18190,
          53613
         ]
        },
        {
         "colorbar": {
          "title": {
           "text": "# Sightings"
          }
         },
         "colorscale": [
          [
           0,
           "#ffffff"
          ],
          [
           0.2,
           "#b4a8ce"
          ],
          [
           0.4,
           "#8573a9"
          ],
          [
           0.6,
           "#7159a3"
          ],
          [
           0.8,
           "#5732a1"
          ],
          [
           1,
           "#2c0579"
          ]
         ],
         "locationmode": "USA-states",
         "locations": [
          "AL",
          "AR",
          "DC",
          "DE",
          "FL",
          "AZ",
          "CA",
          "CO",
          "CT",
          "AK",
          "IA",
          "ID",
          "IL",
          "MA",
          "MD",
          "IN",
          "KS",
          "KY",
          "LA",
          "GA",
          "HI",
          "MN",
          "MO",
          "ND",
          "NE",
          "NH",
          "MS",
          "MT",
          "NC",
          "ME",
          "MI",
          "NJ",
          "NV",
          "NY",
          "RI"
         ],
         "type": "choropleth",
         "visible": false,
         "z": [
          63295,
          24148,
          311,
          8693,
          104094,
          39019,
          62249,
          33837,
          8510,
          4111,
          32714,
          673,
          72699,
          24991,
          29532,
          104021,
          30412,
          75497,
          49648,
          67015,
          7967,
          33747,
          50701,
          30404,
          15100,
          4633,
          15327,
          17896,
          56740,
          4753,
          75232,
          18744,
          19658,
          53404,
          2319
         ]
        },
        {
         "colorbar": {
          "title": {
           "text": "# Sightings"
          }
         },
         "colorscale": [
          [
           0,
           "#ffffff"
          ],
          [
           0.2,
           "#b4a8ce"
          ],
          [
           0.4,
           "#8573a9"
          ],
          [
           0.6,
           "#7159a3"
          ],
          [
           0.8,
           "#5732a1"
          ],
          [
           1,
           "#2c0579"
          ]
         ],
         "locationmode": "USA-states",
         "locations": [
          "AL",
          "AR",
          "DC",
          "DE",
          "FL",
          "AZ",
          "CA",
          "CO",
          "CT",
          "AK",
          "GA",
          "IA",
          "ID",
          "IL",
          "MA",
          "MD",
          "IN",
          "KS",
          "KY",
          "LA",
          "HI",
          "MN",
          "MO",
          "ND",
          "NE",
          "NH",
          "MS",
          "MT",
          "NC",
          "ME",
          "MI",
          "NJ",
          "NV",
          "NY",
          "RI"
         ],
         "type": "choropleth",
         "visible": false,
         "z": [
          68646,
          25880,
          223,
          8094,
          105950,
          33339,
          50273,
          32895,
          9735,
          4096,
          71705,
          34812,
          747,
          73663,
          23889,
          28555,
          105826,
          29245,
          77902,
          51484,
          8350,
          33940,
          56528,
          29600,
          17124,
          4541,
          16595,
          16853,
          59949,
          4898,
          75173,
          20148,
          18078,
          56979,
          2178
         ]
        },
        {
         "colorbar": {
          "title": {
           "text": "# Sightings"
          }
         },
         "colorscale": [
          [
           0,
           "#ffffff"
          ],
          [
           0.2,
           "#b4a8ce"
          ],
          [
           0.4,
           "#8573a9"
          ],
          [
           0.6,
           "#7159a3"
          ],
          [
           0.8,
           "#5732a1"
          ],
          [
           1,
           "#2c0579"
          ]
         ],
         "locationmode": "USA-states",
         "locations": [
          "AL",
          "AR",
          "DC",
          "DE",
          "FL",
          "AZ",
          "CA",
          "CO",
          "CT",
          "AK",
          "GA",
          "IA",
          "ID",
          "IL",
          "MA",
          "MD",
          "IN",
          "KS",
          "KY",
          "LA",
          "HI",
          "ME",
          "MO",
          "ND",
          "NE",
          "NH",
          "MS",
          "MT",
          "NC",
          "MI",
          "MN",
          "NJ",
          "NV",
          "NY",
          "OH",
          "RI"
         ],
         "type": "choropleth",
         "visible": false,
         "z": [
          74712,
          28255,
          136,
          7943,
          111003,
          33396,
          47131,
          34575,
          11303,
          4183,
          70949,
          34760,
          689,
          81670,
          23363,
          29198,
          109006,
          33492,
          80180,
          47710,
          8532,
          4499,
          59200,
          30949,
          17124,
          4333,
          18459,
          14128,
          67661,
          77660,
          34536,
          19117,
          19466,
          52924,
          124330,
          3661
         ]
        },
        {
         "colorbar": {
          "title": {
           "text": "# Sightings"
          }
         },
         "colorscale": [
          [
           0,
           "#ffffff"
          ],
          [
           0.2,
           "#b4a8ce"
          ],
          [
           0.4,
           "#8573a9"
          ],
          [
           0.6,
           "#7159a3"
          ],
          [
           0.8,
           "#5732a1"
          ],
          [
           1,
           "#2c0579"
          ]
         ],
         "locationmode": "USA-states",
         "locations": [
          "AL",
          "AR",
          "DC",
          "DE",
          "FL",
          "AZ",
          "CA",
          "CO",
          "CT",
          "AK",
          "GA",
          "IA",
          "ID",
          "LA",
          "MA",
          "MD",
          "IL",
          "IN",
          "KS",
          "KY",
          "HI",
          "ME",
          "MN",
          "MO",
          "NE",
          "NH",
          "NJ",
          "MS",
          "MT",
          "NC",
          "ND",
          "MI",
          "NV",
          "NY",
          "OH"
         ],
         "type": "choropleth",
         "visible": false,
         "z": [
          72920,
          26630,
          91,
          6898,
          115260,
          36340,
          50126,
          34812,
          14496,
          4502,
          74925,
          35831,
          852,
          51856,
          28997,
          29231,
          86148,
          113670,
          31204,
          83104,
          8460,
          4732,
          35237,
          62574,
          18389,
          5314,
          19979,
          19771,
          16371,
          71156,
          29672,
          77409,
          19341,
          58620,
          121388
         ]
        },
        {
         "colorbar": {
          "title": {
           "text": "# Sightings"
          }
         },
         "colorscale": [
          [
           0,
           "#ffffff"
          ],
          [
           0.2,
           "#b4a8ce"
          ],
          [
           0.4,
           "#8573a9"
          ],
          [
           0.6,
           "#7159a3"
          ],
          [
           0.8,
           "#5732a1"
          ],
          [
           1,
           "#2c0579"
          ]
         ],
         "locationmode": "USA-states",
         "locations": [
          "AL",
          "AR",
          "DC",
          "DE",
          "FL",
          "AZ",
          "CA",
          "CO",
          "CT",
          "AK",
          "IA",
          "ID",
          "IL",
          "LA",
          "MA",
          "MD",
          "IN",
          "KS",
          "KY",
          "GA",
          "HI",
          "ME",
          "MN",
          "MO",
          "MS",
          "NE",
          "NH",
          "MT",
          "NC",
          "ND",
          "MI",
          "NJ",
          "NV",
          "NY",
          "OH"
         ],
         "type": "choropleth",
         "visible": false,
         "z": [
          75378,
          28319,
          263,
          6651,
          126257,
          38697,
          53190,
          36187,
          13336,
          4302,
          39429,
          935,
          86386,
          56497,
          29681,
          32353,
          115168,
          31844,
          83251,
          77202,
          8363,
          5590,
          36308,
          66319,
          21524,
          19672,
          5196,
          18711,
          71113,
          31665,
          82135,
          18938,
          21341,
          62654,
          125309
         ]
        },
        {
         "colorbar": {
          "title": {
           "text": "# Sightings"
          }
         },
         "colorscale": [
          [
           0,
           "#ffffff"
          ],
          [
           0.2,
           "#b4a8ce"
          ],
          [
           0.4,
           "#8573a9"
          ],
          [
           0.6,
           "#7159a3"
          ],
          [
           0.8,
           "#5732a1"
          ],
          [
           1,
           "#2c0579"
          ]
         ],
         "locationmode": "USA-states",
         "locations": [
          "AL",
          "AR",
          "CT",
          "DC",
          "DE",
          "FL",
          "AZ",
          "CA",
          "CO",
          "AK",
          "IA",
          "ID",
          "LA",
          "MA",
          "MD",
          "IL",
          "IN",
          "KS",
          "KY",
          "GA",
          "HI",
          "ME",
          "MN",
          "MO",
          "MS",
          "NE",
          "NH",
          "NJ",
          "MT",
          "NC",
          "ND",
          "MI",
          "NY",
          "OH"
         ],
         "type": "choropleth",
         "visible": false,
         "z": [
          76751,
          29491,
          12142,
          255,
          6236,
          122574,
          40972,
          57885,
          36305,
          4384,
          39756,
          940,
          56635,
          26724,
          33447,
          87522,
          117839,
          33969,
          85793,
          79038,
          8386,
          6911,
          34992,
          65614,
          22424,
          18986,
          5079,
          19741,
          18822,
          70315,
          31939,
          81471,
          62786,
          120740
         ]
        },
        {
         "colorbar": {
          "title": {
           "text": "# Sightings"
          }
         },
         "colorscale": [
          [
           0,
           "#ffffff"
          ],
          [
           0.2,
           "#b4a8ce"
          ],
          [
           0.4,
           "#8573a9"
          ],
          [
           0.6,
           "#7159a3"
          ],
          [
           0.8,
           "#5732a1"
          ],
          [
           1,
           "#2c0579"
          ]
         ],
         "locationmode": "USA-states",
         "locations": [
          "AR",
          "CT",
          "DC",
          "DE",
          "AZ",
          "CA",
          "CO",
          "AK",
          "AL",
          "FL",
          "IA",
          "ID",
          "LA",
          "MA",
          "MD",
          "IL",
          "IN",
          "KS",
          "KY",
          "GA",
          "HI",
          "ME",
          "MN",
          "MO",
          "ND",
          "NE",
          "NH",
          "MS",
          "MT",
          "NC",
          "MI",
          "NJ",
          "NV",
          "NY"
         ],
         "type": "choropleth",
         "visible": false,
         "z": [
          29064,
          12652,
          171,
          6080,
          45872,
          67797,
          40086,
          4558,
          81515,
          124962,
          41884,
          828,
          58092,
          24816,
          32476,
          94743,
          124067,
          37151,
          87586,
          82587,
          8679,
          6604,
          37860,
          67067,
          32614,
          19809,
          4906,
          22531,
          17896,
          74166,
          78857,
          21996,
          24760,
          61904
         ]
        },
        {
         "colorbar": {
          "title": {
           "text": "# Sightings"
          }
         },
         "colorscale": [
          [
           0,
           "#ffffff"
          ],
          [
           0.2,
           "#b4a8ce"
          ],
          [
           0.4,
           "#8573a9"
          ],
          [
           0.6,
           "#7159a3"
          ],
          [
           0.8,
           "#5732a1"
          ],
          [
           1,
           "#2c0579"
          ]
         ],
         "locationmode": "USA-states",
         "locations": [
          "AR",
          "DC",
          "DE",
          "FL",
          "AZ",
          "CA",
          "CO",
          "CT",
          "AK",
          "AL",
          "IA",
          "ID",
          "IL",
          "LA",
          "MA",
          "MD",
          "IN",
          "KS",
          "KY",
          "GA",
          "HI",
          "MN",
          "MO",
          "ND",
          "NE",
          "NH",
          "MS",
          "MT",
          "NC",
          "ME",
          "MI",
          "NV",
          "NY"
         ],
         "type": "choropleth",
         "visible": false,
         "z": [
          28486,
          164,
          6083,
          123562,
          47009,
          71663,
          42365,
          11412,
          4632,
          78800,
          41529,
          1101,
          93152,
          54980,
          24788,
          30757,
          118634,
          35932,
          88535,
          76637,
          8806,
          36548,
          70204,
          32085,
          21453,
          4546,
          31529,
          18526,
          71259,
          8860,
          77964,
          24139,
          61003
         ]
        },
        {
         "colorbar": {
          "title": {
           "text": "# Sightings"
          }
         },
         "colorscale": [
          [
           0,
           "#ffffff"
          ],
          [
           0.2,
           "#b4a8ce"
          ],
          [
           0.4,
           "#8573a9"
          ],
          [
           0.6,
           "#7159a3"
          ],
          [
           0.8,
           "#5732a1"
          ],
          [
           1,
           "#2c0579"
          ]
         ],
         "locationmode": "USA-states",
         "locations": [
          "AL",
          "AR",
          "DC",
          "DE",
          "FL",
          "AZ",
          "CA",
          "CO",
          "CT",
          "AK",
          "IA",
          "ID",
          "IL",
          "LA",
          "MA",
          "MD",
          "IN",
          "KS",
          "KY",
          "GA",
          "HI",
          "ME",
          "MO",
          "ND",
          "NE",
          "NH",
          "MS",
          "MT",
          "NC",
          "MI",
          "MN",
          "NJ",
          "NV",
          "NY",
          "OH"
         ],
         "type": "choropleth",
         "visible": false,
         "z": [
          80938,
          27369,
          264,
          6070,
          125434,
          46006,
          60018,
          41625,
          10381,
          4454,
          41583,
          773,
          97104,
          55435,
          25314,
          31516,
          116777,
          39218,
          88104,
          82683,
          9347,
          10220,
          70930,
          32444,
          20802,
          4604,
          23538,
          16835,
          73406,
          75225,
          37929,
          22153,
          21284,
          56261,
          124432
         ]
        },
        {
         "colorbar": {
          "title": {
           "text": "# Sightings"
          }
         },
         "colorscale": [
          [
           0,
           "#ffffff"
          ],
          [
           0.2,
           "#b4a8ce"
          ],
          [
           0.4,
           "#8573a9"
          ],
          [
           0.6,
           "#7159a3"
          ],
          [
           0.8,
           "#5732a1"
          ],
          [
           1,
           "#2c0579"
          ]
         ],
         "locationmode": "USA-states",
         "locations": [
          "AR",
          "CT",
          "DC",
          "DE",
          "FL",
          "AZ",
          "CA",
          "CO",
          "AK",
          "AL",
          "ID",
          "IL",
          "LA",
          "MA",
          "IN",
          "KS",
          "KY",
          "GA",
          "HI",
          "IA",
          "MD",
          "MN",
          "MO",
          "ND",
          "NE",
          "NH",
          "NJ",
          "MS",
          "MT",
          "NC",
          "ME",
          "MI",
          "NV",
          "NY"
         ],
         "type": "choropleth",
         "visible": false,
         "z": [
          27667,
          9639,
          83,
          7066,
          130010,
          47259,
          56308,
          41178,
          3986,
          81285,
          1114,
          96423,
          56440,
          27440,
          118059,
          39128,
          86473,
          80255,
          8750,
          41314,
          32968,
          40314,
          76952,
          32033,
          21754,
          7672,
          20381,
          23638,
          18980,
          72713,
          7765,
          74192,
          23262,
          57482
         ]
        },
        {
         "colorbar": {
          "title": {
           "text": "# Sightings"
          }
         },
         "colorscale": [
          [
           0,
           "#ffffff"
          ],
          [
           0.2,
           "#b4a8ce"
          ],
          [
           0.4,
           "#8573a9"
          ],
          [
           0.6,
           "#7159a3"
          ],
          [
           0.8,
           "#5732a1"
          ],
          [
           1,
           "#2c0579"
          ]
         ],
         "locationmode": "USA-states",
         "locations": [
          "AR",
          "CT",
          "DC",
          "DE",
          "AZ",
          "CA",
          "CO",
          "AK",
          "AL",
          "FL",
          "IA",
          "ID",
          "LA",
          "MA",
          "MD",
          "IL",
          "IN",
          "KS",
          "KY",
          "GA",
          "HI",
          "ME",
          "MN",
          "MO",
          "NE",
          "NH",
          "MS",
          "MT",
          "NC",
          "ND",
          "MI",
          "NJ",
          "NY",
          "OH"
         ],
         "type": "choropleth",
         "visible": false,
         "z": [
          28844,
          10406,
          56,
          6594,
          52900,
          60170,
          41180,
          4777,
          81328,
          131119,
          41883,
          1309,
          58958,
          26285,
          32367,
          102825,
          120767,
          38361,
          88209,
          82762,
          9203,
          7390,
          38954,
          78111,
          21337,
          8246,
          25591,
          19625,
          73304,
          30657,
          78572,
          21488,
          58101,
          124744
         ]
        },
        {
         "colorbar": {
          "title": {
           "text": "# Sightings"
          }
         },
         "colorscale": [
          [
           0,
           "#ffffff"
          ],
          [
           0.2,
           "#b4a8ce"
          ],
          [
           0.4,
           "#8573a9"
          ],
          [
           0.6,
           "#7159a3"
          ],
          [
           0.8,
           "#5732a1"
          ],
          [
           1,
           "#2c0579"
          ]
         ],
         "locationmode": "USA-states",
         "locations": [
          "AR",
          "CT",
          "DC",
          "DE",
          "FL",
          "AZ",
          "CA",
          "CO",
          "AK",
          "AL",
          "GA",
          "IA",
          "ID",
          "MA",
          "MD",
          "IL",
          "IN",
          "KS",
          "KY",
          "LA",
          "HI",
          "ME",
          "MN",
          "MO",
          "MS",
          "NE",
          "NH",
          "NJ",
          "MT",
          "NC",
          "ND",
          "MI",
          "NY",
          "OH"
         ],
         "type": "choropleth",
         "visible": false,
         "z": [
          26775,
          11661,
          236,
          6878,
          131543,
          52003,
          54999,
          41397,
          4364,
          84852,
          90381,
          40869,
          1345,
          27063,
          33694,
          102379,
          123662,
          38271,
          91359,
          57660,
          9132,
          7112,
          39516,
          81163,
          25373,
          22064,
          8240,
          21292,
          19875,
          76748,
          33139,
          79856,
          61025,
          133417
         ]
        },
        {
         "colorbar": {
          "title": {
           "text": "# Sightings"
          }
         },
         "colorscale": [
          [
           0,
           "#ffffff"
          ],
          [
           0.2,
           "#b4a8ce"
          ],
          [
           0.4,
           "#8573a9"
          ],
          [
           0.6,
           "#7159a3"
          ],
          [
           0.8,
           "#5732a1"
          ],
          [
           1,
           "#2c0579"
          ]
         ],
         "locationmode": "USA-states",
         "locations": [
          "AL",
          "AR",
          "CT",
          "DC",
          "DE",
          "AZ",
          "CA",
          "CO",
          "AK",
          "FL",
          "ID",
          "LA",
          "MA",
          "MD",
          "IL",
          "IN",
          "KS",
          "KY",
          "GA",
          "HI",
          "IA",
          "ME",
          "MN",
          "MO",
          "NE",
          "NH",
          "MS",
          "MT",
          "NC",
          "ND",
          "MI",
          "NJ",
          "NY",
          "OH"
         ],
         "type": "choropleth",
         "visible": false,
         "z": [
          86153,
          28931,
          11169,
          100,
          5949,
          54012,
          59732,
          42426,
          4627,
          127682,
          882,
          54650,
          23911,
          30836,
          101074,
          123527,
          36234,
          94238,
          91020,
          9138,
          41245,
          5677,
          38183,
          80422,
          21892,
          7130,
          26035,
          19404,
          73964,
          31554,
          76718,
          20036,
          51428,
          130568
         ]
        },
        {
         "colorbar": {
          "title": {
           "text": "# Sightings"
          }
         },
         "colorscale": [
          [
           0,
           "#ffffff"
          ],
          [
           0.2,
           "#b4a8ce"
          ],
          [
           0.4,
           "#8573a9"
          ],
          [
           0.6,
           "#7159a3"
          ],
          [
           0.8,
           "#5732a1"
          ],
          [
           1,
           "#2c0579"
          ]
         ],
         "locationmode": "USA-states",
         "locations": [
          "AR",
          "CT",
          "DC",
          "DE",
          "AZ",
          "CA",
          "CO",
          "AK",
          "AL",
          "FL",
          "IA",
          "ID",
          "LA",
          "MA",
          "MD",
          "IL",
          "IN",
          "KS",
          "KY",
          "GA",
          "HI",
          "ME",
          "MN",
          "MO",
          "NE",
          "NH",
          "MS",
          "MT",
          "NC",
          "ND",
          "MI",
          "NJ",
          "NY",
          "OH"
         ],
         "type": "choropleth",
         "visible": false,
         "z": [
          30316,
          10463,
          86,
          7299,
          56455,
          63140,
          43571,
          4343,
          88397,
          128822,
          44579,
          1284,
          54836,
          25760,
          31511,
          106299,
          123288,
          39577,
          93365,
          96436,
          9026,
          5608,
          38321,
          78410,
          20995,
          6912,
          28005,
          20347,
          79417,
          32281,
          80228,
          20771,
          53749,
          131970
         ]
        },
        {
         "colorbar": {
          "title": {
           "text": "# Sightings"
          }
         },
         "colorscale": [
          [
           0,
           "#ffffff"
          ],
          [
           0.2,
           "#b4a8ce"
          ],
          [
           0.4,
           "#8573a9"
          ],
          [
           0.6,
           "#7159a3"
          ],
          [
           0.8,
           "#5732a1"
          ],
          [
           1,
           "#2c0579"
          ]
         ],
         "locationmode": "USA-states",
         "locations": [
          "CT",
          "DC",
          "DE",
          "AR",
          "AZ",
          "CA",
          "CO",
          "AK",
          "AL",
          "FL",
          "IA",
          "ID",
          "LA",
          "MA",
          "MD",
          "IL",
          "IN",
          "KS",
          "KY",
          "GA",
          "HI",
          "ME",
          "MN",
          "MO",
          "MS",
          "NE",
          "NH",
          "NJ",
          "MT",
          "NC",
          "ND",
          "MI",
          "NY",
          "OH"
         ],
         "type": "choropleth",
         "visible": false,
         "z": [
          9451,
          70,
          6597,
          30653,
          58890,
          62549,
          41659,
          4376,
          83134,
          121052,
          46137,
          1017,
          54736,
          22263,
          29155,
          106430,
          124660,
          37315,
          94028,
          89750,
          9048,
          5314,
          36821,
          77650,
          25920,
          22460,
          6782,
          20097,
          20355,
          75344,
          32887,
          77468,
          47157,
          129061
         ]
        },
        {
         "colorbar": {
          "title": {
           "text": "# Sightings"
          }
         },
         "colorscale": [
          [
           0,
           "#ffffff"
          ],
          [
           0.2,
           "#b4a8ce"
          ],
          [
           0.4,
           "#8573a9"
          ],
          [
           0.6,
           "#7159a3"
          ],
          [
           0.8,
           "#5732a1"
          ],
          [
           1,
           "#2c0579"
          ]
         ],
         "locationmode": "USA-states",
         "locations": [
          "AR",
          "CT",
          "DC",
          "DE",
          "FL",
          "AZ",
          "CA",
          "CO",
          "AK",
          "AL",
          "GA",
          "IA",
          "ID",
          "IL",
          "LA",
          "MA",
          "IN",
          "KS",
          "KY",
          "HI",
          "MD",
          "ME",
          "MN",
          "MO",
          "NE",
          "NH",
          "MS",
          "MT",
          "NC",
          "ND",
          "MI",
          "NJ",
          "NY",
          "OH"
         ],
         "type": "choropleth",
         "visible": false,
         "z": [
          30427,
          8046,
          36,
          4143,
          114854,
          53524,
          59428,
          38989,
          4240,
          69239,
          77022,
          42978,
          1024,
          98975,
          53226,
          19683,
          111113,
          36207,
          86155,
          8661,
          25659,
          4714,
          33689,
          74716,
          23899,
          5507,
          23481,
          17548,
          64845,
          32608,
          73589,
          16086,
          38130,
          115066
         ]
        },
        {
         "colorbar": {
          "title": {
           "text": "# Sightings"
          }
         },
         "colorscale": [
          [
           0,
           "#ffffff"
          ],
          [
           0.2,
           "#b4a8ce"
          ],
          [
           0.4,
           "#8573a9"
          ],
          [
           0.6,
           "#7159a3"
          ],
          [
           0.8,
           "#5732a1"
          ],
          [
           1,
           "#2c0579"
          ]
         ],
         "locationmode": "USA-states",
         "locations": [
          "AL",
          "AR",
          "CT",
          "DC",
          "DE",
          "AZ",
          "CA",
          "CO",
          "AK",
          "FL",
          "IA",
          "ID",
          "LA",
          "MA",
          "MD",
          "IL",
          "IN",
          "KS",
          "KY",
          "GA",
          "HI",
          "ME",
          "MO",
          "ND",
          "NE",
          "NH",
          "MS",
          "MT",
          "NC",
          "MI",
          "MN",
          "NJ",
          "NV",
          "NY",
          "OH"
         ],
         "type": "choropleth",
         "visible": false,
         "z": [
          79375,
          34018,
          9201,
          191,
          4187,
          55683,
          55406,
          40499,
          4125,
          123811,
          47211,
          1213,
          58706,
          20291,
          26369,
          103128,
          116283,
          36321,
          93160,
          82592,
          8287,
          4948,
          78815,
          31064,
          24461,
          5551,
          26845,
          20370,
          73241,
          74480,
          32946,
          19160,
          17020,
          41584,
          121964
         ]
        },
        {
         "colorbar": {
          "title": {
           "text": "# Sightings"
          }
         },
         "colorscale": [
          [
           0,
           "#ffffff"
          ],
          [
           0.2,
           "#b4a8ce"
          ],
          [
           0.4,
           "#8573a9"
          ],
          [
           0.6,
           "#7159a3"
          ],
          [
           0.8,
           "#5732a1"
          ],
          [
           1,
           "#2c0579"
          ]
         ],
         "locationmode": "USA-states",
         "locations": [
          "AR",
          "CT",
          "DC",
          "DE",
          "AZ",
          "CA",
          "CO",
          "AK",
          "AL",
          "FL",
          "IA",
          "ID",
          "LA",
          "MA",
          "MD",
          "IL",
          "IN",
          "KS",
          "KY",
          "GA",
          "HI",
          "ME",
          "MN",
          "MO",
          "NE",
          "NH",
          "MS",
          "MT",
          "NC",
          "ND",
          "MI",
          "NJ",
          "NY",
          "RI"
         ],
         "type": "choropleth",
         "visible": false,
         "z": [
          35926,
          8196,
          175,
          3928,
          53536,
          47908,
          39509,
          4347,
          76413,
          114441,
          43879,
          825,
          62680,
          16404,
          23625,
          100731,
          109608,
          35119,
          92694,
          71368,
          8100,
          4351,
          32618,
          81428,
          27251,
          5127,
          23326,
          17029,
          62797,
          29855,
          69301,
          16917,
          37256,
          3595
         ]
        },
        {
         "colorbar": {
          "title": {
           "text": "# Sightings"
          }
         },
         "colorscale": [
          [
           0,
           "#ffffff"
          ],
          [
           0.2,
           "#b4a8ce"
          ],
          [
           0.4,
           "#8573a9"
          ],
          [
           0.6,
           "#7159a3"
          ],
          [
           0.8,
           "#5732a1"
          ],
          [
           1,
           "#2c0579"
          ]
         ],
         "locationmode": "USA-states",
         "locations": [
          "CT",
          "DC",
          "DE",
          "FL",
          "AR",
          "AZ",
          "CA",
          "CO",
          "AK",
          "AL",
          "GA",
          "IA",
          "ID",
          "MA",
          "MD",
          "IL",
          "IN",
          "KS",
          "KY",
          "LA",
          "HI",
          "ME",
          "MN",
          "MO",
          "MS",
          "NE",
          "NH",
          "MT",
          "NC",
          "ND",
          "MI",
          "NJ",
          "NV",
          "NY",
          "OH"
         ],
         "type": "choropleth",
         "visible": false,
         "z": [
          8987,
          66,
          4981,
          111236,
          36234,
          52350,
          59369,
          39926,
          4305,
          69107,
          59035,
          41267,
          1172,
          14346,
          20697,
          94411,
          99773,
          31693,
          85683,
          60182,
          7625,
          3722,
          28494,
          75545,
          24285,
          26467,
          4295,
          16024,
          57924,
          30934,
          67877,
          16120,
          14929,
          35669,
          95523
         ]
        },
        {
         "colorbar": {
          "title": {
           "text": "# Sightings"
          }
         },
         "colorscale": [
          [
           0,
           "#ffffff"
          ],
          [
           0.2,
           "#b4a8ce"
          ],
          [
           0.4,
           "#8573a9"
          ],
          [
           0.6,
           "#7159a3"
          ],
          [
           0.8,
           "#5732a1"
          ],
          [
           1,
           "#2c0579"
          ]
         ],
         "locationmode": "USA-states",
         "locations": [
          "AR",
          "CT",
          "DC",
          "DE",
          "AZ",
          "CA",
          "CO",
          "AK",
          "AL",
          "FL",
          "IA",
          "ID",
          "LA",
          "MA",
          "MD",
          "IL",
          "IN",
          "KS",
          "KY",
          "GA",
          "HI",
          "ME",
          "MN",
          "MO",
          "MS",
          "NE",
          "NH",
          "NJ",
          "MT",
          "NC",
          "ND",
          "MI",
          "NY",
          "OH"
         ],
         "type": "choropleth",
         "visible": false,
         "z": [
          37346,
          8726,
          49,
          4722,
          55342,
          57323,
          39387,
          3768,
          66986,
          108827,
          39175,
          1942,
          58274,
          14735,
          18950,
          97812,
          99951,
          33125,
          85304,
          56812,
          7428,
          3675,
          29255,
          78344,
          22633,
          28043,
          3447,
          15789,
          16951,
          56940,
          30274,
          67193,
          33456,
          102466
         ]
        },
        {
         "colorbar": {
          "title": {
           "text": "# Sightings"
          }
         },
         "colorscale": [
          [
           0,
           "#ffffff"
          ],
          [
           0.2,
           "#b4a8ce"
          ],
          [
           0.4,
           "#8573a9"
          ],
          [
           0.6,
           "#7159a3"
          ],
          [
           0.8,
           "#5732a1"
          ],
          [
           1,
           "#2c0579"
          ]
         ],
         "locationmode": "USA-states",
         "locations": [
          "AR",
          "DC",
          "DE",
          "FL",
          "AZ",
          "CA",
          "CO",
          "CT",
          "AK",
          "AL",
          "GA",
          "IA",
          "ID",
          "IL",
          "MA",
          "MD",
          "IN",
          "KS",
          "KY",
          "LA",
          "HI",
          "ME",
          "MN",
          "MO",
          "MS",
          "NE",
          "NH",
          "MT",
          "NC",
          "ND",
          "MI",
          "NV",
          "NY"
         ],
         "type": "choropleth",
         "visible": false,
         "z": [
          37289,
          48,
          4276,
          113146,
          53684,
          57507,
          38474,
          8452,
          3558,
          67635,
          62516,
          39312,
          1492,
          96624,
          12917,
          20701,
          104636,
          31794,
          85795,
          57137,
          7448,
          3403,
          32677,
          75735,
          24037,
          26348,
          3458,
          17678,
          58578,
          30420,
          64264,
          16222,
          34072
         ]
        },
        {
         "colorbar": {
          "title": {
           "text": "# Sightings"
          }
         },
         "colorscale": [
          [
           0,
           "#ffffff"
          ],
          [
           0.2,
           "#b4a8ce"
          ],
          [
           0.4,
           "#8573a9"
          ],
          [
           0.6,
           "#7159a3"
          ],
          [
           0.8,
           "#5732a1"
          ],
          [
           1,
           "#2c0579"
          ]
         ],
         "locationmode": "USA-states",
         "locations": [
          "AL",
          "AR",
          "DC",
          "DE",
          "FL",
          "AZ",
          "CA",
          "CO",
          "CT",
          "AK",
          "GA",
          "IA",
          "ID",
          "MA",
          "MD",
          "IL",
          "IN",
          "KS",
          "KY",
          "LA",
          "HI",
          "ME",
          "MN",
          "MO",
          "NE",
          "NH",
          "MS",
          "MT",
          "NC",
          "ND",
          "MI",
          "NJ",
          "NV",
          "NY"
         ],
         "type": "choropleth",
         "visible": false,
         "z": [
          64442,
          28587,
          36,
          4091,
          111863,
          50201,
          55481,
          37413,
          9049,
          3676,
          59274,
          35043,
          1866,
          13422,
          18314,
          84275,
          89045,
          27341,
          76427,
          56299,
          7356,
          2956,
          30307,
          67995,
          25326,
          3653,
          25171,
          18136,
          53824,
          31246,
          67119,
          19427,
          14752,
          32731
         ]
        },
        {
         "colorbar": {
          "title": {
           "text": "# Sightings"
          }
         },
         "colorscale": [
          [
           0,
           "#ffffff"
          ],
          [
           0.2,
           "#b4a8ce"
          ],
          [
           0.4,
           "#8573a9"
          ],
          [
           0.6,
           "#7159a3"
          ],
          [
           0.8,
           "#5732a1"
          ],
          [
           1,
           "#2c0579"
          ]
         ],
         "locationmode": "USA-states",
         "locations": [
          "AR",
          "CT",
          "DC",
          "DE",
          "AZ",
          "CA",
          "CO",
          "AK",
          "AL",
          "FL",
          "IA",
          "ID",
          "LA",
          "MA",
          "MD",
          "IL",
          "IN",
          "KS",
          "KY",
          "GA",
          "HI",
          "ME",
          "MN",
          "MO",
          "MS",
          "NE",
          "NH",
          "NJ",
          "MT",
          "NC",
          "ND",
          "MI",
          "NY",
          "OH"
         ],
         "type": "choropleth",
         "visible": false,
         "z": [
          31726,
          8579,
          48,
          4363,
          44531,
          47008,
          36075,
          3466,
          57776,
          110388,
          30216,
          1829,
          53162,
          12722,
          18578,
          72226,
          85393,
          25762,
          72433,
          60156,
          7257,
          2557,
          29644,
          62731,
          26272,
          23014,
          2526,
          21108,
          16470,
          52492,
          29908,
          58644,
          31295,
          81618
         ]
        },
        {
         "colorbar": {
          "title": {
           "text": "# Sightings"
          }
         },
         "colorscale": [
          [
           0,
           "#ffffff"
          ],
          [
           0.2,
           "#b4a8ce"
          ],
          [
           0.4,
           "#8573a9"
          ],
          [
           0.6,
           "#7159a3"
          ],
          [
           0.8,
           "#5732a1"
          ],
          [
           1,
           "#2c0579"
          ]
         ],
         "locationmode": "USA-states",
         "locations": [
          "AL",
          "AR",
          "DC",
          "DE",
          "FL",
          "AZ",
          "CA",
          "CO",
          "CT",
          "AK",
          "IA",
          "ID",
          "IL",
          "MA",
          "MD",
          "IN",
          "KS",
          "KY",
          "LA",
          "GA",
          "HI",
          "ME",
          "MO",
          "ND",
          "NE",
          "NH",
          "MS",
          "MT",
          "NC",
          "MI",
          "MN",
          "NJ",
          "NV",
          "NY",
          "OH",
          "RI"
         ],
         "type": "choropleth",
         "visible": false,
         "z": [
          53192,
          33322,
          37,
          3630,
          107438,
          43739,
          44433,
          35720,
          7874,
          3532,
          30661,
          1771,
          70670,
          12384,
          13379,
          81929,
          22238,
          63252,
          49961,
          54811,
          7124,
          2098,
          68645,
          30043,
          22290,
          1976,
          24151,
          15911,
          48705,
          58414,
          28344,
          18136,
          13167,
          25584,
          79917,
          2981
         ]
        },
        {
         "colorbar": {
          "title": {
           "text": "# Sightings"
          }
         },
         "colorscale": [
          [
           0,
           "#ffffff"
          ],
          [
           0.2,
           "#b4a8ce"
          ],
          [
           0.4,
           "#8573a9"
          ],
          [
           0.6,
           "#7159a3"
          ],
          [
           0.8,
           "#5732a1"
          ],
          [
           1,
           "#2c0579"
          ]
         ],
         "locationmode": "USA-states",
         "locations": [
          "AL",
          "AR",
          "DC",
          "DE",
          "FL",
          "AZ",
          "CA",
          "CO",
          "CT",
          "AK",
          "GA",
          "IA",
          "ID",
          "IL",
          "LA",
          "MA",
          "MD",
          "IN",
          "KS",
          "KY",
          "HI",
          "MN",
          "MO",
          "ND",
          "NE",
          "NH",
          "MS",
          "MT",
          "NC",
          "ME",
          "MI",
          "NJ",
          "NV",
          "NY"
         ],
         "type": "choropleth",
         "visible": false,
         "z": [
          56140,
          38349,
          43,
          3193,
          107792,
          46757,
          43579,
          34713,
          9591,
          3390,
          54803,
          34253,
          1766,
          72261,
          50770,
          9976,
          17839,
          91554,
          23748,
          66267,
          7197,
          29805,
          65623,
          31282,
          25525,
          2191,
          26157,
          15614,
          49642,
          2202,
          61435,
          18912,
          14005,
          27936
         ]
        },
        {
         "colorbar": {
          "title": {
           "text": "# Sightings"
          }
         },
         "colorscale": [
          [
           0,
           "#ffffff"
          ],
          [
           0.2,
           "#b4a8ce"
          ],
          [
           0.4,
           "#8573a9"
          ],
          [
           0.6,
           "#7159a3"
          ],
          [
           0.8,
           "#5732a1"
          ],
          [
           1,
           "#2c0579"
          ]
         ],
         "locationmode": "USA-states",
         "locations": [
          "AR",
          "DC",
          "DE",
          "FL",
          "AZ",
          "CA",
          "CO",
          "CT",
          "AK",
          "AL",
          "IA",
          "ID",
          "LA",
          "MA",
          "IL",
          "IN",
          "KS",
          "KY",
          "GA",
          "HI",
          "MD",
          "MN",
          "MO",
          "MS",
          "NE",
          "NH",
          "NJ",
          "MT",
          "NC",
          "ND",
          "ME",
          "MI",
          "NV",
          "NY",
          "OH"
         ],
         "type": "choropleth",
         "visible": false,
         "z": [
          23504,
          108,
          2675,
          96975,
          35791,
          43440,
          29113,
          10215,
          3527,
          44895,
          21164,
          2230,
          44525,
          7978,
          47595,
          64884,
          20363,
          49825,
          39957,
          6650,
          10241,
          20986,
          54206,
          26815,
          20967,
          1734,
          14942,
          10421,
          38542,
          27437,
          1831,
          53285,
          13584,
          26849,
          67350
         ]
        }
       ],
       "layout": {
        "autosize": true,
        "geo": {
         "projection": {
          "type": "albers usa"
         },
         "scope": "usa"
        },
        "sliders": [
         {
          "active": 0,
          "pad": {
           "t": 1
          },
          "steps": [
           {
            "args": [
             "visible",
             [
              true,
              false,
              false,
              false,
              false,
              false,
              false,
              false,
              false,
              false,
              false,
              false,
              false,
              false,
              false,
              false,
              false,
              false,
              false,
              false,
              false,
              false,
              false,
              false,
              false,
              false,
              false,
              false,
              false,
              false
             ]
            ],
            "label": "Year 1990",
            "method": "restyle"
           },
           {
            "args": [
             "visible",
             [
              false,
              true,
              false,
              false,
              false,
              false,
              false,
              false,
              false,
              false,
              false,
              false,
              false,
              false,
              false,
              false,
              false,
              false,
              false,
              false,
              false,
              false,
              false,
              false,
              false,
              false,
              false,
              false,
              false,
              false
             ]
            ],
            "label": "Year 1991",
            "method": "restyle"
           },
           {
            "args": [
             "visible",
             [
              false,
              false,
              true,
              false,
              false,
              false,
              false,
              false,
              false,
              false,
              false,
              false,
              false,
              false,
              false,
              false,
              false,
              false,
              false,
              false,
              false,
              false,
              false,
              false,
              false,
              false,
              false,
              false,
              false,
              false
             ]
            ],
            "label": "Year 1992",
            "method": "restyle"
           },
           {
            "args": [
             "visible",
             [
              false,
              false,
              false,
              true,
              false,
              false,
              false,
              false,
              false,
              false,
              false,
              false,
              false,
              false,
              false,
              false,
              false,
              false,
              false,
              false,
              false,
              false,
              false,
              false,
              false,
              false,
              false,
              false,
              false,
              false
             ]
            ],
            "label": "Year 1993",
            "method": "restyle"
           },
           {
            "args": [
             "visible",
             [
              false,
              false,
              false,
              false,
              true,
              false,
              false,
              false,
              false,
              false,
              false,
              false,
              false,
              false,
              false,
              false,
              false,
              false,
              false,
              false,
              false,
              false,
              false,
              false,
              false,
              false,
              false,
              false,
              false,
              false
             ]
            ],
            "label": "Year 1994",
            "method": "restyle"
           },
           {
            "args": [
             "visible",
             [
              false,
              false,
              false,
              false,
              false,
              true,
              false,
              false,
              false,
              false,
              false,
              false,
              false,
              false,
              false,
              false,
              false,
              false,
              false,
              false,
              false,
              false,
              false,
              false,
              false,
              false,
              false,
              false,
              false,
              false
             ]
            ],
            "label": "Year 1995",
            "method": "restyle"
           },
           {
            "args": [
             "visible",
             [
              false,
              false,
              false,
              false,
              false,
              false,
              true,
              false,
              false,
              false,
              false,
              false,
              false,
              false,
              false,
              false,
              false,
              false,
              false,
              false,
              false,
              false,
              false,
              false,
              false,
              false,
              false,
              false,
              false,
              false
             ]
            ],
            "label": "Year 1996",
            "method": "restyle"
           },
           {
            "args": [
             "visible",
             [
              false,
              false,
              false,
              false,
              false,
              false,
              false,
              true,
              false,
              false,
              false,
              false,
              false,
              false,
              false,
              false,
              false,
              false,
              false,
              false,
              false,
              false,
              false,
              false,
              false,
              false,
              false,
              false,
              false,
              false
             ]
            ],
            "label": "Year 1997",
            "method": "restyle"
           },
           {
            "args": [
             "visible",
             [
              false,
              false,
              false,
              false,
              false,
              false,
              false,
              false,
              true,
              false,
              false,
              false,
              false,
              false,
              false,
              false,
              false,
              false,
              false,
              false,
              false,
              false,
              false,
              false,
              false,
              false,
              false,
              false,
              false,
              false
             ]
            ],
            "label": "Year 1998",
            "method": "restyle"
           },
           {
            "args": [
             "visible",
             [
              false,
              false,
              false,
              false,
              false,
              false,
              false,
              false,
              false,
              true,
              false,
              false,
              false,
              false,
              false,
              false,
              false,
              false,
              false,
              false,
              false,
              false,
              false,
              false,
              false,
              false,
              false,
              false,
              false,
              false
             ]
            ],
            "label": "Year 1999",
            "method": "restyle"
           },
           {
            "args": [
             "visible",
             [
              false,
              false,
              false,
              false,
              false,
              false,
              false,
              false,
              false,
              false,
              true,
              false,
              false,
              false,
              false,
              false,
              false,
              false,
              false,
              false,
              false,
              false,
              false,
              false,
              false,
              false,
              false,
              false,
              false,
              false
             ]
            ],
            "label": "Year 2000",
            "method": "restyle"
           },
           {
            "args": [
             "visible",
             [
              false,
              false,
              false,
              false,
              false,
              false,
              false,
              false,
              false,
              false,
              false,
              true,
              false,
              false,
              false,
              false,
              false,
              false,
              false,
              false,
              false,
              false,
              false,
              false,
              false,
              false,
              false,
              false,
              false,
              false
             ]
            ],
            "label": "Year 2001",
            "method": "restyle"
           },
           {
            "args": [
             "visible",
             [
              false,
              false,
              false,
              false,
              false,
              false,
              false,
              false,
              false,
              false,
              false,
              false,
              true,
              false,
              false,
              false,
              false,
              false,
              false,
              false,
              false,
              false,
              false,
              false,
              false,
              false,
              false,
              false,
              false,
              false
             ]
            ],
            "label": "Year 2002",
            "method": "restyle"
           },
           {
            "args": [
             "visible",
             [
              false,
              false,
              false,
              false,
              false,
              false,
              false,
              false,
              false,
              false,
              false,
              false,
              false,
              true,
              false,
              false,
              false,
              false,
              false,
              false,
              false,
              false,
              false,
              false,
              false,
              false,
              false,
              false,
              false,
              false
             ]
            ],
            "label": "Year 2003",
            "method": "restyle"
           },
           {
            "args": [
             "visible",
             [
              false,
              false,
              false,
              false,
              false,
              false,
              false,
              false,
              false,
              false,
              false,
              false,
              false,
              false,
              true,
              false,
              false,
              false,
              false,
              false,
              false,
              false,
              false,
              false,
              false,
              false,
              false,
              false,
              false,
              false
             ]
            ],
            "label": "Year 2004",
            "method": "restyle"
           },
           {
            "args": [
             "visible",
             [
              false,
              false,
              false,
              false,
              false,
              false,
              false,
              false,
              false,
              false,
              false,
              false,
              false,
              false,
              false,
              true,
              false,
              false,
              false,
              false,
              false,
              false,
              false,
              false,
              false,
              false,
              false,
              false,
              false,
              false
             ]
            ],
            "label": "Year 2005",
            "method": "restyle"
           },
           {
            "args": [
             "visible",
             [
              false,
              false,
              false,
              false,
              false,
              false,
              false,
              false,
              false,
              false,
              false,
              false,
              false,
              false,
              false,
              false,
              true,
              false,
              false,
              false,
              false,
              false,
              false,
              false,
              false,
              false,
              false,
              false,
              false,
              false
             ]
            ],
            "label": "Year 2006",
            "method": "restyle"
           },
           {
            "args": [
             "visible",
             [
              false,
              false,
              false,
              false,
              false,
              false,
              false,
              false,
              false,
              false,
              false,
              false,
              false,
              false,
              false,
              false,
              false,
              true,
              false,
              false,
              false,
              false,
              false,
              false,
              false,
              false,
              false,
              false,
              false,
              false
             ]
            ],
            "label": "Year 2007",
            "method": "restyle"
           },
           {
            "args": [
             "visible",
             [
              false,
              false,
              false,
              false,
              false,
              false,
              false,
              false,
              false,
              false,
              false,
              false,
              false,
              false,
              false,
              false,
              false,
              false,
              true,
              false,
              false,
              false,
              false,
              false,
              false,
              false,
              false,
              false,
              false,
              false
             ]
            ],
            "label": "Year 2008",
            "method": "restyle"
           },
           {
            "args": [
             "visible",
             [
              false,
              false,
              false,
              false,
              false,
              false,
              false,
              false,
              false,
              false,
              false,
              false,
              false,
              false,
              false,
              false,
              false,
              false,
              false,
              true,
              false,
              false,
              false,
              false,
              false,
              false,
              false,
              false,
              false,
              false
             ]
            ],
            "label": "Year 2009",
            "method": "restyle"
           },
           {
            "args": [
             "visible",
             [
              false,
              false,
              false,
              false,
              false,
              false,
              false,
              false,
              false,
              false,
              false,
              false,
              false,
              false,
              false,
              false,
              false,
              false,
              false,
              false,
              true,
              false,
              false,
              false,
              false,
              false,
              false,
              false,
              false,
              false
             ]
            ],
            "label": "Year 2010",
            "method": "restyle"
           },
           {
            "args": [
             "visible",
             [
              false,
              false,
              false,
              false,
              false,
              false,
              false,
              false,
              false,
              false,
              false,
              false,
              false,
              false,
              false,
              false,
              false,
              false,
              false,
              false,
              false,
              true,
              false,
              false,
              false,
              false,
              false,
              false,
              false,
              false
             ]
            ],
            "label": "Year 2011",
            "method": "restyle"
           },
           {
            "args": [
             "visible",
             [
              false,
              false,
              false,
              false,
              false,
              false,
              false,
              false,
              false,
              false,
              false,
              false,
              false,
              false,
              false,
              false,
              false,
              false,
              false,
              false,
              false,
              false,
              true,
              false,
              false,
              false,
              false,
              false,
              false,
              false
             ]
            ],
            "label": "Year 2012",
            "method": "restyle"
           },
           {
            "args": [
             "visible",
             [
              false,
              false,
              false,
              false,
              false,
              false,
              false,
              false,
              false,
              false,
              false,
              false,
              false,
              false,
              false,
              false,
              false,
              false,
              false,
              false,
              false,
              false,
              false,
              true,
              false,
              false,
              false,
              false,
              false,
              false
             ]
            ],
            "label": "Year 2013",
            "method": "restyle"
           },
           {
            "args": [
             "visible",
             [
              false,
              false,
              false,
              false,
              false,
              false,
              false,
              false,
              false,
              false,
              false,
              false,
              false,
              false,
              false,
              false,
              false,
              false,
              false,
              false,
              false,
              false,
              false,
              false,
              true,
              false,
              false,
              false,
              false,
              false
             ]
            ],
            "label": "Year 2014",
            "method": "restyle"
           },
           {
            "args": [
             "visible",
             [
              false,
              false,
              false,
              false,
              false,
              false,
              false,
              false,
              false,
              false,
              false,
              false,
              false,
              false,
              false,
              false,
              false,
              false,
              false,
              false,
              false,
              false,
              false,
              false,
              false,
              true,
              false,
              false,
              false,
              false
             ]
            ],
            "label": "Year 2015",
            "method": "restyle"
           },
           {
            "args": [
             "visible",
             [
              false,
              false,
              false,
              false,
              false,
              false,
              false,
              false,
              false,
              false,
              false,
              false,
              false,
              false,
              false,
              false,
              false,
              false,
              false,
              false,
              false,
              false,
              false,
              false,
              false,
              false,
              true,
              false,
              false,
              false
             ]
            ],
            "label": "Year 2016",
            "method": "restyle"
           },
           {
            "args": [
             "visible",
             [
              false,
              false,
              false,
              false,
              false,
              false,
              false,
              false,
              false,
              false,
              false,
              false,
              false,
              false,
              false,
              false,
              false,
              false,
              false,
              false,
              false,
              false,
              false,
              false,
              false,
              false,
              false,
              true,
              false,
              false
             ]
            ],
            "label": "Year 2017",
            "method": "restyle"
           },
           {
            "args": [
             "visible",
             [
              false,
              false,
              false,
              false,
              false,
              false,
              false,
              false,
              false,
              false,
              false,
              false,
              false,
              false,
              false,
              false,
              false,
              false,
              false,
              false,
              false,
              false,
              false,
              false,
              false,
              false,
              false,
              false,
              true,
              false
             ]
            ],
            "label": "Year 2018",
            "method": "restyle"
           },
           {
            "args": [
             "visible",
             [
              false,
              false,
              false,
              false,
              false,
              false,
              false,
              false,
              false,
              false,
              false,
              false,
              false,
              false,
              false,
              false,
              false,
              false,
              false,
              false,
              false,
              false,
              false,
              false,
              false,
              false,
              false,
              false,
              false,
              true
             ]
            ],
            "label": "Year 2019",
            "method": "restyle"
           }
          ]
         }
        ],
        "template": {
         "data": {
          "bar": [
           {
            "error_x": {
             "color": "#2a3f5f"
            },
            "error_y": {
             "color": "#2a3f5f"
            },
            "marker": {
             "line": {
              "color": "#E5ECF6",
              "width": 0.5
             },
             "pattern": {
              "fillmode": "overlay",
              "size": 10,
              "solidity": 0.2
             }
            },
            "type": "bar"
           }
          ],
          "barpolar": [
           {
            "marker": {
             "line": {
              "color": "#E5ECF6",
              "width": 0.5
             },
             "pattern": {
              "fillmode": "overlay",
              "size": 10,
              "solidity": 0.2
             }
            },
            "type": "barpolar"
           }
          ],
          "carpet": [
           {
            "aaxis": {
             "endlinecolor": "#2a3f5f",
             "gridcolor": "white",
             "linecolor": "white",
             "minorgridcolor": "white",
             "startlinecolor": "#2a3f5f"
            },
            "baxis": {
             "endlinecolor": "#2a3f5f",
             "gridcolor": "white",
             "linecolor": "white",
             "minorgridcolor": "white",
             "startlinecolor": "#2a3f5f"
            },
            "type": "carpet"
           }
          ],
          "choropleth": [
           {
            "colorbar": {
             "outlinewidth": 0,
             "ticks": ""
            },
            "type": "choropleth"
           }
          ],
          "contour": [
           {
            "colorbar": {
             "outlinewidth": 0,
             "ticks": ""
            },
            "colorscale": [
             [
              0,
              "#0d0887"
             ],
             [
              0.1111111111111111,
              "#46039f"
             ],
             [
              0.2222222222222222,
              "#7201a8"
             ],
             [
              0.3333333333333333,
              "#9c179e"
             ],
             [
              0.4444444444444444,
              "#bd3786"
             ],
             [
              0.5555555555555556,
              "#d8576b"
             ],
             [
              0.6666666666666666,
              "#ed7953"
             ],
             [
              0.7777777777777778,
              "#fb9f3a"
             ],
             [
              0.8888888888888888,
              "#fdca26"
             ],
             [
              1,
              "#f0f921"
             ]
            ],
            "type": "contour"
           }
          ],
          "contourcarpet": [
           {
            "colorbar": {
             "outlinewidth": 0,
             "ticks": ""
            },
            "type": "contourcarpet"
           }
          ],
          "heatmap": [
           {
            "colorbar": {
             "outlinewidth": 0,
             "ticks": ""
            },
            "colorscale": [
             [
              0,
              "#0d0887"
             ],
             [
              0.1111111111111111,
              "#46039f"
             ],
             [
              0.2222222222222222,
              "#7201a8"
             ],
             [
              0.3333333333333333,
              "#9c179e"
             ],
             [
              0.4444444444444444,
              "#bd3786"
             ],
             [
              0.5555555555555556,
              "#d8576b"
             ],
             [
              0.6666666666666666,
              "#ed7953"
             ],
             [
              0.7777777777777778,
              "#fb9f3a"
             ],
             [
              0.8888888888888888,
              "#fdca26"
             ],
             [
              1,
              "#f0f921"
             ]
            ],
            "type": "heatmap"
           }
          ],
          "heatmapgl": [
           {
            "colorbar": {
             "outlinewidth": 0,
             "ticks": ""
            },
            "colorscale": [
             [
              0,
              "#0d0887"
             ],
             [
              0.1111111111111111,
              "#46039f"
             ],
             [
              0.2222222222222222,
              "#7201a8"
             ],
             [
              0.3333333333333333,
              "#9c179e"
             ],
             [
              0.4444444444444444,
              "#bd3786"
             ],
             [
              0.5555555555555556,
              "#d8576b"
             ],
             [
              0.6666666666666666,
              "#ed7953"
             ],
             [
              0.7777777777777778,
              "#fb9f3a"
             ],
             [
              0.8888888888888888,
              "#fdca26"
             ],
             [
              1,
              "#f0f921"
             ]
            ],
            "type": "heatmapgl"
           }
          ],
          "histogram": [
           {
            "marker": {
             "pattern": {
              "fillmode": "overlay",
              "size": 10,
              "solidity": 0.2
             }
            },
            "type": "histogram"
           }
          ],
          "histogram2d": [
           {
            "colorbar": {
             "outlinewidth": 0,
             "ticks": ""
            },
            "colorscale": [
             [
              0,
              "#0d0887"
             ],
             [
              0.1111111111111111,
              "#46039f"
             ],
             [
              0.2222222222222222,
              "#7201a8"
             ],
             [
              0.3333333333333333,
              "#9c179e"
             ],
             [
              0.4444444444444444,
              "#bd3786"
             ],
             [
              0.5555555555555556,
              "#d8576b"
             ],
             [
              0.6666666666666666,
              "#ed7953"
             ],
             [
              0.7777777777777778,
              "#fb9f3a"
             ],
             [
              0.8888888888888888,
              "#fdca26"
             ],
             [
              1,
              "#f0f921"
             ]
            ],
            "type": "histogram2d"
           }
          ],
          "histogram2dcontour": [
           {
            "colorbar": {
             "outlinewidth": 0,
             "ticks": ""
            },
            "colorscale": [
             [
              0,
              "#0d0887"
             ],
             [
              0.1111111111111111,
              "#46039f"
             ],
             [
              0.2222222222222222,
              "#7201a8"
             ],
             [
              0.3333333333333333,
              "#9c179e"
             ],
             [
              0.4444444444444444,
              "#bd3786"
             ],
             [
              0.5555555555555556,
              "#d8576b"
             ],
             [
              0.6666666666666666,
              "#ed7953"
             ],
             [
              0.7777777777777778,
              "#fb9f3a"
             ],
             [
              0.8888888888888888,
              "#fdca26"
             ],
             [
              1,
              "#f0f921"
             ]
            ],
            "type": "histogram2dcontour"
           }
          ],
          "mesh3d": [
           {
            "colorbar": {
             "outlinewidth": 0,
             "ticks": ""
            },
            "type": "mesh3d"
           }
          ],
          "parcoords": [
           {
            "line": {
             "colorbar": {
              "outlinewidth": 0,
              "ticks": ""
             }
            },
            "type": "parcoords"
           }
          ],
          "pie": [
           {
            "automargin": true,
            "type": "pie"
           }
          ],
          "scatter": [
           {
            "marker": {
             "colorbar": {
              "outlinewidth": 0,
              "ticks": ""
             }
            },
            "type": "scatter"
           }
          ],
          "scatter3d": [
           {
            "line": {
             "colorbar": {
              "outlinewidth": 0,
              "ticks": ""
             }
            },
            "marker": {
             "colorbar": {
              "outlinewidth": 0,
              "ticks": ""
             }
            },
            "type": "scatter3d"
           }
          ],
          "scattercarpet": [
           {
            "marker": {
             "colorbar": {
              "outlinewidth": 0,
              "ticks": ""
             }
            },
            "type": "scattercarpet"
           }
          ],
          "scattergeo": [
           {
            "marker": {
             "colorbar": {
              "outlinewidth": 0,
              "ticks": ""
             }
            },
            "type": "scattergeo"
           }
          ],
          "scattergl": [
           {
            "marker": {
             "colorbar": {
              "outlinewidth": 0,
              "ticks": ""
             }
            },
            "type": "scattergl"
           }
          ],
          "scattermapbox": [
           {
            "marker": {
             "colorbar": {
              "outlinewidth": 0,
              "ticks": ""
             }
            },
            "type": "scattermapbox"
           }
          ],
          "scatterpolar": [
           {
            "marker": {
             "colorbar": {
              "outlinewidth": 0,
              "ticks": ""
             }
            },
            "type": "scatterpolar"
           }
          ],
          "scatterpolargl": [
           {
            "marker": {
             "colorbar": {
              "outlinewidth": 0,
              "ticks": ""
             }
            },
            "type": "scatterpolargl"
           }
          ],
          "scatterternary": [
           {
            "marker": {
             "colorbar": {
              "outlinewidth": 0,
              "ticks": ""
             }
            },
            "type": "scatterternary"
           }
          ],
          "surface": [
           {
            "colorbar": {
             "outlinewidth": 0,
             "ticks": ""
            },
            "colorscale": [
             [
              0,
              "#0d0887"
             ],
             [
              0.1111111111111111,
              "#46039f"
             ],
             [
              0.2222222222222222,
              "#7201a8"
             ],
             [
              0.3333333333333333,
              "#9c179e"
             ],
             [
              0.4444444444444444,
              "#bd3786"
             ],
             [
              0.5555555555555556,
              "#d8576b"
             ],
             [
              0.6666666666666666,
              "#ed7953"
             ],
             [
              0.7777777777777778,
              "#fb9f3a"
             ],
             [
              0.8888888888888888,
              "#fdca26"
             ],
             [
              1,
              "#f0f921"
             ]
            ],
            "type": "surface"
           }
          ],
          "table": [
           {
            "cells": {
             "fill": {
              "color": "#EBF0F8"
             },
             "line": {
              "color": "white"
             }
            },
            "header": {
             "fill": {
              "color": "#C8D4E3"
             },
             "line": {
              "color": "white"
             }
            },
            "type": "table"
           }
          ]
         },
         "layout": {
          "annotationdefaults": {
           "arrowcolor": "#2a3f5f",
           "arrowhead": 0,
           "arrowwidth": 1
          },
          "autotypenumbers": "strict",
          "coloraxis": {
           "colorbar": {
            "outlinewidth": 0,
            "ticks": ""
           }
          },
          "colorscale": {
           "diverging": [
            [
             0,
             "#8e0152"
            ],
            [
             0.1,
             "#c51b7d"
            ],
            [
             0.2,
             "#de77ae"
            ],
            [
             0.3,
             "#f1b6da"
            ],
            [
             0.4,
             "#fde0ef"
            ],
            [
             0.5,
             "#f7f7f7"
            ],
            [
             0.6,
             "#e6f5d0"
            ],
            [
             0.7,
             "#b8e186"
            ],
            [
             0.8,
             "#7fbc41"
            ],
            [
             0.9,
             "#4d9221"
            ],
            [
             1,
             "#276419"
            ]
           ],
           "sequential": [
            [
             0,
             "#0d0887"
            ],
            [
             0.1111111111111111,
             "#46039f"
            ],
            [
             0.2222222222222222,
             "#7201a8"
            ],
            [
             0.3333333333333333,
             "#9c179e"
            ],
            [
             0.4444444444444444,
             "#bd3786"
            ],
            [
             0.5555555555555556,
             "#d8576b"
            ],
            [
             0.6666666666666666,
             "#ed7953"
            ],
            [
             0.7777777777777778,
             "#fb9f3a"
            ],
            [
             0.8888888888888888,
             "#fdca26"
            ],
            [
             1,
             "#f0f921"
            ]
           ],
           "sequentialminus": [
            [
             0,
             "#0d0887"
            ],
            [
             0.1111111111111111,
             "#46039f"
            ],
            [
             0.2222222222222222,
             "#7201a8"
            ],
            [
             0.3333333333333333,
             "#9c179e"
            ],
            [
             0.4444444444444444,
             "#bd3786"
            ],
            [
             0.5555555555555556,
             "#d8576b"
            ],
            [
             0.6666666666666666,
             "#ed7953"
            ],
            [
             0.7777777777777778,
             "#fb9f3a"
            ],
            [
             0.8888888888888888,
             "#fdca26"
            ],
            [
             1,
             "#f0f921"
            ]
           ]
          },
          "colorway": [
           "#636efa",
           "#EF553B",
           "#00cc96",
           "#ab63fa",
           "#FFA15A",
           "#19d3f3",
           "#FF6692",
           "#B6E880",
           "#FF97FF",
           "#FECB52"
          ],
          "font": {
           "color": "#2a3f5f"
          },
          "geo": {
           "bgcolor": "white",
           "lakecolor": "white",
           "landcolor": "#E5ECF6",
           "showlakes": true,
           "showland": true,
           "subunitcolor": "white"
          },
          "hoverlabel": {
           "align": "left"
          },
          "hovermode": "closest",
          "mapbox": {
           "style": "light"
          },
          "paper_bgcolor": "white",
          "plot_bgcolor": "#E5ECF6",
          "polar": {
           "angularaxis": {
            "gridcolor": "white",
            "linecolor": "white",
            "ticks": ""
           },
           "bgcolor": "#E5ECF6",
           "radialaxis": {
            "gridcolor": "white",
            "linecolor": "white",
            "ticks": ""
           }
          },
          "scene": {
           "xaxis": {
            "backgroundcolor": "#E5ECF6",
            "gridcolor": "white",
            "gridwidth": 2,
            "linecolor": "white",
            "showbackground": true,
            "ticks": "",
            "zerolinecolor": "white"
           },
           "yaxis": {
            "backgroundcolor": "#E5ECF6",
            "gridcolor": "white",
            "gridwidth": 2,
            "linecolor": "white",
            "showbackground": true,
            "ticks": "",
            "zerolinecolor": "white"
           },
           "zaxis": {
            "backgroundcolor": "#E5ECF6",
            "gridcolor": "white",
            "gridwidth": 2,
            "linecolor": "white",
            "showbackground": true,
            "ticks": "",
            "zerolinecolor": "white"
           }
          },
          "shapedefaults": {
           "line": {
            "color": "#2a3f5f"
           }
          },
          "ternary": {
           "aaxis": {
            "gridcolor": "white",
            "linecolor": "white",
            "ticks": ""
           },
           "baxis": {
            "gridcolor": "white",
            "linecolor": "white",
            "ticks": ""
           },
           "bgcolor": "#E5ECF6",
           "caxis": {
            "gridcolor": "white",
            "linecolor": "white",
            "ticks": ""
           }
          },
          "title": {
           "x": 0.05
          },
          "xaxis": {
           "automargin": true,
           "gridcolor": "white",
           "linecolor": "white",
           "ticks": "",
           "title": {
            "standoff": 15
           },
           "zerolinecolor": "white",
           "zerolinewidth": 2
          },
          "yaxis": {
           "automargin": true,
           "gridcolor": "white",
           "linecolor": "white",
           "ticks": "",
           "title": {
            "standoff": 15
           },
           "zerolinecolor": "white",
           "zerolinewidth": 2
          }
         }
        },
        "title": {
         "text": "CO2 Emissions Statewise since 1990 to 2020"
        }
       }
      },
      "image/png": "[encoded data removed]",
      "text/html": [
       "<div>                            <div id=\"b55f6514-dc2a-42f5-98f3-1b465ebca7ba\" class=\"plotly-graph-div\" style=\"height:525px; width:100%;\"></div>            <script type=\"text/javascript\">                require([\"plotly\"], function(Plotly) {                    window.PLOTLYENV=window.PLOTLYENV || {};                                    if (document.getElementById(\"b55f6514-dc2a-42f5-98f3-1b465ebca7ba\")) {                    Plotly.newPlot(                        \"b55f6514-dc2a-42f5-98f3-1b465ebca7ba\",                        [{\"colorbar\":{\"title\":{\"text\":\"# Sightings\"}},\"colorscale\":[[0.0,\"#ffffff\"],[0.2,\"#b4a8ce\"],[0.4,\"#8573a9\"],[0.6,\"#7159a3\"],[0.8,\"#5732a1\"],[1.0,\"#2c0579\"]],\"locationmode\":\"USA-states\",\"locations\":[\"AR\",\"CT\",\"DC\",\"DE\",\"FL\",\"AZ\",\"CA\",\"CO\",\"AK\",\"AL\",\"GA\",\"IA\",\"ID\",\"IL\",\"LA\",\"MA\",\"MD\",\"IN\",\"KS\",\"KY\",\"HI\",\"MN\",\"MO\",\"ND\",\"NE\",\"NH\",\"NJ\",\"MS\",\"MT\",\"NC\",\"ME\",\"MI\",\"NV\",\"NY\"],\"z\":[23426,12103,410,8885,91555,33111,52656,31517,4209,52936,67853,29954,489,60762,44983,27816,27350,99079,27517,66691,8064,31917,48705,28488,13558,5087,13637,14777,16129,49000,5205,71755,16695,69088],\"type\":\"choropleth\"},{\"colorbar\":{\"title\":{\"text\":\"# Sightings\"}},\"colorscale\":[[0.0,\"#ffffff\"],[0.2,\"#b4a8ce\"],[0.4,\"#8573a9\"],[0.6,\"#7159a3\"],[0.8,\"#5732a1\"],[1.0,\"#2c0579\"]],\"locationmode\":\"USA-states\",\"locations\":[\"AL\",\"AR\",\"DC\",\"DE\",\"FL\",\"AZ\",\"CA\",\"CO\",\"CT\",\"AK\",\"GA\",\"IA\",\"ID\",\"IL\",\"LA\",\"MA\",\"MD\",\"IN\",\"KS\",\"KY\",\"HI\",\"MN\",\"MO\",\"ND\",\"NE\",\"NH\",\"MS\",\"MT\",\"NC\",\"ME\",\"MI\",\"NJ\",\"NV\",\"NY\",\"RI\"],\"z\":[57041,23698,233,8180,98018,33395,50078,30807,11760,4071,61373,31081,438,61880,44986,28674,26985,98572,27654,67800,6888,30651,48945,28981,14449,4644,13516,17504,49624,4477,72024,14277,17903,64917,1441],\"type\":\"choropleth\"},{\"colorbar\":{\"title\":{\"text\":\"# Sightings\"}},\"colorscale\":[[0.0,\"#ffffff\"],[0.2,\"#b4a8ce\"],[0.4,\"#8573a9\"],[0.6,\"#7159a3\"],[0.8,\"#5732a1\"],[1.0,\"#2c0579\"]],\"locationmode\":\"USA-states\",\"locations\":[\"AL\",\"AR\",\"DC\",\"DE\",\"FL\",\"AZ\",\"CA\",\"CO\",\"CT\",\"AK\",\"GA\",\"IA\",\"ID\",\"IL\",\"MA\",\"MD\",\"IN\",\"KS\",\"KY\",\"LA\",\"HI\",\"MN\",\"MO\",\"ND\",\"NE\",\"NH\",\"MS\",\"MT\",\"NC\",\"ME\",\"MI\",\"NJ\",\"NY\",\"OH\"],\"z\":[60445,24164,116,8007,97049,35848,57981,31794,9758,3945,59695,30170,652,58440,27127,26262,97274,25011,68862,46743,7835,31201,47484,30133,13314,4509,12035,18450,57165,4733,68609,15512,60067,115123],\"type\":\"choropleth\"},{\"colorbar\":{\"title\":{\"text\":\"# Sightings\"}},\"colorscale\":[[0.0,\"#ffffff\"],[0.2,\"#b4a8ce\"],[0.4,\"#8573a9\"],[0.6,\"#7159a3\"],[0.8,\"#5732a1\"],[1.0,\"#2c0579\"]],\"locationmode\":\"USA-states\",\"locations\":[\"AR\",\"CT\",\"DC\",\"DE\",\"AZ\",\"CA\",\"CO\",\"AK\",\"AL\",\"FL\",\"IA\",\"ID\",\"LA\",\"MA\",\"MD\",\"IL\",\"IN\",\"KS\",\"KY\",\"GA\",\"HI\",\"ME\",\"MN\",\"MO\",\"ND\",\"NE\",\"NH\",\"MS\",\"MT\",\"NC\",\"MI\",\"NJ\",\"NV\",\"NY\"],\"z\":[21754,8633,225,8934,37629,54453,32497,4042,66833,100571,32348,706,48940,24698,28634,70044,100581,30333,77072,64342,7770,4704,33333,43193,30446,15699,4666,15074,15142,61925,69775,16170,18190,53613],\"type\":\"choropleth\"},{\"colorbar\":{\"title\":{\"text\":\"# Sightings\"}},\"colorscale\":[[0.0,\"#ffffff\"],[0.2,\"#b4a8ce\"],[0.4,\"#8573a9\"],[0.6,\"#7159a3\"],[0.8,\"#5732a1\"],[1.0,\"#2c0579\"]],\"locationmode\":\"USA-states\",\"locations\":[\"AL\",\"AR\",\"DC\",\"DE\",\"FL\",\"AZ\",\"CA\",\"CO\",\"CT\",\"AK\",\"IA\",\"ID\",\"IL\",\"MA\",\"MD\",\"IN\",\"KS\",\"KY\",\"LA\",\"GA\",\"HI\",\"MN\",\"MO\",\"ND\",\"NE\",\"NH\",\"MS\",\"MT\",\"NC\",\"ME\",\"MI\",\"NJ\",\"NV\",\"NY\",\"RI\"],\"z\":[63295,24148,311,8693,104094,39019,62249,33837,8510,4111,32714,673,72699,24991,29532,104021,30412,75497,49648,67015,7967,33747,50701,30404,15100,4633,15327,17896,56740,4753,75232,18744,19658,53404,2319],\"type\":\"choropleth\"},{\"colorbar\":{\"title\":{\"text\":\"# Sightings\"}},\"colorscale\":[[0.0,\"#ffffff\"],[0.2,\"#b4a8ce\"],[0.4,\"#8573a9\"],[0.6,\"#7159a3\"],[0.8,\"#5732a1\"],[1.0,\"#2c0579\"]],\"locationmode\":\"USA-states\",\"locations\":[\"AL\",\"AR\",\"DC\",\"DE\",\"FL\",\"AZ\",\"CA\",\"CO\",\"CT\",\"AK\",\"GA\",\"IA\",\"ID\",\"IL\",\"MA\",\"MD\",\"IN\",\"KS\",\"KY\",\"LA\",\"HI\",\"MN\",\"MO\",\"ND\",\"NE\",\"NH\",\"MS\",\"MT\",\"NC\",\"ME\",\"MI\",\"NJ\",\"NV\",\"NY\",\"RI\"],\"z\":[68646,25880,223,8094,105950,33339,50273,32895,9735,4096,71705,34812,747,73663,23889,28555,105826,29245,77902,51484,8350,33940,56528,29600,17124,4541,16595,16853,59949,4898,75173,20148,18078,56979,2178],\"type\":\"choropleth\"},{\"colorbar\":{\"title\":{\"text\":\"# Sightings\"}},\"colorscale\":[[0.0,\"#ffffff\"],[0.2,\"#b4a8ce\"],[0.4,\"#8573a9\"],[0.6,\"#7159a3\"],[0.8,\"#5732a1\"],[1.0,\"#2c0579\"]],\"locationmode\":\"USA-states\",\"locations\":[\"AL\",\"AR\",\"DC\",\"DE\",\"FL\",\"AZ\",\"CA\",\"CO\",\"CT\",\"AK\",\"GA\",\"IA\",\"ID\",\"IL\",\"MA\",\"MD\",\"IN\",\"KS\",\"KY\",\"LA\",\"HI\",\"ME\",\"MO\",\"ND\",\"NE\",\"NH\",\"MS\",\"MT\",\"NC\",\"MI\",\"MN\",\"NJ\",\"NV\",\"NY\",\"OH\",\"RI\"],\"z\":[74712,28255,136,7943,111003,33396,47131,34575,11303,4183,70949,34760,689,81670,23363,29198,109006,33492,80180,47710,8532,4499,59200,30949,17124,4333,18459,14128,67661,77660,34536,19117,19466,52924,124330,3661],\"type\":\"choropleth\"},{\"colorbar\":{\"title\":{\"text\":\"# Sightings\"}},\"colorscale\":[[0.0,\"#ffffff\"],[0.2,\"#b4a8ce\"],[0.4,\"#8573a9\"],[0.6,\"#7159a3\"],[0.8,\"#5732a1\"],[1.0,\"#2c0579\"]],\"locationmode\":\"USA-states\",\"locations\":[\"AL\",\"AR\",\"DC\",\"DE\",\"FL\",\"AZ\",\"CA\",\"CO\",\"CT\",\"AK\",\"GA\",\"IA\",\"ID\",\"LA\",\"MA\",\"MD\",\"IL\",\"IN\",\"KS\",\"KY\",\"HI\",\"ME\",\"MN\",\"MO\",\"NE\",\"NH\",\"NJ\",\"MS\",\"MT\",\"NC\",\"ND\",\"MI\",\"NV\",\"NY\",\"OH\"],\"z\":[72920,26630,91,6898,115260,36340,50126,34812,14496,4502,74925,35831,852,51856,28997,29231,86148,113670,31204,83104,8460,4732,35237,62574,18389,5314,19979,19771,16371,71156,29672,77409,19341,58620,121388],\"type\":\"choropleth\"},{\"colorbar\":{\"title\":{\"text\":\"# Sightings\"}},\"colorscale\":[[0.0,\"#ffffff\"],[0.2,\"#b4a8ce\"],[0.4,\"#8573a9\"],[0.6,\"#7159a3\"],[0.8,\"#5732a1\"],[1.0,\"#2c0579\"]],\"locationmode\":\"USA-states\",\"locations\":[\"AL\",\"AR\",\"DC\",\"DE\",\"FL\",\"AZ\",\"CA\",\"CO\",\"CT\",\"AK\",\"IA\",\"ID\",\"IL\",\"LA\",\"MA\",\"MD\",\"IN\",\"KS\",\"KY\",\"GA\",\"HI\",\"ME\",\"MN\",\"MO\",\"MS\",\"NE\",\"NH\",\"MT\",\"NC\",\"ND\",\"MI\",\"NJ\",\"NV\",\"NY\",\"OH\"],\"z\":[75378,28319,263,6651,126257,38697,53190,36187,13336,4302,39429,935,86386,56497,29681,32353,115168,31844,83251,77202,8363,5590,36308,66319,21524,19672,5196,18711,71113,31665,82135,18938,21341,62654,125309],\"type\":\"choropleth\"},{\"colorbar\":{\"title\":{\"text\":\"# Sightings\"}},\"colorscale\":[[0.0,\"#ffffff\"],[0.2,\"#b4a8ce\"],[0.4,\"#8573a9\"],[0.6,\"#7159a3\"],[0.8,\"#5732a1\"],[1.0,\"#2c0579\"]],\"locationmode\":\"USA-states\",\"locations\":[\"AL\",\"AR\",\"CT\",\"DC\",\"DE\",\"FL\",\"AZ\",\"CA\",\"CO\",\"AK\",\"IA\",\"ID\",\"LA\",\"MA\",\"MD\",\"IL\",\"IN\",\"KS\",\"KY\",\"GA\",\"HI\",\"ME\",\"MN\",\"MO\",\"MS\",\"NE\",\"NH\",\"NJ\",\"MT\",\"NC\",\"ND\",\"MI\",\"NY\",\"OH\"],\"z\":[76751,29491,12142,255,6236,122574,40972,57885,36305,4384,39756,940,56635,26724,33447,87522,117839,33969,85793,79038,8386,6911,34992,65614,22424,18986,5079,19741,18822,70315,31939,81471,62786,120740],\"type\":\"choropleth\"},{\"colorbar\":{\"title\":{\"text\":\"# Sightings\"}},\"colorscale\":[[0.0,\"#ffffff\"],[0.2,\"#b4a8ce\"],[0.4,\"#8573a9\"],[0.6,\"#7159a3\"],[0.8,\"#5732a1\"],[1.0,\"#2c0579\"]],\"locationmode\":\"USA-states\",\"locations\":[\"AR\",\"CT\",\"DC\",\"DE\",\"AZ\",\"CA\",\"CO\",\"AK\",\"AL\",\"FL\",\"IA\",\"ID\",\"LA\",\"MA\",\"MD\",\"IL\",\"IN\",\"KS\",\"KY\",\"GA\",\"HI\",\"ME\",\"MN\",\"MO\",\"ND\",\"NE\",\"NH\",\"MS\",\"MT\",\"NC\",\"MI\",\"NJ\",\"NV\",\"NY\"],\"z\":[29064,12652,171,6080,45872,67797,40086,4558,81515,124962,41884,828,58092,24816,32476,94743,124067,37151,87586,82587,8679,6604,37860,67067,32614,19809,4906,22531,17896,74166,78857,21996,24760,61904],\"type\":\"choropleth\"},{\"colorbar\":{\"title\":{\"text\":\"# Sightings\"}},\"colorscale\":[[0.0,\"#ffffff\"],[0.2,\"#b4a8ce\"],[0.4,\"#8573a9\"],[0.6,\"#7159a3\"],[0.8,\"#5732a1\"],[1.0,\"#2c0579\"]],\"locationmode\":\"USA-states\",\"locations\":[\"AR\",\"DC\",\"DE\",\"FL\",\"AZ\",\"CA\",\"CO\",\"CT\",\"AK\",\"AL\",\"IA\",\"ID\",\"IL\",\"LA\",\"MA\",\"MD\",\"IN\",\"KS\",\"KY\",\"GA\",\"HI\",\"MN\",\"MO\",\"ND\",\"NE\",\"NH\",\"MS\",\"MT\",\"NC\",\"ME\",\"MI\",\"NV\",\"NY\"],\"z\":[28486,164,6083,123562,47009,71663,42365,11412,4632,78800,41529,1101,93152,54980,24788,30757,118634,35932,88535,76637,8806,36548,70204,32085,21453,4546,31529,18526,71259,8860,77964,24139,61003],\"type\":\"choropleth\"},{\"colorbar\":{\"title\":{\"text\":\"# Sightings\"}},\"colorscale\":[[0.0,\"#ffffff\"],[0.2,\"#b4a8ce\"],[0.4,\"#8573a9\"],[0.6,\"#7159a3\"],[0.8,\"#5732a1\"],[1.0,\"#2c0579\"]],\"locationmode\":\"USA-states\",\"locations\":[\"AL\",\"AR\",\"DC\",\"DE\",\"FL\",\"AZ\",\"CA\",\"CO\",\"CT\",\"AK\",\"IA\",\"ID\",\"IL\",\"LA\",\"MA\",\"MD\",\"IN\",\"KS\",\"KY\",\"GA\",\"HI\",\"ME\",\"MO\",\"ND\",\"NE\",\"NH\",\"MS\",\"MT\",\"NC\",\"MI\",\"MN\",\"NJ\",\"NV\",\"NY\",\"OH\"],\"z\":[80938,27369,264,6070,125434,46006,60018,41625,10381,4454,41583,773,97104,55435,25314,31516,116777,39218,88104,82683,9347,10220,70930,32444,20802,4604,23538,16835,73406,75225,37929,22153,21284,56261,124432],\"type\":\"choropleth\"},{\"colorbar\":{\"title\":{\"text\":\"# Sightings\"}},\"colorscale\":[[0.0,\"#ffffff\"],[0.2,\"#b4a8ce\"],[0.4,\"#8573a9\"],[0.6,\"#7159a3\"],[0.8,\"#5732a1\"],[1.0,\"#2c0579\"]],\"locationmode\":\"USA-states\",\"locations\":[\"AR\",\"CT\",\"DC\",\"DE\",\"FL\",\"AZ\",\"CA\",\"CO\",\"AK\",\"AL\",\"ID\",\"IL\",\"LA\",\"MA\",\"IN\",\"KS\",\"KY\",\"GA\",\"HI\",\"IA\",\"MD\",\"MN\",\"MO\",\"ND\",\"NE\",\"NH\",\"NJ\",\"MS\",\"MT\",\"NC\",\"ME\",\"MI\",\"NV\",\"NY\"],\"z\":[27667,9639,83,7066,130010,47259,56308,41178,3986,81285,1114,96423,56440,27440,118059,39128,86473,80255,8750,41314,32968,40314,76952,32033,21754,7672,20381,23638,18980,72713,7765,74192,23262,57482],\"type\":\"choropleth\"},{\"colorbar\":{\"title\":{\"text\":\"# Sightings\"}},\"colorscale\":[[0.0,\"#ffffff\"],[0.2,\"#b4a8ce\"],[0.4,\"#8573a9\"],[0.6,\"#7159a3\"],[0.8,\"#5732a1\"],[1.0,\"#2c0579\"]],\"locationmode\":\"USA-states\",\"locations\":[\"AR\",\"CT\",\"DC\",\"DE\",\"AZ\",\"CA\",\"CO\",\"AK\",\"AL\",\"FL\",\"IA\",\"ID\",\"LA\",\"MA\",\"MD\",\"IL\",\"IN\",\"KS\",\"KY\",\"GA\",\"HI\",\"ME\",\"MN\",\"MO\",\"NE\",\"NH\",\"MS\",\"MT\",\"NC\",\"ND\",\"MI\",\"NJ\",\"NY\",\"OH\"],\"z\":[28844,10406,56,6594,52900,60170,41180,4777,81328,131119,41883,1309,58958,26285,32367,102825,120767,38361,88209,82762,9203,7390,38954,78111,21337,8246,25591,19625,73304,30657,78572,21488,58101,124744],\"type\":\"choropleth\"},{\"colorbar\":{\"title\":{\"text\":\"# Sightings\"}},\"colorscale\":[[0.0,\"#ffffff\"],[0.2,\"#b4a8ce\"],[0.4,\"#8573a9\"],[0.6,\"#7159a3\"],[0.8,\"#5732a1\"],[1.0,\"#2c0579\"]],\"locationmode\":\"USA-states\",\"locations\":[\"AR\",\"CT\",\"DC\",\"DE\",\"FL\",\"AZ\",\"CA\",\"CO\",\"AK\",\"AL\",\"GA\",\"IA\",\"ID\",\"MA\",\"MD\",\"IL\",\"IN\",\"KS\",\"KY\",\"LA\",\"HI\",\"ME\",\"MN\",\"MO\",\"MS\",\"NE\",\"NH\",\"NJ\",\"MT\",\"NC\",\"ND\",\"MI\",\"NY\",\"OH\"],\"z\":[26775,11661,236,6878,131543,52003,54999,41397,4364,84852,90381,40869,1345,27063,33694,102379,123662,38271,91359,57660,9132,7112,39516,81163,25373,22064,8240,21292,19875,76748,33139,79856,61025,133417],\"type\":\"choropleth\"},{\"colorbar\":{\"title\":{\"text\":\"# Sightings\"}},\"colorscale\":[[0.0,\"#ffffff\"],[0.2,\"#b4a8ce\"],[0.4,\"#8573a9\"],[0.6,\"#7159a3\"],[0.8,\"#5732a1\"],[1.0,\"#2c0579\"]],\"locationmode\":\"USA-states\",\"locations\":[\"AL\",\"AR\",\"CT\",\"DC\",\"DE\",\"AZ\",\"CA\",\"CO\",\"AK\",\"FL\",\"ID\",\"LA\",\"MA\",\"MD\",\"IL\",\"IN\",\"KS\",\"KY\",\"GA\",\"HI\",\"IA\",\"ME\",\"MN\",\"MO\",\"NE\",\"NH\",\"MS\",\"MT\",\"NC\",\"ND\",\"MI\",\"NJ\",\"NY\",\"OH\"],\"z\":[86153,28931,11169,100,5949,54012,59732,42426,4627,127682,882,54650,23911,30836,101074,123527,36234,94238,91020,9138,41245,5677,38183,80422,21892,7130,26035,19404,73964,31554,76718,20036,51428,130568],\"type\":\"choropleth\"},{\"colorbar\":{\"title\":{\"text\":\"# Sightings\"}},\"colorscale\":[[0.0,\"#ffffff\"],[0.2,\"#b4a8ce\"],[0.4,\"#8573a9\"],[0.6,\"#7159a3\"],[0.8,\"#5732a1\"],[1.0,\"#2c0579\"]],\"locationmode\":\"USA-states\",\"locations\":[\"AR\",\"CT\",\"DC\",\"DE\",\"AZ\",\"CA\",\"CO\",\"AK\",\"AL\",\"FL\",\"IA\",\"ID\",\"LA\",\"MA\",\"MD\",\"IL\",\"IN\",\"KS\",\"KY\",\"GA\",\"HI\",\"ME\",\"MN\",\"MO\",\"NE\",\"NH\",\"MS\",\"MT\",\"NC\",\"ND\",\"MI\",\"NJ\",\"NY\",\"OH\"],\"z\":[30316,10463,86,7299,56455,63140,43571,4343,88397,128822,44579,1284,54836,25760,31511,106299,123288,39577,93365,96436,9026,5608,38321,78410,20995,6912,28005,20347,79417,32281,80228,20771,53749,131970],\"type\":\"choropleth\"},{\"colorbar\":{\"title\":{\"text\":\"# Sightings\"}},\"colorscale\":[[0.0,\"#ffffff\"],[0.2,\"#b4a8ce\"],[0.4,\"#8573a9\"],[0.6,\"#7159a3\"],[0.8,\"#5732a1\"],[1.0,\"#2c0579\"]],\"locationmode\":\"USA-states\",\"locations\":[\"CT\",\"DC\",\"DE\",\"AR\",\"AZ\",\"CA\",\"CO\",\"AK\",\"AL\",\"FL\",\"IA\",\"ID\",\"LA\",\"MA\",\"MD\",\"IL\",\"IN\",\"KS\",\"KY\",\"GA\",\"HI\",\"ME\",\"MN\",\"MO\",\"MS\",\"NE\",\"NH\",\"NJ\",\"MT\",\"NC\",\"ND\",\"MI\",\"NY\",\"OH\"],\"z\":[9451,70,6597,30653,58890,62549,41659,4376,83134,121052,46137,1017,54736,22263,29155,106430,124660,37315,94028,89750,9048,5314,36821,77650,25920,22460,6782,20097,20355,75344,32887,77468,47157,129061],\"type\":\"choropleth\"},{\"colorbar\":{\"title\":{\"text\":\"# Sightings\"}},\"colorscale\":[[0.0,\"#ffffff\"],[0.2,\"#b4a8ce\"],[0.4,\"#8573a9\"],[0.6,\"#7159a3\"],[0.8,\"#5732a1\"],[1.0,\"#2c0579\"]],\"locationmode\":\"USA-states\",\"locations\":[\"AR\",\"CT\",\"DC\",\"DE\",\"FL\",\"AZ\",\"CA\",\"CO\",\"AK\",\"AL\",\"GA\",\"IA\",\"ID\",\"IL\",\"LA\",\"MA\",\"IN\",\"KS\",\"KY\",\"HI\",\"MD\",\"ME\",\"MN\",\"MO\",\"NE\",\"NH\",\"MS\",\"MT\",\"NC\",\"ND\",\"MI\",\"NJ\",\"NY\",\"OH\"],\"z\":[30427,8046,36,4143,114854,53524,59428,38989,4240,69239,77022,42978,1024,98975,53226,19683,111113,36207,86155,8661,25659,4714,33689,74716,23899,5507,23481,17548,64845,32608,73589,16086,38130,115066],\"type\":\"choropleth\"},{\"colorbar\":{\"title\":{\"text\":\"# Sightings\"}},\"colorscale\":[[0.0,\"#ffffff\"],[0.2,\"#b4a8ce\"],[0.4,\"#8573a9\"],[0.6,\"#7159a3\"],[0.8,\"#5732a1\"],[1.0,\"#2c0579\"]],\"locationmode\":\"USA-states\",\"locations\":[\"AL\",\"AR\",\"CT\",\"DC\",\"DE\",\"AZ\",\"CA\",\"CO\",\"AK\",\"FL\",\"IA\",\"ID\",\"LA\",\"MA\",\"MD\",\"IL\",\"IN\",\"KS\",\"KY\",\"GA\",\"HI\",\"ME\",\"MO\",\"ND\",\"NE\",\"NH\",\"MS\",\"MT\",\"NC\",\"MI\",\"MN\",\"NJ\",\"NV\",\"NY\",\"OH\"],\"z\":[79375,34018,9201,191,4187,55683,55406,40499,4125,123811,47211,1213,58706,20291,26369,103128,116283,36321,93160,82592,8287,4948,78815,31064,24461,5551,26845,20370,73241,74480,32946,19160,17020,41584,121964],\"type\":\"choropleth\"},{\"colorbar\":{\"title\":{\"text\":\"# Sightings\"}},\"colorscale\":[[0.0,\"#ffffff\"],[0.2,\"#b4a8ce\"],[0.4,\"#8573a9\"],[0.6,\"#7159a3\"],[0.8,\"#5732a1\"],[1.0,\"#2c0579\"]],\"locationmode\":\"USA-states\",\"locations\":[\"AR\",\"CT\",\"DC\",\"DE\",\"AZ\",\"CA\",\"CO\",\"AK\",\"AL\",\"FL\",\"IA\",\"ID\",\"LA\",\"MA\",\"MD\",\"IL\",\"IN\",\"KS\",\"KY\",\"GA\",\"HI\",\"ME\",\"MN\",\"MO\",\"NE\",\"NH\",\"MS\",\"MT\",\"NC\",\"ND\",\"MI\",\"NJ\",\"NY\",\"RI\"],\"z\":[35926,8196,175,3928,53536,47908,39509,4347,76413,114441,43879,825,62680,16404,23625,100731,109608,35119,92694,71368,8100,4351,32618,81428,27251,5127,23326,17029,62797,29855,69301,16917,37256,3595],\"type\":\"choropleth\"},{\"colorbar\":{\"title\":{\"text\":\"# Sightings\"}},\"colorscale\":[[0.0,\"#ffffff\"],[0.2,\"#b4a8ce\"],[0.4,\"#8573a9\"],[0.6,\"#7159a3\"],[0.8,\"#5732a1\"],[1.0,\"#2c0579\"]],\"locationmode\":\"USA-states\",\"locations\":[\"CT\",\"DC\",\"DE\",\"FL\",\"AR\",\"AZ\",\"CA\",\"CO\",\"AK\",\"AL\",\"GA\",\"IA\",\"ID\",\"MA\",\"MD\",\"IL\",\"IN\",\"KS\",\"KY\",\"LA\",\"HI\",\"ME\",\"MN\",\"MO\",\"MS\",\"NE\",\"NH\",\"MT\",\"NC\",\"ND\",\"MI\",\"NJ\",\"NV\",\"NY\",\"OH\"],\"z\":[8987,66,4981,111236,36234,52350,59369,39926,4305,69107,59035,41267,1172,14346,20697,94411,99773,31693,85683,60182,7625,3722,28494,75545,24285,26467,4295,16024,57924,30934,67877,16120,14929,35669,95523],\"type\":\"choropleth\"},{\"colorbar\":{\"title\":{\"text\":\"# Sightings\"}},\"colorscale\":[[0.0,\"#ffffff\"],[0.2,\"#b4a8ce\"],[0.4,\"#8573a9\"],[0.6,\"#7159a3\"],[0.8,\"#5732a1\"],[1.0,\"#2c0579\"]],\"locationmode\":\"USA-states\",\"locations\":[\"AR\",\"CT\",\"DC\",\"DE\",\"AZ\",\"CA\",\"CO\",\"AK\",\"AL\",\"FL\",\"IA\",\"ID\",\"LA\",\"MA\",\"MD\",\"IL\",\"IN\",\"KS\",\"KY\",\"GA\",\"HI\",\"ME\",\"MN\",\"MO\",\"MS\",\"NE\",\"NH\",\"NJ\",\"MT\",\"NC\",\"ND\",\"MI\",\"NY\",\"OH\"],\"z\":[37346,8726,49,4722,55342,57323,39387,3768,66986,108827,39175,1942,58274,14735,18950,97812,99951,33125,85304,56812,7428,3675,29255,78344,22633,28043,3447,15789,16951,56940,30274,67193,33456,102466],\"type\":\"choropleth\"},{\"colorbar\":{\"title\":{\"text\":\"# Sightings\"}},\"colorscale\":[[0.0,\"#ffffff\"],[0.2,\"#b4a8ce\"],[0.4,\"#8573a9\"],[0.6,\"#7159a3\"],[0.8,\"#5732a1\"],[1.0,\"#2c0579\"]],\"locationmode\":\"USA-states\",\"locations\":[\"AR\",\"DC\",\"DE\",\"FL\",\"AZ\",\"CA\",\"CO\",\"CT\",\"AK\",\"AL\",\"GA\",\"IA\",\"ID\",\"IL\",\"MA\",\"MD\",\"IN\",\"KS\",\"KY\",\"LA\",\"HI\",\"ME\",\"MN\",\"MO\",\"MS\",\"NE\",\"NH\",\"MT\",\"NC\",\"ND\",\"MI\",\"NV\",\"NY\"],\"z\":[37289,48,4276,113146,53684,57507,38474,8452,3558,67635,62516,39312,1492,96624,12917,20701,104636,31794,85795,57137,7448,3403,32677,75735,24037,26348,3458,17678,58578,30420,64264,16222,34072],\"type\":\"choropleth\"},{\"colorbar\":{\"title\":{\"text\":\"# Sightings\"}},\"colorscale\":[[0.0,\"#ffffff\"],[0.2,\"#b4a8ce\"],[0.4,\"#8573a9\"],[0.6,\"#7159a3\"],[0.8,\"#5732a1\"],[1.0,\"#2c0579\"]],\"locationmode\":\"USA-states\",\"locations\":[\"AL\",\"AR\",\"DC\",\"DE\",\"FL\",\"AZ\",\"CA\",\"CO\",\"CT\",\"AK\",\"GA\",\"IA\",\"ID\",\"MA\",\"MD\",\"IL\",\"IN\",\"KS\",\"KY\",\"LA\",\"HI\",\"ME\",\"MN\",\"MO\",\"NE\",\"NH\",\"MS\",\"MT\",\"NC\",\"ND\",\"MI\",\"NJ\",\"NV\",\"NY\"],\"z\":[64442,28587,36,4091,111863,50201,55481,37413,9049,3676,59274,35043,1866,13422,18314,84275,89045,27341,76427,56299,7356,2956,30307,67995,25326,3653,25171,18136,53824,31246,67119,19427,14752,32731],\"type\":\"choropleth\"},{\"colorbar\":{\"title\":{\"text\":\"# Sightings\"}},\"colorscale\":[[0.0,\"#ffffff\"],[0.2,\"#b4a8ce\"],[0.4,\"#8573a9\"],[0.6,\"#7159a3\"],[0.8,\"#5732a1\"],[1.0,\"#2c0579\"]],\"locationmode\":\"USA-states\",\"locations\":[\"AR\",\"CT\",\"DC\",\"DE\",\"AZ\",\"CA\",\"CO\",\"AK\",\"AL\",\"FL\",\"IA\",\"ID\",\"LA\",\"MA\",\"MD\",\"IL\",\"IN\",\"KS\",\"KY\",\"GA\",\"HI\",\"ME\",\"MN\",\"MO\",\"MS\",\"NE\",\"NH\",\"NJ\",\"MT\",\"NC\",\"ND\",\"MI\",\"NY\",\"OH\"],\"z\":[31726,8579,48,4363,44531,47008,36075,3466,57776,110388,30216,1829,53162,12722,18578,72226,85393,25762,72433,60156,7257,2557,29644,62731,26272,23014,2526,21108,16470,52492,29908,58644,31295,81618],\"type\":\"choropleth\"},{\"colorbar\":{\"title\":{\"text\":\"# Sightings\"}},\"colorscale\":[[0.0,\"#ffffff\"],[0.2,\"#b4a8ce\"],[0.4,\"#8573a9\"],[0.6,\"#7159a3\"],[0.8,\"#5732a1\"],[1.0,\"#2c0579\"]],\"locationmode\":\"USA-states\",\"locations\":[\"AL\",\"AR\",\"DC\",\"DE\",\"FL\",\"AZ\",\"CA\",\"CO\",\"CT\",\"AK\",\"IA\",\"ID\",\"IL\",\"MA\",\"MD\",\"IN\",\"KS\",\"KY\",\"LA\",\"GA\",\"HI\",\"ME\",\"MO\",\"ND\",\"NE\",\"NH\",\"MS\",\"MT\",\"NC\",\"MI\",\"MN\",\"NJ\",\"NV\",\"NY\",\"OH\",\"RI\"],\"z\":[53192,33322,37,3630,107438,43739,44433,35720,7874,3532,30661,1771,70670,12384,13379,81929,22238,63252,49961,54811,7124,2098,68645,30043,22290,1976,24151,15911,48705,58414,28344,18136,13167,25584,79917,2981],\"type\":\"choropleth\"},{\"colorbar\":{\"title\":{\"text\":\"# Sightings\"}},\"colorscale\":[[0.0,\"#ffffff\"],[0.2,\"#b4a8ce\"],[0.4,\"#8573a9\"],[0.6,\"#7159a3\"],[0.8,\"#5732a1\"],[1.0,\"#2c0579\"]],\"locationmode\":\"USA-states\",\"locations\":[\"AL\",\"AR\",\"DC\",\"DE\",\"FL\",\"AZ\",\"CA\",\"CO\",\"CT\",\"AK\",\"GA\",\"IA\",\"ID\",\"IL\",\"LA\",\"MA\",\"MD\",\"IN\",\"KS\",\"KY\",\"HI\",\"MN\",\"MO\",\"ND\",\"NE\",\"NH\",\"MS\",\"MT\",\"NC\",\"ME\",\"MI\",\"NJ\",\"NV\",\"NY\"],\"z\":[56140,38349,43,3193,107792,46757,43579,34713,9591,3390,54803,34253,1766,72261,50770,9976,17839,91554,23748,66267,7197,29805,65623,31282,25525,2191,26157,15614,49642,2202,61435,18912,14005,27936],\"type\":\"choropleth\"},{\"colorbar\":{\"title\":{\"text\":\"# Sightings\"}},\"colorscale\":[[0.0,\"#ffffff\"],[0.2,\"#b4a8ce\"],[0.4,\"#8573a9\"],[0.6,\"#7159a3\"],[0.8,\"#5732a1\"],[1.0,\"#2c0579\"]],\"locationmode\":\"USA-states\",\"locations\":[\"AR\",\"DC\",\"DE\",\"FL\",\"AZ\",\"CA\",\"CO\",\"CT\",\"AK\",\"AL\",\"IA\",\"ID\",\"LA\",\"MA\",\"IL\",\"IN\",\"KS\",\"KY\",\"GA\",\"HI\",\"MD\",\"MN\",\"MO\",\"MS\",\"NE\",\"NH\",\"NJ\",\"MT\",\"NC\",\"ND\",\"ME\",\"MI\",\"NV\",\"NY\",\"OH\"],\"z\":[23504,108,2675,96975,35791,43440,29113,10215,3527,44895,21164,2230,44525,7978,47595,64884,20363,49825,39957,6650,10241,20986,54206,26815,20967,1734,14942,10421,38542,27437,1831,53285,13584,26849,67350],\"type\":\"choropleth\"}],                        {\"geo\":{\"projection\":{\"type\":\"albers usa\"},\"scope\":\"usa\"},\"sliders\":[{\"active\":0,\"pad\":{\"t\":1},\"steps\":[{\"args\":[\"visible\",[true,false,false,false,false,false,false,false,false,false,false,false,false,false,false,false,false,false,false,false,false,false,false,false,false,false,false,false,false,false]],\"label\":\"Year 1990\",\"method\":\"restyle\"},{\"args\":[\"visible\",[false,true,false,false,false,false,false,false,false,false,false,false,false,false,false,false,false,false,false,false,false,false,false,false,false,false,false,false,false,false]],\"label\":\"Year 1991\",\"method\":\"restyle\"},{\"args\":[\"visible\",[false,false,true,false,false,false,false,false,false,false,false,false,false,false,false,false,false,false,false,false,false,false,false,false,false,false,false,false,false,false]],\"label\":\"Year 1992\",\"method\":\"restyle\"},{\"args\":[\"visible\",[false,false,false,true,false,false,false,false,false,false,false,false,false,false,false,false,false,false,false,false,false,false,false,false,false,false,false,false,false,false]],\"label\":\"Year 1993\",\"method\":\"restyle\"},{\"args\":[\"visible\",[false,false,false,false,true,false,false,false,false,false,false,false,false,false,false,false,false,false,false,false,false,false,false,false,false,false,false,false,false,false]],\"label\":\"Year 1994\",\"method\":\"restyle\"},{\"args\":[\"visible\",[false,false,false,false,false,true,false,false,false,false,false,false,false,false,false,false,false,false,false,false,false,false,false,false,false,false,false,false,false,false]],\"label\":\"Year 1995\",\"method\":\"restyle\"},{\"args\":[\"visible\",[false,false,false,false,false,false,true,false,false,false,false,false,false,false,false,false,false,false,false,false,false,false,false,false,false,false,false,false,false,false]],\"label\":\"Year 1996\",\"method\":\"restyle\"},{\"args\":[\"visible\",[false,false,false,false,false,false,false,true,false,false,false,false,false,false,false,false,false,false,false,false,false,false,false,false,false,false,false,false,false,false]],\"label\":\"Year 1997\",\"method\":\"restyle\"},{\"args\":[\"visible\",[false,false,false,false,false,false,false,false,true,false,false,false,false,false,false,false,false,false,false,false,false,false,false,false,false,false,false,false,false,false]],\"label\":\"Year 1998\",\"method\":\"restyle\"},{\"args\":[\"visible\",[false,false,false,false,false,false,false,false,false,true,false,false,false,false,false,false,false,false,false,false,false,false,false,false,false,false,false,false,false,false]],\"label\":\"Year 1999\",\"method\":\"restyle\"},{\"args\":[\"visible\",[false,false,false,false,false,false,false,false,false,false,true,false,false,false,false,false,false,false,false,false,false,false,false,false,false,false,false,false,false,false]],\"label\":\"Year 2000\",\"method\":\"restyle\"},{\"args\":[\"visible\",[false,false,false,false,false,false,false,false,false,false,false,true,false,false,false,false,false,false,false,false,false,false,false,false,false,false,false,false,false,false]],\"label\":\"Year 2001\",\"method\":\"restyle\"},{\"args\":[\"visible\",[false,false,false,false,false,false,false,false,false,false,false,false,true,false,false,false,false,false,false,false,false,false,false,false,false,false,false,false,false,false]],\"label\":\"Year 2002\",\"method\":\"restyle\"},{\"args\":[\"visible\",[false,false,false,false,false,false,false,false,false,false,false,false,false,true,false,false,false,false,false,false,false,false,false,false,false,false,false,false,false,false]],\"label\":\"Year 2003\",\"method\":\"restyle\"},{\"args\":[\"visible\",[false,false,false,false,false,false,false,false,false,false,false,false,false,false,true,false,false,false,false,false,false,false,false,false,false,false,false,false,false,false]],\"label\":\"Year 2004\",\"method\":\"restyle\"},{\"args\":[\"visible\",[false,false,false,false,false,false,false,false,false,false,false,false,false,false,false,true,false,false,false,false,false,false,false,false,false,false,false,false,false,false]],\"label\":\"Year 2005\",\"method\":\"restyle\"},{\"args\":[\"visible\",[false,false,false,false,false,false,false,false,false,false,false,false,false,false,false,false,true,false,false,false,false,false,false,false,false,false,false,false,false,false]],\"label\":\"Year 2006\",\"method\":\"restyle\"},{\"args\":[\"visible\",[false,false,false,false,false,false,false,false,false,false,false,false,false,false,false,false,false,true,false,false,false,false,false,false,false,false,false,false,false,false]],\"label\":\"Year 2007\",\"method\":\"restyle\"},{\"args\":[\"visible\",[false,false,false,false,false,false,false,false,false,false,false,false,false,false,false,false,false,false,true,false,false,false,false,false,false,false,false,false,false,false]],\"label\":\"Year 2008\",\"method\":\"restyle\"},{\"args\":[\"visible\",[false,false,false,false,false,false,false,false,false,false,false,false,false,false,false,false,false,false,false,true,false,false,false,false,false,false,false,false,false,false]],\"label\":\"Year 2009\",\"method\":\"restyle\"},{\"args\":[\"visible\",[false,false,false,false,false,false,false,false,false,false,false,false,false,false,false,false,false,false,false,false,true,false,false,false,false,false,false,false,false,false]],\"label\":\"Year 2010\",\"method\":\"restyle\"},{\"args\":[\"visible\",[false,false,false,false,false,false,false,false,false,false,false,false,false,false,false,false,false,false,false,false,false,true,false,false,false,false,false,false,false,false]],\"label\":\"Year 2011\",\"method\":\"restyle\"},{\"args\":[\"visible\",[false,false,false,false,false,false,false,false,false,false,false,false,false,false,false,false,false,false,false,false,false,false,true,false,false,false,false,false,false,false]],\"label\":\"Year 2012\",\"method\":\"restyle\"},{\"args\":[\"visible\",[false,false,false,false,false,false,false,false,false,false,false,false,false,false,false,false,false,false,false,false,false,false,false,true,false,false,false,false,false,false]],\"label\":\"Year 2013\",\"method\":\"restyle\"},{\"args\":[\"visible\",[false,false,false,false,false,false,false,false,false,false,false,false,false,false,false,false,false,false,false,false,false,false,false,false,true,false,false,false,false,false]],\"label\":\"Year 2014\",\"method\":\"restyle\"},{\"args\":[\"visible\",[false,false,false,false,false,false,false,false,false,false,false,false,false,false,false,false,false,false,false,false,false,false,false,false,false,true,false,false,false,false]],\"label\":\"Year 2015\",\"method\":\"restyle\"},{\"args\":[\"visible\",[false,false,false,false,false,false,false,false,false,false,false,false,false,false,false,false,false,false,false,false,false,false,false,false,false,false,true,false,false,false]],\"label\":\"Year 2016\",\"method\":\"restyle\"},{\"args\":[\"visible\",[false,false,false,false,false,false,false,false,false,false,false,false,false,false,false,false,false,false,false,false,false,false,false,false,false,false,false,true,false,false]],\"label\":\"Year 2017\",\"method\":\"restyle\"},{\"args\":[\"visible\",[false,false,false,false,false,false,false,false,false,false,false,false,false,false,false,false,false,false,false,false,false,false,false,false,false,false,false,false,true,false]],\"label\":\"Year 2018\",\"method\":\"restyle\"},{\"args\":[\"visible\",[false,false,false,false,false,false,false,false,false,false,false,false,false,false,false,false,false,false,false,false,false,false,false,false,false,false,false,false,false,true]],\"label\":\"Year 2019\",\"method\":\"restyle\"}]}],\"template\":{\"data\":{\"barpolar\":[{\"marker\":{\"line\":{\"color\":\"#E5ECF6\",\"width\":0.5},\"pattern\":{\"fillmode\":\"overlay\",\"size\":10,\"solidity\":0.2}},\"type\":\"barpolar\"}],\"bar\":[{\"error_x\":{\"color\":\"#2a3f5f\"},\"error_y\":{\"color\":\"#2a3f5f\"},\"marker\":{\"line\":{\"color\":\"#E5ECF6\",\"width\":0.5},\"pattern\":{\"fillmode\":\"overlay\",\"size\":10,\"solidity\":0.2}},\"type\":\"bar\"}],\"carpet\":[{\"aaxis\":{\"endlinecolor\":\"#2a3f5f\",\"gridcolor\":\"white\",\"linecolor\":\"white\",\"minorgridcolor\":\"white\",\"startlinecolor\":\"#2a3f5f\"},\"baxis\":{\"endlinecolor\":\"#2a3f5f\",\"gridcolor\":\"white\",\"linecolor\":\"white\",\"minorgridcolor\":\"white\",\"startlinecolor\":\"#2a3f5f\"},\"type\":\"carpet\"}],\"choropleth\":[{\"colorbar\":{\"outlinewidth\":0,\"ticks\":\"\"},\"type\":\"choropleth\"}],\"contourcarpet\":[{\"colorbar\":{\"outlinewidth\":0,\"ticks\":\"\"},\"type\":\"contourcarpet\"}],\"contour\":[{\"colorbar\":{\"outlinewidth\":0,\"ticks\":\"\"},\"colorscale\":[[0.0,\"#0d0887\"],[0.1111111111111111,\"#46039f\"],[0.2222222222222222,\"#7201a8\"],[0.3333333333333333,\"#9c179e\"],[0.4444444444444444,\"#bd3786\"],[0.5555555555555556,\"#d8576b\"],[0.6666666666666666,\"#ed7953\"],[0.7777777777777778,\"#fb9f3a\"],[0.8888888888888888,\"#fdca26\"],[1.0,\"#f0f921\"]],\"type\":\"contour\"}],\"heatmapgl\":[{\"colorbar\":{\"outlinewidth\":0,\"ticks\":\"\"},\"colorscale\":[[0.0,\"#0d0887\"],[0.1111111111111111,\"#46039f\"],[0.2222222222222222,\"#7201a8\"],[0.3333333333333333,\"#9c179e\"],[0.4444444444444444,\"#bd3786\"],[0.5555555555555556,\"#d8576b\"],[0.6666666666666666,\"#ed7953\"],[0.7777777777777778,\"#fb9f3a\"],[0.8888888888888888,\"#fdca26\"],[1.0,\"#f0f921\"]],\"type\":\"heatmapgl\"}],\"heatmap\":[{\"colorbar\":{\"outlinewidth\":0,\"ticks\":\"\"},\"colorscale\":[[0.0,\"#0d0887\"],[0.1111111111111111,\"#46039f\"],[0.2222222222222222,\"#7201a8\"],[0.3333333333333333,\"#9c179e\"],[0.4444444444444444,\"#bd3786\"],[0.5555555555555556,\"#d8576b\"],[0.6666666666666666,\"#ed7953\"],[0.7777777777777778,\"#fb9f3a\"],[0.8888888888888888,\"#fdca26\"],[1.0,\"#f0f921\"]],\"type\":\"heatmap\"}],\"histogram2dcontour\":[{\"colorbar\":{\"outlinewidth\":0,\"ticks\":\"\"},\"colorscale\":[[0.0,\"#0d0887\"],[0.1111111111111111,\"#46039f\"],[0.2222222222222222,\"#7201a8\"],[0.3333333333333333,\"#9c179e\"],[0.4444444444444444,\"#bd3786\"],[0.5555555555555556,\"#d8576b\"],[0.6666666666666666,\"#ed7953\"],[0.7777777777777778,\"#fb9f3a\"],[0.8888888888888888,\"#fdca26\"],[1.0,\"#f0f921\"]],\"type\":\"histogram2dcontour\"}],\"histogram2d\":[{\"colorbar\":{\"outlinewidth\":0,\"ticks\":\"\"},\"colorscale\":[[0.0,\"#0d0887\"],[0.1111111111111111,\"#46039f\"],[0.2222222222222222,\"#7201a8\"],[0.3333333333333333,\"#9c179e\"],[0.4444444444444444,\"#bd3786\"],[0.5555555555555556,\"#d8576b\"],[0.6666666666666666,\"#ed7953\"],[0.7777777777777778,\"#fb9f3a\"],[0.8888888888888888,\"#fdca26\"],[1.0,\"#f0f921\"]],\"type\":\"histogram2d\"}],\"histogram\":[{\"marker\":{\"pattern\":{\"fillmode\":\"overlay\",\"size\":10,\"solidity\":0.2}},\"type\":\"histogram\"}],\"mesh3d\":[{\"colorbar\":{\"outlinewidth\":0,\"ticks\":\"\"},\"type\":\"mesh3d\"}],\"parcoords\":[{\"line\":{\"colorbar\":{\"outlinewidth\":0,\"ticks\":\"\"}},\"type\":\"parcoords\"}],\"pie\":[{\"automargin\":true,\"type\":\"pie\"}],\"scatter3d\":[{\"line\":{\"colorbar\":{\"outlinewidth\":0,\"ticks\":\"\"}},\"marker\":{\"colorbar\":{\"outlinewidth\":0,\"ticks\":\"\"}},\"type\":\"scatter3d\"}],\"scattercarpet\":[{\"marker\":{\"colorbar\":{\"outlinewidth\":0,\"ticks\":\"\"}},\"type\":\"scattercarpet\"}],\"scattergeo\":[{\"marker\":{\"colorbar\":{\"outlinewidth\":0,\"ticks\":\"\"}},\"type\":\"scattergeo\"}],\"scattergl\":[{\"marker\":{\"colorbar\":{\"outlinewidth\":0,\"ticks\":\"\"}},\"type\":\"scattergl\"}],\"scattermapbox\":[{\"marker\":{\"colorbar\":{\"outlinewidth\":0,\"ticks\":\"\"}},\"type\":\"scattermapbox\"}],\"scatterpolargl\":[{\"marker\":{\"colorbar\":{\"outlinewidth\":0,\"ticks\":\"\"}},\"type\":\"scatterpolargl\"}],\"scatterpolar\":[{\"marker\":{\"colorbar\":{\"outlinewidth\":0,\"ticks\":\"\"}},\"type\":\"scatterpolar\"}],\"scatter\":[{\"marker\":{\"colorbar\":{\"outlinewidth\":0,\"ticks\":\"\"}},\"type\":\"scatter\"}],\"scatterternary\":[{\"marker\":{\"colorbar\":{\"outlinewidth\":0,\"ticks\":\"\"}},\"type\":\"scatterternary\"}],\"surface\":[{\"colorbar\":{\"outlinewidth\":0,\"ticks\":\"\"},\"colorscale\":[[0.0,\"#0d0887\"],[0.1111111111111111,\"#46039f\"],[0.2222222222222222,\"#7201a8\"],[0.3333333333333333,\"#9c179e\"],[0.4444444444444444,\"#bd3786\"],[0.5555555555555556,\"#d8576b\"],[0.6666666666666666,\"#ed7953\"],[0.7777777777777778,\"#fb9f3a\"],[0.8888888888888888,\"#fdca26\"],[1.0,\"#f0f921\"]],\"type\":\"surface\"}],\"table\":[{\"cells\":{\"fill\":{\"color\":\"#EBF0F8\"},\"line\":{\"color\":\"white\"}},\"header\":{\"fill\":{\"color\":\"#C8D4E3\"},\"line\":{\"color\":\"white\"}},\"type\":\"table\"}]},\"layout\":{\"annotationdefaults\":{\"arrowcolor\":\"#2a3f5f\",\"arrowhead\":0,\"arrowwidth\":1},\"autotypenumbers\":\"strict\",\"coloraxis\":{\"colorbar\":{\"outlinewidth\":0,\"ticks\":\"\"}},\"colorscale\":{\"diverging\":[[0,\"#8e0152\"],[0.1,\"#c51b7d\"],[0.2,\"#de77ae\"],[0.3,\"#f1b6da\"],[0.4,\"#fde0ef\"],[0.5,\"#f7f7f7\"],[0.6,\"#e6f5d0\"],[0.7,\"#b8e186\"],[0.8,\"#7fbc41\"],[0.9,\"#4d9221\"],[1,\"#276419\"]],\"sequential\":[[0.0,\"#0d0887\"],[0.1111111111111111,\"#46039f\"],[0.2222222222222222,\"#7201a8\"],[0.3333333333333333,\"#9c179e\"],[0.4444444444444444,\"#bd3786\"],[0.5555555555555556,\"#d8576b\"],[0.6666666666666666,\"#ed7953\"],[0.7777777777777778,\"#fb9f3a\"],[0.8888888888888888,\"#fdca26\"],[1.0,\"#f0f921\"]],\"sequentialminus\":[[0.0,\"#0d0887\"],[0.1111111111111111,\"#46039f\"],[0.2222222222222222,\"#7201a8\"],[0.3333333333333333,\"#9c179e\"],[0.4444444444444444,\"#bd3786\"],[0.5555555555555556,\"#d8576b\"],[0.6666666666666666,\"#ed7953\"],[0.7777777777777778,\"#fb9f3a\"],[0.8888888888888888,\"#fdca26\"],[1.0,\"#f0f921\"]]},\"colorway\":[\"#636efa\",\"#EF553B\",\"#00cc96\",\"#ab63fa\",\"#FFA15A\",\"#19d3f3\",\"#FF6692\",\"#B6E880\",\"#FF97FF\",\"#FECB52\"],\"font\":{\"color\":\"#2a3f5f\"},\"geo\":{\"bgcolor\":\"white\",\"lakecolor\":\"white\",\"landcolor\":\"#E5ECF6\",\"showlakes\":true,\"showland\":true,\"subunitcolor\":\"white\"},\"hoverlabel\":{\"align\":\"left\"},\"hovermode\":\"closest\",\"mapbox\":{\"style\":\"light\"},\"paper_bgcolor\":\"white\",\"plot_bgcolor\":\"#E5ECF6\",\"polar\":{\"angularaxis\":{\"gridcolor\":\"white\",\"linecolor\":\"white\",\"ticks\":\"\"},\"bgcolor\":\"#E5ECF6\",\"radialaxis\":{\"gridcolor\":\"white\",\"linecolor\":\"white\",\"ticks\":\"\"}},\"scene\":{\"xaxis\":{\"backgroundcolor\":\"#E5ECF6\",\"gridcolor\":\"white\",\"gridwidth\":2,\"linecolor\":\"white\",\"showbackground\":true,\"ticks\":\"\",\"zerolinecolor\":\"white\"},\"yaxis\":{\"backgroundcolor\":\"#E5ECF6\",\"gridcolor\":\"white\",\"gridwidth\":2,\"linecolor\":\"white\",\"showbackground\":true,\"ticks\":\"\",\"zerolinecolor\":\"white\"},\"zaxis\":{\"backgroundcolor\":\"#E5ECF6\",\"gridcolor\":\"white\",\"gridwidth\":2,\"linecolor\":\"white\",\"showbackground\":true,\"ticks\":\"\",\"zerolinecolor\":\"white\"}},\"shapedefaults\":{\"line\":{\"color\":\"#2a3f5f\"}},\"ternary\":{\"aaxis\":{\"gridcolor\":\"white\",\"linecolor\":\"white\",\"ticks\":\"\"},\"baxis\":{\"gridcolor\":\"white\",\"linecolor\":\"white\",\"ticks\":\"\"},\"bgcolor\":\"#E5ECF6\",\"caxis\":{\"gridcolor\":\"white\",\"linecolor\":\"white\",\"ticks\":\"\"}},\"title\":{\"x\":0.05},\"xaxis\":{\"automargin\":true,\"gridcolor\":\"white\",\"linecolor\":\"white\",\"ticks\":\"\",\"title\":{\"standoff\":15},\"zerolinecolor\":\"white\",\"zerolinewidth\":2},\"yaxis\":{\"automargin\":true,\"gridcolor\":\"white\",\"linecolor\":\"white\",\"ticks\":\"\",\"title\":{\"standoff\":15},\"zerolinecolor\":\"white\",\"zerolinewidth\":2}}},\"title\":{\"text\":\"CO2 Emissions Statewise since 1990 to 2020\"}},                        {\"responsive\": true}                    ).then(function(){\n",
       "                            \n",
       "var gd = document.getElementById('b55f6514-dc2a-42f5-98f3-1b465ebca7ba');\n",
       "var x = new MutationObserver(function (mutations, observer) {{\n",
       "        var display = window.getComputedStyle(gd).display;\n",
       "        if (!display || display === 'none') {{\n",
       "            console.log([gd, 'removed!']);\n",
       "            Plotly.purge(gd);\n",
       "            observer.disconnect();\n",
       "        }}\n",
       "}});\n",
       "\n",
       "// Listen for the removal of the full notebook cells\n",
       "var notebookContainer = gd.closest('#notebook-container');\n",
       "if (notebookContainer) {{\n",
       "    x.observe(notebookContainer, {childList: true});\n",
       "}}\n",
       "\n",
       "// Listen for the clearing of the current output cell\n",
       "var outputEl = gd.closest('.output');\n",
       "if (outputEl) {{\n",
       "    x.observe(outputEl, {childList: true});\n",
       "}}\n",
       "\n",
       "                        })                };                });            </script>        </div>"
      ]
     },
     "metadata": {},
     "output_type": "display_data"
    }
   ],
   "source": [
    "year = 1990\n",
    "\n",
    "\n",
    "scl = [[0.0, '#ffffff'],[0.2, '#b4a8ce'],[0.4, '#8573a9'],\n",
    "       [0.6, '#7159a3'],[0.8, '#5732a1'],[1.0, '#2c0579']] # purples\n",
    "\n",
    "data_slider = []\n",
    "for year in sorted(df['period'].unique()):\n",
    "\n",
    "    data_each_yr = dict(\n",
    "                        type='choropleth',\n",
    "                        locations = list(co2[year].keys()),\n",
    "                        z=list(co2[year].values()),\n",
    "                        locationmode='USA-states',\n",
    "                        colorscale = scl,\n",
    "                        colorbar= {'title':'# Sightings'})\n",
    "\n",
    "    data_slider.append(data_each_yr)\n",
    "\n",
    "steps = []\n",
    "for i in range(len(data_slider)):\n",
    "    step = dict(method='restyle',\n",
    "                args=['visible', [False] * len(data_slider)],\n",
    "                label='Year {}'.format(i + 1990))\n",
    "    step['args'][1][i] = True\n",
    "    steps.append(step)\n",
    "\n",
    "sliders = [dict(active=0, pad={\"t\": 1}, steps=steps)]\n",
    "\n",
    "layout = dict(title ='CO2 Emissions Statewise since 1990 to 2020', geo=dict(scope='usa',\n",
    "                       projection={'type': 'albers usa'}),\n",
    "              sliders=sliders)\n",
    "\n",
    "fig = dict(data=data_slider, layout=layout)\n",
    "po.iplot(fig)"
   ]
  },
  {
   "cell_type": "code",
   "execution_count": null,
   "id": "377c87a5-34db-4b9a-a588-cbfafbef1fd1",
   "metadata": {},
   "outputs": [],
   "source": []
  }
 ],
 "metadata": {
  "kernelspec": {
   "display_name": "Python 3.10.7 64-bit",
   "language": "python",
   "name": "python3"
  },
  "language_info": {
   "codemirror_mode": {
    "name": "ipython",
    "version": 3
   },
   "file_extension": ".py",
   "mimetype": "text/x-python",
   "name": "python",
   "nbconvert_exporter": "python",
   "pygments_lexer": "ipython3",
   "version": "3.10.7"
  },
  "vscode": {
   "interpreter": {
    "hash": "aee8b7b246df8f9039afb4144a1f6fd8d2ca17a180786b69acc140d282b71a49"
   }
  }
 },
 "nbformat": 4,
 "nbformat_minor": 5
}
