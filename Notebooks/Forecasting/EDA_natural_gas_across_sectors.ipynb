{
 "cells": [
  {
   "cell_type": "code",
   "execution_count": 35,
   "id": "3520eb05-676a-4c1a-8382-9e9bbf59d43e",
   "metadata": {},
   "outputs": [],
   "source": [
    "import eia\n",
    "from collections import defaultdict\n",
    "import pandas as pd\n",
    "import plotly.express as px\n",
    "from statsmodels.tsa.ar_model import AutoReg\n",
    "import numpy as np\n",
    "import plotly.graph_objects as go"
   ]
  },
  {
   "cell_type": "code",
   "execution_count": 10,
   "id": "695235bc-cffe-4738-b67c-8c039337393c",
   "metadata": {},
   "outputs": [],
   "source": [
    "df_nt = pd.read_csv(\"Natural_Gas_consumption_by_sector2.csv\")"
   ]
  },
  {
   "cell_type": "code",
   "execution_count": 11,
   "id": "f271965d-2f36-4f50-826e-74e11aa7cfca",
   "metadata": {},
   "outputs": [
    {
     "data": {
      "text/html": [
       "<div>\n",
       "<style scoped>\n",
       "    .dataframe tbody tr th:only-of-type {\n",
       "        vertical-align: middle;\n",
       "    }\n",
       "\n",
       "    .dataframe tbody tr th {\n",
       "        vertical-align: top;\n",
       "    }\n",
       "\n",
       "    .dataframe thead th {\n",
       "        text-align: right;\n",
       "    }\n",
       "</style>\n",
       "<table border=\"1\" class=\"dataframe\">\n",
       "  <thead>\n",
       "    <tr style=\"text-align: right;\">\n",
       "      <th></th>\n",
       "      <th>Sector</th>\n",
       "      <th>Residential</th>\n",
       "      <th>Commercial</th>\n",
       "      <th>Industrial</th>\n",
       "      <th>Electric Power</th>\n",
       "      <th>Lease and Plant Fuel</th>\n",
       "      <th>Pipeline and Distribution Use</th>\n",
       "      <th>Vehicle Use</th>\n",
       "      <th>Total Consumption</th>\n",
       "      <th>Other</th>\n",
       "    </tr>\n",
       "  </thead>\n",
       "  <tbody>\n",
       "    <tr>\n",
       "      <th>0</th>\n",
       "      <td>Jan 2014</td>\n",
       "      <td>33.46</td>\n",
       "      <td>18.44</td>\n",
       "      <td>23.30</td>\n",
       "      <td>21.38</td>\n",
       "      <td>3.90</td>\n",
       "      <td>2.78</td>\n",
       "      <td>0.10</td>\n",
       "      <td>103.36</td>\n",
       "      <td>6.78</td>\n",
       "    </tr>\n",
       "    <tr>\n",
       "      <th>1</th>\n",
       "      <td>Feb 2014</td>\n",
       "      <td>30.46</td>\n",
       "      <td>17.50</td>\n",
       "      <td>23.54</td>\n",
       "      <td>19.68</td>\n",
       "      <td>3.99</td>\n",
       "      <td>2.62</td>\n",
       "      <td>0.10</td>\n",
       "      <td>97.90</td>\n",
       "      <td>6.71</td>\n",
       "    </tr>\n",
       "    <tr>\n",
       "      <th>2</th>\n",
       "      <td>Mar 2014</td>\n",
       "      <td>22.58</td>\n",
       "      <td>13.58</td>\n",
       "      <td>21.96</td>\n",
       "      <td>18.09</td>\n",
       "      <td>4.02</td>\n",
       "      <td>2.19</td>\n",
       "      <td>0.10</td>\n",
       "      <td>82.51</td>\n",
       "      <td>6.31</td>\n",
       "    </tr>\n",
       "    <tr>\n",
       "      <th>3</th>\n",
       "      <td>Apr 2014</td>\n",
       "      <td>11.87</td>\n",
       "      <td>8.37</td>\n",
       "      <td>20.93</td>\n",
       "      <td>18.30</td>\n",
       "      <td>4.12</td>\n",
       "      <td>1.71</td>\n",
       "      <td>0.10</td>\n",
       "      <td>65.39</td>\n",
       "      <td>5.93</td>\n",
       "    </tr>\n",
       "    <tr>\n",
       "      <th>4</th>\n",
       "      <td>May 2014</td>\n",
       "      <td>6.56</td>\n",
       "      <td>5.70</td>\n",
       "      <td>19.55</td>\n",
       "      <td>20.87</td>\n",
       "      <td>4.10</td>\n",
       "      <td>1.52</td>\n",
       "      <td>0.10</td>\n",
       "      <td>58.39</td>\n",
       "      <td>5.72</td>\n",
       "    </tr>\n",
       "    <tr>\n",
       "      <th>...</th>\n",
       "      <td>...</td>\n",
       "      <td>...</td>\n",
       "      <td>...</td>\n",
       "      <td>...</td>\n",
       "      <td>...</td>\n",
       "      <td>...</td>\n",
       "      <td>...</td>\n",
       "      <td>...</td>\n",
       "      <td>...</td>\n",
       "      <td>...</td>\n",
       "    </tr>\n",
       "    <tr>\n",
       "      <th>102</th>\n",
       "      <td>Jul 2022</td>\n",
       "      <td>3.59</td>\n",
       "      <td>4.70</td>\n",
       "      <td>21.64</td>\n",
       "      <td>45.17</td>\n",
       "      <td>5.48</td>\n",
       "      <td>3.09</td>\n",
       "      <td>0.15</td>\n",
       "      <td>83.80</td>\n",
       "      <td>8.72</td>\n",
       "    </tr>\n",
       "    <tr>\n",
       "      <th>103</th>\n",
       "      <td>Aug 2022</td>\n",
       "      <td>3.32</td>\n",
       "      <td>4.58</td>\n",
       "      <td>21.68</td>\n",
       "      <td>44.50</td>\n",
       "      <td>5.50</td>\n",
       "      <td>3.05</td>\n",
       "      <td>0.15</td>\n",
       "      <td>82.78</td>\n",
       "      <td>8.70</td>\n",
       "    </tr>\n",
       "    <tr>\n",
       "      <th>104</th>\n",
       "      <td>Sep 2022</td>\n",
       "      <td>4.03</td>\n",
       "      <td>5.33</td>\n",
       "      <td>21.53</td>\n",
       "      <td>37.17</td>\n",
       "      <td>5.56</td>\n",
       "      <td>2.81</td>\n",
       "      <td>0.15</td>\n",
       "      <td>76.59</td>\n",
       "      <td>8.52</td>\n",
       "    </tr>\n",
       "    <tr>\n",
       "      <th>105</th>\n",
       "      <td>Oct 2022</td>\n",
       "      <td>7.94</td>\n",
       "      <td>7.61</td>\n",
       "      <td>22.26</td>\n",
       "      <td>31.04</td>\n",
       "      <td>5.56</td>\n",
       "      <td>2.84</td>\n",
       "      <td>0.15</td>\n",
       "      <td>77.40</td>\n",
       "      <td>8.55</td>\n",
       "    </tr>\n",
       "    <tr>\n",
       "      <th>106</th>\n",
       "      <td>Nov 2022</td>\n",
       "      <td>16.45</td>\n",
       "      <td>11.80</td>\n",
       "      <td>23.97</td>\n",
       "      <td>28.17</td>\n",
       "      <td>5.57</td>\n",
       "      <td>3.31</td>\n",
       "      <td>0.15</td>\n",
       "      <td>89.41</td>\n",
       "      <td>9.03</td>\n",
       "    </tr>\n",
       "  </tbody>\n",
       "</table>\n",
       "<p>107 rows × 10 columns</p>\n",
       "</div>"
      ],
      "text/plain": [
       "       Sector  Residential  Commercial  Industrial  Electric Power  \\\n",
       "0    Jan 2014        33.46       18.44       23.30           21.38   \n",
       "1    Feb 2014        30.46       17.50       23.54           19.68   \n",
       "2    Mar 2014        22.58       13.58       21.96           18.09   \n",
       "3    Apr 2014        11.87        8.37       20.93           18.30   \n",
       "4    May 2014         6.56        5.70       19.55           20.87   \n",
       "..        ...          ...         ...         ...             ...   \n",
       "102  Jul 2022         3.59        4.70       21.64           45.17   \n",
       "103  Aug 2022         3.32        4.58       21.68           44.50   \n",
       "104  Sep 2022         4.03        5.33       21.53           37.17   \n",
       "105  Oct 2022         7.94        7.61       22.26           31.04   \n",
       "106  Nov 2022        16.45       11.80       23.97           28.17   \n",
       "\n",
       "     Lease and Plant Fuel  Pipeline and Distribution Use  Vehicle Use  \\\n",
       "0                    3.90                           2.78         0.10   \n",
       "1                    3.99                           2.62         0.10   \n",
       "2                    4.02                           2.19         0.10   \n",
       "3                    4.12                           1.71         0.10   \n",
       "4                    4.10                           1.52         0.10   \n",
       "..                    ...                            ...          ...   \n",
       "102                  5.48                           3.09         0.15   \n",
       "103                  5.50                           3.05         0.15   \n",
       "104                  5.56                           2.81         0.15   \n",
       "105                  5.56                           2.84         0.15   \n",
       "106                  5.57                           3.31         0.15   \n",
       "\n",
       "     Total Consumption  Other  \n",
       "0               103.36   6.78  \n",
       "1                97.90   6.71  \n",
       "2                82.51   6.31  \n",
       "3                65.39   5.93  \n",
       "4                58.39   5.72  \n",
       "..                 ...    ...  \n",
       "102              83.80   8.72  \n",
       "103              82.78   8.70  \n",
       "104              76.59   8.52  \n",
       "105              77.40   8.55  \n",
       "106              89.41   9.03  \n",
       "\n",
       "[107 rows x 10 columns]"
      ]
     },
     "execution_count": 44,
     "metadata": {},
     "output_type": "execute_result"
    }
   ],
   "source": [
    "df_nt"
   ]
  },
  {
   "cell_type": "code",
   "execution_count": 12,
   "id": "ff6ca99c-171d-467b-97ba-8baf5f7b33fa",
   "metadata": {},
   "outputs": [
    {
     "data": {
      "application/vnd.plotly.v1+json": {
       "config": {
        "plotlyServerURL": "https://plot.ly"
       },
       "data": [
        {
         "mode": "lines",
         "name": "Residential",
         "type": "scatter",
         "x": [
          "Jan 2014",
          "Feb 2014",
          "Mar 2014",
          "Apr 2014",
          "May 2014",
          "Jun 2014",
          "Jul 2014",
          "Aug 2014",
          "Sep 2014",
          "Oct 2014",
          "Nov 2014",
          "Dec 2014",
          "Jan 2015",
          "Feb 2015",
          "Mar 2015",
          "Apr 2015",
          "May 2015",
          "Jun 2015",
          "Jul 2015",
          "Aug 2015",
          "Sep 2015",
          "Oct 2015",
          "Nov 2015",
          "Dec 2015",
          "Jan 2016",
          "Feb 2016",
          "Mar 2016",
          "Apr 2016",
          "May 2016",
          "Jun 2016",
          "Jul 2016",
          "Aug 2016",
          "Sep 2016",
          "Oct 2016",
          "Nov 2016",
          "Dec 2016",
          "Jan 2017",
          "Feb 2017",
          "Mar 2017",
          "Apr 2017",
          "May 2017",
          "Jun 2017",
          "Jul 2017",
          "Aug 2017",
          "Sep 2017",
          "Oct 2017",
          "Nov 2017",
          "Dec 2017",
          "Jan 2018",
          "Feb 2018",
          "Mar 2018",
          "Apr 2018",
          "May 2018",
          "Jun 2018",
          "Jul 2018",
          "Aug 2018",
          "Sep 2018",
          "Oct 2018",
          "Nov 2018",
          "Dec 2018",
          "Jan 2019",
          "Feb 2019",
          "Mar 2019",
          "Apr 2019",
          "May 2019",
          "Jun 2019",
          "Jul 2019",
          "Aug 2019",
          "Sep 2019",
          "Oct 2019",
          "Nov 2019",
          "Dec 2019",
          "Jan 2020",
          "Feb 2020",
          "Mar 2020",
          "Apr 2020",
          "May 2020",
          "Jun 2020",
          "Jul 2020",
          "Aug 2020",
          "Sep 2020",
          "Oct 2020",
          "Nov 2020",
          "Dec 2020",
          "Jan 2021",
          "Feb 2021",
          "Mar 2021",
          "Apr 2021",
          "May 2021",
          "Jun 2021",
          "Jul 2021",
          "Aug 2021",
          "Sep 2021",
          "Oct 2021",
          "Nov 2021",
          "Dec 2021",
          "Jan 2022",
          "Feb 2022",
          "Mar 2022",
          "Apr 2022",
          "May 2022",
          "Jun 2022",
          "Jul 2022",
          "Aug 2022",
          "Sep 2022",
          "Oct 2022",
          "Nov 2022"
         ],
         "y": [
          33.46,
          30.46,
          22.58,
          11.87,
          6.56,
          4.19,
          3.64,
          3.39,
          4.06,
          6.84,
          18.12,
          23.13,
          30.26,
          32.23,
          20.42,
          10.64,
          5.73,
          4.14,
          3.49,
          3.32,
          3.62,
          6.5,
          13.55,
          19.06,
          28.35,
          23.8,
          14.68,
          10.94,
          6.26,
          4.09,
          3.43,
          3.24,
          3.66,
          6.04,
          12.66,
          25.62,
          26.8,
          20.69,
          18.71,
          9.3,
          6.43,
          4.14,
          3.47,
          3.35,
          3.82,
          6.62,
          15.59,
          26.51,
          31.65,
          24.64,
          21.27,
          14.69,
          5.45,
          3.97,
          3.42,
          3.22,
          3.74,
          8.24,
          19.97,
          24.7,
          30.77,
          28.9,
          22.21,
          10.95,
          6.85,
          4.31,
          3.61,
          3.29,
          3.66,
          7.47,
          19.64,
          24.28,
          26.61,
          25.42,
          16.99,
          12.6,
          7.63,
          4.54,
          3.81,
          3.51,
          4.22,
          7.8,
          14.66,
          25.79,
          28.87,
          31.28,
          18.52,
          11.41,
          7.03,
          4.32,
          3.64,
          3.43,
          3.95,
          6.21,
          16.07,
          21.59,
          31.02,
          28.44,
          19.05,
          13,
          6.48,
          4.13,
          3.59,
          3.32,
          4.03,
          7.94,
          16.45
         ]
        },
        {
         "mode": "lines",
         "name": "Commercial",
         "type": "scatter",
         "x": [
          "Jan 2014",
          "Feb 2014",
          "Mar 2014",
          "Apr 2014",
          "May 2014",
          "Jun 2014",
          "Jul 2014",
          "Aug 2014",
          "Sep 2014",
          "Oct 2014",
          "Nov 2014",
          "Dec 2014",
          "Jan 2015",
          "Feb 2015",
          "Mar 2015",
          "Apr 2015",
          "May 2015",
          "Jun 2015",
          "Jul 2015",
          "Aug 2015",
          "Sep 2015",
          "Oct 2015",
          "Nov 2015",
          "Dec 2015",
          "Jan 2016",
          "Feb 2016",
          "Mar 2016",
          "Apr 2016",
          "May 2016",
          "Jun 2016",
          "Jul 2016",
          "Aug 2016",
          "Sep 2016",
          "Oct 2016",
          "Nov 2016",
          "Dec 2016",
          "Jan 2017",
          "Feb 2017",
          "Mar 2017",
          "Apr 2017",
          "May 2017",
          "Jun 2017",
          "Jul 2017",
          "Aug 2017",
          "Sep 2017",
          "Oct 2017",
          "Nov 2017",
          "Dec 2017",
          "Jan 2018",
          "Feb 2018",
          "Mar 2018",
          "Apr 2018",
          "May 2018",
          "Jun 2018",
          "Jul 2018",
          "Aug 2018",
          "Sep 2018",
          "Oct 2018",
          "Nov 2018",
          "Dec 2018",
          "Jan 2019",
          "Feb 2019",
          "Mar 2019",
          "Apr 2019",
          "May 2019",
          "Jun 2019",
          "Jul 2019",
          "Aug 2019",
          "Sep 2019",
          "Oct 2019",
          "Nov 2019",
          "Dec 2019",
          "Jan 2020",
          "Feb 2020",
          "Mar 2020",
          "Apr 2020",
          "May 2020",
          "Jun 2020",
          "Jul 2020",
          "Aug 2020",
          "Sep 2020",
          "Oct 2020",
          "Nov 2020",
          "Dec 2020",
          "Jan 2021",
          "Feb 2021",
          "Mar 2021",
          "Apr 2021",
          "May 2021",
          "Jun 2021",
          "Jul 2021",
          "Aug 2021",
          "Sep 2021",
          "Oct 2021",
          "Nov 2021",
          "Dec 2021",
          "Jan 2022",
          "Feb 2022",
          "Mar 2022",
          "Apr 2022",
          "May 2022",
          "Jun 2022",
          "Jul 2022",
          "Aug 2022",
          "Sep 2022",
          "Oct 2022",
          "Nov 2022"
         ],
         "y": [
          18.44,
          17.5,
          13.58,
          8.37,
          5.7,
          4.71,
          4.44,
          4.42,
          4.96,
          6.53,
          12.05,
          13.77,
          17.18,
          18.48,
          12.44,
          7.74,
          5.18,
          4.51,
          4.31,
          4.36,
          4.6,
          6.29,
          9.44,
          11.37,
          16.23,
          14.26,
          9.63,
          7.77,
          5.53,
          4.61,
          4.34,
          4.53,
          4.73,
          6.18,
          9.35,
          14.93,
          15.46,
          12.84,
          11.99,
          7.07,
          5.76,
          4.6,
          4.31,
          4.43,
          4.83,
          6.47,
          10.75,
          15.7,
          17.87,
          15.15,
          13.48,
          10.06,
          5.28,
          4.75,
          4.44,
          4.61,
          4.89,
          7.66,
          12.88,
          14.81,
          17.88,
          16.87,
          13.68,
          8.22,
          5.96,
          4.82,
          4.58,
          4.54,
          4.77,
          6.97,
          12.96,
          14.74,
          15.83,
          15.43,
          10.94,
          7.94,
          5.25,
          4.39,
          4.16,
          4.23,
          4.79,
          6.73,
          9.78,
          14.64,
          16.05,
          17.76,
          11.55,
          8.25,
          5.9,
          4.79,
          4.62,
          4.57,
          5.01,
          6.34,
          11.26,
          12.96,
          17.85,
          16.64,
          12.46,
          9.31,
          5.91,
          4.89,
          4.7,
          4.58,
          5.33,
          7.61,
          11.8
         ]
        },
        {
         "mode": "lines",
         "name": "Electric Power",
         "type": "scatter",
         "x": [
          "Jan 2014",
          "Feb 2014",
          "Mar 2014",
          "Apr 2014",
          "May 2014",
          "Jun 2014",
          "Jul 2014",
          "Aug 2014",
          "Sep 2014",
          "Oct 2014",
          "Nov 2014",
          "Dec 2014",
          "Jan 2015",
          "Feb 2015",
          "Mar 2015",
          "Apr 2015",
          "May 2015",
          "Jun 2015",
          "Jul 2015",
          "Aug 2015",
          "Sep 2015",
          "Oct 2015",
          "Nov 2015",
          "Dec 2015",
          "Jan 2016",
          "Feb 2016",
          "Mar 2016",
          "Apr 2016",
          "May 2016",
          "Jun 2016",
          "Jul 2016",
          "Aug 2016",
          "Sep 2016",
          "Oct 2016",
          "Nov 2016",
          "Dec 2016",
          "Jan 2017",
          "Feb 2017",
          "Mar 2017",
          "Apr 2017",
          "May 2017",
          "Jun 2017",
          "Jul 2017",
          "Aug 2017",
          "Sep 2017",
          "Oct 2017",
          "Nov 2017",
          "Dec 2017",
          "Jan 2018",
          "Feb 2018",
          "Mar 2018",
          "Apr 2018",
          "May 2018",
          "Jun 2018",
          "Jul 2018",
          "Aug 2018",
          "Sep 2018",
          "Oct 2018",
          "Nov 2018",
          "Dec 2018",
          "Jan 2019",
          "Feb 2019",
          "Mar 2019",
          "Apr 2019",
          "May 2019",
          "Jun 2019",
          "Jul 2019",
          "Aug 2019",
          "Sep 2019",
          "Oct 2019",
          "Nov 2019",
          "Dec 2019",
          "Jan 2020",
          "Feb 2020",
          "Mar 2020",
          "Apr 2020",
          "May 2020",
          "Jun 2020",
          "Jul 2020",
          "Aug 2020",
          "Sep 2020",
          "Oct 2020",
          "Nov 2020",
          "Dec 2020",
          "Jan 2021",
          "Feb 2021",
          "Mar 2021",
          "Apr 2021",
          "May 2021",
          "Jun 2021",
          "Jul 2021",
          "Aug 2021",
          "Sep 2021",
          "Oct 2021",
          "Nov 2021",
          "Dec 2021",
          "Jan 2022",
          "Feb 2022",
          "Mar 2022",
          "Apr 2022",
          "May 2022",
          "Jun 2022",
          "Jul 2022",
          "Aug 2022",
          "Sep 2022",
          "Oct 2022",
          "Nov 2022"
         ],
         "y": [
          21.38,
          19.68,
          18.09,
          18.3,
          20.87,
          24.03,
          27.2,
          28.96,
          25.7,
          22.69,
          20.01,
          20.61,
          22.95,
          23.16,
          22.86,
          22.14,
          23.69,
          29.55,
          33.73,
          33.12,
          29.83,
          25.53,
          24.41,
          24.79,
          24.97,
          23.79,
          24.02,
          23.96,
          25.95,
          32.34,
          36.77,
          37.14,
          30.51,
          23.99,
          22.07,
          21.64,
          21.3,
          20.33,
          21.7,
          20.91,
          22.58,
          28.35,
          34.89,
          32.97,
          28.62,
          24.91,
          22.21,
          25.32,
          25.37,
          24.66,
          24.44,
          23.5,
          27.39,
          31.79,
          39.52,
          38.29,
          34.37,
          28.64,
          25.44,
          24.6,
          27.4,
          27.87,
          26.27,
          24.69,
          27.01,
          33.05,
          40.51,
          41.26,
          36.05,
          30.24,
          27.31,
          29.43,
          30.61,
          30.79,
          28.73,
          25.93,
          27,
          34.7,
          43.41,
          41.16,
          33.86,
          30.59,
          25.74,
          28.54,
          28.14,
          28.11,
          24.26,
          25.19,
          26.33,
          36.16,
          39.84,
          40.66,
          33.17,
          30.44,
          29.4,
          28.58,
          31.58,
          29.14,
          25.27,
          25.2,
          29.93,
          38.27,
          45.17,
          44.5,
          37.17,
          31.04,
          28.17
         ]
        },
        {
         "mode": "lines",
         "name": "Industrial",
         "type": "scatter",
         "x": [
          "Jan 2014",
          "Feb 2014",
          "Mar 2014",
          "Apr 2014",
          "May 2014",
          "Jun 2014",
          "Jul 2014",
          "Aug 2014",
          "Sep 2014",
          "Oct 2014",
          "Nov 2014",
          "Dec 2014",
          "Jan 2015",
          "Feb 2015",
          "Mar 2015",
          "Apr 2015",
          "May 2015",
          "Jun 2015",
          "Jul 2015",
          "Aug 2015",
          "Sep 2015",
          "Oct 2015",
          "Nov 2015",
          "Dec 2015",
          "Jan 2016",
          "Feb 2016",
          "Mar 2016",
          "Apr 2016",
          "May 2016",
          "Jun 2016",
          "Jul 2016",
          "Aug 2016",
          "Sep 2016",
          "Oct 2016",
          "Nov 2016",
          "Dec 2016",
          "Jan 2017",
          "Feb 2017",
          "Mar 2017",
          "Apr 2017",
          "May 2017",
          "Jun 2017",
          "Jul 2017",
          "Aug 2017",
          "Sep 2017",
          "Oct 2017",
          "Nov 2017",
          "Dec 2017",
          "Jan 2018",
          "Feb 2018",
          "Mar 2018",
          "Apr 2018",
          "May 2018",
          "Jun 2018",
          "Jul 2018",
          "Aug 2018",
          "Sep 2018",
          "Oct 2018",
          "Nov 2018",
          "Dec 2018",
          "Jan 2019",
          "Feb 2019",
          "Mar 2019",
          "Apr 2019",
          "May 2019",
          "Jun 2019",
          "Jul 2019",
          "Aug 2019",
          "Sep 2019",
          "Oct 2019",
          "Nov 2019",
          "Dec 2019",
          "Jan 2020",
          "Feb 2020",
          "Mar 2020",
          "Apr 2020",
          "May 2020",
          "Jun 2020",
          "Jul 2020",
          "Aug 2020",
          "Sep 2020",
          "Oct 2020",
          "Nov 2020",
          "Dec 2020",
          "Jan 2021",
          "Feb 2021",
          "Mar 2021",
          "Apr 2021",
          "May 2021",
          "Jun 2021",
          "Jul 2021",
          "Aug 2021",
          "Sep 2021",
          "Oct 2021",
          "Nov 2021",
          "Dec 2021",
          "Jan 2022",
          "Feb 2022",
          "Mar 2022",
          "Apr 2022",
          "May 2022",
          "Jun 2022",
          "Jul 2022",
          "Aug 2022",
          "Sep 2022",
          "Oct 2022",
          "Nov 2022"
         ],
         "y": [
          23.3,
          23.54,
          21.96,
          20.93,
          19.55,
          19.53,
          19.52,
          19.63,
          19.7,
          19.67,
          21.99,
          22.26,
          23.17,
          23.56,
          21.34,
          20.26,
          19.45,
          19.16,
          19.09,
          19.35,
          19.3,
          19.77,
          21.28,
          21.76,
          23.26,
          22.85,
          21.38,
          20.67,
          19.76,
          19.68,
          19.89,
          20.24,
          20.13,
          20.09,
          21.8,
          23.68,
          23.68,
          23.21,
          22.46,
          21.05,
          20.27,
          20.48,
          20.11,
          20.55,
          20.5,
          21.18,
          23.18,
          24.54,
          25.23,
          24.97,
          23.8,
          23.24,
          21.64,
          21.64,
          21.54,
          21.55,
          21.9,
          22.08,
          24.53,
          24.77,
          25.83,
          25.67,
          24.2,
          22.5,
          21.77,
          21.14,
          20.95,
          21.69,
          21.46,
          22.05,
          24.49,
          25.13,
          25.17,
          24.98,
          22.92,
          21.12,
          19.9,
          20.03,
          20.45,
          20.94,
          21.47,
          22.15,
          23.4,
          25.11,
          25.5,
          24.49,
          22.67,
          22.53,
          21.22,
          21.28,
          21.48,
          21.57,
          21.29,
          21.85,
          24.2,
          24.74,
          26.37,
          25.82,
          24.32,
          23.39,
          21.96,
          21.81,
          21.64,
          21.68,
          21.53,
          22.26,
          23.97
         ]
        }
       ],
       "layout": {
        "autosize": true,
        "legend": {
         "tracegroupgap": 0
        },
        "template": {
         "data": {
          "bar": [
           {
            "error_x": {
             "color": "#2a3f5f"
            },
            "error_y": {
             "color": "#2a3f5f"
            },
            "marker": {
             "line": {
              "color": "#E5ECF6",
              "width": 0.5
             },
             "pattern": {
              "fillmode": "overlay",
              "size": 10,
              "solidity": 0.2
             }
            },
            "type": "bar"
           }
          ],
          "barpolar": [
           {
            "marker": {
             "line": {
              "color": "#E5ECF6",
              "width": 0.5
             },
             "pattern": {
              "fillmode": "overlay",
              "size": 10,
              "solidity": 0.2
             }
            },
            "type": "barpolar"
           }
          ],
          "carpet": [
           {
            "aaxis": {
             "endlinecolor": "#2a3f5f",
             "gridcolor": "white",
             "linecolor": "white",
             "minorgridcolor": "white",
             "startlinecolor": "#2a3f5f"
            },
            "baxis": {
             "endlinecolor": "#2a3f5f",
             "gridcolor": "white",
             "linecolor": "white",
             "minorgridcolor": "white",
             "startlinecolor": "#2a3f5f"
            },
            "type": "carpet"
           }
          ],
          "choropleth": [
           {
            "colorbar": {
             "outlinewidth": 0,
             "ticks": ""
            },
            "type": "choropleth"
           }
          ],
          "contour": [
           {
            "colorbar": {
             "outlinewidth": 0,
             "ticks": ""
            },
            "colorscale": [
             [
              0,
              "#0d0887"
             ],
             [
              0.1111111111111111,
              "#46039f"
             ],
             [
              0.2222222222222222,
              "#7201a8"
             ],
             [
              0.3333333333333333,
              "#9c179e"
             ],
             [
              0.4444444444444444,
              "#bd3786"
             ],
             [
              0.5555555555555556,
              "#d8576b"
             ],
             [
              0.6666666666666666,
              "#ed7953"
             ],
             [
              0.7777777777777778,
              "#fb9f3a"
             ],
             [
              0.8888888888888888,
              "#fdca26"
             ],
             [
              1,
              "#f0f921"
             ]
            ],
            "type": "contour"
           }
          ],
          "contourcarpet": [
           {
            "colorbar": {
             "outlinewidth": 0,
             "ticks": ""
            },
            "type": "contourcarpet"
           }
          ],
          "heatmap": [
           {
            "colorbar": {
             "outlinewidth": 0,
             "ticks": ""
            },
            "colorscale": [
             [
              0,
              "#0d0887"
             ],
             [
              0.1111111111111111,
              "#46039f"
             ],
             [
              0.2222222222222222,
              "#7201a8"
             ],
             [
              0.3333333333333333,
              "#9c179e"
             ],
             [
              0.4444444444444444,
              "#bd3786"
             ],
             [
              0.5555555555555556,
              "#d8576b"
             ],
             [
              0.6666666666666666,
              "#ed7953"
             ],
             [
              0.7777777777777778,
              "#fb9f3a"
             ],
             [
              0.8888888888888888,
              "#fdca26"
             ],
             [
              1,
              "#f0f921"
             ]
            ],
            "type": "heatmap"
           }
          ],
          "heatmapgl": [
           {
            "colorbar": {
             "outlinewidth": 0,
             "ticks": ""
            },
            "colorscale": [
             [
              0,
              "#0d0887"
             ],
             [
              0.1111111111111111,
              "#46039f"
             ],
             [
              0.2222222222222222,
              "#7201a8"
             ],
             [
              0.3333333333333333,
              "#9c179e"
             ],
             [
              0.4444444444444444,
              "#bd3786"
             ],
             [
              0.5555555555555556,
              "#d8576b"
             ],
             [
              0.6666666666666666,
              "#ed7953"
             ],
             [
              0.7777777777777778,
              "#fb9f3a"
             ],
             [
              0.8888888888888888,
              "#fdca26"
             ],
             [
              1,
              "#f0f921"
             ]
            ],
            "type": "heatmapgl"
           }
          ],
          "histogram": [
           {
            "marker": {
             "pattern": {
              "fillmode": "overlay",
              "size": 10,
              "solidity": 0.2
             }
            },
            "type": "histogram"
           }
          ],
          "histogram2d": [
           {
            "colorbar": {
             "outlinewidth": 0,
             "ticks": ""
            },
            "colorscale": [
             [
              0,
              "#0d0887"
             ],
             [
              0.1111111111111111,
              "#46039f"
             ],
             [
              0.2222222222222222,
              "#7201a8"
             ],
             [
              0.3333333333333333,
              "#9c179e"
             ],
             [
              0.4444444444444444,
              "#bd3786"
             ],
             [
              0.5555555555555556,
              "#d8576b"
             ],
             [
              0.6666666666666666,
              "#ed7953"
             ],
             [
              0.7777777777777778,
              "#fb9f3a"
             ],
             [
              0.8888888888888888,
              "#fdca26"
             ],
             [
              1,
              "#f0f921"
             ]
            ],
            "type": "histogram2d"
           }
          ],
          "histogram2dcontour": [
           {
            "colorbar": {
             "outlinewidth": 0,
             "ticks": ""
            },
            "colorscale": [
             [
              0,
              "#0d0887"
             ],
             [
              0.1111111111111111,
              "#46039f"
             ],
             [
              0.2222222222222222,
              "#7201a8"
             ],
             [
              0.3333333333333333,
              "#9c179e"
             ],
             [
              0.4444444444444444,
              "#bd3786"
             ],
             [
              0.5555555555555556,
              "#d8576b"
             ],
             [
              0.6666666666666666,
              "#ed7953"
             ],
             [
              0.7777777777777778,
              "#fb9f3a"
             ],
             [
              0.8888888888888888,
              "#fdca26"
             ],
             [
              1,
              "#f0f921"
             ]
            ],
            "type": "histogram2dcontour"
           }
          ],
          "mesh3d": [
           {
            "colorbar": {
             "outlinewidth": 0,
             "ticks": ""
            },
            "type": "mesh3d"
           }
          ],
          "parcoords": [
           {
            "line": {
             "colorbar": {
              "outlinewidth": 0,
              "ticks": ""
             }
            },
            "type": "parcoords"
           }
          ],
          "pie": [
           {
            "automargin": true,
            "type": "pie"
           }
          ],
          "scatter": [
           {
            "marker": {
             "colorbar": {
              "outlinewidth": 0,
              "ticks": ""
             }
            },
            "type": "scatter"
           }
          ],
          "scatter3d": [
           {
            "line": {
             "colorbar": {
              "outlinewidth": 0,
              "ticks": ""
             }
            },
            "marker": {
             "colorbar": {
              "outlinewidth": 0,
              "ticks": ""
             }
            },
            "type": "scatter3d"
           }
          ],
          "scattercarpet": [
           {
            "marker": {
             "colorbar": {
              "outlinewidth": 0,
              "ticks": ""
             }
            },
            "type": "scattercarpet"
           }
          ],
          "scattergeo": [
           {
            "marker": {
             "colorbar": {
              "outlinewidth": 0,
              "ticks": ""
             }
            },
            "type": "scattergeo"
           }
          ],
          "scattergl": [
           {
            "marker": {
             "colorbar": {
              "outlinewidth": 0,
              "ticks": ""
             }
            },
            "type": "scattergl"
           }
          ],
          "scattermapbox": [
           {
            "marker": {
             "colorbar": {
              "outlinewidth": 0,
              "ticks": ""
             }
            },
            "type": "scattermapbox"
           }
          ],
          "scatterpolar": [
           {
            "marker": {
             "colorbar": {
              "outlinewidth": 0,
              "ticks": ""
             }
            },
            "type": "scatterpolar"
           }
          ],
          "scatterpolargl": [
           {
            "marker": {
             "colorbar": {
              "outlinewidth": 0,
              "ticks": ""
             }
            },
            "type": "scatterpolargl"
           }
          ],
          "scatterternary": [
           {
            "marker": {
             "colorbar": {
              "outlinewidth": 0,
              "ticks": ""
             }
            },
            "type": "scatterternary"
           }
          ],
          "surface": [
           {
            "colorbar": {
             "outlinewidth": 0,
             "ticks": ""
            },
            "colorscale": [
             [
              0,
              "#0d0887"
             ],
             [
              0.1111111111111111,
              "#46039f"
             ],
             [
              0.2222222222222222,
              "#7201a8"
             ],
             [
              0.3333333333333333,
              "#9c179e"
             ],
             [
              0.4444444444444444,
              "#bd3786"
             ],
             [
              0.5555555555555556,
              "#d8576b"
             ],
             [
              0.6666666666666666,
              "#ed7953"
             ],
             [
              0.7777777777777778,
              "#fb9f3a"
             ],
             [
              0.8888888888888888,
              "#fdca26"
             ],
             [
              1,
              "#f0f921"
             ]
            ],
            "type": "surface"
           }
          ],
          "table": [
           {
            "cells": {
             "fill": {
              "color": "#EBF0F8"
             },
             "line": {
              "color": "white"
             }
            },
            "header": {
             "fill": {
              "color": "#C8D4E3"
             },
             "line": {
              "color": "white"
             }
            },
            "type": "table"
           }
          ]
         },
         "layout": {
          "annotationdefaults": {
           "arrowcolor": "#2a3f5f",
           "arrowhead": 0,
           "arrowwidth": 1
          },
          "autotypenumbers": "strict",
          "coloraxis": {
           "colorbar": {
            "outlinewidth": 0,
            "ticks": ""
           }
          },
          "colorscale": {
           "diverging": [
            [
             0,
             "#8e0152"
            ],
            [
             0.1,
             "#c51b7d"
            ],
            [
             0.2,
             "#de77ae"
            ],
            [
             0.3,
             "#f1b6da"
            ],
            [
             0.4,
             "#fde0ef"
            ],
            [
             0.5,
             "#f7f7f7"
            ],
            [
             0.6,
             "#e6f5d0"
            ],
            [
             0.7,
             "#b8e186"
            ],
            [
             0.8,
             "#7fbc41"
            ],
            [
             0.9,
             "#4d9221"
            ],
            [
             1,
             "#276419"
            ]
           ],
           "sequential": [
            [
             0,
             "#0d0887"
            ],
            [
             0.1111111111111111,
             "#46039f"
            ],
            [
             0.2222222222222222,
             "#7201a8"
            ],
            [
             0.3333333333333333,
             "#9c179e"
            ],
            [
             0.4444444444444444,
             "#bd3786"
            ],
            [
             0.5555555555555556,
             "#d8576b"
            ],
            [
             0.6666666666666666,
             "#ed7953"
            ],
            [
             0.7777777777777778,
             "#fb9f3a"
            ],
            [
             0.8888888888888888,
             "#fdca26"
            ],
            [
             1,
             "#f0f921"
            ]
           ],
           "sequentialminus": [
            [
             0,
             "#0d0887"
            ],
            [
             0.1111111111111111,
             "#46039f"
            ],
            [
             0.2222222222222222,
             "#7201a8"
            ],
            [
             0.3333333333333333,
             "#9c179e"
            ],
            [
             0.4444444444444444,
             "#bd3786"
            ],
            [
             0.5555555555555556,
             "#d8576b"
            ],
            [
             0.6666666666666666,
             "#ed7953"
            ],
            [
             0.7777777777777778,
             "#fb9f3a"
            ],
            [
             0.8888888888888888,
             "#fdca26"
            ],
            [
             1,
             "#f0f921"
            ]
           ]
          },
          "colorway": [
           "#636efa",
           "#EF553B",
           "#00cc96",
           "#ab63fa",
           "#FFA15A",
           "#19d3f3",
           "#FF6692",
           "#B6E880",
           "#FF97FF",
           "#FECB52"
          ],
          "font": {
           "color": "#2a3f5f"
          },
          "geo": {
           "bgcolor": "white",
           "lakecolor": "white",
           "landcolor": "#E5ECF6",
           "showlakes": true,
           "showland": true,
           "subunitcolor": "white"
          },
          "hoverlabel": {
           "align": "left"
          },
          "hovermode": "closest",
          "mapbox": {
           "style": "light"
          },
          "paper_bgcolor": "white",
          "plot_bgcolor": "#E5ECF6",
          "polar": {
           "angularaxis": {
            "gridcolor": "white",
            "linecolor": "white",
            "ticks": ""
           },
           "bgcolor": "#E5ECF6",
           "radialaxis": {
            "gridcolor": "white",
            "linecolor": "white",
            "ticks": ""
           }
          },
          "scene": {
           "xaxis": {
            "backgroundcolor": "#E5ECF6",
            "gridcolor": "white",
            "gridwidth": 2,
            "linecolor": "white",
            "showbackground": true,
            "ticks": "",
            "zerolinecolor": "white"
           },
           "yaxis": {
            "backgroundcolor": "#E5ECF6",
            "gridcolor": "white",
            "gridwidth": 2,
            "linecolor": "white",
            "showbackground": true,
            "ticks": "",
            "zerolinecolor": "white"
           },
           "zaxis": {
            "backgroundcolor": "#E5ECF6",
            "gridcolor": "white",
            "gridwidth": 2,
            "linecolor": "white",
            "showbackground": true,
            "ticks": "",
            "zerolinecolor": "white"
           }
          },
          "shapedefaults": {
           "line": {
            "color": "#2a3f5f"
           }
          },
          "ternary": {
           "aaxis": {
            "gridcolor": "white",
            "linecolor": "white",
            "ticks": ""
           },
           "baxis": {
            "gridcolor": "white",
            "linecolor": "white",
            "ticks": ""
           },
           "bgcolor": "#E5ECF6",
           "caxis": {
            "gridcolor": "white",
            "linecolor": "white",
            "ticks": ""
           }
          },
          "title": {
           "x": 0.05
          },
          "xaxis": {
           "automargin": true,
           "gridcolor": "white",
           "linecolor": "white",
           "ticks": "",
           "title": {
            "standoff": 15
           },
           "zerolinecolor": "white",
           "zerolinewidth": 2
          },
          "yaxis": {
           "automargin": true,
           "gridcolor": "white",
           "linecolor": "white",
           "ticks": "",
           "title": {
            "standoff": 15
           },
           "zerolinecolor": "white",
           "zerolinewidth": 2
          }
         }
        },
        "title": {
         "text": "U.S. natural gas consumption by sector (Jan 2014-Sep 2022)"
        },
        "xaxis": {
         "anchor": "y",
         "autorange": true,
         "domain": [
          0,
          1
         ],
         "range": [
          0,
          106
         ],
         "type": "category"
        },
        "yaxis": {
         "anchor": "x",
         "autorange": true,
         "domain": [
          0,
          1
         ],
         "range": [
          0.8894444444444445,
          47.50055555555556
         ],
         "type": "linear"
        }
       }
      },
      "image/png": "[encoded data removed]",
      "text/html": [
       "<div>                            <div id=\"88a5f126-8b98-41c5-b522-59d1efc88973\" class=\"plotly-graph-div\" style=\"height:525px; width:100%;\"></div>            <script type=\"text/javascript\">                require([\"plotly\"], function(Plotly) {                    window.PLOTLYENV=window.PLOTLYENV || {};                                    if (document.getElementById(\"88a5f126-8b98-41c5-b522-59d1efc88973\")) {                    Plotly.newPlot(                        \"88a5f126-8b98-41c5-b522-59d1efc88973\",                        [{\"mode\":\"lines\",\"name\":\"Residential\",\"x\":[\"Jan 2014\",\"Feb 2014\",\"Mar 2014\",\"Apr 2014\",\"May 2014\",\"Jun 2014\",\"Jul 2014\",\"Aug 2014\",\"Sep 2014\",\"Oct 2014\",\"Nov 2014\",\"Dec 2014\",\"Jan 2015\",\"Feb 2015\",\"Mar 2015\",\"Apr 2015\",\"May 2015\",\"Jun 2015\",\"Jul 2015\",\"Aug 2015\",\"Sep 2015\",\"Oct 2015\",\"Nov 2015\",\"Dec 2015\",\"Jan 2016\",\"Feb 2016\",\"Mar 2016\",\"Apr 2016\",\"May 2016\",\"Jun 2016\",\"Jul 2016\",\"Aug 2016\",\"Sep 2016\",\"Oct 2016\",\"Nov 2016\",\"Dec 2016\",\"Jan 2017\",\"Feb 2017\",\"Mar 2017\",\"Apr 2017\",\"May 2017\",\"Jun 2017\",\"Jul 2017\",\"Aug 2017\",\"Sep 2017\",\"Oct 2017\",\"Nov 2017\",\"Dec 2017\",\"Jan 2018\",\"Feb 2018\",\"Mar 2018\",\"Apr 2018\",\"May 2018\",\"Jun 2018\",\"Jul 2018\",\"Aug 2018\",\"Sep 2018\",\"Oct 2018\",\"Nov 2018\",\"Dec 2018\",\"Jan 2019\",\"Feb 2019\",\"Mar 2019\",\"Apr 2019\",\"May 2019\",\"Jun 2019\",\"Jul 2019\",\"Aug 2019\",\"Sep 2019\",\"Oct 2019\",\"Nov 2019\",\"Dec 2019\",\"Jan 2020\",\"Feb 2020\",\"Mar 2020\",\"Apr 2020\",\"May 2020\",\"Jun 2020\",\"Jul 2020\",\"Aug 2020\",\"Sep 2020\",\"Oct 2020\",\"Nov 2020\",\"Dec 2020\",\"Jan 2021\",\"Feb 2021\",\"Mar 2021\",\"Apr 2021\",\"May 2021\",\"Jun 2021\",\"Jul 2021\",\"Aug 2021\",\"Sep 2021\",\"Oct 2021\",\"Nov 2021\",\"Dec 2021\",\"Jan 2022\",\"Feb 2022\",\"Mar 2022\",\"Apr 2022\",\"May 2022\",\"Jun 2022\",\"Jul 2022\",\"Aug 2022\",\"Sep 2022\",\"Oct 2022\",\"Nov 2022\"],\"y\":[33.46,30.46,22.58,11.87,6.56,4.19,3.64,3.39,4.06,6.84,18.12,23.13,30.26,32.23,20.42,10.64,5.73,4.14,3.49,3.32,3.62,6.5,13.55,19.06,28.35,23.8,14.68,10.94,6.26,4.09,3.43,3.24,3.66,6.04,12.66,25.62,26.8,20.69,18.71,9.3,6.43,4.14,3.47,3.35,3.82,6.62,15.59,26.51,31.65,24.64,21.27,14.69,5.45,3.97,3.42,3.22,3.74,8.24,19.97,24.7,30.77,28.9,22.21,10.95,6.85,4.31,3.61,3.29,3.66,7.47,19.64,24.28,26.61,25.42,16.99,12.6,7.63,4.54,3.81,3.51,4.22,7.8,14.66,25.79,28.87,31.28,18.52,11.41,7.03,4.32,3.64,3.43,3.95,6.21,16.07,21.59,31.02,28.44,19.05,13.0,6.48,4.13,3.59,3.32,4.03,7.94,16.45],\"type\":\"scatter\"},{\"mode\":\"lines\",\"name\":\"Commercial\",\"x\":[\"Jan 2014\",\"Feb 2014\",\"Mar 2014\",\"Apr 2014\",\"May 2014\",\"Jun 2014\",\"Jul 2014\",\"Aug 2014\",\"Sep 2014\",\"Oct 2014\",\"Nov 2014\",\"Dec 2014\",\"Jan 2015\",\"Feb 2015\",\"Mar 2015\",\"Apr 2015\",\"May 2015\",\"Jun 2015\",\"Jul 2015\",\"Aug 2015\",\"Sep 2015\",\"Oct 2015\",\"Nov 2015\",\"Dec 2015\",\"Jan 2016\",\"Feb 2016\",\"Mar 2016\",\"Apr 2016\",\"May 2016\",\"Jun 2016\",\"Jul 2016\",\"Aug 2016\",\"Sep 2016\",\"Oct 2016\",\"Nov 2016\",\"Dec 2016\",\"Jan 2017\",\"Feb 2017\",\"Mar 2017\",\"Apr 2017\",\"May 2017\",\"Jun 2017\",\"Jul 2017\",\"Aug 2017\",\"Sep 2017\",\"Oct 2017\",\"Nov 2017\",\"Dec 2017\",\"Jan 2018\",\"Feb 2018\",\"Mar 2018\",\"Apr 2018\",\"May 2018\",\"Jun 2018\",\"Jul 2018\",\"Aug 2018\",\"Sep 2018\",\"Oct 2018\",\"Nov 2018\",\"Dec 2018\",\"Jan 2019\",\"Feb 2019\",\"Mar 2019\",\"Apr 2019\",\"May 2019\",\"Jun 2019\",\"Jul 2019\",\"Aug 2019\",\"Sep 2019\",\"Oct 2019\",\"Nov 2019\",\"Dec 2019\",\"Jan 2020\",\"Feb 2020\",\"Mar 2020\",\"Apr 2020\",\"May 2020\",\"Jun 2020\",\"Jul 2020\",\"Aug 2020\",\"Sep 2020\",\"Oct 2020\",\"Nov 2020\",\"Dec 2020\",\"Jan 2021\",\"Feb 2021\",\"Mar 2021\",\"Apr 2021\",\"May 2021\",\"Jun 2021\",\"Jul 2021\",\"Aug 2021\",\"Sep 2021\",\"Oct 2021\",\"Nov 2021\",\"Dec 2021\",\"Jan 2022\",\"Feb 2022\",\"Mar 2022\",\"Apr 2022\",\"May 2022\",\"Jun 2022\",\"Jul 2022\",\"Aug 2022\",\"Sep 2022\",\"Oct 2022\",\"Nov 2022\"],\"y\":[18.44,17.5,13.58,8.37,5.7,4.71,4.44,4.42,4.96,6.53,12.05,13.77,17.18,18.48,12.44,7.74,5.18,4.51,4.31,4.36,4.6,6.29,9.44,11.37,16.23,14.26,9.63,7.77,5.53,4.61,4.34,4.53,4.73,6.18,9.35,14.93,15.46,12.84,11.99,7.07,5.76,4.6,4.31,4.43,4.83,6.47,10.75,15.7,17.87,15.15,13.48,10.06,5.28,4.75,4.44,4.61,4.89,7.66,12.88,14.81,17.88,16.87,13.68,8.22,5.96,4.82,4.58,4.54,4.77,6.97,12.96,14.74,15.83,15.43,10.94,7.94,5.25,4.39,4.16,4.23,4.79,6.73,9.78,14.64,16.05,17.76,11.55,8.25,5.9,4.79,4.62,4.57,5.01,6.34,11.26,12.96,17.85,16.64,12.46,9.31,5.91,4.89,4.7,4.58,5.33,7.61,11.8],\"type\":\"scatter\"},{\"mode\":\"lines\",\"name\":\"Electric Power\",\"x\":[\"Jan 2014\",\"Feb 2014\",\"Mar 2014\",\"Apr 2014\",\"May 2014\",\"Jun 2014\",\"Jul 2014\",\"Aug 2014\",\"Sep 2014\",\"Oct 2014\",\"Nov 2014\",\"Dec 2014\",\"Jan 2015\",\"Feb 2015\",\"Mar 2015\",\"Apr 2015\",\"May 2015\",\"Jun 2015\",\"Jul 2015\",\"Aug 2015\",\"Sep 2015\",\"Oct 2015\",\"Nov 2015\",\"Dec 2015\",\"Jan 2016\",\"Feb 2016\",\"Mar 2016\",\"Apr 2016\",\"May 2016\",\"Jun 2016\",\"Jul 2016\",\"Aug 2016\",\"Sep 2016\",\"Oct 2016\",\"Nov 2016\",\"Dec 2016\",\"Jan 2017\",\"Feb 2017\",\"Mar 2017\",\"Apr 2017\",\"May 2017\",\"Jun 2017\",\"Jul 2017\",\"Aug 2017\",\"Sep 2017\",\"Oct 2017\",\"Nov 2017\",\"Dec 2017\",\"Jan 2018\",\"Feb 2018\",\"Mar 2018\",\"Apr 2018\",\"May 2018\",\"Jun 2018\",\"Jul 2018\",\"Aug 2018\",\"Sep 2018\",\"Oct 2018\",\"Nov 2018\",\"Dec 2018\",\"Jan 2019\",\"Feb 2019\",\"Mar 2019\",\"Apr 2019\",\"May 2019\",\"Jun 2019\",\"Jul 2019\",\"Aug 2019\",\"Sep 2019\",\"Oct 2019\",\"Nov 2019\",\"Dec 2019\",\"Jan 2020\",\"Feb 2020\",\"Mar 2020\",\"Apr 2020\",\"May 2020\",\"Jun 2020\",\"Jul 2020\",\"Aug 2020\",\"Sep 2020\",\"Oct 2020\",\"Nov 2020\",\"Dec 2020\",\"Jan 2021\",\"Feb 2021\",\"Mar 2021\",\"Apr 2021\",\"May 2021\",\"Jun 2021\",\"Jul 2021\",\"Aug 2021\",\"Sep 2021\",\"Oct 2021\",\"Nov 2021\",\"Dec 2021\",\"Jan 2022\",\"Feb 2022\",\"Mar 2022\",\"Apr 2022\",\"May 2022\",\"Jun 2022\",\"Jul 2022\",\"Aug 2022\",\"Sep 2022\",\"Oct 2022\",\"Nov 2022\"],\"y\":[21.38,19.68,18.09,18.3,20.87,24.03,27.2,28.96,25.7,22.69,20.01,20.61,22.95,23.16,22.86,22.14,23.69,29.55,33.73,33.12,29.83,25.53,24.41,24.79,24.97,23.79,24.02,23.96,25.95,32.34,36.77,37.14,30.51,23.99,22.07,21.64,21.3,20.33,21.7,20.91,22.58,28.35,34.89,32.97,28.62,24.91,22.21,25.32,25.37,24.66,24.44,23.5,27.39,31.79,39.52,38.29,34.37,28.64,25.44,24.6,27.4,27.87,26.27,24.69,27.01,33.05,40.51,41.26,36.05,30.24,27.31,29.43,30.61,30.79,28.73,25.93,27.0,34.7,43.41,41.16,33.86,30.59,25.74,28.54,28.14,28.11,24.26,25.19,26.33,36.16,39.84,40.66,33.17,30.44,29.4,28.58,31.58,29.14,25.27,25.2,29.93,38.27,45.17,44.5,37.17,31.04,28.17],\"type\":\"scatter\"},{\"mode\":\"lines\",\"name\":\"Industrial\",\"x\":[\"Jan 2014\",\"Feb 2014\",\"Mar 2014\",\"Apr 2014\",\"May 2014\",\"Jun 2014\",\"Jul 2014\",\"Aug 2014\",\"Sep 2014\",\"Oct 2014\",\"Nov 2014\",\"Dec 2014\",\"Jan 2015\",\"Feb 2015\",\"Mar 2015\",\"Apr 2015\",\"May 2015\",\"Jun 2015\",\"Jul 2015\",\"Aug 2015\",\"Sep 2015\",\"Oct 2015\",\"Nov 2015\",\"Dec 2015\",\"Jan 2016\",\"Feb 2016\",\"Mar 2016\",\"Apr 2016\",\"May 2016\",\"Jun 2016\",\"Jul 2016\",\"Aug 2016\",\"Sep 2016\",\"Oct 2016\",\"Nov 2016\",\"Dec 2016\",\"Jan 2017\",\"Feb 2017\",\"Mar 2017\",\"Apr 2017\",\"May 2017\",\"Jun 2017\",\"Jul 2017\",\"Aug 2017\",\"Sep 2017\",\"Oct 2017\",\"Nov 2017\",\"Dec 2017\",\"Jan 2018\",\"Feb 2018\",\"Mar 2018\",\"Apr 2018\",\"May 2018\",\"Jun 2018\",\"Jul 2018\",\"Aug 2018\",\"Sep 2018\",\"Oct 2018\",\"Nov 2018\",\"Dec 2018\",\"Jan 2019\",\"Feb 2019\",\"Mar 2019\",\"Apr 2019\",\"May 2019\",\"Jun 2019\",\"Jul 2019\",\"Aug 2019\",\"Sep 2019\",\"Oct 2019\",\"Nov 2019\",\"Dec 2019\",\"Jan 2020\",\"Feb 2020\",\"Mar 2020\",\"Apr 2020\",\"May 2020\",\"Jun 2020\",\"Jul 2020\",\"Aug 2020\",\"Sep 2020\",\"Oct 2020\",\"Nov 2020\",\"Dec 2020\",\"Jan 2021\",\"Feb 2021\",\"Mar 2021\",\"Apr 2021\",\"May 2021\",\"Jun 2021\",\"Jul 2021\",\"Aug 2021\",\"Sep 2021\",\"Oct 2021\",\"Nov 2021\",\"Dec 2021\",\"Jan 2022\",\"Feb 2022\",\"Mar 2022\",\"Apr 2022\",\"May 2022\",\"Jun 2022\",\"Jul 2022\",\"Aug 2022\",\"Sep 2022\",\"Oct 2022\",\"Nov 2022\"],\"y\":[23.3,23.54,21.96,20.93,19.55,19.53,19.52,19.63,19.7,19.67,21.99,22.26,23.17,23.56,21.34,20.26,19.45,19.16,19.09,19.35,19.3,19.77,21.28,21.76,23.26,22.85,21.38,20.67,19.76,19.68,19.89,20.24,20.13,20.09,21.8,23.68,23.68,23.21,22.46,21.05,20.27,20.48,20.11,20.55,20.5,21.18,23.18,24.54,25.23,24.97,23.8,23.24,21.64,21.64,21.54,21.55,21.9,22.08,24.53,24.77,25.83,25.67,24.2,22.5,21.77,21.14,20.95,21.69,21.46,22.05,24.49,25.13,25.17,24.98,22.92,21.12,19.9,20.03,20.45,20.94,21.47,22.15,23.4,25.11,25.5,24.49,22.67,22.53,21.22,21.28,21.48,21.57,21.29,21.85,24.2,24.74,26.37,25.82,24.32,23.39,21.96,21.81,21.64,21.68,21.53,22.26,23.97],\"type\":\"scatter\"}],                        {\"template\":{\"data\":{\"bar\":[{\"error_x\":{\"color\":\"#2a3f5f\"},\"error_y\":{\"color\":\"#2a3f5f\"},\"marker\":{\"line\":{\"color\":\"#E5ECF6\",\"width\":0.5},\"pattern\":{\"fillmode\":\"overlay\",\"size\":10,\"solidity\":0.2}},\"type\":\"bar\"}],\"barpolar\":[{\"marker\":{\"line\":{\"color\":\"#E5ECF6\",\"width\":0.5},\"pattern\":{\"fillmode\":\"overlay\",\"size\":10,\"solidity\":0.2}},\"type\":\"barpolar\"}],\"carpet\":[{\"aaxis\":{\"endlinecolor\":\"#2a3f5f\",\"gridcolor\":\"white\",\"linecolor\":\"white\",\"minorgridcolor\":\"white\",\"startlinecolor\":\"#2a3f5f\"},\"baxis\":{\"endlinecolor\":\"#2a3f5f\",\"gridcolor\":\"white\",\"linecolor\":\"white\",\"minorgridcolor\":\"white\",\"startlinecolor\":\"#2a3f5f\"},\"type\":\"carpet\"}],\"choropleth\":[{\"colorbar\":{\"outlinewidth\":0,\"ticks\":\"\"},\"type\":\"choropleth\"}],\"contour\":[{\"colorbar\":{\"outlinewidth\":0,\"ticks\":\"\"},\"colorscale\":[[0.0,\"#0d0887\"],[0.1111111111111111,\"#46039f\"],[0.2222222222222222,\"#7201a8\"],[0.3333333333333333,\"#9c179e\"],[0.4444444444444444,\"#bd3786\"],[0.5555555555555556,\"#d8576b\"],[0.6666666666666666,\"#ed7953\"],[0.7777777777777778,\"#fb9f3a\"],[0.8888888888888888,\"#fdca26\"],[1.0,\"#f0f921\"]],\"type\":\"contour\"}],\"contourcarpet\":[{\"colorbar\":{\"outlinewidth\":0,\"ticks\":\"\"},\"type\":\"contourcarpet\"}],\"heatmap\":[{\"colorbar\":{\"outlinewidth\":0,\"ticks\":\"\"},\"colorscale\":[[0.0,\"#0d0887\"],[0.1111111111111111,\"#46039f\"],[0.2222222222222222,\"#7201a8\"],[0.3333333333333333,\"#9c179e\"],[0.4444444444444444,\"#bd3786\"],[0.5555555555555556,\"#d8576b\"],[0.6666666666666666,\"#ed7953\"],[0.7777777777777778,\"#fb9f3a\"],[0.8888888888888888,\"#fdca26\"],[1.0,\"#f0f921\"]],\"type\":\"heatmap\"}],\"heatmapgl\":[{\"colorbar\":{\"outlinewidth\":0,\"ticks\":\"\"},\"colorscale\":[[0.0,\"#0d0887\"],[0.1111111111111111,\"#46039f\"],[0.2222222222222222,\"#7201a8\"],[0.3333333333333333,\"#9c179e\"],[0.4444444444444444,\"#bd3786\"],[0.5555555555555556,\"#d8576b\"],[0.6666666666666666,\"#ed7953\"],[0.7777777777777778,\"#fb9f3a\"],[0.8888888888888888,\"#fdca26\"],[1.0,\"#f0f921\"]],\"type\":\"heatmapgl\"}],\"histogram\":[{\"marker\":{\"pattern\":{\"fillmode\":\"overlay\",\"size\":10,\"solidity\":0.2}},\"type\":\"histogram\"}],\"histogram2d\":[{\"colorbar\":{\"outlinewidth\":0,\"ticks\":\"\"},\"colorscale\":[[0.0,\"#0d0887\"],[0.1111111111111111,\"#46039f\"],[0.2222222222222222,\"#7201a8\"],[0.3333333333333333,\"#9c179e\"],[0.4444444444444444,\"#bd3786\"],[0.5555555555555556,\"#d8576b\"],[0.6666666666666666,\"#ed7953\"],[0.7777777777777778,\"#fb9f3a\"],[0.8888888888888888,\"#fdca26\"],[1.0,\"#f0f921\"]],\"type\":\"histogram2d\"}],\"histogram2dcontour\":[{\"colorbar\":{\"outlinewidth\":0,\"ticks\":\"\"},\"colorscale\":[[0.0,\"#0d0887\"],[0.1111111111111111,\"#46039f\"],[0.2222222222222222,\"#7201a8\"],[0.3333333333333333,\"#9c179e\"],[0.4444444444444444,\"#bd3786\"],[0.5555555555555556,\"#d8576b\"],[0.6666666666666666,\"#ed7953\"],[0.7777777777777778,\"#fb9f3a\"],[0.8888888888888888,\"#fdca26\"],[1.0,\"#f0f921\"]],\"type\":\"histogram2dcontour\"}],\"mesh3d\":[{\"colorbar\":{\"outlinewidth\":0,\"ticks\":\"\"},\"type\":\"mesh3d\"}],\"parcoords\":[{\"line\":{\"colorbar\":{\"outlinewidth\":0,\"ticks\":\"\"}},\"type\":\"parcoords\"}],\"pie\":[{\"automargin\":true,\"type\":\"pie\"}],\"scatter\":[{\"marker\":{\"colorbar\":{\"outlinewidth\":0,\"ticks\":\"\"}},\"type\":\"scatter\"}],\"scatter3d\":[{\"line\":{\"colorbar\":{\"outlinewidth\":0,\"ticks\":\"\"}},\"marker\":{\"colorbar\":{\"outlinewidth\":0,\"ticks\":\"\"}},\"type\":\"scatter3d\"}],\"scattercarpet\":[{\"marker\":{\"colorbar\":{\"outlinewidth\":0,\"ticks\":\"\"}},\"type\":\"scattercarpet\"}],\"scattergeo\":[{\"marker\":{\"colorbar\":{\"outlinewidth\":0,\"ticks\":\"\"}},\"type\":\"scattergeo\"}],\"scattergl\":[{\"marker\":{\"colorbar\":{\"outlinewidth\":0,\"ticks\":\"\"}},\"type\":\"scattergl\"}],\"scattermapbox\":[{\"marker\":{\"colorbar\":{\"outlinewidth\":0,\"ticks\":\"\"}},\"type\":\"scattermapbox\"}],\"scatterpolar\":[{\"marker\":{\"colorbar\":{\"outlinewidth\":0,\"ticks\":\"\"}},\"type\":\"scatterpolar\"}],\"scatterpolargl\":[{\"marker\":{\"colorbar\":{\"outlinewidth\":0,\"ticks\":\"\"}},\"type\":\"scatterpolargl\"}],\"scatterternary\":[{\"marker\":{\"colorbar\":{\"outlinewidth\":0,\"ticks\":\"\"}},\"type\":\"scatterternary\"}],\"surface\":[{\"colorbar\":{\"outlinewidth\":0,\"ticks\":\"\"},\"colorscale\":[[0.0,\"#0d0887\"],[0.1111111111111111,\"#46039f\"],[0.2222222222222222,\"#7201a8\"],[0.3333333333333333,\"#9c179e\"],[0.4444444444444444,\"#bd3786\"],[0.5555555555555556,\"#d8576b\"],[0.6666666666666666,\"#ed7953\"],[0.7777777777777778,\"#fb9f3a\"],[0.8888888888888888,\"#fdca26\"],[1.0,\"#f0f921\"]],\"type\":\"surface\"}],\"table\":[{\"cells\":{\"fill\":{\"color\":\"#EBF0F8\"},\"line\":{\"color\":\"white\"}},\"header\":{\"fill\":{\"color\":\"#C8D4E3\"},\"line\":{\"color\":\"white\"}},\"type\":\"table\"}]},\"layout\":{\"annotationdefaults\":{\"arrowcolor\":\"#2a3f5f\",\"arrowhead\":0,\"arrowwidth\":1},\"autotypenumbers\":\"strict\",\"coloraxis\":{\"colorbar\":{\"outlinewidth\":0,\"ticks\":\"\"}},\"colorscale\":{\"diverging\":[[0,\"#8e0152\"],[0.1,\"#c51b7d\"],[0.2,\"#de77ae\"],[0.3,\"#f1b6da\"],[0.4,\"#fde0ef\"],[0.5,\"#f7f7f7\"],[0.6,\"#e6f5d0\"],[0.7,\"#b8e186\"],[0.8,\"#7fbc41\"],[0.9,\"#4d9221\"],[1,\"#276419\"]],\"sequential\":[[0.0,\"#0d0887\"],[0.1111111111111111,\"#46039f\"],[0.2222222222222222,\"#7201a8\"],[0.3333333333333333,\"#9c179e\"],[0.4444444444444444,\"#bd3786\"],[0.5555555555555556,\"#d8576b\"],[0.6666666666666666,\"#ed7953\"],[0.7777777777777778,\"#fb9f3a\"],[0.8888888888888888,\"#fdca26\"],[1.0,\"#f0f921\"]],\"sequentialminus\":[[0.0,\"#0d0887\"],[0.1111111111111111,\"#46039f\"],[0.2222222222222222,\"#7201a8\"],[0.3333333333333333,\"#9c179e\"],[0.4444444444444444,\"#bd3786\"],[0.5555555555555556,\"#d8576b\"],[0.6666666666666666,\"#ed7953\"],[0.7777777777777778,\"#fb9f3a\"],[0.8888888888888888,\"#fdca26\"],[1.0,\"#f0f921\"]]},\"colorway\":[\"#636efa\",\"#EF553B\",\"#00cc96\",\"#ab63fa\",\"#FFA15A\",\"#19d3f3\",\"#FF6692\",\"#B6E880\",\"#FF97FF\",\"#FECB52\"],\"font\":{\"color\":\"#2a3f5f\"},\"geo\":{\"bgcolor\":\"white\",\"lakecolor\":\"white\",\"landcolor\":\"#E5ECF6\",\"showlakes\":true,\"showland\":true,\"subunitcolor\":\"white\"},\"hoverlabel\":{\"align\":\"left\"},\"hovermode\":\"closest\",\"mapbox\":{\"style\":\"light\"},\"paper_bgcolor\":\"white\",\"plot_bgcolor\":\"#E5ECF6\",\"polar\":{\"angularaxis\":{\"gridcolor\":\"white\",\"linecolor\":\"white\",\"ticks\":\"\"},\"bgcolor\":\"#E5ECF6\",\"radialaxis\":{\"gridcolor\":\"white\",\"linecolor\":\"white\",\"ticks\":\"\"}},\"scene\":{\"xaxis\":{\"backgroundcolor\":\"#E5ECF6\",\"gridcolor\":\"white\",\"gridwidth\":2,\"linecolor\":\"white\",\"showbackground\":true,\"ticks\":\"\",\"zerolinecolor\":\"white\"},\"yaxis\":{\"backgroundcolor\":\"#E5ECF6\",\"gridcolor\":\"white\",\"gridwidth\":2,\"linecolor\":\"white\",\"showbackground\":true,\"ticks\":\"\",\"zerolinecolor\":\"white\"},\"zaxis\":{\"backgroundcolor\":\"#E5ECF6\",\"gridcolor\":\"white\",\"gridwidth\":2,\"linecolor\":\"white\",\"showbackground\":true,\"ticks\":\"\",\"zerolinecolor\":\"white\"}},\"shapedefaults\":{\"line\":{\"color\":\"#2a3f5f\"}},\"ternary\":{\"aaxis\":{\"gridcolor\":\"white\",\"linecolor\":\"white\",\"ticks\":\"\"},\"baxis\":{\"gridcolor\":\"white\",\"linecolor\":\"white\",\"ticks\":\"\"},\"bgcolor\":\"#E5ECF6\",\"caxis\":{\"gridcolor\":\"white\",\"linecolor\":\"white\",\"ticks\":\"\"}},\"title\":{\"x\":0.05},\"xaxis\":{\"automargin\":true,\"gridcolor\":\"white\",\"linecolor\":\"white\",\"ticks\":\"\",\"title\":{\"standoff\":15},\"zerolinecolor\":\"white\",\"zerolinewidth\":2},\"yaxis\":{\"automargin\":true,\"gridcolor\":\"white\",\"linecolor\":\"white\",\"ticks\":\"\",\"title\":{\"standoff\":15},\"zerolinecolor\":\"white\",\"zerolinewidth\":2}}},\"xaxis\":{\"anchor\":\"y\",\"domain\":[0.0,1.0]},\"yaxis\":{\"anchor\":\"x\",\"domain\":[0.0,1.0]},\"legend\":{\"tracegroupgap\":0},\"title\":{\"text\":\"U.S. natural gas consumption by sector (Jan 2014-Sep 2022)\"}},                        {\"responsive\": true}                    ).then(function(){\n",
       "                            \n",
       "var gd = document.getElementById('88a5f126-8b98-41c5-b522-59d1efc88973');\n",
       "var x = new MutationObserver(function (mutations, observer) {{\n",
       "        var display = window.getComputedStyle(gd).display;\n",
       "        if (!display || display === 'none') {{\n",
       "            console.log([gd, 'removed!']);\n",
       "            Plotly.purge(gd);\n",
       "            observer.disconnect();\n",
       "        }}\n",
       "}});\n",
       "\n",
       "// Listen for the removal of the full notebook cells\n",
       "var notebookContainer = gd.closest('#notebook-container');\n",
       "if (notebookContainer) {{\n",
       "    x.observe(notebookContainer, {childList: true});\n",
       "}}\n",
       "\n",
       "// Listen for the clearing of the current output cell\n",
       "var outputEl = gd.closest('.output');\n",
       "if (outputEl) {{\n",
       "    x.observe(outputEl, {childList: true});\n",
       "}}\n",
       "\n",
       "                        })                };                });            </script>        </div>"
      ]
     },
     "metadata": {},
     "output_type": "display_data"
    }
   ],
   "source": [
    "fig = px.line(labels=dict(x='period', y=\"Total Consumption in billion cubic feet per dat (Bcf/d)\"),  title='U.S. natural gas consumption by sector (Jan 2014-Sep 2022)')\n",
    "fig.add_scatter(x=df_nt[\"Sector\"], y=df_nt[\"Residential\"], mode='lines', name=\"Residential\")\n",
    "fig.add_scatter(x=df_nt[\"Sector\"], y=df_nt[\"Commercial\"], mode='lines', name=\"Commercial\")\n",
    "fig.add_scatter(x=df_nt[\"Sector\"], y=df_nt[\"Electric Power\"], mode='lines', name=\"Electric Power\")\n",
    "fig.add_scatter(x=df_nt[\"Sector\"], y=df_nt[\"Industrial\"], mode='lines', name=\"Industrial\")\n",
    "fig.show()"
   ]
  },
  {
   "cell_type": "code",
   "execution_count": 13,
   "id": "7dc5455e-a0ec-4e80-b6b3-24aeb79dd00d",
   "metadata": {},
   "outputs": [
    {
     "name": "stdout",
     "output_type": "stream",
     "text": [
      " 2 P-Value :  0.6835890833910094\n"
     ]
    }
   ],
   "source": [
    "from statsmodels.tsa.stattools import adfuller\n",
    "\n",
    "dftest = adfuller(df_nt[\"Industrial\"], autolag = 'AIC')\n",
    "\n",
    "print(\" 2 P-Value : \", dftest[1])"
   ]
  },
  {
   "cell_type": "code",
   "execution_count": 14,
   "id": "a76a7d7b-d423-464a-a397-d2af8bd8e37d",
   "metadata": {},
   "outputs": [
    {
     "name": "stderr",
     "output_type": "stream",
     "text": [
      "/Users/nehamittal/opt/anaconda3/lib/python3.9/site-packages/statsmodels/graphics/tsaplots.py:348: FutureWarning:\n",
      "\n",
      "The default method 'yw' can produce PACF values outside of the [-1,1] interval. After 0.13, the default will change tounadjusted Yule-Walker ('ywm'). You can use this method now by setting method='ywm'.\n",
      "\n"
     ]
    },
    {
     "data": {
      "image/png": "[encoded data removed]",
      "text/plain": [
       "<Figure size 432x288 with 1 Axes>"
      ]
     },
     "metadata": {
      "needs_background": "light"
     },
     "output_type": "display_data"
    }
   ],
   "source": [
    "from statsmodels.graphics.tsaplots import plot_pacf, plot_acf\n",
    "pacf=plot_pacf(df_nt[\"Residential\"], lags=25)"
   ]
  },
  {
   "cell_type": "code",
   "execution_count": 15,
   "id": "a4d6a951-61e8-44d1-88e7-76d98fb130b1",
   "metadata": {},
   "outputs": [],
   "source": [
    "X = df_nt[\"Residential\"]\n",
    "Y = df_nt[\"Commercial\"]\n",
    "Z = df_nt[\"Industrial\"]\n",
    "W = df_nt[\"Electric Power\"]"
   ]
  },
  {
   "cell_type": "code",
   "execution_count": 16,
   "id": "a3cc0373-66c5-4be8-b1be-3f0488ab3460",
   "metadata": {},
   "outputs": [],
   "source": [
    "train_X = X[:len(X) - 8]\n",
    "test_X = X[len(X) - 8:]\n",
    "train_Y = Y[:len(Y) - 8]\n",
    "test_Y = Y[len(Y) - 8:]\n",
    "train_Z = Z[:len(Z) - 8]\n",
    "test_Z = Z[len(Z) - 8:]\n",
    "train_W = W[:len(W) - 8]\n",
    "test_W = W[len(W) - 8:]"
   ]
  },
  {
   "cell_type": "code",
   "execution_count": 17,
   "id": "a6050c44-0024-4ebb-ba46-ce32ea169871",
   "metadata": {},
   "outputs": [],
   "source": [
    "model_X = AutoReg(train_X, lags=25).fit()\n",
    "model_Y = AutoReg(train_Y, lags=25).fit()\n",
    "model_Z = AutoReg(train_Z, lags=25).fit()\n",
    "model_W = AutoReg(train_W, lags=25).fit()"
   ]
  },
  {
   "cell_type": "code",
   "execution_count": 18,
   "id": "2553375c-f774-44d1-bed1-74c021fd76cc",
   "metadata": {},
   "outputs": [],
   "source": [
    "pred_X = model_X.predict(start=len(train_X), end=len(X)-1, dynamic=False)\n",
    "pred_Y = model_Y.predict(start=len(train_Y), end=len(Y)-1, dynamic=False)\n",
    "pred_Z = model_Z.predict(start=len(train_Z), end=len(Z)-1, dynamic=False)\n",
    "pred_W = model_W.predict(start=len(train_W), end=len(W)-1, dynamic=False)"
   ]
  },
  {
   "cell_type": "code",
   "execution_count": 20,
   "id": "b69b2f09-59cb-4e28-96d8-da8b7cb5ce35",
   "metadata": {},
   "outputs": [
    {
     "name": "stdout",
     "output_type": "stream",
     "text": [
      "99     12.778181\n",
      "100     5.991392\n",
      "101     3.100320\n",
      "102     3.677694\n",
      "103     2.974008\n",
      "104     2.939226\n",
      "105     6.623040\n",
      "106    14.231207\n",
      "dtype: float64\n"
     ]
    },
    {
     "data": {
      "image/png": "[encoded data removed]",
      "text/plain": [
       "<Figure size 432x288 with 1 Axes>"
      ]
     },
     "metadata": {
      "needs_background": "light"
     },
     "output_type": "display_data"
    }
   ],
   "source": [
    "from matplotlib import pyplot\n",
    "pyplot.plot(pred_X)\n",
    "pyplot.plot(test_X, color='red')\n",
    "print(pred_X)"
   ]
  },
  {
   "cell_type": "code",
   "execution_count": 24,
   "id": "8a63efca-8e57-462f-a60f-5c55d1b4ad49",
   "metadata": {},
   "outputs": [],
   "source": [
    "from math import sqrt\n",
    "from sklearn.metrics import mean_squared_error\n",
    "rmse = sqrt(mean_squared_error(test_X, pred_X))"
   ]
  },
  {
   "cell_type": "code",
   "execution_count": 25,
   "id": "b50c6a91-6b6a-49cd-a612-09a27f105e35",
   "metadata": {},
   "outputs": [
    {
     "data": {
      "text/plain": [
       "1.079513538992389"
      ]
     },
     "execution_count": 25,
     "metadata": {},
     "output_type": "execute_result"
    }
   ],
   "source": [
    "rmse"
   ]
  },
  {
   "cell_type": "code",
   "execution_count": 26,
   "id": "eb726460-7cf6-4e9e-8652-301525854e36",
   "metadata": {},
   "outputs": [],
   "source": [
    "pred_res_future = model_X.predict(start=len(X)-1, end=len(X) + 12, dynamic=False)\n",
    "pred_com_future = model_Y.predict(start=len(Y)-1, end=len(Y) + 12, dynamic=False)\n",
    "pred_ind_future = model_Z.predict(start=len(Z)-1, end=len(Z) + 12, dynamic=False)\n",
    "pred_ele_future = model_W.predict(start=len(W)-1, end=len(W) + 12, dynamic=False)"
   ]
  },
  {
   "cell_type": "code",
   "execution_count": 27,
   "id": "fa0b2e7f-7cdb-4a44-a605-ec72548e8e47",
   "metadata": {},
   "outputs": [],
   "source": [
    "df_nt[\"res_pred\"] = np.nan\n",
    "df_nt[\"com_pred\"] = np.nan\n",
    "df_nt[\"ind_pred\"] = np.nan\n",
    "df_nt[\"ele_pred\"] = np.nan"
   ]
  },
  {
   "cell_type": "code",
   "execution_count": 28,
   "id": "4288c676-1a40-42bf-882f-cfb9124f9ccf",
   "metadata": {},
   "outputs": [
    {
     "data": {
      "text/html": [
       "<div>\n",
       "<style scoped>\n",
       "    .dataframe tbody tr th:only-of-type {\n",
       "        vertical-align: middle;\n",
       "    }\n",
       "\n",
       "    .dataframe tbody tr th {\n",
       "        vertical-align: top;\n",
       "    }\n",
       "\n",
       "    .dataframe thead th {\n",
       "        text-align: right;\n",
       "    }\n",
       "</style>\n",
       "<table border=\"1\" class=\"dataframe\">\n",
       "  <thead>\n",
       "    <tr style=\"text-align: right;\">\n",
       "      <th></th>\n",
       "      <th>Sector</th>\n",
       "      <th>Residential</th>\n",
       "      <th>Commercial</th>\n",
       "      <th>Industrial</th>\n",
       "      <th>Electric Power</th>\n",
       "      <th>Lease and Plant Fuel</th>\n",
       "      <th>Pipeline and Distribution Use</th>\n",
       "      <th>Vehicle Use</th>\n",
       "      <th>Total Consumption</th>\n",
       "      <th>Other</th>\n",
       "      <th>res_pred</th>\n",
       "      <th>com_pred</th>\n",
       "      <th>ind_pred</th>\n",
       "      <th>ele_pred</th>\n",
       "    </tr>\n",
       "  </thead>\n",
       "  <tbody>\n",
       "    <tr>\n",
       "      <th>0</th>\n",
       "      <td>Jan 2014</td>\n",
       "      <td>33.46</td>\n",
       "      <td>18.44</td>\n",
       "      <td>23.30</td>\n",
       "      <td>21.38</td>\n",
       "      <td>3.90</td>\n",
       "      <td>2.78</td>\n",
       "      <td>0.1</td>\n",
       "      <td>103.36</td>\n",
       "      <td>6.78</td>\n",
       "      <td>NaN</td>\n",
       "      <td>NaN</td>\n",
       "      <td>NaN</td>\n",
       "      <td>NaN</td>\n",
       "    </tr>\n",
       "    <tr>\n",
       "      <th>1</th>\n",
       "      <td>Feb 2014</td>\n",
       "      <td>30.46</td>\n",
       "      <td>17.50</td>\n",
       "      <td>23.54</td>\n",
       "      <td>19.68</td>\n",
       "      <td>3.99</td>\n",
       "      <td>2.62</td>\n",
       "      <td>0.1</td>\n",
       "      <td>97.90</td>\n",
       "      <td>6.71</td>\n",
       "      <td>NaN</td>\n",
       "      <td>NaN</td>\n",
       "      <td>NaN</td>\n",
       "      <td>NaN</td>\n",
       "    </tr>\n",
       "    <tr>\n",
       "      <th>2</th>\n",
       "      <td>Mar 2014</td>\n",
       "      <td>22.58</td>\n",
       "      <td>13.58</td>\n",
       "      <td>21.96</td>\n",
       "      <td>18.09</td>\n",
       "      <td>4.02</td>\n",
       "      <td>2.19</td>\n",
       "      <td>0.1</td>\n",
       "      <td>82.51</td>\n",
       "      <td>6.31</td>\n",
       "      <td>NaN</td>\n",
       "      <td>NaN</td>\n",
       "      <td>NaN</td>\n",
       "      <td>NaN</td>\n",
       "    </tr>\n",
       "    <tr>\n",
       "      <th>3</th>\n",
       "      <td>Apr 2014</td>\n",
       "      <td>11.87</td>\n",
       "      <td>8.37</td>\n",
       "      <td>20.93</td>\n",
       "      <td>18.30</td>\n",
       "      <td>4.12</td>\n",
       "      <td>1.71</td>\n",
       "      <td>0.1</td>\n",
       "      <td>65.39</td>\n",
       "      <td>5.93</td>\n",
       "      <td>NaN</td>\n",
       "      <td>NaN</td>\n",
       "      <td>NaN</td>\n",
       "      <td>NaN</td>\n",
       "    </tr>\n",
       "    <tr>\n",
       "      <th>4</th>\n",
       "      <td>May 2014</td>\n",
       "      <td>6.56</td>\n",
       "      <td>5.70</td>\n",
       "      <td>19.55</td>\n",
       "      <td>20.87</td>\n",
       "      <td>4.10</td>\n",
       "      <td>1.52</td>\n",
       "      <td>0.1</td>\n",
       "      <td>58.39</td>\n",
       "      <td>5.72</td>\n",
       "      <td>NaN</td>\n",
       "      <td>NaN</td>\n",
       "      <td>NaN</td>\n",
       "      <td>NaN</td>\n",
       "    </tr>\n",
       "  </tbody>\n",
       "</table>\n",
       "</div>"
      ],
      "text/plain": [
       "     Sector  Residential  Commercial  Industrial  Electric Power  \\\n",
       "0  Jan 2014        33.46       18.44       23.30           21.38   \n",
       "1  Feb 2014        30.46       17.50       23.54           19.68   \n",
       "2  Mar 2014        22.58       13.58       21.96           18.09   \n",
       "3  Apr 2014        11.87        8.37       20.93           18.30   \n",
       "4  May 2014         6.56        5.70       19.55           20.87   \n",
       "\n",
       "   Lease and Plant Fuel  Pipeline and Distribution Use  Vehicle Use  \\\n",
       "0                  3.90                           2.78          0.1   \n",
       "1                  3.99                           2.62          0.1   \n",
       "2                  4.02                           2.19          0.1   \n",
       "3                  4.12                           1.71          0.1   \n",
       "4                  4.10                           1.52          0.1   \n",
       "\n",
       "   Total Consumption  Other  res_pred  com_pred  ind_pred  ele_pred  \n",
       "0             103.36   6.78       NaN       NaN       NaN       NaN  \n",
       "1              97.90   6.71       NaN       NaN       NaN       NaN  \n",
       "2              82.51   6.31       NaN       NaN       NaN       NaN  \n",
       "3              65.39   5.93       NaN       NaN       NaN       NaN  \n",
       "4              58.39   5.72       NaN       NaN       NaN       NaN  "
      ]
     },
     "execution_count": 28,
     "metadata": {},
     "output_type": "execute_result"
    }
   ],
   "source": [
    "df_nt.head()"
   ]
  },
  {
   "cell_type": "code",
   "execution_count": 29,
   "id": "5dfda2dd-780e-4014-b8de-1ccabbd55c64",
   "metadata": {},
   "outputs": [],
   "source": [
    "df2_res_pred = pd.DataFrame({'Sector': ['Nov 2022', 'Dec 2022', 'Jan 2023', 'Feb 2023', 'Mar 2023', 'Apr 2023', 'May 2023', 'Jun 2023', 'Jul 2023', 'Aug 2023', 'Sep 2023', 'Oct 2023' ,'Nov 2023', 'Dec 2023'], \n",
    "                            'res_pred': pred_res_future,\n",
    "                            'com_pred': pred_com_future,\n",
    "                            'ind_pred': pred_ind_future,\n",
    "                            'ele_pred': pred_ele_future})"
   ]
  },
  {
   "cell_type": "code",
   "execution_count": 30,
   "id": "6183544d-86cc-4ef0-8769-87ac8e7aa82f",
   "metadata": {},
   "outputs": [
    {
     "data": {
      "text/html": [
       "<div>\n",
       "<style scoped>\n",
       "    .dataframe tbody tr th:only-of-type {\n",
       "        vertical-align: middle;\n",
       "    }\n",
       "\n",
       "    .dataframe tbody tr th {\n",
       "        vertical-align: top;\n",
       "    }\n",
       "\n",
       "    .dataframe thead th {\n",
       "        text-align: right;\n",
       "    }\n",
       "</style>\n",
       "<table border=\"1\" class=\"dataframe\">\n",
       "  <thead>\n",
       "    <tr style=\"text-align: right;\">\n",
       "      <th></th>\n",
       "      <th>Sector</th>\n",
       "      <th>res_pred</th>\n",
       "      <th>com_pred</th>\n",
       "      <th>ind_pred</th>\n",
       "      <th>ele_pred</th>\n",
       "    </tr>\n",
       "  </thead>\n",
       "  <tbody>\n",
       "    <tr>\n",
       "      <th>106</th>\n",
       "      <td>Nov 2022</td>\n",
       "      <td>14.231207</td>\n",
       "      <td>9.833376</td>\n",
       "      <td>24.129826</td>\n",
       "      <td>29.727759</td>\n",
       "    </tr>\n",
       "    <tr>\n",
       "      <th>107</th>\n",
       "      <td>Dec 2022</td>\n",
       "      <td>24.607326</td>\n",
       "      <td>14.762480</td>\n",
       "      <td>26.051841</td>\n",
       "      <td>30.480435</td>\n",
       "    </tr>\n",
       "    <tr>\n",
       "      <th>108</th>\n",
       "      <td>Jan 2023</td>\n",
       "      <td>29.761716</td>\n",
       "      <td>17.177333</td>\n",
       "      <td>26.750192</td>\n",
       "      <td>31.097524</td>\n",
       "    </tr>\n",
       "    <tr>\n",
       "      <th>109</th>\n",
       "      <td>Feb 2023</td>\n",
       "      <td>27.131297</td>\n",
       "      <td>16.205380</td>\n",
       "      <td>26.015824</td>\n",
       "      <td>29.592489</td>\n",
       "    </tr>\n",
       "    <tr>\n",
       "      <th>110</th>\n",
       "      <td>Mar 2023</td>\n",
       "      <td>19.833840</td>\n",
       "      <td>12.539459</td>\n",
       "      <td>24.312438</td>\n",
       "      <td>24.914065</td>\n",
       "    </tr>\n",
       "  </tbody>\n",
       "</table>\n",
       "</div>"
      ],
      "text/plain": [
       "       Sector   res_pred   com_pred   ind_pred   ele_pred\n",
       "106  Nov 2022  14.231207   9.833376  24.129826  29.727759\n",
       "107  Dec 2022  24.607326  14.762480  26.051841  30.480435\n",
       "108  Jan 2023  29.761716  17.177333  26.750192  31.097524\n",
       "109  Feb 2023  27.131297  16.205380  26.015824  29.592489\n",
       "110  Mar 2023  19.833840  12.539459  24.312438  24.914065"
      ]
     },
     "execution_count": 30,
     "metadata": {},
     "output_type": "execute_result"
    }
   ],
   "source": [
    "df2_res_pred.head()"
   ]
  },
  {
   "cell_type": "code",
   "execution_count": 31,
   "id": "72cdab27-76fe-497a-9d96-be7046165191",
   "metadata": {},
   "outputs": [],
   "source": [
    "df3 = pd.concat([df_nt, df2_res_pred], ignore_index=True)"
   ]
  },
  {
   "cell_type": "code",
   "execution_count": 32,
   "id": "574b33ec-3961-4874-8d8a-b28bff2a6895",
   "metadata": {},
   "outputs": [
    {
     "data": {
      "text/html": [
       "<div>\n",
       "<style scoped>\n",
       "    .dataframe tbody tr th:only-of-type {\n",
       "        vertical-align: middle;\n",
       "    }\n",
       "\n",
       "    .dataframe tbody tr th {\n",
       "        vertical-align: top;\n",
       "    }\n",
       "\n",
       "    .dataframe thead th {\n",
       "        text-align: right;\n",
       "    }\n",
       "</style>\n",
       "<table border=\"1\" class=\"dataframe\">\n",
       "  <thead>\n",
       "    <tr style=\"text-align: right;\">\n",
       "      <th></th>\n",
       "      <th>Sector</th>\n",
       "      <th>Residential</th>\n",
       "      <th>Commercial</th>\n",
       "      <th>Industrial</th>\n",
       "      <th>Electric Power</th>\n",
       "      <th>Lease and Plant Fuel</th>\n",
       "      <th>Pipeline and Distribution Use</th>\n",
       "      <th>Vehicle Use</th>\n",
       "      <th>Total Consumption</th>\n",
       "      <th>Other</th>\n",
       "      <th>res_pred</th>\n",
       "      <th>com_pred</th>\n",
       "      <th>ind_pred</th>\n",
       "      <th>ele_pred</th>\n",
       "    </tr>\n",
       "  </thead>\n",
       "  <tbody>\n",
       "    <tr>\n",
       "      <th>0</th>\n",
       "      <td>Jan 2014</td>\n",
       "      <td>33.46</td>\n",
       "      <td>18.44</td>\n",
       "      <td>23.30</td>\n",
       "      <td>21.38</td>\n",
       "      <td>3.90</td>\n",
       "      <td>2.78</td>\n",
       "      <td>0.1</td>\n",
       "      <td>103.36</td>\n",
       "      <td>6.78</td>\n",
       "      <td>NaN</td>\n",
       "      <td>NaN</td>\n",
       "      <td>NaN</td>\n",
       "      <td>NaN</td>\n",
       "    </tr>\n",
       "    <tr>\n",
       "      <th>1</th>\n",
       "      <td>Feb 2014</td>\n",
       "      <td>30.46</td>\n",
       "      <td>17.50</td>\n",
       "      <td>23.54</td>\n",
       "      <td>19.68</td>\n",
       "      <td>3.99</td>\n",
       "      <td>2.62</td>\n",
       "      <td>0.1</td>\n",
       "      <td>97.90</td>\n",
       "      <td>6.71</td>\n",
       "      <td>NaN</td>\n",
       "      <td>NaN</td>\n",
       "      <td>NaN</td>\n",
       "      <td>NaN</td>\n",
       "    </tr>\n",
       "    <tr>\n",
       "      <th>2</th>\n",
       "      <td>Mar 2014</td>\n",
       "      <td>22.58</td>\n",
       "      <td>13.58</td>\n",
       "      <td>21.96</td>\n",
       "      <td>18.09</td>\n",
       "      <td>4.02</td>\n",
       "      <td>2.19</td>\n",
       "      <td>0.1</td>\n",
       "      <td>82.51</td>\n",
       "      <td>6.31</td>\n",
       "      <td>NaN</td>\n",
       "      <td>NaN</td>\n",
       "      <td>NaN</td>\n",
       "      <td>NaN</td>\n",
       "    </tr>\n",
       "    <tr>\n",
       "      <th>3</th>\n",
       "      <td>Apr 2014</td>\n",
       "      <td>11.87</td>\n",
       "      <td>8.37</td>\n",
       "      <td>20.93</td>\n",
       "      <td>18.30</td>\n",
       "      <td>4.12</td>\n",
       "      <td>1.71</td>\n",
       "      <td>0.1</td>\n",
       "      <td>65.39</td>\n",
       "      <td>5.93</td>\n",
       "      <td>NaN</td>\n",
       "      <td>NaN</td>\n",
       "      <td>NaN</td>\n",
       "      <td>NaN</td>\n",
       "    </tr>\n",
       "    <tr>\n",
       "      <th>4</th>\n",
       "      <td>May 2014</td>\n",
       "      <td>6.56</td>\n",
       "      <td>5.70</td>\n",
       "      <td>19.55</td>\n",
       "      <td>20.87</td>\n",
       "      <td>4.10</td>\n",
       "      <td>1.52</td>\n",
       "      <td>0.1</td>\n",
       "      <td>58.39</td>\n",
       "      <td>5.72</td>\n",
       "      <td>NaN</td>\n",
       "      <td>NaN</td>\n",
       "      <td>NaN</td>\n",
       "      <td>NaN</td>\n",
       "    </tr>\n",
       "    <tr>\n",
       "      <th>...</th>\n",
       "      <td>...</td>\n",
       "      <td>...</td>\n",
       "      <td>...</td>\n",
       "      <td>...</td>\n",
       "      <td>...</td>\n",
       "      <td>...</td>\n",
       "      <td>...</td>\n",
       "      <td>...</td>\n",
       "      <td>...</td>\n",
       "      <td>...</td>\n",
       "      <td>...</td>\n",
       "      <td>...</td>\n",
       "      <td>...</td>\n",
       "      <td>...</td>\n",
       "    </tr>\n",
       "    <tr>\n",
       "      <th>116</th>\n",
       "      <td>Aug 2023</td>\n",
       "      <td>NaN</td>\n",
       "      <td>NaN</td>\n",
       "      <td>NaN</td>\n",
       "      <td>NaN</td>\n",
       "      <td>NaN</td>\n",
       "      <td>NaN</td>\n",
       "      <td>NaN</td>\n",
       "      <td>NaN</td>\n",
       "      <td>NaN</td>\n",
       "      <td>2.503326</td>\n",
       "      <td>4.130741</td>\n",
       "      <td>20.400352</td>\n",
       "      <td>41.142528</td>\n",
       "    </tr>\n",
       "    <tr>\n",
       "      <th>117</th>\n",
       "      <td>Sep 2023</td>\n",
       "      <td>NaN</td>\n",
       "      <td>NaN</td>\n",
       "      <td>NaN</td>\n",
       "      <td>NaN</td>\n",
       "      <td>NaN</td>\n",
       "      <td>NaN</td>\n",
       "      <td>NaN</td>\n",
       "      <td>NaN</td>\n",
       "      <td>NaN</td>\n",
       "      <td>3.051593</td>\n",
       "      <td>4.661154</td>\n",
       "      <td>20.900988</td>\n",
       "      <td>34.991508</td>\n",
       "    </tr>\n",
       "    <tr>\n",
       "      <th>118</th>\n",
       "      <td>Oct 2023</td>\n",
       "      <td>NaN</td>\n",
       "      <td>NaN</td>\n",
       "      <td>NaN</td>\n",
       "      <td>NaN</td>\n",
       "      <td>NaN</td>\n",
       "      <td>NaN</td>\n",
       "      <td>NaN</td>\n",
       "      <td>NaN</td>\n",
       "      <td>NaN</td>\n",
       "      <td>6.698139</td>\n",
       "      <td>6.338357</td>\n",
       "      <td>22.392623</td>\n",
       "      <td>30.749663</td>\n",
       "    </tr>\n",
       "    <tr>\n",
       "      <th>119</th>\n",
       "      <td>Nov 2023</td>\n",
       "      <td>NaN</td>\n",
       "      <td>NaN</td>\n",
       "      <td>NaN</td>\n",
       "      <td>NaN</td>\n",
       "      <td>NaN</td>\n",
       "      <td>NaN</td>\n",
       "      <td>NaN</td>\n",
       "      <td>NaN</td>\n",
       "      <td>NaN</td>\n",
       "      <td>14.929176</td>\n",
       "      <td>10.031411</td>\n",
       "      <td>24.450642</td>\n",
       "      <td>29.507892</td>\n",
       "    </tr>\n",
       "    <tr>\n",
       "      <th>120</th>\n",
       "      <td>Dec 2023</td>\n",
       "      <td>NaN</td>\n",
       "      <td>NaN</td>\n",
       "      <td>NaN</td>\n",
       "      <td>NaN</td>\n",
       "      <td>NaN</td>\n",
       "      <td>NaN</td>\n",
       "      <td>NaN</td>\n",
       "      <td>NaN</td>\n",
       "      <td>NaN</td>\n",
       "      <td>24.855701</td>\n",
       "      <td>14.564094</td>\n",
       "      <td>26.022474</td>\n",
       "      <td>30.917338</td>\n",
       "    </tr>\n",
       "  </tbody>\n",
       "</table>\n",
       "<p>121 rows × 14 columns</p>\n",
       "</div>"
      ],
      "text/plain": [
       "       Sector  Residential  Commercial  Industrial  Electric Power  \\\n",
       "0    Jan 2014        33.46       18.44       23.30           21.38   \n",
       "1    Feb 2014        30.46       17.50       23.54           19.68   \n",
       "2    Mar 2014        22.58       13.58       21.96           18.09   \n",
       "3    Apr 2014        11.87        8.37       20.93           18.30   \n",
       "4    May 2014         6.56        5.70       19.55           20.87   \n",
       "..        ...          ...         ...         ...             ...   \n",
       "116  Aug 2023          NaN         NaN         NaN             NaN   \n",
       "117  Sep 2023          NaN         NaN         NaN             NaN   \n",
       "118  Oct 2023          NaN         NaN         NaN             NaN   \n",
       "119  Nov 2023          NaN         NaN         NaN             NaN   \n",
       "120  Dec 2023          NaN         NaN         NaN             NaN   \n",
       "\n",
       "     Lease and Plant Fuel  Pipeline and Distribution Use  Vehicle Use  \\\n",
       "0                    3.90                           2.78          0.1   \n",
       "1                    3.99                           2.62          0.1   \n",
       "2                    4.02                           2.19          0.1   \n",
       "3                    4.12                           1.71          0.1   \n",
       "4                    4.10                           1.52          0.1   \n",
       "..                    ...                            ...          ...   \n",
       "116                   NaN                            NaN          NaN   \n",
       "117                   NaN                            NaN          NaN   \n",
       "118                   NaN                            NaN          NaN   \n",
       "119                   NaN                            NaN          NaN   \n",
       "120                   NaN                            NaN          NaN   \n",
       "\n",
       "     Total Consumption  Other   res_pred   com_pred   ind_pred   ele_pred  \n",
       "0               103.36   6.78        NaN        NaN        NaN        NaN  \n",
       "1                97.90   6.71        NaN        NaN        NaN        NaN  \n",
       "2                82.51   6.31        NaN        NaN        NaN        NaN  \n",
       "3                65.39   5.93        NaN        NaN        NaN        NaN  \n",
       "4                58.39   5.72        NaN        NaN        NaN        NaN  \n",
       "..                 ...    ...        ...        ...        ...        ...  \n",
       "116                NaN    NaN   2.503326   4.130741  20.400352  41.142528  \n",
       "117                NaN    NaN   3.051593   4.661154  20.900988  34.991508  \n",
       "118                NaN    NaN   6.698139   6.338357  22.392623  30.749663  \n",
       "119                NaN    NaN  14.929176  10.031411  24.450642  29.507892  \n",
       "120                NaN    NaN  24.855701  14.564094  26.022474  30.917338  \n",
       "\n",
       "[121 rows x 14 columns]"
      ]
     },
     "execution_count": 32,
     "metadata": {},
     "output_type": "execute_result"
    }
   ],
   "source": [
    "df3"
   ]
  },
  {
   "cell_type": "code",
   "execution_count": 50,
   "id": "5b26da36-95c2-473e-b264-897f872544b3",
   "metadata": {},
   "outputs": [
    {
     "data": {
      "application/vnd.plotly.v1+json": {
       "config": {
        "plotlyServerURL": "https://plot.ly"
       },
       "data": [
        {
         "line": {
          "color": "firebrick",
          "width": 4
         },
         "name": "Residential",
         "type": "scatter",
         "x": [
          "Jan 2014",
          "Feb 2014",
          "Mar 2014",
          "Apr 2014",
          "May 2014",
          "Jun 2014",
          "Jul 2014",
          "Aug 2014",
          "Sep 2014",
          "Oct 2014",
          "Nov 2014",
          "Dec 2014",
          "Jan 2015",
          "Feb 2015",
          "Mar 2015",
          "Apr 2015",
          "May 2015",
          "Jun 2015",
          "Jul 2015",
          "Aug 2015",
          "Sep 2015",
          "Oct 2015",
          "Nov 2015",
          "Dec 2015",
          "Jan 2016",
          "Feb 2016",
          "Mar 2016",
          "Apr 2016",
          "May 2016",
          "Jun 2016",
          "Jul 2016",
          "Aug 2016",
          "Sep 2016",
          "Oct 2016",
          "Nov 2016",
          "Dec 2016",
          "Jan 2017",
          "Feb 2017",
          "Mar 2017",
          "Apr 2017",
          "May 2017",
          "Jun 2017",
          "Jul 2017",
          "Aug 2017",
          "Sep 2017",
          "Oct 2017",
          "Nov 2017",
          "Dec 2017",
          "Jan 2018",
          "Feb 2018",
          "Mar 2018",
          "Apr 2018",
          "May 2018",
          "Jun 2018",
          "Jul 2018",
          "Aug 2018",
          "Sep 2018",
          "Oct 2018",
          "Nov 2018",
          "Dec 2018",
          "Jan 2019",
          "Feb 2019",
          "Mar 2019",
          "Apr 2019",
          "May 2019",
          "Jun 2019",
          "Jul 2019",
          "Aug 2019",
          "Sep 2019",
          "Oct 2019",
          "Nov 2019",
          "Dec 2019",
          "Jan 2020",
          "Feb 2020",
          "Mar 2020",
          "Apr 2020",
          "May 2020",
          "Jun 2020",
          "Jul 2020",
          "Aug 2020",
          "Sep 2020",
          "Oct 2020",
          "Nov 2020",
          "Dec 2020",
          "Jan 2021",
          "Feb 2021",
          "Mar 2021",
          "Apr 2021",
          "May 2021",
          "Jun 2021",
          "Jul 2021",
          "Aug 2021",
          "Sep 2021",
          "Oct 2021",
          "Nov 2021",
          "Dec 2021",
          "Jan 2022",
          "Feb 2022",
          "Mar 2022",
          "Apr 2022",
          "May 2022",
          "Jun 2022",
          "Jul 2022",
          "Aug 2022",
          "Sep 2022",
          "Oct 2022",
          "Nov 2022",
          "Nov 2022",
          "Dec 2022",
          "Jan 2023",
          "Feb 2023",
          "Mar 2023",
          "Apr 2023",
          "May 2023",
          "Jun 2023",
          "Jul 2023",
          "Aug 2023",
          "Sep 2023",
          "Oct 2023",
          "Nov 2023",
          "Dec 2023"
         ],
         "y": [
          33.46,
          30.46,
          22.58,
          11.87,
          6.56,
          4.19,
          3.64,
          3.39,
          4.06,
          6.84,
          18.12,
          23.13,
          30.26,
          32.23,
          20.42,
          10.64,
          5.73,
          4.14,
          3.49,
          3.32,
          3.62,
          6.5,
          13.55,
          19.06,
          28.35,
          23.8,
          14.68,
          10.94,
          6.26,
          4.09,
          3.43,
          3.24,
          3.66,
          6.04,
          12.66,
          25.62,
          26.8,
          20.69,
          18.71,
          9.3,
          6.43,
          4.14,
          3.47,
          3.35,
          3.82,
          6.62,
          15.59,
          26.51,
          31.65,
          24.64,
          21.27,
          14.69,
          5.45,
          3.97,
          3.42,
          3.22,
          3.74,
          8.24,
          19.97,
          24.7,
          30.77,
          28.9,
          22.21,
          10.95,
          6.85,
          4.31,
          3.61,
          3.29,
          3.66,
          7.47,
          19.64,
          24.28,
          26.61,
          25.42,
          16.99,
          12.6,
          7.63,
          4.54,
          3.81,
          3.51,
          4.22,
          7.8,
          14.66,
          25.79,
          28.87,
          31.28,
          18.52,
          11.41,
          7.03,
          4.32,
          3.64,
          3.43,
          3.95,
          6.21,
          16.07,
          21.59,
          31.02,
          28.44,
          19.05,
          13,
          6.48,
          4.13,
          3.59,
          3.32,
          4.03,
          7.94,
          16.45,
          null,
          null,
          null,
          null,
          null,
          null,
          null,
          null,
          null,
          null,
          null,
          null,
          null,
          null
         ]
        },
        {
         "line": {
          "color": "royalblue",
          "width": 4
         },
         "name": "Commercial",
         "type": "scatter",
         "x": [
          "Jan 2014",
          "Feb 2014",
          "Mar 2014",
          "Apr 2014",
          "May 2014",
          "Jun 2014",
          "Jul 2014",
          "Aug 2014",
          "Sep 2014",
          "Oct 2014",
          "Nov 2014",
          "Dec 2014",
          "Jan 2015",
          "Feb 2015",
          "Mar 2015",
          "Apr 2015",
          "May 2015",
          "Jun 2015",
          "Jul 2015",
          "Aug 2015",
          "Sep 2015",
          "Oct 2015",
          "Nov 2015",
          "Dec 2015",
          "Jan 2016",
          "Feb 2016",
          "Mar 2016",
          "Apr 2016",
          "May 2016",
          "Jun 2016",
          "Jul 2016",
          "Aug 2016",
          "Sep 2016",
          "Oct 2016",
          "Nov 2016",
          "Dec 2016",
          "Jan 2017",
          "Feb 2017",
          "Mar 2017",
          "Apr 2017",
          "May 2017",
          "Jun 2017",
          "Jul 2017",
          "Aug 2017",
          "Sep 2017",
          "Oct 2017",
          "Nov 2017",
          "Dec 2017",
          "Jan 2018",
          "Feb 2018",
          "Mar 2018",
          "Apr 2018",
          "May 2018",
          "Jun 2018",
          "Jul 2018",
          "Aug 2018",
          "Sep 2018",
          "Oct 2018",
          "Nov 2018",
          "Dec 2018",
          "Jan 2019",
          "Feb 2019",
          "Mar 2019",
          "Apr 2019",
          "May 2019",
          "Jun 2019",
          "Jul 2019",
          "Aug 2019",
          "Sep 2019",
          "Oct 2019",
          "Nov 2019",
          "Dec 2019",
          "Jan 2020",
          "Feb 2020",
          "Mar 2020",
          "Apr 2020",
          "May 2020",
          "Jun 2020",
          "Jul 2020",
          "Aug 2020",
          "Sep 2020",
          "Oct 2020",
          "Nov 2020",
          "Dec 2020",
          "Jan 2021",
          "Feb 2021",
          "Mar 2021",
          "Apr 2021",
          "May 2021",
          "Jun 2021",
          "Jul 2021",
          "Aug 2021",
          "Sep 2021",
          "Oct 2021",
          "Nov 2021",
          "Dec 2021",
          "Jan 2022",
          "Feb 2022",
          "Mar 2022",
          "Apr 2022",
          "May 2022",
          "Jun 2022",
          "Jul 2022",
          "Aug 2022",
          "Sep 2022",
          "Oct 2022",
          "Nov 2022",
          "Nov 2022",
          "Dec 2022",
          "Jan 2023",
          "Feb 2023",
          "Mar 2023",
          "Apr 2023",
          "May 2023",
          "Jun 2023",
          "Jul 2023",
          "Aug 2023",
          "Sep 2023",
          "Oct 2023",
          "Nov 2023",
          "Dec 2023"
         ],
         "y": [
          18.44,
          17.5,
          13.58,
          8.37,
          5.7,
          4.71,
          4.44,
          4.42,
          4.96,
          6.53,
          12.05,
          13.77,
          17.18,
          18.48,
          12.44,
          7.74,
          5.18,
          4.51,
          4.31,
          4.36,
          4.6,
          6.29,
          9.44,
          11.37,
          16.23,
          14.26,
          9.63,
          7.77,
          5.53,
          4.61,
          4.34,
          4.53,
          4.73,
          6.18,
          9.35,
          14.93,
          15.46,
          12.84,
          11.99,
          7.07,
          5.76,
          4.6,
          4.31,
          4.43,
          4.83,
          6.47,
          10.75,
          15.7,
          17.87,
          15.15,
          13.48,
          10.06,
          5.28,
          4.75,
          4.44,
          4.61,
          4.89,
          7.66,
          12.88,
          14.81,
          17.88,
          16.87,
          13.68,
          8.22,
          5.96,
          4.82,
          4.58,
          4.54,
          4.77,
          6.97,
          12.96,
          14.74,
          15.83,
          15.43,
          10.94,
          7.94,
          5.25,
          4.39,
          4.16,
          4.23,
          4.79,
          6.73,
          9.78,
          14.64,
          16.05,
          17.76,
          11.55,
          8.25,
          5.9,
          4.79,
          4.62,
          4.57,
          5.01,
          6.34,
          11.26,
          12.96,
          17.85,
          16.64,
          12.46,
          9.31,
          5.91,
          4.89,
          4.7,
          4.58,
          5.33,
          7.61,
          11.8,
          null,
          null,
          null,
          null,
          null,
          null,
          null,
          null,
          null,
          null,
          null,
          null,
          null,
          null
         ]
        },
        {
         "line": {
          "color": "green",
          "width": 4
         },
         "name": "Electric Power",
         "type": "scatter",
         "x": [
          "Jan 2014",
          "Feb 2014",
          "Mar 2014",
          "Apr 2014",
          "May 2014",
          "Jun 2014",
          "Jul 2014",
          "Aug 2014",
          "Sep 2014",
          "Oct 2014",
          "Nov 2014",
          "Dec 2014",
          "Jan 2015",
          "Feb 2015",
          "Mar 2015",
          "Apr 2015",
          "May 2015",
          "Jun 2015",
          "Jul 2015",
          "Aug 2015",
          "Sep 2015",
          "Oct 2015",
          "Nov 2015",
          "Dec 2015",
          "Jan 2016",
          "Feb 2016",
          "Mar 2016",
          "Apr 2016",
          "May 2016",
          "Jun 2016",
          "Jul 2016",
          "Aug 2016",
          "Sep 2016",
          "Oct 2016",
          "Nov 2016",
          "Dec 2016",
          "Jan 2017",
          "Feb 2017",
          "Mar 2017",
          "Apr 2017",
          "May 2017",
          "Jun 2017",
          "Jul 2017",
          "Aug 2017",
          "Sep 2017",
          "Oct 2017",
          "Nov 2017",
          "Dec 2017",
          "Jan 2018",
          "Feb 2018",
          "Mar 2018",
          "Apr 2018",
          "May 2018",
          "Jun 2018",
          "Jul 2018",
          "Aug 2018",
          "Sep 2018",
          "Oct 2018",
          "Nov 2018",
          "Dec 2018",
          "Jan 2019",
          "Feb 2019",
          "Mar 2019",
          "Apr 2019",
          "May 2019",
          "Jun 2019",
          "Jul 2019",
          "Aug 2019",
          "Sep 2019",
          "Oct 2019",
          "Nov 2019",
          "Dec 2019",
          "Jan 2020",
          "Feb 2020",
          "Mar 2020",
          "Apr 2020",
          "May 2020",
          "Jun 2020",
          "Jul 2020",
          "Aug 2020",
          "Sep 2020",
          "Oct 2020",
          "Nov 2020",
          "Dec 2020",
          "Jan 2021",
          "Feb 2021",
          "Mar 2021",
          "Apr 2021",
          "May 2021",
          "Jun 2021",
          "Jul 2021",
          "Aug 2021",
          "Sep 2021",
          "Oct 2021",
          "Nov 2021",
          "Dec 2021",
          "Jan 2022",
          "Feb 2022",
          "Mar 2022",
          "Apr 2022",
          "May 2022",
          "Jun 2022",
          "Jul 2022",
          "Aug 2022",
          "Sep 2022",
          "Oct 2022",
          "Nov 2022",
          "Nov 2022",
          "Dec 2022",
          "Jan 2023",
          "Feb 2023",
          "Mar 2023",
          "Apr 2023",
          "May 2023",
          "Jun 2023",
          "Jul 2023",
          "Aug 2023",
          "Sep 2023",
          "Oct 2023",
          "Nov 2023",
          "Dec 2023"
         ],
         "y": [
          21.38,
          19.68,
          18.09,
          18.3,
          20.87,
          24.03,
          27.2,
          28.96,
          25.7,
          22.69,
          20.01,
          20.61,
          22.95,
          23.16,
          22.86,
          22.14,
          23.69,
          29.55,
          33.73,
          33.12,
          29.83,
          25.53,
          24.41,
          24.79,
          24.97,
          23.79,
          24.02,
          23.96,
          25.95,
          32.34,
          36.77,
          37.14,
          30.51,
          23.99,
          22.07,
          21.64,
          21.3,
          20.33,
          21.7,
          20.91,
          22.58,
          28.35,
          34.89,
          32.97,
          28.62,
          24.91,
          22.21,
          25.32,
          25.37,
          24.66,
          24.44,
          23.5,
          27.39,
          31.79,
          39.52,
          38.29,
          34.37,
          28.64,
          25.44,
          24.6,
          27.4,
          27.87,
          26.27,
          24.69,
          27.01,
          33.05,
          40.51,
          41.26,
          36.05,
          30.24,
          27.31,
          29.43,
          30.61,
          30.79,
          28.73,
          25.93,
          27,
          34.7,
          43.41,
          41.16,
          33.86,
          30.59,
          25.74,
          28.54,
          28.14,
          28.11,
          24.26,
          25.19,
          26.33,
          36.16,
          39.84,
          40.66,
          33.17,
          30.44,
          29.4,
          28.58,
          31.58,
          29.14,
          25.27,
          25.2,
          29.93,
          38.27,
          45.17,
          44.5,
          37.17,
          31.04,
          28.17,
          null,
          null,
          null,
          null,
          null,
          null,
          null,
          null,
          null,
          null,
          null,
          null,
          null,
          null
         ]
        },
        {
         "line": {
          "color": "black",
          "width": 4
         },
         "name": "Industrial",
         "type": "scatter",
         "x": [
          "Jan 2014",
          "Feb 2014",
          "Mar 2014",
          "Apr 2014",
          "May 2014",
          "Jun 2014",
          "Jul 2014",
          "Aug 2014",
          "Sep 2014",
          "Oct 2014",
          "Nov 2014",
          "Dec 2014",
          "Jan 2015",
          "Feb 2015",
          "Mar 2015",
          "Apr 2015",
          "May 2015",
          "Jun 2015",
          "Jul 2015",
          "Aug 2015",
          "Sep 2015",
          "Oct 2015",
          "Nov 2015",
          "Dec 2015",
          "Jan 2016",
          "Feb 2016",
          "Mar 2016",
          "Apr 2016",
          "May 2016",
          "Jun 2016",
          "Jul 2016",
          "Aug 2016",
          "Sep 2016",
          "Oct 2016",
          "Nov 2016",
          "Dec 2016",
          "Jan 2017",
          "Feb 2017",
          "Mar 2017",
          "Apr 2017",
          "May 2017",
          "Jun 2017",
          "Jul 2017",
          "Aug 2017",
          "Sep 2017",
          "Oct 2017",
          "Nov 2017",
          "Dec 2017",
          "Jan 2018",
          "Feb 2018",
          "Mar 2018",
          "Apr 2018",
          "May 2018",
          "Jun 2018",
          "Jul 2018",
          "Aug 2018",
          "Sep 2018",
          "Oct 2018",
          "Nov 2018",
          "Dec 2018",
          "Jan 2019",
          "Feb 2019",
          "Mar 2019",
          "Apr 2019",
          "May 2019",
          "Jun 2019",
          "Jul 2019",
          "Aug 2019",
          "Sep 2019",
          "Oct 2019",
          "Nov 2019",
          "Dec 2019",
          "Jan 2020",
          "Feb 2020",
          "Mar 2020",
          "Apr 2020",
          "May 2020",
          "Jun 2020",
          "Jul 2020",
          "Aug 2020",
          "Sep 2020",
          "Oct 2020",
          "Nov 2020",
          "Dec 2020",
          "Jan 2021",
          "Feb 2021",
          "Mar 2021",
          "Apr 2021",
          "May 2021",
          "Jun 2021",
          "Jul 2021",
          "Aug 2021",
          "Sep 2021",
          "Oct 2021",
          "Nov 2021",
          "Dec 2021",
          "Jan 2022",
          "Feb 2022",
          "Mar 2022",
          "Apr 2022",
          "May 2022",
          "Jun 2022",
          "Jul 2022",
          "Aug 2022",
          "Sep 2022",
          "Oct 2022",
          "Nov 2022",
          "Nov 2022",
          "Dec 2022",
          "Jan 2023",
          "Feb 2023",
          "Mar 2023",
          "Apr 2023",
          "May 2023",
          "Jun 2023",
          "Jul 2023",
          "Aug 2023",
          "Sep 2023",
          "Oct 2023",
          "Nov 2023",
          "Dec 2023"
         ],
         "y": [
          23.3,
          23.54,
          21.96,
          20.93,
          19.55,
          19.53,
          19.52,
          19.63,
          19.7,
          19.67,
          21.99,
          22.26,
          23.17,
          23.56,
          21.34,
          20.26,
          19.45,
          19.16,
          19.09,
          19.35,
          19.3,
          19.77,
          21.28,
          21.76,
          23.26,
          22.85,
          21.38,
          20.67,
          19.76,
          19.68,
          19.89,
          20.24,
          20.13,
          20.09,
          21.8,
          23.68,
          23.68,
          23.21,
          22.46,
          21.05,
          20.27,
          20.48,
          20.11,
          20.55,
          20.5,
          21.18,
          23.18,
          24.54,
          25.23,
          24.97,
          23.8,
          23.24,
          21.64,
          21.64,
          21.54,
          21.55,
          21.9,
          22.08,
          24.53,
          24.77,
          25.83,
          25.67,
          24.2,
          22.5,
          21.77,
          21.14,
          20.95,
          21.69,
          21.46,
          22.05,
          24.49,
          25.13,
          25.17,
          24.98,
          22.92,
          21.12,
          19.9,
          20.03,
          20.45,
          20.94,
          21.47,
          22.15,
          23.4,
          25.11,
          25.5,
          24.49,
          22.67,
          22.53,
          21.22,
          21.28,
          21.48,
          21.57,
          21.29,
          21.85,
          24.2,
          24.74,
          26.37,
          25.82,
          24.32,
          23.39,
          21.96,
          21.81,
          21.64,
          21.68,
          21.53,
          22.26,
          23.97,
          null,
          null,
          null,
          null,
          null,
          null,
          null,
          null,
          null,
          null,
          null,
          null,
          null,
          null
         ]
        },
        {
         "line": {
          "color": "firebrick",
          "dash": "dot",
          "width": 4
         },
         "name": "Residential Prediction",
         "type": "scatter",
         "x": [
          "Jan 2014",
          "Feb 2014",
          "Mar 2014",
          "Apr 2014",
          "May 2014",
          "Jun 2014",
          "Jul 2014",
          "Aug 2014",
          "Sep 2014",
          "Oct 2014",
          "Nov 2014",
          "Dec 2014",
          "Jan 2015",
          "Feb 2015",
          "Mar 2015",
          "Apr 2015",
          "May 2015",
          "Jun 2015",
          "Jul 2015",
          "Aug 2015",
          "Sep 2015",
          "Oct 2015",
          "Nov 2015",
          "Dec 2015",
          "Jan 2016",
          "Feb 2016",
          "Mar 2016",
          "Apr 2016",
          "May 2016",
          "Jun 2016",
          "Jul 2016",
          "Aug 2016",
          "Sep 2016",
          "Oct 2016",
          "Nov 2016",
          "Dec 2016",
          "Jan 2017",
          "Feb 2017",
          "Mar 2017",
          "Apr 2017",
          "May 2017",
          "Jun 2017",
          "Jul 2017",
          "Aug 2017",
          "Sep 2017",
          "Oct 2017",
          "Nov 2017",
          "Dec 2017",
          "Jan 2018",
          "Feb 2018",
          "Mar 2018",
          "Apr 2018",
          "May 2018",
          "Jun 2018",
          "Jul 2018",
          "Aug 2018",
          "Sep 2018",
          "Oct 2018",
          "Nov 2018",
          "Dec 2018",
          "Jan 2019",
          "Feb 2019",
          "Mar 2019",
          "Apr 2019",
          "May 2019",
          "Jun 2019",
          "Jul 2019",
          "Aug 2019",
          "Sep 2019",
          "Oct 2019",
          "Nov 2019",
          "Dec 2019",
          "Jan 2020",
          "Feb 2020",
          "Mar 2020",
          "Apr 2020",
          "May 2020",
          "Jun 2020",
          "Jul 2020",
          "Aug 2020",
          "Sep 2020",
          "Oct 2020",
          "Nov 2020",
          "Dec 2020",
          "Jan 2021",
          "Feb 2021",
          "Mar 2021",
          "Apr 2021",
          "May 2021",
          "Jun 2021",
          "Jul 2021",
          "Aug 2021",
          "Sep 2021",
          "Oct 2021",
          "Nov 2021",
          "Dec 2021",
          "Jan 2022",
          "Feb 2022",
          "Mar 2022",
          "Apr 2022",
          "May 2022",
          "Jun 2022",
          "Jul 2022",
          "Aug 2022",
          "Sep 2022",
          "Oct 2022",
          "Nov 2022",
          "Nov 2022",
          "Dec 2022",
          "Jan 2023",
          "Feb 2023",
          "Mar 2023",
          "Apr 2023",
          "May 2023",
          "Jun 2023",
          "Jul 2023",
          "Aug 2023",
          "Sep 2023",
          "Oct 2023",
          "Nov 2023",
          "Dec 2023"
         ],
         "y": [
          null,
          null,
          null,
          null,
          null,
          null,
          null,
          null,
          null,
          null,
          null,
          null,
          null,
          null,
          null,
          null,
          null,
          null,
          null,
          null,
          null,
          null,
          null,
          null,
          null,
          null,
          null,
          null,
          null,
          null,
          null,
          null,
          null,
          null,
          null,
          null,
          null,
          null,
          null,
          null,
          null,
          null,
          null,
          null,
          null,
          null,
          null,
          null,
          null,
          null,
          null,
          null,
          null,
          null,
          null,
          null,
          null,
          null,
          null,
          null,
          null,
          null,
          null,
          null,
          null,
          null,
          null,
          null,
          null,
          null,
          null,
          null,
          null,
          null,
          null,
          null,
          null,
          null,
          null,
          null,
          null,
          null,
          null,
          null,
          null,
          null,
          null,
          null,
          null,
          null,
          null,
          null,
          null,
          null,
          null,
          null,
          null,
          null,
          null,
          null,
          null,
          null,
          null,
          null,
          null,
          null,
          null,
          14.231207360533176,
          24.60732621325181,
          29.761715623937533,
          27.131297116431863,
          19.83384014901616,
          12.382551007274902,
          5.856840137625115,
          3.7136033019252945,
          3.6112876562129927,
          2.503326233110467,
          3.0515933761953593,
          6.698138990971624,
          14.92917604056743,
          24.855700738874887
         ]
        },
        {
         "line": {
          "color": "royalblue",
          "dash": "dot",
          "width": 4
         },
         "name": "Commercial Prediction",
         "type": "scatter",
         "x": [
          "Jan 2014",
          "Feb 2014",
          "Mar 2014",
          "Apr 2014",
          "May 2014",
          "Jun 2014",
          "Jul 2014",
          "Aug 2014",
          "Sep 2014",
          "Oct 2014",
          "Nov 2014",
          "Dec 2014",
          "Jan 2015",
          "Feb 2015",
          "Mar 2015",
          "Apr 2015",
          "May 2015",
          "Jun 2015",
          "Jul 2015",
          "Aug 2015",
          "Sep 2015",
          "Oct 2015",
          "Nov 2015",
          "Dec 2015",
          "Jan 2016",
          "Feb 2016",
          "Mar 2016",
          "Apr 2016",
          "May 2016",
          "Jun 2016",
          "Jul 2016",
          "Aug 2016",
          "Sep 2016",
          "Oct 2016",
          "Nov 2016",
          "Dec 2016",
          "Jan 2017",
          "Feb 2017",
          "Mar 2017",
          "Apr 2017",
          "May 2017",
          "Jun 2017",
          "Jul 2017",
          "Aug 2017",
          "Sep 2017",
          "Oct 2017",
          "Nov 2017",
          "Dec 2017",
          "Jan 2018",
          "Feb 2018",
          "Mar 2018",
          "Apr 2018",
          "May 2018",
          "Jun 2018",
          "Jul 2018",
          "Aug 2018",
          "Sep 2018",
          "Oct 2018",
          "Nov 2018",
          "Dec 2018",
          "Jan 2019",
          "Feb 2019",
          "Mar 2019",
          "Apr 2019",
          "May 2019",
          "Jun 2019",
          "Jul 2019",
          "Aug 2019",
          "Sep 2019",
          "Oct 2019",
          "Nov 2019",
          "Dec 2019",
          "Jan 2020",
          "Feb 2020",
          "Mar 2020",
          "Apr 2020",
          "May 2020",
          "Jun 2020",
          "Jul 2020",
          "Aug 2020",
          "Sep 2020",
          "Oct 2020",
          "Nov 2020",
          "Dec 2020",
          "Jan 2021",
          "Feb 2021",
          "Mar 2021",
          "Apr 2021",
          "May 2021",
          "Jun 2021",
          "Jul 2021",
          "Aug 2021",
          "Sep 2021",
          "Oct 2021",
          "Nov 2021",
          "Dec 2021",
          "Jan 2022",
          "Feb 2022",
          "Mar 2022",
          "Apr 2022",
          "May 2022",
          "Jun 2022",
          "Jul 2022",
          "Aug 2022",
          "Sep 2022",
          "Oct 2022",
          "Nov 2022",
          "Nov 2022",
          "Dec 2022",
          "Jan 2023",
          "Feb 2023",
          "Mar 2023",
          "Apr 2023",
          "May 2023",
          "Jun 2023",
          "Jul 2023",
          "Aug 2023",
          "Sep 2023",
          "Oct 2023",
          "Nov 2023",
          "Dec 2023"
         ],
         "y": [
          null,
          null,
          null,
          null,
          null,
          null,
          null,
          null,
          null,
          null,
          null,
          null,
          null,
          null,
          null,
          null,
          null,
          null,
          null,
          null,
          null,
          null,
          null,
          null,
          null,
          null,
          null,
          null,
          null,
          null,
          null,
          null,
          null,
          null,
          null,
          null,
          null,
          null,
          null,
          null,
          null,
          null,
          null,
          null,
          null,
          null,
          null,
          null,
          null,
          null,
          null,
          null,
          null,
          null,
          null,
          null,
          null,
          null,
          null,
          null,
          null,
          null,
          null,
          null,
          null,
          null,
          null,
          null,
          null,
          null,
          null,
          null,
          null,
          null,
          null,
          null,
          null,
          null,
          null,
          null,
          null,
          null,
          null,
          null,
          null,
          null,
          null,
          null,
          null,
          null,
          null,
          null,
          null,
          null,
          null,
          null,
          null,
          null,
          null,
          null,
          null,
          null,
          null,
          null,
          null,
          null,
          null,
          9.833376135544242,
          14.762479630169093,
          17.177332934952744,
          16.205379919191532,
          12.539458750069167,
          9.211806629155994,
          5.780972806449789,
          4.7647254889802015,
          4.465119647084612,
          4.1307405212777635,
          4.661154403958136,
          6.338357483876354,
          10.031410659462605,
          14.564093992767386
         ]
        },
        {
         "line": {
          "color": "black",
          "dash": "dot",
          "width": 4
         },
         "name": "Electric Power Prediction",
         "type": "scatter",
         "x": [
          "Jan 2014",
          "Feb 2014",
          "Mar 2014",
          "Apr 2014",
          "May 2014",
          "Jun 2014",
          "Jul 2014",
          "Aug 2014",
          "Sep 2014",
          "Oct 2014",
          "Nov 2014",
          "Dec 2014",
          "Jan 2015",
          "Feb 2015",
          "Mar 2015",
          "Apr 2015",
          "May 2015",
          "Jun 2015",
          "Jul 2015",
          "Aug 2015",
          "Sep 2015",
          "Oct 2015",
          "Nov 2015",
          "Dec 2015",
          "Jan 2016",
          "Feb 2016",
          "Mar 2016",
          "Apr 2016",
          "May 2016",
          "Jun 2016",
          "Jul 2016",
          "Aug 2016",
          "Sep 2016",
          "Oct 2016",
          "Nov 2016",
          "Dec 2016",
          "Jan 2017",
          "Feb 2017",
          "Mar 2017",
          "Apr 2017",
          "May 2017",
          "Jun 2017",
          "Jul 2017",
          "Aug 2017",
          "Sep 2017",
          "Oct 2017",
          "Nov 2017",
          "Dec 2017",
          "Jan 2018",
          "Feb 2018",
          "Mar 2018",
          "Apr 2018",
          "May 2018",
          "Jun 2018",
          "Jul 2018",
          "Aug 2018",
          "Sep 2018",
          "Oct 2018",
          "Nov 2018",
          "Dec 2018",
          "Jan 2019",
          "Feb 2019",
          "Mar 2019",
          "Apr 2019",
          "May 2019",
          "Jun 2019",
          "Jul 2019",
          "Aug 2019",
          "Sep 2019",
          "Oct 2019",
          "Nov 2019",
          "Dec 2019",
          "Jan 2020",
          "Feb 2020",
          "Mar 2020",
          "Apr 2020",
          "May 2020",
          "Jun 2020",
          "Jul 2020",
          "Aug 2020",
          "Sep 2020",
          "Oct 2020",
          "Nov 2020",
          "Dec 2020",
          "Jan 2021",
          "Feb 2021",
          "Mar 2021",
          "Apr 2021",
          "May 2021",
          "Jun 2021",
          "Jul 2021",
          "Aug 2021",
          "Sep 2021",
          "Oct 2021",
          "Nov 2021",
          "Dec 2021",
          "Jan 2022",
          "Feb 2022",
          "Mar 2022",
          "Apr 2022",
          "May 2022",
          "Jun 2022",
          "Jul 2022",
          "Aug 2022",
          "Sep 2022",
          "Oct 2022",
          "Nov 2022",
          "Nov 2022",
          "Dec 2022",
          "Jan 2023",
          "Feb 2023",
          "Mar 2023",
          "Apr 2023",
          "May 2023",
          "Jun 2023",
          "Jul 2023",
          "Aug 2023",
          "Sep 2023",
          "Oct 2023",
          "Nov 2023",
          "Dec 2023"
         ],
         "y": [
          null,
          null,
          null,
          null,
          null,
          null,
          null,
          null,
          null,
          null,
          null,
          null,
          null,
          null,
          null,
          null,
          null,
          null,
          null,
          null,
          null,
          null,
          null,
          null,
          null,
          null,
          null,
          null,
          null,
          null,
          null,
          null,
          null,
          null,
          null,
          null,
          null,
          null,
          null,
          null,
          null,
          null,
          null,
          null,
          null,
          null,
          null,
          null,
          null,
          null,
          null,
          null,
          null,
          null,
          null,
          null,
          null,
          null,
          null,
          null,
          null,
          null,
          null,
          null,
          null,
          null,
          null,
          null,
          null,
          null,
          null,
          null,
          null,
          null,
          null,
          null,
          null,
          null,
          null,
          null,
          null,
          null,
          null,
          null,
          null,
          null,
          null,
          null,
          null,
          null,
          null,
          null,
          null,
          null,
          null,
          null,
          null,
          null,
          null,
          null,
          null,
          null,
          null,
          null,
          null,
          null,
          null,
          24.129825536311344,
          26.051841119783557,
          26.75019192791498,
          26.01582361329968,
          24.31243834439207,
          22.7126767523432,
          20.983615711506545,
          20.89560268001209,
          20.344862136177376,
          20.400351993145776,
          20.90098762455901,
          22.39262322886278,
          24.45064158757057,
          26.0224743576114
         ]
        },
        {
         "line": {
          "color": "green",
          "dash": "dot",
          "width": 4
         },
         "name": "Industrial Prediction",
         "type": "scatter",
         "x": [
          "Jan 2014",
          "Feb 2014",
          "Mar 2014",
          "Apr 2014",
          "May 2014",
          "Jun 2014",
          "Jul 2014",
          "Aug 2014",
          "Sep 2014",
          "Oct 2014",
          "Nov 2014",
          "Dec 2014",
          "Jan 2015",
          "Feb 2015",
          "Mar 2015",
          "Apr 2015",
          "May 2015",
          "Jun 2015",
          "Jul 2015",
          "Aug 2015",
          "Sep 2015",
          "Oct 2015",
          "Nov 2015",
          "Dec 2015",
          "Jan 2016",
          "Feb 2016",
          "Mar 2016",
          "Apr 2016",
          "May 2016",
          "Jun 2016",
          "Jul 2016",
          "Aug 2016",
          "Sep 2016",
          "Oct 2016",
          "Nov 2016",
          "Dec 2016",
          "Jan 2017",
          "Feb 2017",
          "Mar 2017",
          "Apr 2017",
          "May 2017",
          "Jun 2017",
          "Jul 2017",
          "Aug 2017",
          "Sep 2017",
          "Oct 2017",
          "Nov 2017",
          "Dec 2017",
          "Jan 2018",
          "Feb 2018",
          "Mar 2018",
          "Apr 2018",
          "May 2018",
          "Jun 2018",
          "Jul 2018",
          "Aug 2018",
          "Sep 2018",
          "Oct 2018",
          "Nov 2018",
          "Dec 2018",
          "Jan 2019",
          "Feb 2019",
          "Mar 2019",
          "Apr 2019",
          "May 2019",
          "Jun 2019",
          "Jul 2019",
          "Aug 2019",
          "Sep 2019",
          "Oct 2019",
          "Nov 2019",
          "Dec 2019",
          "Jan 2020",
          "Feb 2020",
          "Mar 2020",
          "Apr 2020",
          "May 2020",
          "Jun 2020",
          "Jul 2020",
          "Aug 2020",
          "Sep 2020",
          "Oct 2020",
          "Nov 2020",
          "Dec 2020",
          "Jan 2021",
          "Feb 2021",
          "Mar 2021",
          "Apr 2021",
          "May 2021",
          "Jun 2021",
          "Jul 2021",
          "Aug 2021",
          "Sep 2021",
          "Oct 2021",
          "Nov 2021",
          "Dec 2021",
          "Jan 2022",
          "Feb 2022",
          "Mar 2022",
          "Apr 2022",
          "May 2022",
          "Jun 2022",
          "Jul 2022",
          "Aug 2022",
          "Sep 2022",
          "Oct 2022",
          "Nov 2022",
          "Nov 2022",
          "Dec 2022",
          "Jan 2023",
          "Feb 2023",
          "Mar 2023",
          "Apr 2023",
          "May 2023",
          "Jun 2023",
          "Jul 2023",
          "Aug 2023",
          "Sep 2023",
          "Oct 2023",
          "Nov 2023",
          "Dec 2023"
         ],
         "y": [
          null,
          null,
          null,
          null,
          null,
          null,
          null,
          null,
          null,
          null,
          null,
          null,
          null,
          null,
          null,
          null,
          null,
          null,
          null,
          null,
          null,
          null,
          null,
          null,
          null,
          null,
          null,
          null,
          null,
          null,
          null,
          null,
          null,
          null,
          null,
          null,
          null,
          null,
          null,
          null,
          null,
          null,
          null,
          null,
          null,
          null,
          null,
          null,
          null,
          null,
          null,
          null,
          null,
          null,
          null,
          null,
          null,
          null,
          null,
          null,
          null,
          null,
          null,
          null,
          null,
          null,
          null,
          null,
          null,
          null,
          null,
          null,
          null,
          null,
          null,
          null,
          null,
          null,
          null,
          null,
          null,
          null,
          null,
          null,
          null,
          null,
          null,
          null,
          null,
          null,
          null,
          null,
          null,
          null,
          null,
          null,
          null,
          null,
          null,
          null,
          null,
          null,
          null,
          null,
          null,
          null,
          null,
          29.72775911928025,
          30.480435103500024,
          31.097523980007413,
          29.59248896811602,
          24.91406485938766,
          23.506498000038313,
          28.749530061284922,
          36.41233158016593,
          42.624220717154586,
          41.14252840573889,
          34.991507529787874,
          30.749663372146017,
          29.507892291281365,
          30.917338424309072
         ]
        }
       ],
       "layout": {
        "autosize": true,
        "template": {
         "data": {
          "bar": [
           {
            "error_x": {
             "color": "#2a3f5f"
            },
            "error_y": {
             "color": "#2a3f5f"
            },
            "marker": {
             "line": {
              "color": "#E5ECF6",
              "width": 0.5
             },
             "pattern": {
              "fillmode": "overlay",
              "size": 10,
              "solidity": 0.2
             }
            },
            "type": "bar"
           }
          ],
          "barpolar": [
           {
            "marker": {
             "line": {
              "color": "#E5ECF6",
              "width": 0.5
             },
             "pattern": {
              "fillmode": "overlay",
              "size": 10,
              "solidity": 0.2
             }
            },
            "type": "barpolar"
           }
          ],
          "carpet": [
           {
            "aaxis": {
             "endlinecolor": "#2a3f5f",
             "gridcolor": "white",
             "linecolor": "white",
             "minorgridcolor": "white",
             "startlinecolor": "#2a3f5f"
            },
            "baxis": {
             "endlinecolor": "#2a3f5f",
             "gridcolor": "white",
             "linecolor": "white",
             "minorgridcolor": "white",
             "startlinecolor": "#2a3f5f"
            },
            "type": "carpet"
           }
          ],
          "choropleth": [
           {
            "colorbar": {
             "outlinewidth": 0,
             "ticks": ""
            },
            "type": "choropleth"
           }
          ],
          "contour": [
           {
            "colorbar": {
             "outlinewidth": 0,
             "ticks": ""
            },
            "colorscale": [
             [
              0,
              "#0d0887"
             ],
             [
              0.1111111111111111,
              "#46039f"
             ],
             [
              0.2222222222222222,
              "#7201a8"
             ],
             [
              0.3333333333333333,
              "#9c179e"
             ],
             [
              0.4444444444444444,
              "#bd3786"
             ],
             [
              0.5555555555555556,
              "#d8576b"
             ],
             [
              0.6666666666666666,
              "#ed7953"
             ],
             [
              0.7777777777777778,
              "#fb9f3a"
             ],
             [
              0.8888888888888888,
              "#fdca26"
             ],
             [
              1,
              "#f0f921"
             ]
            ],
            "type": "contour"
           }
          ],
          "contourcarpet": [
           {
            "colorbar": {
             "outlinewidth": 0,
             "ticks": ""
            },
            "type": "contourcarpet"
           }
          ],
          "heatmap": [
           {
            "colorbar": {
             "outlinewidth": 0,
             "ticks": ""
            },
            "colorscale": [
             [
              0,
              "#0d0887"
             ],
             [
              0.1111111111111111,
              "#46039f"
             ],
             [
              0.2222222222222222,
              "#7201a8"
             ],
             [
              0.3333333333333333,
              "#9c179e"
             ],
             [
              0.4444444444444444,
              "#bd3786"
             ],
             [
              0.5555555555555556,
              "#d8576b"
             ],
             [
              0.6666666666666666,
              "#ed7953"
             ],
             [
              0.7777777777777778,
              "#fb9f3a"
             ],
             [
              0.8888888888888888,
              "#fdca26"
             ],
             [
              1,
              "#f0f921"
             ]
            ],
            "type": "heatmap"
           }
          ],
          "heatmapgl": [
           {
            "colorbar": {
             "outlinewidth": 0,
             "ticks": ""
            },
            "colorscale": [
             [
              0,
              "#0d0887"
             ],
             [
              0.1111111111111111,
              "#46039f"
             ],
             [
              0.2222222222222222,
              "#7201a8"
             ],
             [
              0.3333333333333333,
              "#9c179e"
             ],
             [
              0.4444444444444444,
              "#bd3786"
             ],
             [
              0.5555555555555556,
              "#d8576b"
             ],
             [
              0.6666666666666666,
              "#ed7953"
             ],
             [
              0.7777777777777778,
              "#fb9f3a"
             ],
             [
              0.8888888888888888,
              "#fdca26"
             ],
             [
              1,
              "#f0f921"
             ]
            ],
            "type": "heatmapgl"
           }
          ],
          "histogram": [
           {
            "marker": {
             "pattern": {
              "fillmode": "overlay",
              "size": 10,
              "solidity": 0.2
             }
            },
            "type": "histogram"
           }
          ],
          "histogram2d": [
           {
            "colorbar": {
             "outlinewidth": 0,
             "ticks": ""
            },
            "colorscale": [
             [
              0,
              "#0d0887"
             ],
             [
              0.1111111111111111,
              "#46039f"
             ],
             [
              0.2222222222222222,
              "#7201a8"
             ],
             [
              0.3333333333333333,
              "#9c179e"
             ],
             [
              0.4444444444444444,
              "#bd3786"
             ],
             [
              0.5555555555555556,
              "#d8576b"
             ],
             [
              0.6666666666666666,
              "#ed7953"
             ],
             [
              0.7777777777777778,
              "#fb9f3a"
             ],
             [
              0.8888888888888888,
              "#fdca26"
             ],
             [
              1,
              "#f0f921"
             ]
            ],
            "type": "histogram2d"
           }
          ],
          "histogram2dcontour": [
           {
            "colorbar": {
             "outlinewidth": 0,
             "ticks": ""
            },
            "colorscale": [
             [
              0,
              "#0d0887"
             ],
             [
              0.1111111111111111,
              "#46039f"
             ],
             [
              0.2222222222222222,
              "#7201a8"
             ],
             [
              0.3333333333333333,
              "#9c179e"
             ],
             [
              0.4444444444444444,
              "#bd3786"
             ],
             [
              0.5555555555555556,
              "#d8576b"
             ],
             [
              0.6666666666666666,
              "#ed7953"
             ],
             [
              0.7777777777777778,
              "#fb9f3a"
             ],
             [
              0.8888888888888888,
              "#fdca26"
             ],
             [
              1,
              "#f0f921"
             ]
            ],
            "type": "histogram2dcontour"
           }
          ],
          "mesh3d": [
           {
            "colorbar": {
             "outlinewidth": 0,
             "ticks": ""
            },
            "type": "mesh3d"
           }
          ],
          "parcoords": [
           {
            "line": {
             "colorbar": {
              "outlinewidth": 0,
              "ticks": ""
             }
            },
            "type": "parcoords"
           }
          ],
          "pie": [
           {
            "automargin": true,
            "type": "pie"
           }
          ],
          "scatter": [
           {
            "marker": {
             "colorbar": {
              "outlinewidth": 0,
              "ticks": ""
             }
            },
            "type": "scatter"
           }
          ],
          "scatter3d": [
           {
            "line": {
             "colorbar": {
              "outlinewidth": 0,
              "ticks": ""
             }
            },
            "marker": {
             "colorbar": {
              "outlinewidth": 0,
              "ticks": ""
             }
            },
            "type": "scatter3d"
           }
          ],
          "scattercarpet": [
           {
            "marker": {
             "colorbar": {
              "outlinewidth": 0,
              "ticks": ""
             }
            },
            "type": "scattercarpet"
           }
          ],
          "scattergeo": [
           {
            "marker": {
             "colorbar": {
              "outlinewidth": 0,
              "ticks": ""
             }
            },
            "type": "scattergeo"
           }
          ],
          "scattergl": [
           {
            "marker": {
             "colorbar": {
              "outlinewidth": 0,
              "ticks": ""
             }
            },
            "type": "scattergl"
           }
          ],
          "scattermapbox": [
           {
            "marker": {
             "colorbar": {
              "outlinewidth": 0,
              "ticks": ""
             }
            },
            "type": "scattermapbox"
           }
          ],
          "scatterpolar": [
           {
            "marker": {
             "colorbar": {
              "outlinewidth": 0,
              "ticks": ""
             }
            },
            "type": "scatterpolar"
           }
          ],
          "scatterpolargl": [
           {
            "marker": {
             "colorbar": {
              "outlinewidth": 0,
              "ticks": ""
             }
            },
            "type": "scatterpolargl"
           }
          ],
          "scatterternary": [
           {
            "marker": {
             "colorbar": {
              "outlinewidth": 0,
              "ticks": ""
             }
            },
            "type": "scatterternary"
           }
          ],
          "surface": [
           {
            "colorbar": {
             "outlinewidth": 0,
             "ticks": ""
            },
            "colorscale": [
             [
              0,
              "#0d0887"
             ],
             [
              0.1111111111111111,
              "#46039f"
             ],
             [
              0.2222222222222222,
              "#7201a8"
             ],
             [
              0.3333333333333333,
              "#9c179e"
             ],
             [
              0.4444444444444444,
              "#bd3786"
             ],
             [
              0.5555555555555556,
              "#d8576b"
             ],
             [
              0.6666666666666666,
              "#ed7953"
             ],
             [
              0.7777777777777778,
              "#fb9f3a"
             ],
             [
              0.8888888888888888,
              "#fdca26"
             ],
             [
              1,
              "#f0f921"
             ]
            ],
            "type": "surface"
           }
          ],
          "table": [
           {
            "cells": {
             "fill": {
              "color": "#EBF0F8"
             },
             "line": {
              "color": "white"
             }
            },
            "header": {
             "fill": {
              "color": "#C8D4E3"
             },
             "line": {
              "color": "white"
             }
            },
            "type": "table"
           }
          ]
         },
         "layout": {
          "annotationdefaults": {
           "arrowcolor": "#2a3f5f",
           "arrowhead": 0,
           "arrowwidth": 1
          },
          "autotypenumbers": "strict",
          "coloraxis": {
           "colorbar": {
            "outlinewidth": 0,
            "ticks": ""
           }
          },
          "colorscale": {
           "diverging": [
            [
             0,
             "#8e0152"
            ],
            [
             0.1,
             "#c51b7d"
            ],
            [
             0.2,
             "#de77ae"
            ],
            [
             0.3,
             "#f1b6da"
            ],
            [
             0.4,
             "#fde0ef"
            ],
            [
             0.5,
             "#f7f7f7"
            ],
            [
             0.6,
             "#e6f5d0"
            ],
            [
             0.7,
             "#b8e186"
            ],
            [
             0.8,
             "#7fbc41"
            ],
            [
             0.9,
             "#4d9221"
            ],
            [
             1,
             "#276419"
            ]
           ],
           "sequential": [
            [
             0,
             "#0d0887"
            ],
            [
             0.1111111111111111,
             "#46039f"
            ],
            [
             0.2222222222222222,
             "#7201a8"
            ],
            [
             0.3333333333333333,
             "#9c179e"
            ],
            [
             0.4444444444444444,
             "#bd3786"
            ],
            [
             0.5555555555555556,
             "#d8576b"
            ],
            [
             0.6666666666666666,
             "#ed7953"
            ],
            [
             0.7777777777777778,
             "#fb9f3a"
            ],
            [
             0.8888888888888888,
             "#fdca26"
            ],
            [
             1,
             "#f0f921"
            ]
           ],
           "sequentialminus": [
            [
             0,
             "#0d0887"
            ],
            [
             0.1111111111111111,
             "#46039f"
            ],
            [
             0.2222222222222222,
             "#7201a8"
            ],
            [
             0.3333333333333333,
             "#9c179e"
            ],
            [
             0.4444444444444444,
             "#bd3786"
            ],
            [
             0.5555555555555556,
             "#d8576b"
            ],
            [
             0.6666666666666666,
             "#ed7953"
            ],
            [
             0.7777777777777778,
             "#fb9f3a"
            ],
            [
             0.8888888888888888,
             "#fdca26"
            ],
            [
             1,
             "#f0f921"
            ]
           ]
          },
          "colorway": [
           "#636efa",
           "#EF553B",
           "#00cc96",
           "#ab63fa",
           "#FFA15A",
           "#19d3f3",
           "#FF6692",
           "#B6E880",
           "#FF97FF",
           "#FECB52"
          ],
          "font": {
           "color": "#2a3f5f"
          },
          "geo": {
           "bgcolor": "white",
           "lakecolor": "white",
           "landcolor": "#E5ECF6",
           "showlakes": true,
           "showland": true,
           "subunitcolor": "white"
          },
          "hoverlabel": {
           "align": "left"
          },
          "hovermode": "closest",
          "mapbox": {
           "style": "light"
          },
          "paper_bgcolor": "white",
          "plot_bgcolor": "#E5ECF6",
          "polar": {
           "angularaxis": {
            "gridcolor": "white",
            "linecolor": "white",
            "ticks": ""
           },
           "bgcolor": "#E5ECF6",
           "radialaxis": {
            "gridcolor": "white",
            "linecolor": "white",
            "ticks": ""
           }
          },
          "scene": {
           "xaxis": {
            "backgroundcolor": "#E5ECF6",
            "gridcolor": "white",
            "gridwidth": 2,
            "linecolor": "white",
            "showbackground": true,
            "ticks": "",
            "zerolinecolor": "white"
           },
           "yaxis": {
            "backgroundcolor": "#E5ECF6",
            "gridcolor": "white",
            "gridwidth": 2,
            "linecolor": "white",
            "showbackground": true,
            "ticks": "",
            "zerolinecolor": "white"
           },
           "zaxis": {
            "backgroundcolor": "#E5ECF6",
            "gridcolor": "white",
            "gridwidth": 2,
            "linecolor": "white",
            "showbackground": true,
            "ticks": "",
            "zerolinecolor": "white"
           }
          },
          "shapedefaults": {
           "line": {
            "color": "#2a3f5f"
           }
          },
          "ternary": {
           "aaxis": {
            "gridcolor": "white",
            "linecolor": "white",
            "ticks": ""
           },
           "baxis": {
            "gridcolor": "white",
            "linecolor": "white",
            "ticks": ""
           },
           "bgcolor": "#E5ECF6",
           "caxis": {
            "gridcolor": "white",
            "linecolor": "white",
            "ticks": ""
           }
          },
          "title": {
           "x": 0.05
          },
          "xaxis": {
           "automargin": true,
           "gridcolor": "white",
           "linecolor": "white",
           "ticks": "",
           "title": {
            "standoff": 15
           },
           "zerolinecolor": "white",
           "zerolinewidth": 2
          },
          "yaxis": {
           "automargin": true,
           "gridcolor": "white",
           "linecolor": "white",
           "ticks": "",
           "title": {
            "standoff": 15
           },
           "zerolinecolor": "white",
           "zerolinewidth": 2
          }
         }
        },
        "title": {
         "text": "U.S. natural gas consumption by sector (Jan 2014-Sep 2022)"
        },
        "xaxis": {
         "autorange": true,
         "range": [
          0,
          119
         ],
         "title": {
          "text": "period"
         },
         "type": "category"
        },
        "yaxis": {
         "autorange": true,
         "range": [
          0.13295546828326987,
          47.5403707648272
         ],
         "title": {
          "text": "Total Consumption (Bcf/d)"
         },
         "type": "linear"
        }
       }
      },
      "image/png": "[encoded data removed]",
      "text/html": [
       "<div>                            <div id=\"a6bfe520-d0cc-46ff-a5f9-875c5d0c984c\" class=\"plotly-graph-div\" style=\"height:525px; width:100%;\"></div>            <script type=\"text/javascript\">                require([\"plotly\"], function(Plotly) {                    window.PLOTLYENV=window.PLOTLYENV || {};                                    if (document.getElementById(\"a6bfe520-d0cc-46ff-a5f9-875c5d0c984c\")) {                    Plotly.newPlot(                        \"a6bfe520-d0cc-46ff-a5f9-875c5d0c984c\",                        [{\"line\":{\"color\":\"firebrick\",\"width\":4},\"name\":\"Residential\",\"x\":[\"Jan 2014\",\"Feb 2014\",\"Mar 2014\",\"Apr 2014\",\"May 2014\",\"Jun 2014\",\"Jul 2014\",\"Aug 2014\",\"Sep 2014\",\"Oct 2014\",\"Nov 2014\",\"Dec 2014\",\"Jan 2015\",\"Feb 2015\",\"Mar 2015\",\"Apr 2015\",\"May 2015\",\"Jun 2015\",\"Jul 2015\",\"Aug 2015\",\"Sep 2015\",\"Oct 2015\",\"Nov 2015\",\"Dec 2015\",\"Jan 2016\",\"Feb 2016\",\"Mar 2016\",\"Apr 2016\",\"May 2016\",\"Jun 2016\",\"Jul 2016\",\"Aug 2016\",\"Sep 2016\",\"Oct 2016\",\"Nov 2016\",\"Dec 2016\",\"Jan 2017\",\"Feb 2017\",\"Mar 2017\",\"Apr 2017\",\"May 2017\",\"Jun 2017\",\"Jul 2017\",\"Aug 2017\",\"Sep 2017\",\"Oct 2017\",\"Nov 2017\",\"Dec 2017\",\"Jan 2018\",\"Feb 2018\",\"Mar 2018\",\"Apr 2018\",\"May 2018\",\"Jun 2018\",\"Jul 2018\",\"Aug 2018\",\"Sep 2018\",\"Oct 2018\",\"Nov 2018\",\"Dec 2018\",\"Jan 2019\",\"Feb 2019\",\"Mar 2019\",\"Apr 2019\",\"May 2019\",\"Jun 2019\",\"Jul 2019\",\"Aug 2019\",\"Sep 2019\",\"Oct 2019\",\"Nov 2019\",\"Dec 2019\",\"Jan 2020\",\"Feb 2020\",\"Mar 2020\",\"Apr 2020\",\"May 2020\",\"Jun 2020\",\"Jul 2020\",\"Aug 2020\",\"Sep 2020\",\"Oct 2020\",\"Nov 2020\",\"Dec 2020\",\"Jan 2021\",\"Feb 2021\",\"Mar 2021\",\"Apr 2021\",\"May 2021\",\"Jun 2021\",\"Jul 2021\",\"Aug 2021\",\"Sep 2021\",\"Oct 2021\",\"Nov 2021\",\"Dec 2021\",\"Jan 2022\",\"Feb 2022\",\"Mar 2022\",\"Apr 2022\",\"May 2022\",\"Jun 2022\",\"Jul 2022\",\"Aug 2022\",\"Sep 2022\",\"Oct 2022\",\"Nov 2022\",\"Nov 2022\",\"Dec 2022\",\"Jan 2023\",\"Feb 2023\",\"Mar 2023\",\"Apr 2023\",\"May 2023\",\"Jun 2023\",\"Jul 2023\",\"Aug 2023\",\"Sep 2023\",\"Oct 2023\",\"Nov 2023\",\"Dec 2023\"],\"y\":[33.46,30.46,22.58,11.87,6.56,4.19,3.64,3.39,4.06,6.84,18.12,23.13,30.26,32.23,20.42,10.64,5.73,4.14,3.49,3.32,3.62,6.5,13.55,19.06,28.35,23.8,14.68,10.94,6.26,4.09,3.43,3.24,3.66,6.04,12.66,25.62,26.8,20.69,18.71,9.3,6.43,4.14,3.47,3.35,3.82,6.62,15.59,26.51,31.65,24.64,21.27,14.69,5.45,3.97,3.42,3.22,3.74,8.24,19.97,24.7,30.77,28.9,22.21,10.95,6.85,4.31,3.61,3.29,3.66,7.47,19.64,24.28,26.61,25.42,16.99,12.6,7.63,4.54,3.81,3.51,4.22,7.8,14.66,25.79,28.87,31.28,18.52,11.41,7.03,4.32,3.64,3.43,3.95,6.21,16.07,21.59,31.02,28.44,19.05,13.0,6.48,4.13,3.59,3.32,4.03,7.94,16.45,null,null,null,null,null,null,null,null,null,null,null,null,null,null],\"type\":\"scatter\"},{\"line\":{\"color\":\"royalblue\",\"width\":4},\"name\":\"Commercial\",\"x\":[\"Jan 2014\",\"Feb 2014\",\"Mar 2014\",\"Apr 2014\",\"May 2014\",\"Jun 2014\",\"Jul 2014\",\"Aug 2014\",\"Sep 2014\",\"Oct 2014\",\"Nov 2014\",\"Dec 2014\",\"Jan 2015\",\"Feb 2015\",\"Mar 2015\",\"Apr 2015\",\"May 2015\",\"Jun 2015\",\"Jul 2015\",\"Aug 2015\",\"Sep 2015\",\"Oct 2015\",\"Nov 2015\",\"Dec 2015\",\"Jan 2016\",\"Feb 2016\",\"Mar 2016\",\"Apr 2016\",\"May 2016\",\"Jun 2016\",\"Jul 2016\",\"Aug 2016\",\"Sep 2016\",\"Oct 2016\",\"Nov 2016\",\"Dec 2016\",\"Jan 2017\",\"Feb 2017\",\"Mar 2017\",\"Apr 2017\",\"May 2017\",\"Jun 2017\",\"Jul 2017\",\"Aug 2017\",\"Sep 2017\",\"Oct 2017\",\"Nov 2017\",\"Dec 2017\",\"Jan 2018\",\"Feb 2018\",\"Mar 2018\",\"Apr 2018\",\"May 2018\",\"Jun 2018\",\"Jul 2018\",\"Aug 2018\",\"Sep 2018\",\"Oct 2018\",\"Nov 2018\",\"Dec 2018\",\"Jan 2019\",\"Feb 2019\",\"Mar 2019\",\"Apr 2019\",\"May 2019\",\"Jun 2019\",\"Jul 2019\",\"Aug 2019\",\"Sep 2019\",\"Oct 2019\",\"Nov 2019\",\"Dec 2019\",\"Jan 2020\",\"Feb 2020\",\"Mar 2020\",\"Apr 2020\",\"May 2020\",\"Jun 2020\",\"Jul 2020\",\"Aug 2020\",\"Sep 2020\",\"Oct 2020\",\"Nov 2020\",\"Dec 2020\",\"Jan 2021\",\"Feb 2021\",\"Mar 2021\",\"Apr 2021\",\"May 2021\",\"Jun 2021\",\"Jul 2021\",\"Aug 2021\",\"Sep 2021\",\"Oct 2021\",\"Nov 2021\",\"Dec 2021\",\"Jan 2022\",\"Feb 2022\",\"Mar 2022\",\"Apr 2022\",\"May 2022\",\"Jun 2022\",\"Jul 2022\",\"Aug 2022\",\"Sep 2022\",\"Oct 2022\",\"Nov 2022\",\"Nov 2022\",\"Dec 2022\",\"Jan 2023\",\"Feb 2023\",\"Mar 2023\",\"Apr 2023\",\"May 2023\",\"Jun 2023\",\"Jul 2023\",\"Aug 2023\",\"Sep 2023\",\"Oct 2023\",\"Nov 2023\",\"Dec 2023\"],\"y\":[18.44,17.5,13.58,8.37,5.7,4.71,4.44,4.42,4.96,6.53,12.05,13.77,17.18,18.48,12.44,7.74,5.18,4.51,4.31,4.36,4.6,6.29,9.44,11.37,16.23,14.26,9.63,7.77,5.53,4.61,4.34,4.53,4.73,6.18,9.35,14.93,15.46,12.84,11.99,7.07,5.76,4.6,4.31,4.43,4.83,6.47,10.75,15.7,17.87,15.15,13.48,10.06,5.28,4.75,4.44,4.61,4.89,7.66,12.88,14.81,17.88,16.87,13.68,8.22,5.96,4.82,4.58,4.54,4.77,6.97,12.96,14.74,15.83,15.43,10.94,7.94,5.25,4.39,4.16,4.23,4.79,6.73,9.78,14.64,16.05,17.76,11.55,8.25,5.9,4.79,4.62,4.57,5.01,6.34,11.26,12.96,17.85,16.64,12.46,9.31,5.91,4.89,4.7,4.58,5.33,7.61,11.8,null,null,null,null,null,null,null,null,null,null,null,null,null,null],\"type\":\"scatter\"},{\"line\":{\"color\":\"green\",\"width\":4},\"name\":\"Electric Power\",\"x\":[\"Jan 2014\",\"Feb 2014\",\"Mar 2014\",\"Apr 2014\",\"May 2014\",\"Jun 2014\",\"Jul 2014\",\"Aug 2014\",\"Sep 2014\",\"Oct 2014\",\"Nov 2014\",\"Dec 2014\",\"Jan 2015\",\"Feb 2015\",\"Mar 2015\",\"Apr 2015\",\"May 2015\",\"Jun 2015\",\"Jul 2015\",\"Aug 2015\",\"Sep 2015\",\"Oct 2015\",\"Nov 2015\",\"Dec 2015\",\"Jan 2016\",\"Feb 2016\",\"Mar 2016\",\"Apr 2016\",\"May 2016\",\"Jun 2016\",\"Jul 2016\",\"Aug 2016\",\"Sep 2016\",\"Oct 2016\",\"Nov 2016\",\"Dec 2016\",\"Jan 2017\",\"Feb 2017\",\"Mar 2017\",\"Apr 2017\",\"May 2017\",\"Jun 2017\",\"Jul 2017\",\"Aug 2017\",\"Sep 2017\",\"Oct 2017\",\"Nov 2017\",\"Dec 2017\",\"Jan 2018\",\"Feb 2018\",\"Mar 2018\",\"Apr 2018\",\"May 2018\",\"Jun 2018\",\"Jul 2018\",\"Aug 2018\",\"Sep 2018\",\"Oct 2018\",\"Nov 2018\",\"Dec 2018\",\"Jan 2019\",\"Feb 2019\",\"Mar 2019\",\"Apr 2019\",\"May 2019\",\"Jun 2019\",\"Jul 2019\",\"Aug 2019\",\"Sep 2019\",\"Oct 2019\",\"Nov 2019\",\"Dec 2019\",\"Jan 2020\",\"Feb 2020\",\"Mar 2020\",\"Apr 2020\",\"May 2020\",\"Jun 2020\",\"Jul 2020\",\"Aug 2020\",\"Sep 2020\",\"Oct 2020\",\"Nov 2020\",\"Dec 2020\",\"Jan 2021\",\"Feb 2021\",\"Mar 2021\",\"Apr 2021\",\"May 2021\",\"Jun 2021\",\"Jul 2021\",\"Aug 2021\",\"Sep 2021\",\"Oct 2021\",\"Nov 2021\",\"Dec 2021\",\"Jan 2022\",\"Feb 2022\",\"Mar 2022\",\"Apr 2022\",\"May 2022\",\"Jun 2022\",\"Jul 2022\",\"Aug 2022\",\"Sep 2022\",\"Oct 2022\",\"Nov 2022\",\"Nov 2022\",\"Dec 2022\",\"Jan 2023\",\"Feb 2023\",\"Mar 2023\",\"Apr 2023\",\"May 2023\",\"Jun 2023\",\"Jul 2023\",\"Aug 2023\",\"Sep 2023\",\"Oct 2023\",\"Nov 2023\",\"Dec 2023\"],\"y\":[21.38,19.68,18.09,18.3,20.87,24.03,27.2,28.96,25.7,22.69,20.01,20.61,22.95,23.16,22.86,22.14,23.69,29.55,33.73,33.12,29.83,25.53,24.41,24.79,24.97,23.79,24.02,23.96,25.95,32.34,36.77,37.14,30.51,23.99,22.07,21.64,21.3,20.33,21.7,20.91,22.58,28.35,34.89,32.97,28.62,24.91,22.21,25.32,25.37,24.66,24.44,23.5,27.39,31.79,39.52,38.29,34.37,28.64,25.44,24.6,27.4,27.87,26.27,24.69,27.01,33.05,40.51,41.26,36.05,30.24,27.31,29.43,30.61,30.79,28.73,25.93,27.0,34.7,43.41,41.16,33.86,30.59,25.74,28.54,28.14,28.11,24.26,25.19,26.33,36.16,39.84,40.66,33.17,30.44,29.4,28.58,31.58,29.14,25.27,25.2,29.93,38.27,45.17,44.5,37.17,31.04,28.17,null,null,null,null,null,null,null,null,null,null,null,null,null,null],\"type\":\"scatter\"},{\"line\":{\"color\":\"black\",\"width\":4},\"name\":\"Industrial\",\"x\":[\"Jan 2014\",\"Feb 2014\",\"Mar 2014\",\"Apr 2014\",\"May 2014\",\"Jun 2014\",\"Jul 2014\",\"Aug 2014\",\"Sep 2014\",\"Oct 2014\",\"Nov 2014\",\"Dec 2014\",\"Jan 2015\",\"Feb 2015\",\"Mar 2015\",\"Apr 2015\",\"May 2015\",\"Jun 2015\",\"Jul 2015\",\"Aug 2015\",\"Sep 2015\",\"Oct 2015\",\"Nov 2015\",\"Dec 2015\",\"Jan 2016\",\"Feb 2016\",\"Mar 2016\",\"Apr 2016\",\"May 2016\",\"Jun 2016\",\"Jul 2016\",\"Aug 2016\",\"Sep 2016\",\"Oct 2016\",\"Nov 2016\",\"Dec 2016\",\"Jan 2017\",\"Feb 2017\",\"Mar 2017\",\"Apr 2017\",\"May 2017\",\"Jun 2017\",\"Jul 2017\",\"Aug 2017\",\"Sep 2017\",\"Oct 2017\",\"Nov 2017\",\"Dec 2017\",\"Jan 2018\",\"Feb 2018\",\"Mar 2018\",\"Apr 2018\",\"May 2018\",\"Jun 2018\",\"Jul 2018\",\"Aug 2018\",\"Sep 2018\",\"Oct 2018\",\"Nov 2018\",\"Dec 2018\",\"Jan 2019\",\"Feb 2019\",\"Mar 2019\",\"Apr 2019\",\"May 2019\",\"Jun 2019\",\"Jul 2019\",\"Aug 2019\",\"Sep 2019\",\"Oct 2019\",\"Nov 2019\",\"Dec 2019\",\"Jan 2020\",\"Feb 2020\",\"Mar 2020\",\"Apr 2020\",\"May 2020\",\"Jun 2020\",\"Jul 2020\",\"Aug 2020\",\"Sep 2020\",\"Oct 2020\",\"Nov 2020\",\"Dec 2020\",\"Jan 2021\",\"Feb 2021\",\"Mar 2021\",\"Apr 2021\",\"May 2021\",\"Jun 2021\",\"Jul 2021\",\"Aug 2021\",\"Sep 2021\",\"Oct 2021\",\"Nov 2021\",\"Dec 2021\",\"Jan 2022\",\"Feb 2022\",\"Mar 2022\",\"Apr 2022\",\"May 2022\",\"Jun 2022\",\"Jul 2022\",\"Aug 2022\",\"Sep 2022\",\"Oct 2022\",\"Nov 2022\",\"Nov 2022\",\"Dec 2022\",\"Jan 2023\",\"Feb 2023\",\"Mar 2023\",\"Apr 2023\",\"May 2023\",\"Jun 2023\",\"Jul 2023\",\"Aug 2023\",\"Sep 2023\",\"Oct 2023\",\"Nov 2023\",\"Dec 2023\"],\"y\":[23.3,23.54,21.96,20.93,19.55,19.53,19.52,19.63,19.7,19.67,21.99,22.26,23.17,23.56,21.34,20.26,19.45,19.16,19.09,19.35,19.3,19.77,21.28,21.76,23.26,22.85,21.38,20.67,19.76,19.68,19.89,20.24,20.13,20.09,21.8,23.68,23.68,23.21,22.46,21.05,20.27,20.48,20.11,20.55,20.5,21.18,23.18,24.54,25.23,24.97,23.8,23.24,21.64,21.64,21.54,21.55,21.9,22.08,24.53,24.77,25.83,25.67,24.2,22.5,21.77,21.14,20.95,21.69,21.46,22.05,24.49,25.13,25.17,24.98,22.92,21.12,19.9,20.03,20.45,20.94,21.47,22.15,23.4,25.11,25.5,24.49,22.67,22.53,21.22,21.28,21.48,21.57,21.29,21.85,24.2,24.74,26.37,25.82,24.32,23.39,21.96,21.81,21.64,21.68,21.53,22.26,23.97,null,null,null,null,null,null,null,null,null,null,null,null,null,null],\"type\":\"scatter\"},{\"line\":{\"color\":\"firebrick\",\"dash\":\"dot\",\"width\":4},\"name\":\"Residential Prediction\",\"x\":[\"Jan 2014\",\"Feb 2014\",\"Mar 2014\",\"Apr 2014\",\"May 2014\",\"Jun 2014\",\"Jul 2014\",\"Aug 2014\",\"Sep 2014\",\"Oct 2014\",\"Nov 2014\",\"Dec 2014\",\"Jan 2015\",\"Feb 2015\",\"Mar 2015\",\"Apr 2015\",\"May 2015\",\"Jun 2015\",\"Jul 2015\",\"Aug 2015\",\"Sep 2015\",\"Oct 2015\",\"Nov 2015\",\"Dec 2015\",\"Jan 2016\",\"Feb 2016\",\"Mar 2016\",\"Apr 2016\",\"May 2016\",\"Jun 2016\",\"Jul 2016\",\"Aug 2016\",\"Sep 2016\",\"Oct 2016\",\"Nov 2016\",\"Dec 2016\",\"Jan 2017\",\"Feb 2017\",\"Mar 2017\",\"Apr 2017\",\"May 2017\",\"Jun 2017\",\"Jul 2017\",\"Aug 2017\",\"Sep 2017\",\"Oct 2017\",\"Nov 2017\",\"Dec 2017\",\"Jan 2018\",\"Feb 2018\",\"Mar 2018\",\"Apr 2018\",\"May 2018\",\"Jun 2018\",\"Jul 2018\",\"Aug 2018\",\"Sep 2018\",\"Oct 2018\",\"Nov 2018\",\"Dec 2018\",\"Jan 2019\",\"Feb 2019\",\"Mar 2019\",\"Apr 2019\",\"May 2019\",\"Jun 2019\",\"Jul 2019\",\"Aug 2019\",\"Sep 2019\",\"Oct 2019\",\"Nov 2019\",\"Dec 2019\",\"Jan 2020\",\"Feb 2020\",\"Mar 2020\",\"Apr 2020\",\"May 2020\",\"Jun 2020\",\"Jul 2020\",\"Aug 2020\",\"Sep 2020\",\"Oct 2020\",\"Nov 2020\",\"Dec 2020\",\"Jan 2021\",\"Feb 2021\",\"Mar 2021\",\"Apr 2021\",\"May 2021\",\"Jun 2021\",\"Jul 2021\",\"Aug 2021\",\"Sep 2021\",\"Oct 2021\",\"Nov 2021\",\"Dec 2021\",\"Jan 2022\",\"Feb 2022\",\"Mar 2022\",\"Apr 2022\",\"May 2022\",\"Jun 2022\",\"Jul 2022\",\"Aug 2022\",\"Sep 2022\",\"Oct 2022\",\"Nov 2022\",\"Nov 2022\",\"Dec 2022\",\"Jan 2023\",\"Feb 2023\",\"Mar 2023\",\"Apr 2023\",\"May 2023\",\"Jun 2023\",\"Jul 2023\",\"Aug 2023\",\"Sep 2023\",\"Oct 2023\",\"Nov 2023\",\"Dec 2023\"],\"y\":[null,null,null,null,null,null,null,null,null,null,null,null,null,null,null,null,null,null,null,null,null,null,null,null,null,null,null,null,null,null,null,null,null,null,null,null,null,null,null,null,null,null,null,null,null,null,null,null,null,null,null,null,null,null,null,null,null,null,null,null,null,null,null,null,null,null,null,null,null,null,null,null,null,null,null,null,null,null,null,null,null,null,null,null,null,null,null,null,null,null,null,null,null,null,null,null,null,null,null,null,null,null,null,null,null,null,null,14.231207360533176,24.60732621325181,29.761715623937533,27.131297116431863,19.83384014901616,12.382551007274902,5.856840137625115,3.7136033019252945,3.6112876562129927,2.503326233110467,3.0515933761953593,6.698138990971624,14.92917604056743,24.855700738874887],\"type\":\"scatter\"},{\"line\":{\"color\":\"royalblue\",\"dash\":\"dot\",\"width\":4},\"name\":\"Commercial Prediction\",\"x\":[\"Jan 2014\",\"Feb 2014\",\"Mar 2014\",\"Apr 2014\",\"May 2014\",\"Jun 2014\",\"Jul 2014\",\"Aug 2014\",\"Sep 2014\",\"Oct 2014\",\"Nov 2014\",\"Dec 2014\",\"Jan 2015\",\"Feb 2015\",\"Mar 2015\",\"Apr 2015\",\"May 2015\",\"Jun 2015\",\"Jul 2015\",\"Aug 2015\",\"Sep 2015\",\"Oct 2015\",\"Nov 2015\",\"Dec 2015\",\"Jan 2016\",\"Feb 2016\",\"Mar 2016\",\"Apr 2016\",\"May 2016\",\"Jun 2016\",\"Jul 2016\",\"Aug 2016\",\"Sep 2016\",\"Oct 2016\",\"Nov 2016\",\"Dec 2016\",\"Jan 2017\",\"Feb 2017\",\"Mar 2017\",\"Apr 2017\",\"May 2017\",\"Jun 2017\",\"Jul 2017\",\"Aug 2017\",\"Sep 2017\",\"Oct 2017\",\"Nov 2017\",\"Dec 2017\",\"Jan 2018\",\"Feb 2018\",\"Mar 2018\",\"Apr 2018\",\"May 2018\",\"Jun 2018\",\"Jul 2018\",\"Aug 2018\",\"Sep 2018\",\"Oct 2018\",\"Nov 2018\",\"Dec 2018\",\"Jan 2019\",\"Feb 2019\",\"Mar 2019\",\"Apr 2019\",\"May 2019\",\"Jun 2019\",\"Jul 2019\",\"Aug 2019\",\"Sep 2019\",\"Oct 2019\",\"Nov 2019\",\"Dec 2019\",\"Jan 2020\",\"Feb 2020\",\"Mar 2020\",\"Apr 2020\",\"May 2020\",\"Jun 2020\",\"Jul 2020\",\"Aug 2020\",\"Sep 2020\",\"Oct 2020\",\"Nov 2020\",\"Dec 2020\",\"Jan 2021\",\"Feb 2021\",\"Mar 2021\",\"Apr 2021\",\"May 2021\",\"Jun 2021\",\"Jul 2021\",\"Aug 2021\",\"Sep 2021\",\"Oct 2021\",\"Nov 2021\",\"Dec 2021\",\"Jan 2022\",\"Feb 2022\",\"Mar 2022\",\"Apr 2022\",\"May 2022\",\"Jun 2022\",\"Jul 2022\",\"Aug 2022\",\"Sep 2022\",\"Oct 2022\",\"Nov 2022\",\"Nov 2022\",\"Dec 2022\",\"Jan 2023\",\"Feb 2023\",\"Mar 2023\",\"Apr 2023\",\"May 2023\",\"Jun 2023\",\"Jul 2023\",\"Aug 2023\",\"Sep 2023\",\"Oct 2023\",\"Nov 2023\",\"Dec 2023\"],\"y\":[null,null,null,null,null,null,null,null,null,null,null,null,null,null,null,null,null,null,null,null,null,null,null,null,null,null,null,null,null,null,null,null,null,null,null,null,null,null,null,null,null,null,null,null,null,null,null,null,null,null,null,null,null,null,null,null,null,null,null,null,null,null,null,null,null,null,null,null,null,null,null,null,null,null,null,null,null,null,null,null,null,null,null,null,null,null,null,null,null,null,null,null,null,null,null,null,null,null,null,null,null,null,null,null,null,null,null,9.833376135544242,14.762479630169093,17.177332934952744,16.205379919191532,12.539458750069167,9.211806629155994,5.780972806449789,4.7647254889802015,4.465119647084612,4.1307405212777635,4.661154403958136,6.338357483876354,10.031410659462605,14.564093992767386],\"type\":\"scatter\"},{\"line\":{\"color\":\"black\",\"dash\":\"dot\",\"width\":4},\"name\":\"Electric Power Prediction\",\"x\":[\"Jan 2014\",\"Feb 2014\",\"Mar 2014\",\"Apr 2014\",\"May 2014\",\"Jun 2014\",\"Jul 2014\",\"Aug 2014\",\"Sep 2014\",\"Oct 2014\",\"Nov 2014\",\"Dec 2014\",\"Jan 2015\",\"Feb 2015\",\"Mar 2015\",\"Apr 2015\",\"May 2015\",\"Jun 2015\",\"Jul 2015\",\"Aug 2015\",\"Sep 2015\",\"Oct 2015\",\"Nov 2015\",\"Dec 2015\",\"Jan 2016\",\"Feb 2016\",\"Mar 2016\",\"Apr 2016\",\"May 2016\",\"Jun 2016\",\"Jul 2016\",\"Aug 2016\",\"Sep 2016\",\"Oct 2016\",\"Nov 2016\",\"Dec 2016\",\"Jan 2017\",\"Feb 2017\",\"Mar 2017\",\"Apr 2017\",\"May 2017\",\"Jun 2017\",\"Jul 2017\",\"Aug 2017\",\"Sep 2017\",\"Oct 2017\",\"Nov 2017\",\"Dec 2017\",\"Jan 2018\",\"Feb 2018\",\"Mar 2018\",\"Apr 2018\",\"May 2018\",\"Jun 2018\",\"Jul 2018\",\"Aug 2018\",\"Sep 2018\",\"Oct 2018\",\"Nov 2018\",\"Dec 2018\",\"Jan 2019\",\"Feb 2019\",\"Mar 2019\",\"Apr 2019\",\"May 2019\",\"Jun 2019\",\"Jul 2019\",\"Aug 2019\",\"Sep 2019\",\"Oct 2019\",\"Nov 2019\",\"Dec 2019\",\"Jan 2020\",\"Feb 2020\",\"Mar 2020\",\"Apr 2020\",\"May 2020\",\"Jun 2020\",\"Jul 2020\",\"Aug 2020\",\"Sep 2020\",\"Oct 2020\",\"Nov 2020\",\"Dec 2020\",\"Jan 2021\",\"Feb 2021\",\"Mar 2021\",\"Apr 2021\",\"May 2021\",\"Jun 2021\",\"Jul 2021\",\"Aug 2021\",\"Sep 2021\",\"Oct 2021\",\"Nov 2021\",\"Dec 2021\",\"Jan 2022\",\"Feb 2022\",\"Mar 2022\",\"Apr 2022\",\"May 2022\",\"Jun 2022\",\"Jul 2022\",\"Aug 2022\",\"Sep 2022\",\"Oct 2022\",\"Nov 2022\",\"Nov 2022\",\"Dec 2022\",\"Jan 2023\",\"Feb 2023\",\"Mar 2023\",\"Apr 2023\",\"May 2023\",\"Jun 2023\",\"Jul 2023\",\"Aug 2023\",\"Sep 2023\",\"Oct 2023\",\"Nov 2023\",\"Dec 2023\"],\"y\":[null,null,null,null,null,null,null,null,null,null,null,null,null,null,null,null,null,null,null,null,null,null,null,null,null,null,null,null,null,null,null,null,null,null,null,null,null,null,null,null,null,null,null,null,null,null,null,null,null,null,null,null,null,null,null,null,null,null,null,null,null,null,null,null,null,null,null,null,null,null,null,null,null,null,null,null,null,null,null,null,null,null,null,null,null,null,null,null,null,null,null,null,null,null,null,null,null,null,null,null,null,null,null,null,null,null,null,24.129825536311344,26.051841119783557,26.75019192791498,26.01582361329968,24.31243834439207,22.7126767523432,20.983615711506545,20.89560268001209,20.344862136177376,20.400351993145776,20.90098762455901,22.39262322886278,24.45064158757057,26.0224743576114],\"type\":\"scatter\"},{\"line\":{\"color\":\"green\",\"dash\":\"dot\",\"width\":4},\"name\":\"Industrial Prediction\",\"x\":[\"Jan 2014\",\"Feb 2014\",\"Mar 2014\",\"Apr 2014\",\"May 2014\",\"Jun 2014\",\"Jul 2014\",\"Aug 2014\",\"Sep 2014\",\"Oct 2014\",\"Nov 2014\",\"Dec 2014\",\"Jan 2015\",\"Feb 2015\",\"Mar 2015\",\"Apr 2015\",\"May 2015\",\"Jun 2015\",\"Jul 2015\",\"Aug 2015\",\"Sep 2015\",\"Oct 2015\",\"Nov 2015\",\"Dec 2015\",\"Jan 2016\",\"Feb 2016\",\"Mar 2016\",\"Apr 2016\",\"May 2016\",\"Jun 2016\",\"Jul 2016\",\"Aug 2016\",\"Sep 2016\",\"Oct 2016\",\"Nov 2016\",\"Dec 2016\",\"Jan 2017\",\"Feb 2017\",\"Mar 2017\",\"Apr 2017\",\"May 2017\",\"Jun 2017\",\"Jul 2017\",\"Aug 2017\",\"Sep 2017\",\"Oct 2017\",\"Nov 2017\",\"Dec 2017\",\"Jan 2018\",\"Feb 2018\",\"Mar 2018\",\"Apr 2018\",\"May 2018\",\"Jun 2018\",\"Jul 2018\",\"Aug 2018\",\"Sep 2018\",\"Oct 2018\",\"Nov 2018\",\"Dec 2018\",\"Jan 2019\",\"Feb 2019\",\"Mar 2019\",\"Apr 2019\",\"May 2019\",\"Jun 2019\",\"Jul 2019\",\"Aug 2019\",\"Sep 2019\",\"Oct 2019\",\"Nov 2019\",\"Dec 2019\",\"Jan 2020\",\"Feb 2020\",\"Mar 2020\",\"Apr 2020\",\"May 2020\",\"Jun 2020\",\"Jul 2020\",\"Aug 2020\",\"Sep 2020\",\"Oct 2020\",\"Nov 2020\",\"Dec 2020\",\"Jan 2021\",\"Feb 2021\",\"Mar 2021\",\"Apr 2021\",\"May 2021\",\"Jun 2021\",\"Jul 2021\",\"Aug 2021\",\"Sep 2021\",\"Oct 2021\",\"Nov 2021\",\"Dec 2021\",\"Jan 2022\",\"Feb 2022\",\"Mar 2022\",\"Apr 2022\",\"May 2022\",\"Jun 2022\",\"Jul 2022\",\"Aug 2022\",\"Sep 2022\",\"Oct 2022\",\"Nov 2022\",\"Nov 2022\",\"Dec 2022\",\"Jan 2023\",\"Feb 2023\",\"Mar 2023\",\"Apr 2023\",\"May 2023\",\"Jun 2023\",\"Jul 2023\",\"Aug 2023\",\"Sep 2023\",\"Oct 2023\",\"Nov 2023\",\"Dec 2023\"],\"y\":[null,null,null,null,null,null,null,null,null,null,null,null,null,null,null,null,null,null,null,null,null,null,null,null,null,null,null,null,null,null,null,null,null,null,null,null,null,null,null,null,null,null,null,null,null,null,null,null,null,null,null,null,null,null,null,null,null,null,null,null,null,null,null,null,null,null,null,null,null,null,null,null,null,null,null,null,null,null,null,null,null,null,null,null,null,null,null,null,null,null,null,null,null,null,null,null,null,null,null,null,null,null,null,null,null,null,null,29.72775911928025,30.480435103500024,31.097523980007413,29.59248896811602,24.91406485938766,23.506498000038313,28.749530061284922,36.41233158016593,42.624220717154586,41.14252840573889,34.991507529787874,30.749663372146017,29.507892291281365,30.917338424309072],\"type\":\"scatter\"}],                        {\"template\":{\"data\":{\"bar\":[{\"error_x\":{\"color\":\"#2a3f5f\"},\"error_y\":{\"color\":\"#2a3f5f\"},\"marker\":{\"line\":{\"color\":\"#E5ECF6\",\"width\":0.5},\"pattern\":{\"fillmode\":\"overlay\",\"size\":10,\"solidity\":0.2}},\"type\":\"bar\"}],\"barpolar\":[{\"marker\":{\"line\":{\"color\":\"#E5ECF6\",\"width\":0.5},\"pattern\":{\"fillmode\":\"overlay\",\"size\":10,\"solidity\":0.2}},\"type\":\"barpolar\"}],\"carpet\":[{\"aaxis\":{\"endlinecolor\":\"#2a3f5f\",\"gridcolor\":\"white\",\"linecolor\":\"white\",\"minorgridcolor\":\"white\",\"startlinecolor\":\"#2a3f5f\"},\"baxis\":{\"endlinecolor\":\"#2a3f5f\",\"gridcolor\":\"white\",\"linecolor\":\"white\",\"minorgridcolor\":\"white\",\"startlinecolor\":\"#2a3f5f\"},\"type\":\"carpet\"}],\"choropleth\":[{\"colorbar\":{\"outlinewidth\":0,\"ticks\":\"\"},\"type\":\"choropleth\"}],\"contour\":[{\"colorbar\":{\"outlinewidth\":0,\"ticks\":\"\"},\"colorscale\":[[0.0,\"#0d0887\"],[0.1111111111111111,\"#46039f\"],[0.2222222222222222,\"#7201a8\"],[0.3333333333333333,\"#9c179e\"],[0.4444444444444444,\"#bd3786\"],[0.5555555555555556,\"#d8576b\"],[0.6666666666666666,\"#ed7953\"],[0.7777777777777778,\"#fb9f3a\"],[0.8888888888888888,\"#fdca26\"],[1.0,\"#f0f921\"]],\"type\":\"contour\"}],\"contourcarpet\":[{\"colorbar\":{\"outlinewidth\":0,\"ticks\":\"\"},\"type\":\"contourcarpet\"}],\"heatmap\":[{\"colorbar\":{\"outlinewidth\":0,\"ticks\":\"\"},\"colorscale\":[[0.0,\"#0d0887\"],[0.1111111111111111,\"#46039f\"],[0.2222222222222222,\"#7201a8\"],[0.3333333333333333,\"#9c179e\"],[0.4444444444444444,\"#bd3786\"],[0.5555555555555556,\"#d8576b\"],[0.6666666666666666,\"#ed7953\"],[0.7777777777777778,\"#fb9f3a\"],[0.8888888888888888,\"#fdca26\"],[1.0,\"#f0f921\"]],\"type\":\"heatmap\"}],\"heatmapgl\":[{\"colorbar\":{\"outlinewidth\":0,\"ticks\":\"\"},\"colorscale\":[[0.0,\"#0d0887\"],[0.1111111111111111,\"#46039f\"],[0.2222222222222222,\"#7201a8\"],[0.3333333333333333,\"#9c179e\"],[0.4444444444444444,\"#bd3786\"],[0.5555555555555556,\"#d8576b\"],[0.6666666666666666,\"#ed7953\"],[0.7777777777777778,\"#fb9f3a\"],[0.8888888888888888,\"#fdca26\"],[1.0,\"#f0f921\"]],\"type\":\"heatmapgl\"}],\"histogram\":[{\"marker\":{\"pattern\":{\"fillmode\":\"overlay\",\"size\":10,\"solidity\":0.2}},\"type\":\"histogram\"}],\"histogram2d\":[{\"colorbar\":{\"outlinewidth\":0,\"ticks\":\"\"},\"colorscale\":[[0.0,\"#0d0887\"],[0.1111111111111111,\"#46039f\"],[0.2222222222222222,\"#7201a8\"],[0.3333333333333333,\"#9c179e\"],[0.4444444444444444,\"#bd3786\"],[0.5555555555555556,\"#d8576b\"],[0.6666666666666666,\"#ed7953\"],[0.7777777777777778,\"#fb9f3a\"],[0.8888888888888888,\"#fdca26\"],[1.0,\"#f0f921\"]],\"type\":\"histogram2d\"}],\"histogram2dcontour\":[{\"colorbar\":{\"outlinewidth\":0,\"ticks\":\"\"},\"colorscale\":[[0.0,\"#0d0887\"],[0.1111111111111111,\"#46039f\"],[0.2222222222222222,\"#7201a8\"],[0.3333333333333333,\"#9c179e\"],[0.4444444444444444,\"#bd3786\"],[0.5555555555555556,\"#d8576b\"],[0.6666666666666666,\"#ed7953\"],[0.7777777777777778,\"#fb9f3a\"],[0.8888888888888888,\"#fdca26\"],[1.0,\"#f0f921\"]],\"type\":\"histogram2dcontour\"}],\"mesh3d\":[{\"colorbar\":{\"outlinewidth\":0,\"ticks\":\"\"},\"type\":\"mesh3d\"}],\"parcoords\":[{\"line\":{\"colorbar\":{\"outlinewidth\":0,\"ticks\":\"\"}},\"type\":\"parcoords\"}],\"pie\":[{\"automargin\":true,\"type\":\"pie\"}],\"scatter\":[{\"marker\":{\"colorbar\":{\"outlinewidth\":0,\"ticks\":\"\"}},\"type\":\"scatter\"}],\"scatter3d\":[{\"line\":{\"colorbar\":{\"outlinewidth\":0,\"ticks\":\"\"}},\"marker\":{\"colorbar\":{\"outlinewidth\":0,\"ticks\":\"\"}},\"type\":\"scatter3d\"}],\"scattercarpet\":[{\"marker\":{\"colorbar\":{\"outlinewidth\":0,\"ticks\":\"\"}},\"type\":\"scattercarpet\"}],\"scattergeo\":[{\"marker\":{\"colorbar\":{\"outlinewidth\":0,\"ticks\":\"\"}},\"type\":\"scattergeo\"}],\"scattergl\":[{\"marker\":{\"colorbar\":{\"outlinewidth\":0,\"ticks\":\"\"}},\"type\":\"scattergl\"}],\"scattermapbox\":[{\"marker\":{\"colorbar\":{\"outlinewidth\":0,\"ticks\":\"\"}},\"type\":\"scattermapbox\"}],\"scatterpolar\":[{\"marker\":{\"colorbar\":{\"outlinewidth\":0,\"ticks\":\"\"}},\"type\":\"scatterpolar\"}],\"scatterpolargl\":[{\"marker\":{\"colorbar\":{\"outlinewidth\":0,\"ticks\":\"\"}},\"type\":\"scatterpolargl\"}],\"scatterternary\":[{\"marker\":{\"colorbar\":{\"outlinewidth\":0,\"ticks\":\"\"}},\"type\":\"scatterternary\"}],\"surface\":[{\"colorbar\":{\"outlinewidth\":0,\"ticks\":\"\"},\"colorscale\":[[0.0,\"#0d0887\"],[0.1111111111111111,\"#46039f\"],[0.2222222222222222,\"#7201a8\"],[0.3333333333333333,\"#9c179e\"],[0.4444444444444444,\"#bd3786\"],[0.5555555555555556,\"#d8576b\"],[0.6666666666666666,\"#ed7953\"],[0.7777777777777778,\"#fb9f3a\"],[0.8888888888888888,\"#fdca26\"],[1.0,\"#f0f921\"]],\"type\":\"surface\"}],\"table\":[{\"cells\":{\"fill\":{\"color\":\"#EBF0F8\"},\"line\":{\"color\":\"white\"}},\"header\":{\"fill\":{\"color\":\"#C8D4E3\"},\"line\":{\"color\":\"white\"}},\"type\":\"table\"}]},\"layout\":{\"annotationdefaults\":{\"arrowcolor\":\"#2a3f5f\",\"arrowhead\":0,\"arrowwidth\":1},\"autotypenumbers\":\"strict\",\"coloraxis\":{\"colorbar\":{\"outlinewidth\":0,\"ticks\":\"\"}},\"colorscale\":{\"diverging\":[[0,\"#8e0152\"],[0.1,\"#c51b7d\"],[0.2,\"#de77ae\"],[0.3,\"#f1b6da\"],[0.4,\"#fde0ef\"],[0.5,\"#f7f7f7\"],[0.6,\"#e6f5d0\"],[0.7,\"#b8e186\"],[0.8,\"#7fbc41\"],[0.9,\"#4d9221\"],[1,\"#276419\"]],\"sequential\":[[0.0,\"#0d0887\"],[0.1111111111111111,\"#46039f\"],[0.2222222222222222,\"#7201a8\"],[0.3333333333333333,\"#9c179e\"],[0.4444444444444444,\"#bd3786\"],[0.5555555555555556,\"#d8576b\"],[0.6666666666666666,\"#ed7953\"],[0.7777777777777778,\"#fb9f3a\"],[0.8888888888888888,\"#fdca26\"],[1.0,\"#f0f921\"]],\"sequentialminus\":[[0.0,\"#0d0887\"],[0.1111111111111111,\"#46039f\"],[0.2222222222222222,\"#7201a8\"],[0.3333333333333333,\"#9c179e\"],[0.4444444444444444,\"#bd3786\"],[0.5555555555555556,\"#d8576b\"],[0.6666666666666666,\"#ed7953\"],[0.7777777777777778,\"#fb9f3a\"],[0.8888888888888888,\"#fdca26\"],[1.0,\"#f0f921\"]]},\"colorway\":[\"#636efa\",\"#EF553B\",\"#00cc96\",\"#ab63fa\",\"#FFA15A\",\"#19d3f3\",\"#FF6692\",\"#B6E880\",\"#FF97FF\",\"#FECB52\"],\"font\":{\"color\":\"#2a3f5f\"},\"geo\":{\"bgcolor\":\"white\",\"lakecolor\":\"white\",\"landcolor\":\"#E5ECF6\",\"showlakes\":true,\"showland\":true,\"subunitcolor\":\"white\"},\"hoverlabel\":{\"align\":\"left\"},\"hovermode\":\"closest\",\"mapbox\":{\"style\":\"light\"},\"paper_bgcolor\":\"white\",\"plot_bgcolor\":\"#E5ECF6\",\"polar\":{\"angularaxis\":{\"gridcolor\":\"white\",\"linecolor\":\"white\",\"ticks\":\"\"},\"bgcolor\":\"#E5ECF6\",\"radialaxis\":{\"gridcolor\":\"white\",\"linecolor\":\"white\",\"ticks\":\"\"}},\"scene\":{\"xaxis\":{\"backgroundcolor\":\"#E5ECF6\",\"gridcolor\":\"white\",\"gridwidth\":2,\"linecolor\":\"white\",\"showbackground\":true,\"ticks\":\"\",\"zerolinecolor\":\"white\"},\"yaxis\":{\"backgroundcolor\":\"#E5ECF6\",\"gridcolor\":\"white\",\"gridwidth\":2,\"linecolor\":\"white\",\"showbackground\":true,\"ticks\":\"\",\"zerolinecolor\":\"white\"},\"zaxis\":{\"backgroundcolor\":\"#E5ECF6\",\"gridcolor\":\"white\",\"gridwidth\":2,\"linecolor\":\"white\",\"showbackground\":true,\"ticks\":\"\",\"zerolinecolor\":\"white\"}},\"shapedefaults\":{\"line\":{\"color\":\"#2a3f5f\"}},\"ternary\":{\"aaxis\":{\"gridcolor\":\"white\",\"linecolor\":\"white\",\"ticks\":\"\"},\"baxis\":{\"gridcolor\":\"white\",\"linecolor\":\"white\",\"ticks\":\"\"},\"bgcolor\":\"#E5ECF6\",\"caxis\":{\"gridcolor\":\"white\",\"linecolor\":\"white\",\"ticks\":\"\"}},\"title\":{\"x\":0.05},\"xaxis\":{\"automargin\":true,\"gridcolor\":\"white\",\"linecolor\":\"white\",\"ticks\":\"\",\"title\":{\"standoff\":15},\"zerolinecolor\":\"white\",\"zerolinewidth\":2},\"yaxis\":{\"automargin\":true,\"gridcolor\":\"white\",\"linecolor\":\"white\",\"ticks\":\"\",\"title\":{\"standoff\":15},\"zerolinecolor\":\"white\",\"zerolinewidth\":2}}},\"title\":{\"text\":\"U.S. natural gas consumption by sector (Jan 2014-Sep 2022)\"},\"xaxis\":{\"title\":{\"text\":\"period\"}},\"yaxis\":{\"title\":{\"text\":\"Total Consumption (Bcf/d)\"}}},                        {\"responsive\": true}                    ).then(function(){\n",
       "                            \n",
       "var gd = document.getElementById('a6bfe520-d0cc-46ff-a5f9-875c5d0c984c');\n",
       "var x = new MutationObserver(function (mutations, observer) {{\n",
       "        var display = window.getComputedStyle(gd).display;\n",
       "        if (!display || display === 'none') {{\n",
       "            console.log([gd, 'removed!']);\n",
       "            Plotly.purge(gd);\n",
       "            observer.disconnect();\n",
       "        }}\n",
       "}});\n",
       "\n",
       "// Listen for the removal of the full notebook cells\n",
       "var notebookContainer = gd.closest('#notebook-container');\n",
       "if (notebookContainer) {{\n",
       "    x.observe(notebookContainer, {childList: true});\n",
       "}}\n",
       "\n",
       "// Listen for the clearing of the current output cell\n",
       "var outputEl = gd.closest('.output');\n",
       "if (outputEl) {{\n",
       "    x.observe(outputEl, {childList: true});\n",
       "}}\n",
       "\n",
       "                        })                };                });            </script>        </div>"
      ]
     },
     "metadata": {},
     "output_type": "display_data"
    }
   ],
   "source": [
    "fig = go.Figure()\n",
    "fig.add_trace(go.Scatter(x=df3[\"Sector\"], y=df3[\"Residential\"], name=\"Residential\",\n",
    "                         line=dict(color='firebrick', width=4)))\n",
    "fig.add_trace(go.Scatter(x=df3[\"Sector\"], y=df3[\"Commercial\"], name=\"Commercial\",\n",
    "                         line=dict(color='royalblue', width=4)))\n",
    "fig.add_trace(go.Scatter(x=df3[\"Sector\"], y=df3[\"Electric Power\"], name=\"Electric Power\",\n",
    "                         line=dict(color='green', width=4)))\n",
    "fig.add_trace(go.Scatter(x=df3[\"Sector\"], y=df3[\"Industrial\"], name=\"Industrial\",\n",
    "                         line=dict(color='black', width=4)))\n",
    "fig.add_trace(go.Scatter(x=df3[\"Sector\"], y=df3[\"res_pred\"],name=\"Residential Prediction\",\n",
    "                         line=dict(color='firebrick', width=4, dash='dot')))\n",
    "fig.add_trace(go.Scatter(x=df3[\"Sector\"], y=df3[\"com_pred\"], name=\"Commercial Prediction\",\n",
    "                         line=dict(color='royalblue', width=4, dash='dot')))\n",
    "fig.add_trace(go.Scatter(x=df3[\"Sector\"], y=df3[\"ind_pred\"], name=\"Electric Power Prediction\",\n",
    "                         line=dict(color='black', width=4, dash='dot')))\n",
    "fig.add_trace(go.Scatter(x=df3[\"Sector\"], y=df3[\"ele_pred\"],name=\"Industrial Prediction\",\n",
    "                         line=dict(color='green', width=4, dash='dot')))\n",
    "fig.update_layout(title='U.S. natural gas consumption by sector (Jan 2014-Sep 2022)',\n",
    "                   xaxis_title='period',\n",
    "                   yaxis_title=\"Total Consumption (Bcf/d)\")\n",
    "fig.show()"
   ]
  }
 ],
 "metadata": {
  "kernelspec": {
   "display_name": "Python 3 (ipykernel)",
   "language": "python",
   "name": "python3"
  },
  "language_info": {
   "codemirror_mode": {
    "name": "ipython",
    "version": 3
   },
   "file_extension": ".py",
   "mimetype": "text/x-python",
   "name": "python",
   "nbconvert_exporter": "python",
   "pygments_lexer": "ipython3",
   "version": "3.9.12"
  }
 },
 "nbformat": 4,
 "nbformat_minor": 5
}
