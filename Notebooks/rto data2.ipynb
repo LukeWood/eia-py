{
 "cells": [
  {
   "cell_type": "markdown",
   "id": "08b6e8a0",
   "metadata": {},
   "source": [
    " - 'rto - daily-interchange-data'\n",
    " - 'rto - daily-region-sub-ba-data'"
   ]
  },
  {
   "cell_type": "code",
   "execution_count": 1,
   "id": "cad30d0a",
   "metadata": {},
   "outputs": [],
   "source": [
    "import eia\n",
    "import pandas as pd\n",
    "import matplotlib.pyplot as plt"
   ]
  },
  {
   "cell_type": "markdown",
   "id": "d75bb74e",
   "metadata": {},
   "source": [
    "## Daily interchange data (10/17/22 - 11/16/22)"
   ]
  },
  {
   "cell_type": "code",
   "execution_count": 2,
   "id": "6a8f68d9",
   "metadata": {},
   "outputs": [],
   "source": [
    "df = pd.read_csv('./data/data/rto/csv/daily-interchange-data_data.csv')"
   ]
  },
  {
   "cell_type": "code",
   "execution_count": 3,
   "id": "3c885c7a",
   "metadata": {},
   "outputs": [
    {
     "data": {
      "text/html": [
       "<div>\n",
       "<style scoped>\n",
       "    .dataframe tbody tr th:only-of-type {\n",
       "        vertical-align: middle;\n",
       "    }\n",
       "\n",
       "    .dataframe tbody tr th {\n",
       "        vertical-align: top;\n",
       "    }\n",
       "\n",
       "    .dataframe thead th {\n",
       "        text-align: right;\n",
       "    }\n",
       "</style>\n",
       "<table border=\"1\" class=\"dataframe\">\n",
       "  <thead>\n",
       "    <tr style=\"text-align: right;\">\n",
       "      <th></th>\n",
       "      <th>Unnamed: 0</th>\n",
       "      <th>period</th>\n",
       "      <th>fromba</th>\n",
       "      <th>fromba-name</th>\n",
       "      <th>toba</th>\n",
       "      <th>toba-name</th>\n",
       "      <th>timezone</th>\n",
       "      <th>value</th>\n",
       "      <th>value-units</th>\n",
       "    </tr>\n",
       "  </thead>\n",
       "  <tbody>\n",
       "    <tr>\n",
       "      <th>0</th>\n",
       "      <td>0.0</td>\n",
       "      <td>2022-11-16</td>\n",
       "      <td>BPAT</td>\n",
       "      <td>Bonneville Power Administration</td>\n",
       "      <td>CISO</td>\n",
       "      <td>California Independent System Operator</td>\n",
       "      <td>Arizona</td>\n",
       "      <td>9729</td>\n",
       "      <td>megawatthours</td>\n",
       "    </tr>\n",
       "    <tr>\n",
       "      <th>1</th>\n",
       "      <td>1.0</td>\n",
       "      <td>2022-11-16</td>\n",
       "      <td>CISO</td>\n",
       "      <td>California Independent System Operator</td>\n",
       "      <td>WALC</td>\n",
       "      <td>Western Area Power Administration - Desert Sou...</td>\n",
       "      <td>Mountain</td>\n",
       "      <td>-2226</td>\n",
       "      <td>megawatthours</td>\n",
       "    </tr>\n",
       "    <tr>\n",
       "      <th>2</th>\n",
       "      <td>2.0</td>\n",
       "      <td>2022-11-16</td>\n",
       "      <td>NY</td>\n",
       "      <td>New York</td>\n",
       "      <td>NE</td>\n",
       "      <td>New England</td>\n",
       "      <td>Eastern</td>\n",
       "      <td>-6362</td>\n",
       "      <td>megawatthours</td>\n",
       "    </tr>\n",
       "    <tr>\n",
       "      <th>3</th>\n",
       "      <td>3.0</td>\n",
       "      <td>2022-11-16</td>\n",
       "      <td>PNM</td>\n",
       "      <td>Public Service Company of New Mexico</td>\n",
       "      <td>EPE</td>\n",
       "      <td>El Paso Electric Company</td>\n",
       "      <td>Arizona</td>\n",
       "      <td>7607</td>\n",
       "      <td>megawatthours</td>\n",
       "    </tr>\n",
       "    <tr>\n",
       "      <th>4</th>\n",
       "      <td>4.0</td>\n",
       "      <td>2022-11-16</td>\n",
       "      <td>SWPP</td>\n",
       "      <td>Southwest Power Pool</td>\n",
       "      <td>SPA</td>\n",
       "      <td>Southwestern Power Administration</td>\n",
       "      <td>Eastern</td>\n",
       "      <td>-769</td>\n",
       "      <td>megawatthours</td>\n",
       "    </tr>\n",
       "    <tr>\n",
       "      <th>5</th>\n",
       "      <td>5.0</td>\n",
       "      <td>2022-11-16</td>\n",
       "      <td>BPAT</td>\n",
       "      <td>Bonneville Power Administration</td>\n",
       "      <td>BCHA</td>\n",
       "      <td>British Columbia Hydro and Power Authority</td>\n",
       "      <td>Eastern</td>\n",
       "      <td>-4707</td>\n",
       "      <td>megawatthours</td>\n",
       "    </tr>\n",
       "    <tr>\n",
       "      <th>6</th>\n",
       "      <td>6.0</td>\n",
       "      <td>2022-11-16</td>\n",
       "      <td>PACW</td>\n",
       "      <td>PacifiCorp West</td>\n",
       "      <td>AVA</td>\n",
       "      <td>Avista Corporation</td>\n",
       "      <td>Mountain</td>\n",
       "      <td>-1183</td>\n",
       "      <td>megawatthours</td>\n",
       "    </tr>\n",
       "    <tr>\n",
       "      <th>7</th>\n",
       "      <td>7.0</td>\n",
       "      <td>2022-11-16</td>\n",
       "      <td>CAL</td>\n",
       "      <td>California</td>\n",
       "      <td>NW</td>\n",
       "      <td>Northwest</td>\n",
       "      <td>Eastern</td>\n",
       "      <td>-18515</td>\n",
       "      <td>megawatthours</td>\n",
       "    </tr>\n",
       "    <tr>\n",
       "      <th>8</th>\n",
       "      <td>8.0</td>\n",
       "      <td>2022-11-16</td>\n",
       "      <td>PACW</td>\n",
       "      <td>PacifiCorp West</td>\n",
       "      <td>PGE</td>\n",
       "      <td>Portland General Electric Company</td>\n",
       "      <td>Pacific</td>\n",
       "      <td>-2934</td>\n",
       "      <td>megawatthours</td>\n",
       "    </tr>\n",
       "    <tr>\n",
       "      <th>9</th>\n",
       "      <td>9.0</td>\n",
       "      <td>2022-11-16</td>\n",
       "      <td>WALC</td>\n",
       "      <td>Western Area Power Administration - Desert Sou...</td>\n",
       "      <td>GRIF</td>\n",
       "      <td>Griffith Energy, LLC</td>\n",
       "      <td>Central</td>\n",
       "      <td>-10733</td>\n",
       "      <td>megawatthours</td>\n",
       "    </tr>\n",
       "  </tbody>\n",
       "</table>\n",
       "</div>"
      ],
      "text/plain": [
       "   Unnamed: 0      period fromba  \\\n",
       "0         0.0  2022-11-16   BPAT   \n",
       "1         1.0  2022-11-16   CISO   \n",
       "2         2.0  2022-11-16     NY   \n",
       "3         3.0  2022-11-16    PNM   \n",
       "4         4.0  2022-11-16   SWPP   \n",
       "5         5.0  2022-11-16   BPAT   \n",
       "6         6.0  2022-11-16   PACW   \n",
       "7         7.0  2022-11-16    CAL   \n",
       "8         8.0  2022-11-16   PACW   \n",
       "9         9.0  2022-11-16   WALC   \n",
       "\n",
       "                                         fromba-name  toba  \\\n",
       "0                    Bonneville Power Administration  CISO   \n",
       "1             California Independent System Operator  WALC   \n",
       "2                                           New York    NE   \n",
       "3               Public Service Company of New Mexico   EPE   \n",
       "4                               Southwest Power Pool   SPA   \n",
       "5                    Bonneville Power Administration  BCHA   \n",
       "6                                    PacifiCorp West   AVA   \n",
       "7                                         California    NW   \n",
       "8                                    PacifiCorp West   PGE   \n",
       "9  Western Area Power Administration - Desert Sou...  GRIF   \n",
       "\n",
       "                                           toba-name  timezone   value  \\\n",
       "0             California Independent System Operator   Arizona    9729   \n",
       "1  Western Area Power Administration - Desert Sou...  Mountain   -2226   \n",
       "2                                        New England   Eastern   -6362   \n",
       "3                           El Paso Electric Company   Arizona    7607   \n",
       "4                  Southwestern Power Administration   Eastern    -769   \n",
       "5         British Columbia Hydro and Power Authority   Eastern   -4707   \n",
       "6                                 Avista Corporation  Mountain   -1183   \n",
       "7                                          Northwest   Eastern  -18515   \n",
       "8                  Portland General Electric Company   Pacific   -2934   \n",
       "9                               Griffith Energy, LLC   Central  -10733   \n",
       "\n",
       "     value-units  \n",
       "0  megawatthours  \n",
       "1  megawatthours  \n",
       "2  megawatthours  \n",
       "3  megawatthours  \n",
       "4  megawatthours  \n",
       "5  megawatthours  \n",
       "6  megawatthours  \n",
       "7  megawatthours  \n",
       "8  megawatthours  \n",
       "9  megawatthours  "
      ]
     },
     "execution_count": 3,
     "metadata": {},
     "output_type": "execute_result"
    }
   ],
   "source": [
    "df.head(10)"
   ]
  },
  {
   "cell_type": "code",
   "execution_count": 4,
   "id": "15812729",
   "metadata": {},
   "outputs": [],
   "source": [
    "df_timezone = pd.DataFrame(df['timezone'].value_counts())\n",
    "df_timezone = df_timezone.drop(['timezone'])\n",
    "sum1 = [0] * 5\n",
    "for idx, row in df.iterrows():\n",
    "    if row['timezone'] == 'Eastern':\n",
    "        sum1[0] += int(row['value'])\n",
    "    elif row['timezone'] == 'Central':\n",
    "        sum1[1] += int(row['value'])\n",
    "    elif row['timezone'] == 'Mountain':\n",
    "        sum1[2] += int(row['value'])\n",
    "    elif row['timezone'] == 'Arizona':\n",
    "        sum1[3] += int(row['value'])\n",
    "    elif row['timezone'] == 'Pacific':\n",
    "        sum1[4] += int(row['value'])\n",
    "df_timezone['total value'] = sum1"
   ]
  },
  {
   "cell_type": "code",
   "execution_count": 5,
   "id": "f067e808",
   "metadata": {},
   "outputs": [
    {
     "data": {
      "text/html": [
       "<div>\n",
       "<style scoped>\n",
       "    .dataframe tbody tr th:only-of-type {\n",
       "        vertical-align: middle;\n",
       "    }\n",
       "\n",
       "    .dataframe tbody tr th {\n",
       "        vertical-align: top;\n",
       "    }\n",
       "\n",
       "    .dataframe thead th {\n",
       "        text-align: right;\n",
       "    }\n",
       "</style>\n",
       "<table border=\"1\" class=\"dataframe\">\n",
       "  <thead>\n",
       "    <tr style=\"text-align: right;\">\n",
       "      <th></th>\n",
       "      <th>timezone</th>\n",
       "      <th>total value</th>\n",
       "    </tr>\n",
       "  </thead>\n",
       "  <tbody>\n",
       "    <tr>\n",
       "      <th>Pacific</th>\n",
       "      <td>10424</td>\n",
       "      <td>-6143541</td>\n",
       "    </tr>\n",
       "    <tr>\n",
       "      <th>Mountain</th>\n",
       "      <td>10079</td>\n",
       "      <td>-5804234</td>\n",
       "    </tr>\n",
       "    <tr>\n",
       "      <th>Arizona</th>\n",
       "      <td>9990</td>\n",
       "      <td>-4704984</td>\n",
       "    </tr>\n",
       "    <tr>\n",
       "      <th>Central</th>\n",
       "      <td>9900</td>\n",
       "      <td>-5240251</td>\n",
       "    </tr>\n",
       "    <tr>\n",
       "      <th>Eastern</th>\n",
       "      <td>9607</td>\n",
       "      <td>-4202789</td>\n",
       "    </tr>\n",
       "  </tbody>\n",
       "</table>\n",
       "</div>"
      ],
      "text/plain": [
       "          timezone  total value\n",
       "Pacific      10424     -6143541\n",
       "Mountain     10079     -5804234\n",
       "Arizona       9990     -4704984\n",
       "Central       9900     -5240251\n",
       "Eastern       9607     -4202789"
      ]
     },
     "execution_count": 5,
     "metadata": {},
     "output_type": "execute_result"
    }
   ],
   "source": [
    "df_timezone"
   ]
  },
  {
   "cell_type": "code",
   "execution_count": 10,
   "id": "fba779cf",
   "metadata": {},
   "outputs": [
    {
     "data": {
      "image/png": "[encoded data removed]",
      "text/plain": [
       "<Figure size 720x360 with 1 Axes>"
      ]
     },
     "metadata": {
      "needs_background": "light"
     },
     "output_type": "display_data"
    }
   ],
   "source": [
    "plt.rcParams[\"figure.figsize\"] = (10, 5)\n",
    "plt.bar(['Pacific', 'Mountain', 'Arizona', 'Central', 'Eastern'], -df_timezone['total value'], width=0.5, color='gold')\n",
    "plt.title('Total daily interchange value per region (unit: megawatthours)')\n",
    "plt.show()"
   ]
  },
  {
   "cell_type": "code",
   "execution_count": 20,
   "id": "063c8545",
   "metadata": {},
   "outputs": [],
   "source": [
    "fromba = dict(df['fromba'].value_counts())\n",
    "for key in fromba:\n",
    "    fromba[key] = 0\n",
    "for idx, row in df.iterrows():\n",
    "    try:\n",
    "        fromba[row['fromba']] += int(row['value'])\n",
    "    except ValueError:\n",
    "        continue\n",
    "fromba = dict(sorted(fromba.items(), key=lambda item: item[1], reverse=True))\n",
    "del fromba['fromba']"
   ]
  },
  {
   "cell_type": "code",
   "execution_count": 21,
   "id": "879efc3d",
   "metadata": {},
   "outputs": [
    {
     "data": {
      "image/png": "[encoded data removed]",
      "text/plain": [
       "<Figure size 720x360 with 1 Axes>"
      ]
     },
     "metadata": {
      "needs_background": "light"
     },
     "output_type": "display_data"
    }
   ],
   "source": [
    "top10 = []\n",
    "top10_value = []\n",
    "for key in fromba:\n",
    "    if len(top10) < 10:\n",
    "        top10.append(key)\n",
    "        top10_value.append(fromba[key])\n",
    "plt.bar(top10, top10_value, width=0.5, color='orchid')\n",
    "plt.title('Top 10 agencies with maximum total daily interchange value sent(unit: megawatthours)')\n",
    "plt.show()"
   ]
  },
  {
   "cell_type": "code",
   "execution_count": 22,
   "id": "c0b8b845",
   "metadata": {},
   "outputs": [],
   "source": [
    "toba = dict(df['toba'].value_counts())\n",
    "for key in toba:\n",
    "    toba[key] = 0\n",
    "for idx, row in df.iterrows():\n",
    "    try:\n",
    "        toba[row['toba']] += int(row['value'])\n",
    "    except ValueError:\n",
    "        continue\n",
    "toba = dict(sorted(toba.items(), key=lambda item: item[1], reverse=True))\n",
    "del toba['toba']"
   ]
  },
  {
   "cell_type": "code",
   "execution_count": 24,
   "id": "78ef4d8c",
   "metadata": {},
   "outputs": [
    {
     "data": {
      "image/png": "[encoded data removed]",
      "text/plain": [
       "<Figure size 720x360 with 1 Axes>"
      ]
     },
     "metadata": {
      "needs_background": "light"
     },
     "output_type": "display_data"
    }
   ],
   "source": [
    "top10 = []\n",
    "top10_value = []\n",
    "for key in toba:\n",
    "    if len(top10) < 10:\n",
    "        top10.append(key)\n",
    "        top10_value.append(toba[key])\n",
    "plt.bar(top10, top10_value, width=0.5, color='turquoise')\n",
    "plt.title('Top 10 agencies with maximum total daily interchange value received (unit: megawatthours)')\n",
    "plt.show()"
   ]
  },
  {
   "cell_type": "markdown",
   "id": "ce8f90a8",
   "metadata": {},
   "source": [
    "## Daily region sub ba data (07/17/22 - 11/17/22)"
   ]
  },
  {
   "cell_type": "code",
   "execution_count": 25,
   "id": "ac95e862",
   "metadata": {},
   "outputs": [],
   "source": [
    "df = pd.read_csv('./data/data/rto/csv/daily-region-sub-ba-data_data.csv')"
   ]
  },
  {
   "cell_type": "code",
   "execution_count": 26,
   "id": "60d2d210",
   "metadata": {},
   "outputs": [
    {
     "data": {
      "text/html": [
       "<div>\n",
       "<style scoped>\n",
       "    .dataframe tbody tr th:only-of-type {\n",
       "        vertical-align: middle;\n",
       "    }\n",
       "\n",
       "    .dataframe tbody tr th {\n",
       "        vertical-align: top;\n",
       "    }\n",
       "\n",
       "    .dataframe thead th {\n",
       "        text-align: right;\n",
       "    }\n",
       "</style>\n",
       "<table border=\"1\" class=\"dataframe\">\n",
       "  <thead>\n",
       "    <tr style=\"text-align: right;\">\n",
       "      <th></th>\n",
       "      <th>Unnamed: 0</th>\n",
       "      <th>period</th>\n",
       "      <th>subba</th>\n",
       "      <th>subba-name</th>\n",
       "      <th>parent</th>\n",
       "      <th>parent-name</th>\n",
       "      <th>timezone</th>\n",
       "      <th>value</th>\n",
       "      <th>value-units</th>\n",
       "    </tr>\n",
       "  </thead>\n",
       "  <tbody>\n",
       "    <tr>\n",
       "      <th>0</th>\n",
       "      <td>0.0</td>\n",
       "      <td>2022-11-17</td>\n",
       "      <td>OKGE</td>\n",
       "      <td>Oklahoma Gas and Electric Co.</td>\n",
       "      <td>SWPP</td>\n",
       "      <td>Southwest Power Pool</td>\n",
       "      <td>Eastern</td>\n",
       "      <td>97310</td>\n",
       "      <td>megawatthours</td>\n",
       "    </tr>\n",
       "    <tr>\n",
       "      <th>1</th>\n",
       "      <td>1.0</td>\n",
       "      <td>2022-11-17</td>\n",
       "      <td>Frep</td>\n",
       "      <td>Freeport</td>\n",
       "      <td>PNM</td>\n",
       "      <td>Public Service Company of New Mexico</td>\n",
       "      <td>Arizona</td>\n",
       "      <td>1693</td>\n",
       "      <td>megawatthours</td>\n",
       "    </tr>\n",
       "    <tr>\n",
       "      <th>2</th>\n",
       "      <td>2.0</td>\n",
       "      <td>2022-11-17</td>\n",
       "      <td>GRDA</td>\n",
       "      <td>Grand River Dam Authority</td>\n",
       "      <td>SWPP</td>\n",
       "      <td>Southwest Power Pool</td>\n",
       "      <td>Eastern</td>\n",
       "      <td>19746</td>\n",
       "      <td>megawatthours</td>\n",
       "    </tr>\n",
       "    <tr>\n",
       "      <th>3</th>\n",
       "      <td>3.0</td>\n",
       "      <td>2022-11-17</td>\n",
       "      <td>TSGT</td>\n",
       "      <td>Tri-State Generation and Transmission</td>\n",
       "      <td>PNM</td>\n",
       "      <td>Public Service Company of New Mexico</td>\n",
       "      <td>Arizona</td>\n",
       "      <td>7463</td>\n",
       "      <td>megawatthours</td>\n",
       "    </tr>\n",
       "    <tr>\n",
       "      <th>4</th>\n",
       "      <td>4.0</td>\n",
       "      <td>2022-11-17</td>\n",
       "      <td>KAFB</td>\n",
       "      <td>Kirtland Air Force Base</td>\n",
       "      <td>PNM</td>\n",
       "      <td>Public Service Company of New Mexico</td>\n",
       "      <td>Eastern</td>\n",
       "      <td>1193</td>\n",
       "      <td>megawatthours</td>\n",
       "    </tr>\n",
       "    <tr>\n",
       "      <th>5</th>\n",
       "      <td>5.0</td>\n",
       "      <td>2022-11-17</td>\n",
       "      <td>OPPD</td>\n",
       "      <td>Omaha Public Power District</td>\n",
       "      <td>SWPP</td>\n",
       "      <td>Southwest Power Pool</td>\n",
       "      <td>Eastern</td>\n",
       "      <td>36311</td>\n",
       "      <td>megawatthours</td>\n",
       "    </tr>\n",
       "    <tr>\n",
       "      <th>6</th>\n",
       "      <td>6.0</td>\n",
       "      <td>2022-11-17</td>\n",
       "      <td>LES</td>\n",
       "      <td>Lincoln Electric System</td>\n",
       "      <td>SWPP</td>\n",
       "      <td>Southwest Power Pool</td>\n",
       "      <td>Central</td>\n",
       "      <td>10021</td>\n",
       "      <td>megawatthours</td>\n",
       "    </tr>\n",
       "    <tr>\n",
       "      <th>7</th>\n",
       "      <td>7.0</td>\n",
       "      <td>2022-11-17</td>\n",
       "      <td>INDN</td>\n",
       "      <td>Independence Power &amp; Light</td>\n",
       "      <td>SWPP</td>\n",
       "      <td>Southwest Power Pool</td>\n",
       "      <td>Eastern</td>\n",
       "      <td>2839</td>\n",
       "      <td>megawatthours</td>\n",
       "    </tr>\n",
       "    <tr>\n",
       "      <th>8</th>\n",
       "      <td>8.0</td>\n",
       "      <td>2022-11-17</td>\n",
       "      <td>ZONJ</td>\n",
       "      <td>New York City</td>\n",
       "      <td>NYIS</td>\n",
       "      <td>New York Independent System Operator</td>\n",
       "      <td>Eastern</td>\n",
       "      <td>127120</td>\n",
       "      <td>megawatthours</td>\n",
       "    </tr>\n",
       "    <tr>\n",
       "      <th>9</th>\n",
       "      <td>9.0</td>\n",
       "      <td>2022-11-17</td>\n",
       "      <td>LAC</td>\n",
       "      <td>Los Alamos County</td>\n",
       "      <td>PNM</td>\n",
       "      <td>Public Service Company of New Mexico</td>\n",
       "      <td>Central</td>\n",
       "      <td>1861</td>\n",
       "      <td>megawatthours</td>\n",
       "    </tr>\n",
       "  </tbody>\n",
       "</table>\n",
       "</div>"
      ],
      "text/plain": [
       "   Unnamed: 0      period subba                             subba-name parent  \\\n",
       "0         0.0  2022-11-17  OKGE          Oklahoma Gas and Electric Co.   SWPP   \n",
       "1         1.0  2022-11-17  Frep                               Freeport    PNM   \n",
       "2         2.0  2022-11-17  GRDA              Grand River Dam Authority   SWPP   \n",
       "3         3.0  2022-11-17  TSGT  Tri-State Generation and Transmission    PNM   \n",
       "4         4.0  2022-11-17  KAFB                Kirtland Air Force Base    PNM   \n",
       "5         5.0  2022-11-17  OPPD            Omaha Public Power District   SWPP   \n",
       "6         6.0  2022-11-17   LES                Lincoln Electric System   SWPP   \n",
       "7         7.0  2022-11-17  INDN             Independence Power & Light   SWPP   \n",
       "8         8.0  2022-11-17  ZONJ                          New York City   NYIS   \n",
       "9         9.0  2022-11-17   LAC                      Los Alamos County    PNM   \n",
       "\n",
       "                            parent-name timezone   value    value-units  \n",
       "0                  Southwest Power Pool  Eastern   97310  megawatthours  \n",
       "1  Public Service Company of New Mexico  Arizona    1693  megawatthours  \n",
       "2                  Southwest Power Pool  Eastern   19746  megawatthours  \n",
       "3  Public Service Company of New Mexico  Arizona    7463  megawatthours  \n",
       "4  Public Service Company of New Mexico  Eastern    1193  megawatthours  \n",
       "5                  Southwest Power Pool  Eastern   36311  megawatthours  \n",
       "6                  Southwest Power Pool  Central   10021  megawatthours  \n",
       "7                  Southwest Power Pool  Eastern    2839  megawatthours  \n",
       "8  New York Independent System Operator  Eastern  127120  megawatthours  \n",
       "9  Public Service Company of New Mexico  Central    1861  megawatthours  "
      ]
     },
     "execution_count": 26,
     "metadata": {},
     "output_type": "execute_result"
    }
   ],
   "source": [
    "df.head(10)"
   ]
  },
  {
   "cell_type": "code",
   "execution_count": 27,
   "id": "507feae4",
   "metadata": {},
   "outputs": [],
   "source": [
    "df_timezone = pd.DataFrame(df['timezone'].value_counts())\n",
    "df_timezone = df_timezone.drop(['timezone'])\n",
    "sum1 = [0] * 5\n",
    "for idx, row in df.iterrows():\n",
    "    if row['timezone'] == 'Eastern':\n",
    "        sum1[0] += int(row['value'])\n",
    "    elif row['timezone'] == 'Central':\n",
    "        sum1[1] += int(row['value'])\n",
    "    elif row['timezone'] == 'Mountain':\n",
    "        sum1[2] += int(row['value'])\n",
    "    elif row['timezone'] == 'Arizona':\n",
    "        sum1[3] += int(row['value'])\n",
    "    elif row['timezone'] == 'Pacific':\n",
    "        sum1[4] += int(row['value'])\n",
    "df_timezone['total value'] = sum1"
   ]
  },
  {
   "cell_type": "code",
   "execution_count": 28,
   "id": "f21ab000",
   "metadata": {},
   "outputs": [
    {
     "data": {
      "text/html": [
       "<div>\n",
       "<style scoped>\n",
       "    .dataframe tbody tr th:only-of-type {\n",
       "        vertical-align: middle;\n",
       "    }\n",
       "\n",
       "    .dataframe tbody tr th {\n",
       "        vertical-align: top;\n",
       "    }\n",
       "\n",
       "    .dataframe thead th {\n",
       "        text-align: right;\n",
       "    }\n",
       "</style>\n",
       "<table border=\"1\" class=\"dataframe\">\n",
       "  <thead>\n",
       "    <tr style=\"text-align: right;\">\n",
       "      <th></th>\n",
       "      <th>timezone</th>\n",
       "      <th>total value</th>\n",
       "    </tr>\n",
       "  </thead>\n",
       "  <tbody>\n",
       "    <tr>\n",
       "      <th>Eastern</th>\n",
       "      <td>10081</td>\n",
       "      <td>920165727</td>\n",
       "    </tr>\n",
       "    <tr>\n",
       "      <th>Central</th>\n",
       "      <td>10069</td>\n",
       "      <td>921358530</td>\n",
       "    </tr>\n",
       "    <tr>\n",
       "      <th>Mountain</th>\n",
       "      <td>9969</td>\n",
       "      <td>905687207</td>\n",
       "    </tr>\n",
       "    <tr>\n",
       "      <th>Arizona</th>\n",
       "      <td>9958</td>\n",
       "      <td>907894040</td>\n",
       "    </tr>\n",
       "    <tr>\n",
       "      <th>Pacific</th>\n",
       "      <td>9923</td>\n",
       "      <td>903641156</td>\n",
       "    </tr>\n",
       "  </tbody>\n",
       "</table>\n",
       "</div>"
      ],
      "text/plain": [
       "          timezone  total value\n",
       "Eastern      10081    920165727\n",
       "Central      10069    921358530\n",
       "Mountain      9969    905687207\n",
       "Arizona       9958    907894040\n",
       "Pacific       9923    903641156"
      ]
     },
     "execution_count": 28,
     "metadata": {},
     "output_type": "execute_result"
    }
   ],
   "source": [
    "df_timezone"
   ]
  },
  {
   "cell_type": "code",
   "execution_count": 31,
   "id": "d6854f60",
   "metadata": {},
   "outputs": [
    {
     "data": {
      "image/png": "[encoded data removed]",
      "text/plain": [
       "<Figure size 720x360 with 1 Axes>"
      ]
     },
     "metadata": {
      "needs_background": "light"
     },
     "output_type": "display_data"
    }
   ],
   "source": [
    "plt.bar(['Eastern', 'Central', 'Mountain', 'Arizona', 'Pacific'], df_timezone['total value'], width=0.5, color='wheat')\n",
    "plt.title('Total daily region sub ba value per region (unit: megawatthours)')\n",
    "plt.show()"
   ]
  },
  {
   "cell_type": "code",
   "execution_count": 32,
   "id": "3fee55e4",
   "metadata": {},
   "outputs": [],
   "source": [
    "subba = dict(df['subba'].value_counts())\n",
    "for key in subba:\n",
    "    subba[key] = 0\n",
    "for idx, row in df.iterrows():\n",
    "    try:\n",
    "        subba[row['subba']] += int(row['value'])\n",
    "    except ValueError:\n",
    "        continue\n",
    "subba = dict(sorted(subba.items(), key=lambda item: item[1], reverse=True))\n",
    "del subba['subba']"
   ]
  },
  {
   "cell_type": "code",
   "execution_count": 37,
   "id": "d5908b75",
   "metadata": {},
   "outputs": [
    {
     "data": {
      "image/png": "[encoded data removed]",
      "text/plain": [
       "<Figure size 720x360 with 1 Axes>"
      ]
     },
     "metadata": {
      "needs_background": "light"
     },
     "output_type": "display_data"
    }
   ],
   "source": [
    "top10 = []\n",
    "top10_value = []\n",
    "for key in subba:\n",
    "    if len(top10) < 10:\n",
    "        top10.append(key)\n",
    "        top10_value.append(subba[key])\n",
    "plt.bar(top10, top10_value, width=0.5, color='palevioletred')\n",
    "plt.title('Top 10 sub ba with maximum total daily value (unit: megawatthours)')\n",
    "plt.show()"
   ]
  },
  {
   "cell_type": "code",
   "execution_count": 34,
   "id": "4e462880",
   "metadata": {},
   "outputs": [],
   "source": [
    "parent = dict(df['parent'].value_counts())\n",
    "for key in parent:\n",
    "    parent[key] = 0\n",
    "for idx, row in df.iterrows():\n",
    "    try:\n",
    "        parent[row['parent']] += int(row['value'])\n",
    "    except ValueError:\n",
    "        continue\n",
    "parent = dict(sorted(parent.items(), key=lambda item: item[1], reverse=True))\n",
    "del parent['parent']"
   ]
  },
  {
   "cell_type": "code",
   "execution_count": 36,
   "id": "a54469a4",
   "metadata": {},
   "outputs": [
    {
     "data": {
      "image/png": "[encoded data removed]",
      "text/plain": [
       "<Figure size 720x360 with 1 Axes>"
      ]
     },
     "metadata": {
      "needs_background": "light"
     },
     "output_type": "display_data"
    }
   ],
   "source": [
    "top10 = []\n",
    "top10_value = []\n",
    "for key in parent:\n",
    "    if len(top10) < 10:\n",
    "        top10.append(key)\n",
    "        top10_value.append(parent[key])\n",
    "plt.bar(top10, top10_value, width=0.5, color='cornflowerblue')\n",
    "plt.title('Top 10 parent with maximum total daily value (unit: megawatthours)')\n",
    "plt.show()"
   ]
  },
  {
   "cell_type": "code",
   "execution_count": null,
   "id": "11bfc0ac",
   "metadata": {},
   "outputs": [],
   "source": []
  }
 ],
 "metadata": {
  "kernelspec": {
   "display_name": "Python 3 (ipykernel)",
   "language": "python",
   "name": "python3"
  },
  "language_info": {
   "codemirror_mode": {
    "name": "ipython",
    "version": 3
   },
   "file_extension": ".py",
   "mimetype": "text/x-python",
   "name": "python",
   "nbconvert_exporter": "python",
   "pygments_lexer": "ipython3",
   "version": "3.9.7"
  }
 },
 "nbformat": 4,
 "nbformat_minor": 5
}
